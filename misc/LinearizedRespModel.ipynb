{
 "cells": [
  {
   "cell_type": "code",
   "execution_count": 1,
   "metadata": {},
   "outputs": [],
   "source": [
    "import cvxpy as cp\n",
    "import numpy as np\n",
    "import pandas as pd\n",
    "import seaborn as sns\n",
    "import viz\n",
    "\n",
    "from matplotlib import pyplot as plt\n",
    "from matplotlib.colors import LogNorm\n",
    "from os import path\n",
    "from linear_opt.lin_metabolism import MW_C_ATOM\n",
    "from linear_opt.lin_metabolism import LinearMetabolicModel\n",
    "from linear_opt.lin_metabolism import GrowthRateOptParams\n",
    "from linear_opt.lin_metabolism import SingleSubstrateMMRateLaw\n",
    "from linear_opt.lin_metabolism import MultiSubstrateMMRateLaw\n",
    "from matplotlib.ticker import LogFormatter \n",
    "\n",
    "colors = viz.plotting_style()\n",
    "color_order = ['green', 'blue', 'red', 'purple', 'yellow', 'dark_green', 'dark_blue', 'dark_brown']\n",
    "lin_colors = [colors[c] for c in color_order]\n",
    "plt.style.use('style.mpl')\n",
    "\n",
    "# Approximate concentrations and ratios for plotting\n",
    "# Based on Bennett et al. 2009 measurements in E. coli\n",
    "DEFAULT_ATP = 1.4e-6\n",
    "DEFAULT_NADH = 1.2e-7\n",
    "DEFAULT_RE = 10\n",
    "DEFAULT_RA = 0.3\n",
    "DEFAULT_NAD = DEFAULT_NADH * DEFAULT_RE\n",
    "DEFAULT_ADP = DEFAULT_ATP * DEFAULT_RA"
   ]
  },
  {
   "cell_type": "code",
   "execution_count": 2,
   "metadata": {},
   "outputs": [],
   "source": [
    "model_dir = '../models/linear/respiration/'\n",
    "m_fname = path.join(model_dir, 'glucose_resp_molecular_props.csv')\n",
    "S_fname = path.join(model_dir, 'glucose_resp_stoich_matrix.csv')\n",
    "lam = LinearMetabolicModel.FromFiles(m_fname, S_fname)\n",
    "#lam.print_model()"
   ]
  },
  {
   "cell_type": "code",
   "execution_count": 3,
   "metadata": {},
   "outputs": [
    {
     "name": "stdout",
     "output_type": "stream",
     "text": [
      "5e-05\n",
      "1.296\n"
     ]
    }
   ],
   "source": [
    "g_ana = (lam.kcat_s/lam.m_Da)[2]\n",
    "print(\"{0:.1g}\".format(g_ana))\n",
    "\n",
    "# estimate of growth rate assuming phi_ana = (1-min_phi_0) = 0.6\n",
    "min_phi_0 = 0.4\n",
    "print((1-min_phi_0)*g_ana*12*3600)"
   ]
  },
  {
   "cell_type": "code",
   "execution_count": 4,
   "metadata": {},
   "outputs": [
    {
     "name": "stdout",
     "output_type": "stream",
     "text": [
      "Set parameter Username\n",
      "Academic license - for non-commercial use only - expires 2024-10-03\n"
     ]
    }
   ],
   "source": [
    "# Calculate the growth rate for a zero order model. \n",
    "params = GrowthRateOptParams(min_phi_O=0.4, max_phi_H=0)\n",
    "max_lam, opt_p = lam.maximize_growth_rate(params)\n",
    "# Get the results as a dictionary\n",
    "res_dict = lam.results_as_dict(opt_p, params)"
   ]
  },
  {
   "cell_type": "code",
   "execution_count": 5,
   "metadata": {},
   "outputs": [
    {
     "name": "stdout",
     "output_type": "stream",
     "text": [
      "g_ana 0.0001\n",
      "expected g_ana 0.0001\n",
      "analytic gamma ub 4.32 /hr\n"
     ]
    }
   ],
   "source": [
    "# sanity check the value of gamma for anabolism\n",
    "anabolism_gamma = res_dict['anabolism_gamma']\n",
    "ana_kcat_s = res_dict['anabolism_kcat_s']\n",
    "ana_m_kDa = res_dict['anabolism_m_kDa']\n",
    "# factor of 1000 converts from kDa to Da\n",
    "# factor 2 accounts for ≈50% of mass being carbon\n",
    "expected_gamma = ana_kcat_s/(ana_m_kDa*1000/2)\n",
    "print('g_ana', anabolism_gamma)\n",
    "print('expected g_ana', expected_gamma)\n",
    "\n",
    "# Do we get a reasonable maximum growth rate?\n",
    "analytic_gamma_ub = anabolism_gamma*12*3600*(1-res_dict['min_phi_0'])\n",
    "print('analytic gamma ub', analytic_gamma_ub, '/hr')\n"
   ]
  },
  {
   "cell_type": "code",
   "execution_count": 6,
   "metadata": {},
   "outputs": [
    {
     "name": "stdout",
     "output_type": "stream",
     "text": [
      "max growth rate 1.3439801528975348\n"
     ]
    },
    {
     "name": "stderr",
     "output_type": "stream",
     "text": [
      "/opt/miniconda3/lib/python3.8/site-packages/cvxpy/reductions/solvers/solving_chain.py:178: UserWarning: You are solving a parameterized problem that is not DPP. Because the problem is not DPP, subsequent solves will not be faster than the first one. For more information, see the documentation on Discplined Parametrized Programming, at\n",
      "\thttps://www.cvxpy.org/tutorial/advanced/index.html#disciplined-parametrized-programming\n",
      "  warnings.warn(dpp_error_msg)\n"
     ]
    }
   ],
   "source": [
    "# Concentrations are typically ~1 mM, converting to mol/gCDW\n",
    "# If the density rho ≈ 1000 g/L, 1/rho ≈ 1e-3 L/g = 1 mL/g so... \n",
    "# 1e-3 mol/L x 1e-3 L/g x 0.3 gDW/g x 2 gDW/gCDW = 1.5e-7 mol/gCDW\n",
    "params = GrowthRateOptParams(min_phi_O=0.4, \n",
    "                             do_dilution=True,\n",
    "                             rate_law=SingleSubstrateMMRateLaw(),\n",
    "                             fixed_ATP=DEFAULT_ATP, fixed_NADH=DEFAULT_NADH,\n",
    "                             fixed_re=DEFAULT_RE, fixed_ra=DEFAULT_RE)\n",
    "max_lam, opt_p = lam.maximize_growth_rate(params)\n",
    "print('max growth rate', max_lam)\n",
    "\n"
   ]
  },
  {
   "cell_type": "code",
   "execution_count": 7,
   "metadata": {},
   "outputs": [],
   "source": [
    "concs = np.logspace(-7, -1, 50)\n",
    "ATPgrid, NADHgrid = np.meshgrid(concs, concs)\n",
    "lambda_grid = np.zeros_like(ATPgrid)\n",
    "\n",
    "for i, ATP in enumerate(concs):\n",
    "    for j, NADH in enumerate(concs):\n",
    "        params = GrowthRateOptParams(min_phi_O=0.4, do_dilution=True,\n",
    "                                     fixed_ATP=ATP, fixed_NADH=NADH,\n",
    "                                     fixed_re=DEFAULT_RE, fixed_ra=DEFAULT_RA)\n",
    "        opt, _ = lam.maximize_growth_rate(params)\n",
    "        lambda_grid[i, j] = opt"
   ]
  },
  {
   "cell_type": "code",
   "execution_count": 8,
   "metadata": {},
   "outputs": [
    {
     "data": {
      "image/png": "[encoded data removed]",
      "text/plain": [
       "<Figure size 216x180 with 2 Axes>"
      ]
     },
     "metadata": {
      "needs_background": "light"
     },
     "output_type": "display_data"
    }
   ],
   "source": [
    "plt.figure(figsize=(3, 2.5))\n",
    "plt.xscale('log')\n",
    "plt.yscale('log')\n",
    "plt.contourf(ATPgrid, NADHgrid, lambda_grid, cmap='viridis')\n",
    "plt.xlabel('[ATP] (mol/gCDW)')\n",
    "plt.ylabel('[NADH] (mol/gCDW)')\n",
    "cb = plt.colorbar(label=r'maximum $\\lambda$ (hr$^{-1}$)')\n",
    "plt.show()"
   ]
  },
  {
   "cell_type": "code",
   "execution_count": 9,
   "metadata": {},
   "outputs": [],
   "source": [
    "# Same as above, multi-substrate michaelis menten rate law\n",
    "concs = np.logspace(-8, -1, 50)\n",
    "ATPgrid, NADHgrid = np.meshgrid(concs, concs)\n",
    "lambda_grid = np.zeros_like(ATPgrid)\n",
    "\n",
    "for i, ATP in enumerate(concs):\n",
    "    for j, NADH in enumerate(concs):\n",
    "        rl = MultiSubstrateMMRateLaw()\n",
    "        params = GrowthRateOptParams(min_phi_O=0.4, do_dilution=True,\n",
    "                                     fixed_ATP=ATP, fixed_NADH=NADH,\n",
    "                                     fixed_re=10, fixed_ra=0.3,\n",
    "                                     rate_law=rl)\n",
    "        opt = np.NaN\n",
    "        try:\n",
    "            opt, _ = lam.maximize_growth_rate(params)\n",
    "        except:\n",
    "            # Optimal solution not found\n",
    "            pass\n",
    "        \n",
    "        lambda_grid[i, j] = opt"
   ]
  },
  {
   "cell_type": "code",
   "execution_count": 10,
   "metadata": {},
   "outputs": [
    {
     "data": {
      "image/png": "[encoded data removed]",
      "text/plain": [
       "<Figure size 504x216 with 3 Axes>"
      ]
     },
     "metadata": {
      "needs_background": "light"
     },
     "output_type": "display_data"
    }
   ],
   "source": [
    "fig, axs = plt.subplots(figsize=(7, 3), ncols=2, width_ratios=[1, 1.3])\n",
    "\n",
    "plt.sca(axs[0])\n",
    "plt.xscale('log')\n",
    "plt.yscale('log')\n",
    "plt.contourf(ATPgrid, NADHgrid, lambda_grid, cmap='viridis', norm=LogNorm())\n",
    "plt.xlabel('[ATP] (mol/gCDW)')\n",
    "plt.ylabel('[NADH] (mol/gCDW)')\n",
    "\n",
    "plt.sca(axs[1])\n",
    "# plot zoomed in on the range of ATP and NADH concentrations we care about\n",
    "# which are 1e-8 to 1e-5 for both \n",
    "plt.xscale('log')\n",
    "plt.yscale('log')\n",
    "plt.contourf(ATPgrid, NADHgrid, lambda_grid, cmap='viridis', norm=LogNorm())\n",
    "plt.xlabel('[ATP] (mol/gCDW)')\n",
    "plt.ylabel('[NADH] (mol/gCDW)')\n",
    "plt.xlim(1e-8, 1e-5)\n",
    "plt.ylim(1e-8, 1e-5)\n",
    "formatter = LogFormatter(10, labelOnlyBase=False)\n",
    "cb = plt.colorbar(label=r'maximum $\\lambda$ (hr$^{-1}$)', format=formatter)\n",
    "\n",
    "# put a * at the Bennet concentrations of ATP ≈ 1.4e-6 (9.6 mM) and NADH ≈ 1.2e-7 (83 uM)\n",
    "A = DEFAULT_ATP\n",
    "N = DEFAULT_NADH\n",
    "plt.scatter(A, N, marker='*', color='red', edgecolor='k', lw=0.5, s=100)\n",
    "\n",
    "plt.tight_layout()\n",
    "plt.show()"
   ]
  },
  {
   "cell_type": "code",
   "execution_count": 11,
   "metadata": {},
   "outputs": [
    {
     "name": "stderr",
     "output_type": "stream",
     "text": [
      "/opt/miniconda3/lib/python3.8/site-packages/cvxpy/reductions/solvers/solving_chain.py:178: UserWarning: You are solving a parameterized problem that is not DPP. Because the problem is not DPP, subsequent solves will not be faster than the first one. For more information, see the documentation on Discplined Parametrized Programming, at\n",
      "\thttps://www.cvxpy.org/tutorial/advanced/index.html#disciplined-parametrized-programming\n",
      "  warnings.warn(dpp_error_msg)\n"
     ]
    },
    {
     "data": {
      "text/html": [
       "<div>\n",
       "<style scoped>\n",
       "    .dataframe tbody tr th:only-of-type {\n",
       "        vertical-align: middle;\n",
       "    }\n",
       "\n",
       "    .dataframe tbody tr th {\n",
       "        vertical-align: top;\n",
       "    }\n",
       "\n",
       "    .dataframe thead th {\n",
       "        text-align: right;\n",
       "    }\n",
       "</style>\n",
       "<table border=\"1\" class=\"dataframe\">\n",
       "  <thead>\n",
       "    <tr style=\"text-align: right;\">\n",
       "      <th></th>\n",
       "      <th>oxidation_kcat_s</th>\n",
       "      <th>oxidation_m_kDa</th>\n",
       "      <th>reduction_kcat_s</th>\n",
       "      <th>reduction_m_kDa</th>\n",
       "      <th>anabolism_kcat_s</th>\n",
       "      <th>anabolism_m_kDa</th>\n",
       "      <th>ATP_homeostasis_kcat_s</th>\n",
       "      <th>ATP_homeostasis_m_kDa</th>\n",
       "      <th>ZCB</th>\n",
       "      <th>ZCorg</th>\n",
       "      <th>...</th>\n",
       "      <th>opt.fixed_ra</th>\n",
       "      <th>opt.fixed_re</th>\n",
       "      <th>opt.rate_law_name</th>\n",
       "      <th>opt.rate_law_order</th>\n",
       "      <th>analytic_lambda_zo</th>\n",
       "      <th>analytic_lambda_max_zo</th>\n",
       "      <th>S6_lb_zo</th>\n",
       "      <th>S6_ub_zo</th>\n",
       "      <th>ZCorg_lb_zo</th>\n",
       "      <th>ZCorg_ub_zo</th>\n",
       "    </tr>\n",
       "  </thead>\n",
       "  <tbody>\n",
       "    <tr>\n",
       "      <th>0</th>\n",
       "      <td>50.0</td>\n",
       "      <td>1000.0</td>\n",
       "      <td>200.0</td>\n",
       "      <td>1000.0</td>\n",
       "      <td>50.0</td>\n",
       "      <td>1000.0</td>\n",
       "      <td>50.0</td>\n",
       "      <td>1000.0</td>\n",
       "      <td>0.0</td>\n",
       "      <td>0.0</td>\n",
       "      <td>...</td>\n",
       "      <td>0.3</td>\n",
       "      <td>10</td>\n",
       "      <td>ZeroOrder</td>\n",
       "      <td>0</td>\n",
       "      <td>0.10</td>\n",
       "      <td>0.10</td>\n",
       "      <td>0.15001</td>\n",
       "      <td>-1.200263</td>\n",
       "      <td>-0.30002</td>\n",
       "      <td>1.499883</td>\n",
       "    </tr>\n",
       "    <tr>\n",
       "      <th>1</th>\n",
       "      <td>50.0</td>\n",
       "      <td>1000.0</td>\n",
       "      <td>200.0</td>\n",
       "      <td>1000.0</td>\n",
       "      <td>50.0</td>\n",
       "      <td>1000.0</td>\n",
       "      <td>50.0</td>\n",
       "      <td>1000.0</td>\n",
       "      <td>0.0</td>\n",
       "      <td>0.0</td>\n",
       "      <td>...</td>\n",
       "      <td>0.3</td>\n",
       "      <td>10</td>\n",
       "      <td>ZeroOrder</td>\n",
       "      <td>0</td>\n",
       "      <td>0.11</td>\n",
       "      <td>0.11</td>\n",
       "      <td>0.15001</td>\n",
       "      <td>-1.200263</td>\n",
       "      <td>-0.30002</td>\n",
       "      <td>1.499883</td>\n",
       "    </tr>\n",
       "    <tr>\n",
       "      <th>2</th>\n",
       "      <td>50.0</td>\n",
       "      <td>1000.0</td>\n",
       "      <td>200.0</td>\n",
       "      <td>1000.0</td>\n",
       "      <td>50.0</td>\n",
       "      <td>1000.0</td>\n",
       "      <td>50.0</td>\n",
       "      <td>1000.0</td>\n",
       "      <td>0.0</td>\n",
       "      <td>0.0</td>\n",
       "      <td>...</td>\n",
       "      <td>0.3</td>\n",
       "      <td>10</td>\n",
       "      <td>ZeroOrder</td>\n",
       "      <td>0</td>\n",
       "      <td>0.12</td>\n",
       "      <td>0.12</td>\n",
       "      <td>0.15001</td>\n",
       "      <td>-1.200263</td>\n",
       "      <td>-0.30002</td>\n",
       "      <td>1.499883</td>\n",
       "    </tr>\n",
       "    <tr>\n",
       "      <th>3</th>\n",
       "      <td>50.0</td>\n",
       "      <td>1000.0</td>\n",
       "      <td>200.0</td>\n",
       "      <td>1000.0</td>\n",
       "      <td>50.0</td>\n",
       "      <td>1000.0</td>\n",
       "      <td>50.0</td>\n",
       "      <td>1000.0</td>\n",
       "      <td>0.0</td>\n",
       "      <td>0.0</td>\n",
       "      <td>...</td>\n",
       "      <td>0.3</td>\n",
       "      <td>10</td>\n",
       "      <td>ZeroOrder</td>\n",
       "      <td>0</td>\n",
       "      <td>0.13</td>\n",
       "      <td>0.13</td>\n",
       "      <td>0.15001</td>\n",
       "      <td>-1.200263</td>\n",
       "      <td>-0.30002</td>\n",
       "      <td>1.499883</td>\n",
       "    </tr>\n",
       "    <tr>\n",
       "      <th>4</th>\n",
       "      <td>50.0</td>\n",
       "      <td>1000.0</td>\n",
       "      <td>200.0</td>\n",
       "      <td>1000.0</td>\n",
       "      <td>50.0</td>\n",
       "      <td>1000.0</td>\n",
       "      <td>50.0</td>\n",
       "      <td>1000.0</td>\n",
       "      <td>0.0</td>\n",
       "      <td>0.0</td>\n",
       "      <td>...</td>\n",
       "      <td>0.3</td>\n",
       "      <td>10</td>\n",
       "      <td>ZeroOrder</td>\n",
       "      <td>0</td>\n",
       "      <td>0.14</td>\n",
       "      <td>0.14</td>\n",
       "      <td>0.15001</td>\n",
       "      <td>-1.200263</td>\n",
       "      <td>-0.30002</td>\n",
       "      <td>1.499883</td>\n",
       "    </tr>\n",
       "  </tbody>\n",
       "</table>\n",
       "<p>5 rows × 67 columns</p>\n",
       "</div>"
      ],
      "text/plain": [
       "   oxidation_kcat_s  oxidation_m_kDa  reduction_kcat_s  reduction_m_kDa  \\\n",
       "0              50.0           1000.0             200.0           1000.0   \n",
       "1              50.0           1000.0             200.0           1000.0   \n",
       "2              50.0           1000.0             200.0           1000.0   \n",
       "3              50.0           1000.0             200.0           1000.0   \n",
       "4              50.0           1000.0             200.0           1000.0   \n",
       "\n",
       "   anabolism_kcat_s  anabolism_m_kDa  ATP_homeostasis_kcat_s  \\\n",
       "0              50.0           1000.0                    50.0   \n",
       "1              50.0           1000.0                    50.0   \n",
       "2              50.0           1000.0                    50.0   \n",
       "3              50.0           1000.0                    50.0   \n",
       "4              50.0           1000.0                    50.0   \n",
       "\n",
       "   ATP_homeostasis_m_kDa  ZCB  ZCorg  ...  opt.fixed_ra  opt.fixed_re  \\\n",
       "0                 1000.0  0.0    0.0  ...           0.3            10   \n",
       "1                 1000.0  0.0    0.0  ...           0.3            10   \n",
       "2                 1000.0  0.0    0.0  ...           0.3            10   \n",
       "3                 1000.0  0.0    0.0  ...           0.3            10   \n",
       "4                 1000.0  0.0    0.0  ...           0.3            10   \n",
       "\n",
       "   opt.rate_law_name  opt.rate_law_order  analytic_lambda_zo  \\\n",
       "0          ZeroOrder                   0                0.10   \n",
       "1          ZeroOrder                   0                0.11   \n",
       "2          ZeroOrder                   0                0.12   \n",
       "3          ZeroOrder                   0                0.13   \n",
       "4          ZeroOrder                   0                0.14   \n",
       "\n",
       "   analytic_lambda_max_zo  S6_lb_zo  S6_ub_zo  ZCorg_lb_zo  ZCorg_ub_zo  \n",
       "0                    0.10   0.15001 -1.200263     -0.30002     1.499883  \n",
       "1                    0.11   0.15001 -1.200263     -0.30002     1.499883  \n",
       "2                    0.12   0.15001 -1.200263     -0.30002     1.499883  \n",
       "3                    0.13   0.15001 -1.200263     -0.30002     1.499883  \n",
       "4                    0.14   0.15001 -1.200263     -0.30002     1.499883  \n",
       "\n",
       "[5 rows x 67 columns]"
      ]
     },
     "execution_count": 11,
     "metadata": {},
     "output_type": "execute_result"
    }
   ],
   "source": [
    "# Here is a model that has no homeostasis (phi_H <= 0),\n",
    "# no maintenance (ATP_maint = 0), but can alter biomass\n",
    "# composition through phi_O. We set a maximum lambda\n",
    "# so that we can run the model over a range of lambda values.\n",
    "params = GrowthRateOptParams(min_phi_O=0.4, do_dilution=True, \n",
    "                             max_lambda_hr=0.1, max_phi_H=0,\n",
    "                             fixed_ATP=DEFAULT_ATP, fixed_NADH=DEFAULT_NADH,\n",
    "                             fixed_re=DEFAULT_RE, fixed_ra=DEFAULT_RA)\n",
    "                             \n",
    "lam = LinearMetabolicModel.FromFiles(m_fname, S_fname)\n",
    "p = lam.max_growth_rate_problem(params)\n",
    "lambdas = np.arange(0.1, 4, 0.01)\n",
    "results = []\n",
    "\n",
    "for lam_val in lambdas:\n",
    "    p.param_dict['max_lambda_hr'].value = lam_val\n",
    "    res = p.solve()\n",
    "    d = lam.results_as_dict(p, params)\n",
    "    results.append(d)\n",
    "\n",
    "phi_df = pd.DataFrame(results)\n",
    "phi_df.head()"
   ]
  },
  {
   "cell_type": "code",
   "execution_count": 12,
   "metadata": {},
   "outputs": [
    {
     "name": "stdout",
     "output_type": "stream",
     "text": [
      "2.592\n"
     ]
    },
    {
     "data": {
      "image/png": "[encoded data removed]",
      "text/plain": [
       "<Figure size 360x180 with 2 Axes>"
      ]
     },
     "metadata": {
      "needs_background": "light"
     },
     "output_type": "display_data"
    }
   ],
   "source": [
    "# Notice that phi_O increases as lambda decreases\n",
    "fig, axs = plt.subplots(1, 2, figsize=(5, 2.5))\n",
    "\n",
    "min_phi_O = 0.4\n",
    "g_ana = phi_df.anabolism_gamma.values[0]\n",
    "lambda_max = 12*3600*g_ana*(1-min_phi_O)\n",
    "print(lambda_max)\n",
    "plt.sca(axs[0])\n",
    "\n",
    "x = phi_df['lambda_hr']\n",
    "# Not plotting homeostasis because it was set to zero\n",
    "processes = 'oxidation,reduction,anabolism'.split(',')\n",
    "phi_cols = ['{}_phi'.format(p) for p in processes] + ['phi_O']\n",
    "for i, col in enumerate(phi_cols):\n",
    "    label = processes[i] if i < len(processes) else r'other'\n",
    "    plt.plot(x, phi_df[col], label=label, color=lin_colors[i])\n",
    "\n",
    "plt.axvline(lambda_max, color='k', ls='--', lw=1) \n",
    "plt.xlabel(r'$\\lambda$ (hr$^{-1}$)')\n",
    "plt.ylabel(r'C mass fraction $\\phi_\\alpha$')   \n",
    "plt.legend(loc=1)\n",
    "\n",
    "plt.sca(axs[1])\n",
    "j_cols = ['{}_flux'.format(p) for p in processes]\n",
    "for i, col in enumerate(j_cols):\n",
    "    plt.plot(x, phi_df[col]*3600, label=processes[i], color=lin_colors[i])\n",
    "plt.xlabel(r'$\\lambda$ (hr$^{-1}$)')\n",
    "plt.ylabel(r'flux (/hr)')\n",
    "plt.legend(loc=1).set_visible(False)\n",
    "\n",
    "plt.tight_layout()\n",
    "plt.show()\n"
   ]
  },
  {
   "cell_type": "code",
   "execution_count": 13,
   "metadata": {},
   "outputs": [
    {
     "name": "stderr",
     "output_type": "stream",
     "text": [
      "/opt/miniconda3/lib/python3.8/site-packages/cvxpy/reductions/solvers/solving_chain.py:178: UserWarning: You are solving a parameterized problem that is not DPP. Because the problem is not DPP, subsequent solves will not be faster than the first one. For more information, see the documentation on Discplined Parametrized Programming, at\n",
      "\thttps://www.cvxpy.org/tutorial/advanced/index.html#disciplined-parametrized-programming\n",
      "  warnings.warn(dpp_error_msg)\n",
      "/opt/miniconda3/lib/python3.8/site-packages/cvxpy/problems/problem.py:1343: UserWarning: \n",
      "    The problem is either infeasible or unbounded, but the solver\n",
      "    cannot tell which. Disable any solver-specific presolve methods\n",
      "    and re-solve to determine the precise problem status.\n",
      "\n",
      "    For GUROBI and CPLEX you can automatically perform this re-solve\n",
      "    with the keyword argument prob.solve(reoptimize=True, ...).\n",
      "    \n",
      "  warnings.warn(INF_OR_UNB_MESSAGE)\n"
     ]
    }
   ],
   "source": [
    "# Sweep a range of biomass ZC values\n",
    "ZCBs = np.arange(-3, 3.01, 0.05)\n",
    "\n",
    "results = []\n",
    "lmm = LinearMetabolicModel.FromFiles(m_fname, S_fname)\n",
    "\n",
    "for z in ZCBs:\n",
    "    # Test with and without ATP homeostasis -- first with\n",
    "    ref_lam = lmm.copy()\n",
    "    ref_lam.set_ZCB(z)\n",
    "\n",
    "    # Note we are fixing phi_O here to highlight the contribution of phi_H\n",
    "    params = GrowthRateOptParams(phi_O=0.4, do_dilution=True,\n",
    "                                fixed_ATP=DEFAULT_ATP, fixed_NADH=DEFAULT_NADH,\n",
    "                                fixed_re=DEFAULT_RE, fixed_ra=DEFAULT_RA)\n",
    "    m, opt_p = ref_lam.maximize_growth_rate(params)\n",
    "    d = ref_lam.model_as_dict()\n",
    "    d.update(ref_lam.solution_as_dict(opt_p, params))\n",
    "    d.update(params.as_dict())\n",
    "    results.append(d)\n",
    "\n",
    "    # Now without -- seting max_phi_H = 0\n",
    "    params_nh = GrowthRateOptParams(phi_O=0.4, do_dilution=True, max_phi_H=0,\n",
    "                                    fixed_ATP=DEFAULT_ATP, fixed_NADH=DEFAULT_NADH,\n",
    "                                    fixed_re=DEFAULT_RE, fixed_ra=DEFAULT_RA)\n",
    "    m, opt_p = ref_lam.maximize_growth_rate(params_nh)\n",
    "    d = ref_lam.results_as_dict(opt_p, params_nh)\n",
    "    results.append(d)\n",
    "\n",
    "zcb_sensitivity_df = pd.DataFrame(results)"
   ]
  },
  {
   "cell_type": "code",
   "execution_count": 14,
   "metadata": {},
   "outputs": [
    {
     "name": "stderr",
     "output_type": "stream",
     "text": [
      "/opt/miniconda3/lib/python3.8/site-packages/cvxpy/reductions/solvers/solving_chain.py:178: UserWarning: You are solving a parameterized problem that is not DPP. Because the problem is not DPP, subsequent solves will not be faster than the first one. For more information, see the documentation on Discplined Parametrized Programming, at\n",
      "\thttps://www.cvxpy.org/tutorial/advanced/index.html#disciplined-parametrized-programming\n",
      "  warnings.warn(dpp_error_msg)\n",
      "/opt/miniconda3/lib/python3.8/site-packages/cvxpy/problems/problem.py:1343: UserWarning: \n",
      "    The problem is either infeasible or unbounded, but the solver\n",
      "    cannot tell which. Disable any solver-specific presolve methods\n",
      "    and re-solve to determine the precise problem status.\n",
      "\n",
      "    For GUROBI and CPLEX you can automatically perform this re-solve\n",
      "    with the keyword argument prob.solve(reoptimize=True, ...).\n",
      "    \n",
      "  warnings.warn(INF_OR_UNB_MESSAGE)\n"
     ]
    }
   ],
   "source": [
    "# Sweep a range of biomass ZC values\n",
    "ZCorgs = np.arange(-3, 3.01, 0.05)\n",
    "\n",
    "results = []\n",
    "lmm = LinearMetabolicModel.FromFiles(m_fname, S_fname)\n",
    "\n",
    "for z in ZCorgs:\n",
    "    # Test with and without ATP homeostasis -- first with\n",
    "    ref_lam = lmm.copy()\n",
    "    ref_lam.set_ZCorg(z)\n",
    "    # Note we are fixing phi_O here to highlight the contribution of phi_H\n",
    "    params = GrowthRateOptParams(phi_O=0.4, do_dilution=True,\n",
    "                                 fixed_ATP=DEFAULT_ATP, fixed_NADH=DEFAULT_NADH,\n",
    "                                 fixed_re=DEFAULT_RE, fixed_ra=DEFAULT_RA)\n",
    "    m, opt_p = ref_lam.maximize_growth_rate(params)\n",
    "    d = ref_lam.results_as_dict(opt_p, params)\n",
    "    results.append(d)\n",
    "\n",
    "    # Now without -- seting max_phi_H = 0\n",
    "    params_nh = GrowthRateOptParams(phi_O=0.4, do_dilution=True, max_phi_H=0,\n",
    "                                    fixed_ATP=DEFAULT_ATP, fixed_NADH=DEFAULT_NADH,\n",
    "                                    fixed_re=DEFAULT_RE, fixed_ra=DEFAULT_RA)\n",
    "    m, opt_p = ref_lam.maximize_growth_rate(params_nh)\n",
    "    d = ref_lam.results_as_dict(opt_p, params_nh)\n",
    "    results.append(d)\n",
    "\n",
    "zcorg_sensitivity_df = pd.DataFrame(results)"
   ]
  },
  {
   "cell_type": "code",
   "execution_count": 15,
   "metadata": {},
   "outputs": [
    {
     "data": {
      "image/png": "[encoded data removed]",
      "text/plain": [
       "<Figure size 504x180 with 3 Axes>"
      ]
     },
     "metadata": {
      "needs_background": "light"
     },
     "output_type": "display_data"
    }
   ],
   "source": [
    "fig, axs = plt.subplots(nrows=1, ncols=3, figsize=(7, 2.5))\n",
    "\n",
    "\n",
    "plt.sca(axs[0])\n",
    "plt.title(r'$S_6$ affects $\\lambda_{max}$')\n",
    "\n",
    "zcbd = zcb_sensitivity_df\n",
    "ZCB = zcbd.ZCB.values[0]\n",
    "phi_H_included = zcbd[zcbd['opt.max_phi_H_set'] == False]\n",
    "no_phi_H = zcbd[zcbd['opt.max_phi_H_set'] == True]\n",
    "\n",
    "plt.plot(no_phi_H.S6, no_phi_H.lambda_hr, label=r'baseline model', color='grey')\n",
    "plt.plot(phi_H_included.S6, phi_H_included.lambda_hr, label=r'+ATP homeostasis', \n",
    "         color=colors['dark_green'], ls='--', zorder=10)\n",
    "\n",
    "plt.axvline(no_phi_H.S6_lb_zo.values[0], color='k', ls='--', lw=1, label='analytic bounds')\n",
    "plt.axvline(no_phi_H.S6_ub_zo.values[0], color='k', ls='--', lw=1)\n",
    "plt.ylim(0, 4)\n",
    "\n",
    "plt.legend(loc=1)\n",
    "plt.xlabel('$S_6$')\n",
    "plt.ylabel(r'$\\lambda$ (hr$^{-1}$)')\n",
    "\n",
    "plt.sca(axs[1])\n",
    "plt.title(r'$Z_{C,org}$ affects $\\lambda_{max}$')\n",
    "\n",
    "zcod = zcorg_sensitivity_df\n",
    "phi_H_included = zcod[zcod['opt.max_phi_H_set'] == False]\n",
    "no_phi_H = zcod[zcod['opt.max_phi_H_set'] == True]\n",
    "\n",
    "plt.plot(no_phi_H.ZCorg, no_phi_H.lambda_hr, label=r'baseline model', color='grey')\n",
    "plt.plot(phi_H_included.ZCorg, phi_H_included.lambda_hr, label=r'+ATP homeostasis', \n",
    "         color=colors['dark_green'], ls='--', zorder=10)\n",
    "\n",
    "plt.axvline(no_phi_H.ZCorg_lb_zo.values[0], color='k', ls='--', lw=1, label='analytic bounds')\n",
    "plt.axvline(no_phi_H.ZCorg_ub_zo.values[0], color='k', ls='--', lw=1)\n",
    "plt.ylim(0, 4)\n",
    "\n",
    "plt.legend(loc=1).set_visible(False)\n",
    "plt.xlabel('$Z_{C,org}$')\n",
    "plt.ylabel(r'$\\lambda$ (hr$^{-1}$)')\n",
    "\n",
    "plt.sca(axs[2])\n",
    "\n",
    "xs = np.arange(0, 4, 0.1)\n",
    "plt.plot(xs, xs, ls='--', color='k', lw=1, zorder=-10)\n",
    "\n",
    "mask = zcorg_sensitivity_df['opt_status'] == 'optimal'\n",
    "masked = zcorg_sensitivity_df[mask]\n",
    "sns.scatterplot(data=masked, x='lambda_hr', y='analytic_lambda_max_zo', color='grey')\n",
    "\n",
    "mask = zcb_sensitivity_df['opt_status'] == 'optimal'\n",
    "masked = zcb_sensitivity_df[mask]\n",
    "sns.scatterplot(data=masked, x='lambda_hr', y='analytic_lambda_max_zo', color='grey')\n",
    "\n",
    "plt.ylabel(r'analytical $\\lambda_{max}$ (hr$^{-1}$)')\n",
    "plt.xlabel(r'numerical $\\lambda_{max}$ (hr$^{-1}$)')\n",
    "plt.title('numeric vs. analytic $\\lambda_{max}$')\n",
    "\n",
    "for i, label in enumerate('ABC'):\n",
    "    plt.sca(axs[i])\n",
    "    plt.title(label, loc='left', fontweight='bold')\n",
    "    \n",
    "plt.tight_layout()\n",
    "plt.savefig('../output/figSX_analytics_zo.png', facecolor='w', dpi=300)\n",
    "plt.show()"
   ]
  },
  {
   "cell_type": "code",
   "execution_count": null,
   "metadata": {},
   "outputs": [],
   "source": []
  }
 ],
 "metadata": {
  "kernelspec": {
   "display_name": "conda.base",
   "language": "python",
   "name": "conda.base"
  },
  "language_info": {
   "codemirror_mode": {
    "name": "ipython",
    "version": 3
   },
   "file_extension": ".py",
   "mimetype": "text/x-python",
   "name": "python",
   "nbconvert_exporter": "python",
   "pygments_lexer": "ipython3",
   "version": "3.8.5"
  }
 },
 "nbformat": 4,
 "nbformat_minor": 4
}
