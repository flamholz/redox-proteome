{
 "cells": [
  {
   "cell_type": "code",
   "execution_count": null,
   "metadata": {},
   "outputs": [],
   "source": [
    "import numpy as np\n",
    "import pandas as pd\n",
    "import seaborn as sns\n",
    "import re\n",
    "\n",
    "from matplotlib import pyplot as plt\n",
    "from collections import Counter"
   ]
  },
  {
   "cell_type": "markdown",
   "metadata": {},
   "source": [
    "# Analyzing NOSC of the S. cerevisiae proteome\n",
    "Data from Xia et al. Nat Comms 2022. According to the \"description of supplementary files\" for that paper, the expression data are in units of molecules per cell. \n",
    "\n",
    "# Known issues\n",
    "Expression data contains ≈50 proteins with multiple majority IDs. This is currently resolved by adding fictional IDs with data for the first of those IDs. Mostly these are small sequence variants with almost no effects on NOSC. "
   ]
  },
  {
   "cell_type": "code",
   "execution_count": null,
   "metadata": {},
   "outputs": [],
   "source": [
    "samples_df = pd.read_excel('../data/proteomes/Scer/Xia_ScerCEN.PK.xlsx', sheet_name='samples', index_col=0)\n",
    "raw_abund_df = pd.read_excel('../data/proteomes/Scer/Xia_ScerCEN.PK.xlsx', sheet_name='data')\n",
    "nosc_df = pd.read_csv('../data/genomes/Scer/S288c/S288c_ref_prot_NOSC.csv')\n",
    "\n",
    "raw_abund_df.head()"
   ]
  },
  {
   "cell_type": "code",
   "execution_count": null,
   "metadata": {},
   "outputs": [],
   "source": [
    "abund_ids = set(raw_abund_df.majority_protein_ids.values.tolist())\n",
    "cds_ids = set(nosc_df.primary_accession.values.tolist())\n",
    "\n",
    "# There are ≈50 entries where there was > 1 majority hit.\n",
    "# That is: the relevant peptides report on multiple proteins, often\n",
    "# because they are alternate translations of the same gene. \n",
    "missing_ids = abund_ids.difference(cds_ids)\n",
    "print('Missing {0} ids'.format(len(missing_ids)))\n",
    "shared_ids = abund_ids.intersection(cds_ids)\n",
    "\n",
    "# The missing IDs are mostly due to isoforms of proteins that differ slightly in sequence. \n",
    "# This code identifies the individual IDs and makes a fictional row that represents the average\n",
    "# of each of the isoforms.\n",
    "print('Adding fictional IDs for those representing a mixture of isoforms')\n",
    "lookup_table = nosc_df.set_index('primary_accession')\n",
    "fakes = []\n",
    "for my_id in missing_ids:\n",
    "    NCs = []\n",
    "    Ces = []\n",
    "    for x in my_id.split(':'):\n",
    "        if x in lookup_table.index:\n",
    "            row = lookup_table.loc[x]\n",
    "            NCs.append(row.NC)\n",
    "            Ces.append(row.Ce)\n",
    "            \n",
    "    if len(NCs) == 0:\n",
    "        continue\n",
    "    print('Adding fictional protein for {0} representing {1} isoforms'.format(\n",
    "        my_id, len(NCs)))\n",
    "    \n",
    "    NC = np.mean(NCs)\n",
    "    Ce = np.mean(Ces)\n",
    "    fake_protein = dict(primary_accession=my_id, NC=NC, Ce=Ce, NOSC=(Ce/NC))\n",
    "    fakes.append(fake_protein)\n",
    "    \n",
    "extended_nosc_df = nosc_df.append(fakes, ignore_index=True)\n",
    "\n",
    "# recheck which IDs are missing\n",
    "cds_ids = set(extended_nosc_df.primary_accession.values.tolist())\n",
    "missing_ids = abund_ids.difference(cds_ids)\n",
    "print('After update, missing {0} IDs'.format(len(missing_ids)))\n",
    "shared_ids = abund_ids.intersection(cds_ids)"
   ]
  },
  {
   "cell_type": "code",
   "execution_count": null,
   "metadata": {},
   "outputs": [],
   "source": [
    "# Checking the percentage of unmapped genes. \n",
    "data_cols = raw_abund_df.columns[2:-1]\n",
    "mapped_sum = raw_abund_df.set_index('majority_protein_ids')[data_cols].loc[shared_ids].sum()\n",
    "total = raw_abund_df[data_cols].sum()\n",
    "pct_diff = 100*(total - mapped_sum)/total\n",
    "\n",
    "# Now that we've handled the isoforms, we're counting all the expression data\n",
    "pct_diff.head()"
   ]
  },
  {
   "cell_type": "code",
   "execution_count": null,
   "metadata": {},
   "outputs": [],
   "source": [
    "# Reshape the data to long-form\n",
    "long_abund_df = raw_abund_df.drop('gene_function', axis=1).melt(\n",
    "    id_vars=['majority_protein_ids', 'gene_name'], var_name='sample_name',\n",
    "    value_name='copies_per_cell')\n",
    "\n",
    "growth_rates = samples_df.loc[long_abund_df.sample_name].mu_per_hr\n",
    "long_abund_df['growth_rate_hr'] = growth_rates.values\n",
    "\n",
    "# use the extended_nosc_df to calculate the condition-dependent proteome NOSC\n",
    "my_nosc_df = extended_nosc_df.set_index('primary_accession')\n",
    "NCs = my_nosc_df.loc[long_abund_df.majority_protein_ids].NC.values\n",
    "Ces = my_nosc_df.loc[long_abund_df.majority_protein_ids].Ce.values\n",
    "NOSCs = my_nosc_df.loc[long_abund_df.majority_protein_ids].NOSC.values\n",
    "long_abund_df['NC_per'] = NCs\n",
    "long_abund_df['Ce_per'] = Ces\n",
    "long_abund_df['NOSC'] = NOSCs\n",
    "long_abund_df['NC_total'] = long_abund_df.copies_per_cell.multiply(NCs)\n",
    "long_abund_df['Ce_total'] = long_abund_df.copies_per_cell.multiply(Ces)\n",
    "long_abund_df['dataset'] = 'xia_2022'\n",
    "long_abund_df['strain'] = 'CEN.PK113-7D'\n",
    "long_abund_df['species'] = 'S. cerevisiae'\n",
    "long_abund_df['organism_key'] = 'yeast'\n",
    "long_abund_df['condition'] = 'chemostat_u' + samples_df.loc[long_abund_df.sample_name].mu_per_hr.astype(str).values\n",
    "long_abund_df['fraction_transmembrane'] = my_nosc_df.loc[long_abund_df.majority_protein_ids].fraction_transmembrane.values\n",
    "long_abund_df['fraction_transmembrane_C'] = my_nosc_df.loc[long_abund_df.majority_protein_ids].fraction_transmembrane_C.values\n",
    "\n",
    "# Add annotation of the growth mode -- everything in this ref was done in chemostats\n",
    "long_abund_df['growth_mode'] = 'chemostat'\n",
    "# Add annotation of stress conds -- these are all glucose chemostat conds\n",
    "long_abund_df['stress'] = False\n",
    "\n",
    "# Save to CSV\n",
    "long_abund_df.to_csv('../data/proteomes/Scer/Xia_protein_measurements.csv', index=False)\n",
    "\n",
    "agg_dict = dict(NC_total='sum', Ce_total='sum', growth_rate_hr='first', growth_mode='first')\n",
    "sample_noscs = long_abund_df.groupby(['sample_name']).agg(agg_dict)\n",
    "sample_noscs['proteome_NOSC'] = sample_noscs.Ce_total / sample_noscs.NC_total\n",
    "\n",
    "# reset growth rates -- didn't want to sum them\n",
    "sample_noscs['growth_rate_hr'] = samples_df.loc[sample_noscs.index].mu_per_hr\n",
    "\n",
    "sample_noscs.to_csv('../data/proteomes/Scer/Xia_proteome_NOSC_full.csv', index=False)\n",
    "sample_noscs.head()\n"
   ]
  },
  {
   "cell_type": "code",
   "execution_count": null,
   "metadata": {},
   "outputs": [],
   "source": [
    "sample_noscs"
   ]
  },
  {
   "cell_type": "code",
   "execution_count": null,
   "metadata": {},
   "outputs": [],
   "source": [
    "# Mean of S. cer data since the replicates are reported separately \n",
    "agg_dict = dict(NC_total='mean', Ce_total='mean', proteome_NOSC='mean', sample_name='count')\n",
    "sample_noscs_mean = sample_noscs.reset_index().groupby('growth_rate_hr').agg(agg_dict).rename(\n",
    "    columns=dict(sample_name='sample_count'))\n",
    "\n",
    "sample_noscs_mean.to_csv('../data/proteomes/Scer/Xia_proteome_NOSC.csv', index=True)\n",
    "sample_noscs_mean"
   ]
  },
  {
   "cell_type": "code",
   "execution_count": null,
   "metadata": {},
   "outputs": [],
   "source": [
    "# amino acid counts per protein\n",
    "aa_counts = [Counter(a) for a in nosc_df.aa_seq]\n",
    "aa_counts_df = pd.DataFrame(aa_counts, index=nosc_df.primary_accession).replace({np.NaN: 0})\n",
    "aa_counts_df.tail()"
   ]
  },
  {
   "cell_type": "code",
   "execution_count": null,
   "metadata": {},
   "outputs": [],
   "source": [
    "mask = samples_df.mu_per_hr == samples_df.mu_per_hr.max()\n",
    "fast_samples = samples_df[mask].index\n",
    "print(samples_df[mask])\n",
    "mean_abund_fast_growth = raw_abund_df.set_index('majority_protein_ids')[fast_samples].mean(axis=1)\n",
    "\n",
    "overlapping_ids = set(mean_abund_fast_growth.index).intersection(aa_counts_df.index)\n",
    "tmp = aa_counts_df.loc[overlapping_ids].multiply(mean_abund_fast_growth.loc[overlapping_ids], axis=0).sum()\n",
    "expression_weighted_aas = tmp / tmp.sum()\n",
    "expression_weighted_aas.name = 'aa_freq'\n",
    "\n",
    "expression_weighted_aas.to_csv('../data/proteomes/Scer/Xia_mu0.379_expression_weighted_aa_freqs.csv')"
   ]
  },
  {
   "cell_type": "code",
   "execution_count": null,
   "metadata": {},
   "outputs": [],
   "source": []
  }
 ],
 "metadata": {
  "kernelspec": {
   "display_name": "conda.base",
   "language": "python",
   "name": "conda.base"
  },
  "language_info": {
   "codemirror_mode": {
    "name": "ipython",
    "version": 3
   },
   "file_extension": ".py",
   "mimetype": "text/x-python",
   "name": "python",
   "nbconvert_exporter": "python",
   "pygments_lexer": "ipython3",
   "version": "3.8.5"
  }
 },
 "nbformat": 4,
 "nbformat_minor": 4
}
