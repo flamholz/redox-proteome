{
 "cells": [
  {
   "cell_type": "code",
   "execution_count": 1,
   "metadata": {},
   "outputs": [],
   "source": [
    "import numpy as np\n",
    "import pandas as pd\n",
    "import seaborn as sns\n",
    "\n",
    "from collections import Counter\n",
    "from matplotlib import pyplot as plt\n",
    "from util import calc_proteome_nosc"
   ]
  },
  {
   "cell_type": "code",
   "execution_count": 2,
   "metadata": {},
   "outputs": [
    {
     "data": {
      "text/html": [
       "<div>\n",
       "<style scoped>\n",
       "    .dataframe tbody tr th:only-of-type {\n",
       "        vertical-align: middle;\n",
       "    }\n",
       "\n",
       "    .dataframe tbody tr th {\n",
       "        vertical-align: top;\n",
       "    }\n",
       "\n",
       "    .dataframe thead th {\n",
       "        text-align: right;\n",
       "    }\n",
       "</style>\n",
       "<table border=\"1\" class=\"dataframe\">\n",
       "  <thead>\n",
       "    <tr style=\"text-align: right;\">\n",
       "      <th></th>\n",
       "      <th>full_name</th>\n",
       "      <th>short_name</th>\n",
       "      <th>NC</th>\n",
       "      <th>Formula</th>\n",
       "      <th>NOSC</th>\n",
       "      <th>MW</th>\n",
       "    </tr>\n",
       "    <tr>\n",
       "      <th>letter_code</th>\n",
       "      <th></th>\n",
       "      <th></th>\n",
       "      <th></th>\n",
       "      <th></th>\n",
       "      <th></th>\n",
       "      <th></th>\n",
       "    </tr>\n",
       "  </thead>\n",
       "  <tbody>\n",
       "    <tr>\n",
       "      <th>A</th>\n",
       "      <td>Alanine</td>\n",
       "      <td>{ALA}</td>\n",
       "      <td>3</td>\n",
       "      <td>C3H7NO2</td>\n",
       "      <td>0.00</td>\n",
       "      <td>89.0935</td>\n",
       "    </tr>\n",
       "    <tr>\n",
       "      <th>R</th>\n",
       "      <td>Arginine</td>\n",
       "      <td>{ARG}</td>\n",
       "      <td>6</td>\n",
       "      <td>C6H15N4O2+</td>\n",
       "      <td>0.33</td>\n",
       "      <td>174.2017</td>\n",
       "    </tr>\n",
       "    <tr>\n",
       "      <th>N</th>\n",
       "      <td>Asparagine</td>\n",
       "      <td>{ASN}</td>\n",
       "      <td>4</td>\n",
       "      <td>C4H8N2O3</td>\n",
       "      <td>1.00</td>\n",
       "      <td>132.1184</td>\n",
       "    </tr>\n",
       "    <tr>\n",
       "      <th>D</th>\n",
       "      <td>Aspartate</td>\n",
       "      <td>{ASP}</td>\n",
       "      <td>4</td>\n",
       "      <td>C4H6NO4−</td>\n",
       "      <td>1.00</td>\n",
       "      <td>133.1032</td>\n",
       "    </tr>\n",
       "    <tr>\n",
       "      <th>C</th>\n",
       "      <td>Cysteine</td>\n",
       "      <td>{CYS}</td>\n",
       "      <td>3</td>\n",
       "      <td>C3H7NO2S</td>\n",
       "      <td>0.67</td>\n",
       "      <td>121.1590</td>\n",
       "    </tr>\n",
       "  </tbody>\n",
       "</table>\n",
       "</div>"
      ],
      "text/plain": [
       "              full_name short_name  NC     Formula  NOSC        MW\n",
       "letter_code                                                       \n",
       "A               Alanine      {ALA}   3     C3H7NO2  0.00   89.0935\n",
       "R              Arginine      {ARG}   6  C6H15N4O2+  0.33  174.2017\n",
       "N            Asparagine      {ASN}   4    C4H8N2O3  1.00  132.1184\n",
       "D             Aspartate      {ASP}   4    C4H6NO4−  1.00  133.1032\n",
       "C              Cysteine      {CYS}   3    C3H7NO2S  0.67  121.1590"
      ]
     },
     "execution_count": 2,
     "metadata": {},
     "output_type": "execute_result"
    }
   ],
   "source": [
    "# Load amino acid NOSC table\n",
    "aa_nosc_df = pd.read_csv('../data/aa_nosc.csv').set_index('letter_code')\n",
    "aa_nosc_df.head()"
   ]
  },
  {
   "cell_type": "code",
   "execution_count": 3,
   "metadata": {},
   "outputs": [
    {
     "data": {
      "text/html": [
       "<div>\n",
       "<style scoped>\n",
       "    .dataframe tbody tr th:only-of-type {\n",
       "        vertical-align: middle;\n",
       "    }\n",
       "\n",
       "    .dataframe tbody tr th {\n",
       "        vertical-align: top;\n",
       "    }\n",
       "\n",
       "    .dataframe thead th {\n",
       "        text-align: right;\n",
       "    }\n",
       "</style>\n",
       "<table border=\"1\" class=\"dataframe\">\n",
       "  <thead>\n",
       "    <tr style=\"text-align: right;\">\n",
       "      <th></th>\n",
       "      <th>locus_tag</th>\n",
       "      <th>aaseq</th>\n",
       "      <th>NOSC</th>\n",
       "      <th>NC</th>\n",
       "      <th>Ce_tot</th>\n",
       "      <th>MW</th>\n",
       "      <th>naa</th>\n",
       "      <th>gene_name</th>\n",
       "      <th>gene_id</th>\n",
       "      <th>inner_membrane</th>\n",
       "      <th>outer_membrane</th>\n",
       "      <th>integral_membrane</th>\n",
       "    </tr>\n",
       "  </thead>\n",
       "  <tbody>\n",
       "    <tr>\n",
       "      <th>0</th>\n",
       "      <td>SYNGTS_0001</td>\n",
       "      <td>MISTTSLFAPVDQDLRLLTDNLKRLVGARHPILGAAAEHLFEAGGK...</td>\n",
       "      <td>-0.159604</td>\n",
       "      <td>1589</td>\n",
       "      <td>-253.61</td>\n",
       "      <td>35725.2280</td>\n",
       "      <td>323</td>\n",
       "      <td>sds</td>\n",
       "      <td>slr0611</td>\n",
       "      <td>False</td>\n",
       "      <td>False</td>\n",
       "      <td>False</td>\n",
       "    </tr>\n",
       "    <tr>\n",
       "      <th>1</th>\n",
       "      <td>SYNGTS_0002</td>\n",
       "      <td>MGRLDQDSEGLLLLTSNGKLQHRLAHREFAHQRTYFAQVEGSPTDE...</td>\n",
       "      <td>-0.096367</td>\n",
       "      <td>933</td>\n",
       "      <td>-89.91</td>\n",
       "      <td>21028.6756</td>\n",
       "      <td>185</td>\n",
       "      <td>slr0612</td>\n",
       "      <td>slr0612</td>\n",
       "      <td>False</td>\n",
       "      <td>False</td>\n",
       "      <td>False</td>\n",
       "    </tr>\n",
       "    <tr>\n",
       "      <th>2</th>\n",
       "      <td>SYNGTS_0003</td>\n",
       "      <td>MSYLIAVVANRIAAEEAYTTLEQAGFAQKNLTIIGTGYKTADEFGL...</td>\n",
       "      <td>-0.207419</td>\n",
       "      <td>837</td>\n",
       "      <td>-173.61</td>\n",
       "      <td>18296.8257</td>\n",
       "      <td>173</td>\n",
       "      <td>slr0613</td>\n",
       "      <td>slr0613</td>\n",
       "      <td>False</td>\n",
       "      <td>False</td>\n",
       "      <td>False</td>\n",
       "    </tr>\n",
       "    <tr>\n",
       "      <th>3</th>\n",
       "      <td>SYNGTS_0004</td>\n",
       "      <td>MSDNLTELSQQLHDASEKKQLTAIAALAEMGEGGQGILLDYLAKNV...</td>\n",
       "      <td>-0.147181</td>\n",
       "      <td>1206</td>\n",
       "      <td>-177.50</td>\n",
       "      <td>26464.6714</td>\n",
       "      <td>233</td>\n",
       "      <td>sll0558</td>\n",
       "      <td>sll0558</td>\n",
       "      <td>False</td>\n",
       "      <td>False</td>\n",
       "      <td>False</td>\n",
       "    </tr>\n",
       "    <tr>\n",
       "      <th>4</th>\n",
       "      <td>SYNGTS_0005</td>\n",
       "      <td>MVNTLEKPGFDEIRPGVKTPAKETILTPRFYTTDFDEMAKMDISPN...</td>\n",
       "      <td>-0.149458</td>\n",
       "      <td>1920</td>\n",
       "      <td>-286.96</td>\n",
       "      <td>42152.7024</td>\n",
       "      <td>358</td>\n",
       "      <td>sll1214</td>\n",
       "      <td>sll1214</td>\n",
       "      <td>False</td>\n",
       "      <td>False</td>\n",
       "      <td>False</td>\n",
       "    </tr>\n",
       "  </tbody>\n",
       "</table>\n",
       "</div>"
      ],
      "text/plain": [
       "     locus_tag                                              aaseq      NOSC  \\\n",
       "0  SYNGTS_0001  MISTTSLFAPVDQDLRLLTDNLKRLVGARHPILGAAAEHLFEAGGK... -0.159604   \n",
       "1  SYNGTS_0002  MGRLDQDSEGLLLLTSNGKLQHRLAHREFAHQRTYFAQVEGSPTDE... -0.096367   \n",
       "2  SYNGTS_0003  MSYLIAVVANRIAAEEAYTTLEQAGFAQKNLTIIGTGYKTADEFGL... -0.207419   \n",
       "3  SYNGTS_0004  MSDNLTELSQQLHDASEKKQLTAIAALAEMGEGGQGILLDYLAKNV... -0.147181   \n",
       "4  SYNGTS_0005  MVNTLEKPGFDEIRPGVKTPAKETILTPRFYTTDFDEMAKMDISPN... -0.149458   \n",
       "\n",
       "     NC  Ce_tot          MW  naa gene_name  gene_id  inner_membrane  \\\n",
       "0  1589 -253.61  35725.2280  323       sds  slr0611           False   \n",
       "1   933  -89.91  21028.6756  185   slr0612  slr0612           False   \n",
       "2   837 -173.61  18296.8257  173   slr0613  slr0613           False   \n",
       "3  1206 -177.50  26464.6714  233   sll0558  sll0558           False   \n",
       "4  1920 -286.96  42152.7024  358   sll1214  sll1214           False   \n",
       "\n",
       "   outer_membrane  integral_membrane  \n",
       "0           False              False  \n",
       "1           False              False  \n",
       "2           False              False  \n",
       "3           False              False  \n",
       "4           False              False  "
      ]
     },
     "execution_count": 3,
     "metadata": {},
     "output_type": "execute_result"
    }
   ],
   "source": [
    "nosc_df = calc_proteome_nosc('../data/genomes/PCC6803_GT-S.gb', aa_nosc_df)\n",
    "nosc_df.to_csv('../data/PCC6803_proteome_nosc.csv', index=False)\n",
    "nosc_df.head()"
   ]
  },
  {
   "cell_type": "code",
   "execution_count": 5,
   "metadata": {},
   "outputs": [
    {
     "data": {
      "text/plain": [
       "False"
      ]
     },
     "execution_count": 5,
     "metadata": {},
     "output_type": "execute_result"
    }
   ],
   "source": [
    "nosc_df.inner_membrane.any()"
   ]
  },
  {
   "cell_type": "code",
   "execution_count": 4,
   "metadata": {},
   "outputs": [
    {
     "data": {
      "image/png": "[encoded data removed]",
      "text/plain": [
       "<Figure size 432x288 with 1 Axes>"
      ]
     },
     "metadata": {
      "needs_background": "light"
     },
     "output_type": "display_data"
    }
   ],
   "source": [
    "# Histogram of protein NOSC in PCC6803\n",
    "plt.figure()\n",
    "sns.histplot(data=nosc_df, x='NOSC')\n",
    "plt.show()"
   ]
  },
  {
   "cell_type": "code",
   "execution_count": 5,
   "metadata": {},
   "outputs": [
    {
     "data": {
      "text/plain": [
       "<AxesSubplot: xlabel='Ce_tot', ylabel='Count'>"
      ]
     },
     "execution_count": 5,
     "metadata": {},
     "output_type": "execute_result"
    },
    {
     "data": {
      "image/png": "[encoded data removed]",
      "text/plain": [
       "<Figure size 432x288 with 1 Axes>"
      ]
     },
     "metadata": {
      "needs_background": "light"
     },
     "output_type": "display_data"
    }
   ],
   "source": [
    "# Hist. of total formal carbon-bound e- on proteins\n",
    "plt.figure()\n",
    "sns.histplot(data=nosc_df, x='Ce_tot')"
   ]
  },
  {
   "cell_type": "code",
   "execution_count": 6,
   "metadata": {},
   "outputs": [
    {
     "data": {
      "text/plain": [
       "<AxesSubplot: xlabel='MW', ylabel='Count'>"
      ]
     },
     "execution_count": 6,
     "metadata": {},
     "output_type": "execute_result"
    },
    {
     "data": {
      "image/png": "[encoded data removed]",
      "text/plain": [
       "<Figure size 432x288 with 1 Axes>"
      ]
     },
     "metadata": {
      "needs_background": "light"
     },
     "output_type": "display_data"
    }
   ],
   "source": [
    "# Hist. of molecular weights\n",
    "# NB: figure out what these giant proteins are. \n",
    "plt.figure()\n",
    "sns.histplot(data=nosc_df, x='MW')"
   ]
  },
  {
   "cell_type": "code",
   "execution_count": 7,
   "metadata": {},
   "outputs": [],
   "source": [
    "# filter for \"normal-sized\" proteins. \n",
    "mask = np.logical_and(nosc_df.naa >= 30, nosc_df.naa <= 5000)\n",
    "all_aas = ''.join(nosc_df[mask].aaseq)\n",
    "aa_counts_genome = pd.Series(Counter(all_aas))\n",
    "aa_counts_genome['U'] = 0\n",
    "aa_freqs_genome = aa_counts_genome / aa_counts_genome.sum()\n",
    "\n",
    "# reorder to match order in amino acid dataset\n",
    "aa_freqs_genome = aa_freqs_genome.loc[aa_nosc_df.index].copy()"
   ]
  },
  {
   "cell_type": "code",
   "execution_count": 8,
   "metadata": {},
   "outputs": [
    {
     "name": "stderr",
     "output_type": "stream",
     "text": [
      "/opt/miniconda3/lib/python3.8/site-packages/seaborn/_decorators.py:36: FutureWarning: Pass the following variables as keyword args: x, y. From version 0.12, the only valid positional argument will be `data`, and passing other arguments without an explicit keyword will result in an error or misinterpretation.\n",
      "  warnings.warn(\n"
     ]
    },
    {
     "data": {
      "image/png": "[encoded data removed]",
      "text/plain": [
       "<Figure size 432x288 with 1 Axes>"
      ]
     },
     "metadata": {
      "needs_background": "light"
     },
     "output_type": "display_data"
    }
   ],
   "source": [
    "# plot amino acid frequency against NOSC\n",
    "sns.scatterplot(aa_freqs_genome, aa_nosc_df.NOSC)\n",
    "for aa in aa_freqs_genome.index:\n",
    "    xloc = aa_freqs_genome.loc[aa] + 0.002\n",
    "    yloc = aa_nosc_df.loc[aa].NOSC + 0.01\n",
    "    plt.annotate(aa, (xloc, yloc))\n",
    "    \n",
    "plt.xlabel('Frequency in PCC6803 Genome')\n",
    "plt.ylabel('NOSC of Amino Acid')\n",
    "plt.savefig('../output/genome_freq_vs_NOSC.png', facecolor='w', dpi=600)\n",
    "plt.show()"
   ]
  },
  {
   "cell_type": "code",
   "execution_count": 9,
   "metadata": {},
   "outputs": [
    {
     "data": {
      "text/plain": [
       "4.984792285225781"
      ]
     },
     "execution_count": 9,
     "metadata": {},
     "output_type": "execute_result"
    }
   ],
   "source": [
    "np.sum(aa_nosc_df.loc[aa_freqs_genome.index].NC*aa_freqs_genome)"
   ]
  },
  {
   "cell_type": "code",
   "execution_count": null,
   "metadata": {},
   "outputs": [],
   "source": []
  }
 ],
 "metadata": {
  "kernelspec": {
   "display_name": "conda.base",
   "language": "python",
   "name": "conda.base"
  },
  "language_info": {
   "codemirror_mode": {
    "name": "ipython",
    "version": 3
   },
   "file_extension": ".py",
   "mimetype": "text/x-python",
   "name": "python",
   "nbconvert_exporter": "python",
   "pygments_lexer": "ipython3",
   "version": "3.8.5"
  }
 },
 "nbformat": 4,
 "nbformat_minor": 4
}
