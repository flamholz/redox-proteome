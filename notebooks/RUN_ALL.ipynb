{
 "cells": [
  {
   "cell_type": "markdown",
   "metadata": {},
   "source": [
    "# Essential notebooks run first\n",
    "These first 4 are required for all subsequent notebooks to run. "
   ]
  },
  {
   "cell_type": "code",
   "execution_count": 1,
   "metadata": {},
   "outputs": [
    {
     "name": "stdout",
     "output_type": "stream",
     "text": [
      "[NbConvertApp] Converting notebook 00_PreprocessCodingSequences.ipynb to notebook\n",
      "[NbConvertApp] Writing 75398 bytes to jupyter_tmp/00_PreprocessCodingSequences.ipynb\n",
      "[NbConvertApp] Converting notebook 01_ColiProteomeNOSC.ipynb to notebook\n",
      "[NbConvertApp] Writing 155716 bytes to jupyter_tmp/01_ColiProteomeNOSC.ipynb\n",
      "[NbConvertApp] Converting notebook 02_ScerProteomeNOSC.ipynb to notebook\n",
      "[NbConvertApp] Writing 50753 bytes to jupyter_tmp/02_ScerProteomeNOSC.ipynb\n",
      "[NbConvertApp] Converting notebook 03_CyanoProteomeNOSC.ipynb to notebook\n",
      "[NbConvertApp] Writing 47452 bytes to jupyter_tmp/03_CyanoProteomeNOSC.ipynb\n"
     ]
    }
   ],
   "source": [
    "!mkdir -p jupyter_tmp\n",
    "!jupyter nbconvert --execute 00_PreprocessCodingSequences.ipynb --to notebook --output-dir jupyter_tmp\n",
    "!jupyter nbconvert --execute 01_ColiProteomeNOSC.ipynb --to notebook --output-dir jupyter_tmp\n",
    "!jupyter nbconvert --execute 02_ScerProteomeNOSC.ipynb --to notebook --output-dir jupyter_tmp\n",
    "!jupyter nbconvert --execute 03_CyanoProteomeNOSC.ipynb --to notebook --output-dir jupyter_tmp"
   ]
  },
  {
   "cell_type": "code",
   "execution_count": 3,
   "metadata": {},
   "outputs": [],
   "source": [
    "# Read in expression data and merge into a single file here for simplicity\n",
    "import pandas as pd \n",
    "\n",
    "coli_exp_df = pd.read_csv('../data/proteomes/Coli/Chure_mean_absolute_measurements.csv')\n",
    "yeast_exp_df = pd.read_csv('../data/proteomes/Scer/Xia_protein_measurements.csv')\n",
    "cyano_exp_df = pd.read_csv('../data/proteomes/Synechocystis/Zavrel_protein_measurements.csv')\n",
    "\n",
    "# TODO: populate fg_per_cell for the non-coli data? \n",
    "all_data_df = pd.concat([coli_exp_df, yeast_exp_df, cyano_exp_df])\n",
    "all_data_df.to_csv('../data/proteomes/all_protein_measurements.csv', index=False)"
   ]
  },
  {
   "cell_type": "markdown",
   "metadata": {},
   "source": [
    "# Non-essential notebooks\n",
    "These need not be re-run to make figures unless the underlying data change in a substantive way."
   ]
  },
  {
   "cell_type": "code",
   "execution_count": 3,
   "metadata": {},
   "outputs": [
    {
     "name": "stdout",
     "output_type": "stream",
     "text": [
      "[NbConvertApp] Converting notebook 04_CDS_MonteCarloSampling.ipynb to notebook\n",
      "[NbConvertApp] Writing 25858 bytes to jupyter_tmp/04_CDS_MonteCarloSampling.ipynb\n",
      "[NbConvertApp] Converting notebook 05_GeneticCodeAnalysis.ipynb to notebook\n",
      "[NbConvertApp] Writing 27050 bytes to jupyter_tmp/05_GeneticCodeAnalysis.ipynb\n",
      "[NbConvertApp] Converting notebook 06_EstimateProteomeNADHConsumption.ipynb to notebook\n",
      "[NbConvertApp] Writing 68580 bytes to jupyter_tmp/06_EstimateProteomeNADHConsumption.ipynb\n",
      "[NbConvertApp] Converting notebook 07_PCA_analysis.ipynb to notebook\n",
      "[NbConvertApp] Writing 217623 bytes to jupyter_tmp/07_PCA_analysis.ipynb\n",
      "[NbConvertApp] Converting notebook 08_ProteomeBinning.ipynb to notebook\n",
      "[NbConvertApp] Writing 168926 bytes to jupyter_tmp/08_ProteomeBinning.ipynb\n",
      "[NbConvertApp] Converting notebook 09_lipids_analysis.ipynb to notebook\n",
      "[NbConvertApp] Writing 99417 bytes to jupyter_tmp/09_lipids_analysis.ipynb\n",
      "[NbConvertApp] Converting notebook 10_biomass_elemental_composition.ipynb to notebook\n",
      "[NbConvertApp] Writing 65949 bytes to jupyter_tmp/10_biomass_elemental_composition.ipynb\n"
     ]
    }
   ],
   "source": [
    "!jupyter nbconvert --execute 04_CDS_MonteCarloSampling.ipynb --to notebook --output-dir jupyter_tmp\n",
    "!jupyter nbconvert --execute 05_GeneticCodeAnalysis.ipynb --to notebook --output-dir jupyter_tmp\n",
    "!jupyter nbconvert --execute 06_EstimateProteomeNADHConsumption.ipynb --to notebook --output-dir jupyter_tmp\n",
    "!jupyter nbconvert --execute 07_PCA_analysis.ipynb --to notebook --output-dir jupyter_tmp\n",
    "!jupyter nbconvert --execute 08_ProteomeBinning.ipynb --to notebook --output-dir jupyter_tmp\n",
    "!jupyter nbconvert --execute 09_lipids_analysis.ipynb --to notebook --output-dir jupyter_tmp\n",
    "!jupyter nbconvert --execute 10_biomass_elemental_composition.ipynb --to notebook --output-dir jupyter_tmp"
   ]
  },
  {
   "cell_type": "markdown",
   "metadata": {},
   "source": [
    "# Now you can run AllFigures to generate the figures."
   ]
  }
 ],
 "metadata": {
  "kernelspec": {
   "display_name": "conda.base",
   "language": "python",
   "name": "conda.base"
  },
  "language_info": {
   "codemirror_mode": {
    "name": "ipython",
    "version": 3
   },
   "file_extension": ".py",
   "mimetype": "text/x-python",
   "name": "python",
   "nbconvert_exporter": "python",
   "pygments_lexer": "ipython3",
   "version": "3.8.5"
  }
 },
 "nbformat": 4,
 "nbformat_minor": 4
}
