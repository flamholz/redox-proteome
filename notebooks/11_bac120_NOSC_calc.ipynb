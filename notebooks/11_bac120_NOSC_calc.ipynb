{
 "cells": [
  {
   "cell_type": "code",
   "execution_count": 1,
   "metadata": {},
   "outputs": [],
   "source": [
    "import numpy as np\n",
    "import pandas as pd\n",
    "import glob\n",
    "\n",
    "from tqdm import tqdm\n",
    "from Bio import SeqIO\n",
    "from matplotlib import pyplot as plt\n",
    "from os import path\n",
    "from seq_util import *"
   ]
  },
  {
   "cell_type": "code",
   "execution_count": 2,
   "metadata": {},
   "outputs": [
    {
     "data": {
      "text/plain": [
       "['../../kofamscan/bac120_marker_genes_reps_r207/faa/TIGR01391.faa',\n",
       " '../../kofamscan/bac120_marker_genes_reps_r207/faa/TIGR00064.faa',\n",
       " '../../kofamscan/bac120_marker_genes_reps_r207/faa/TIGR02075.faa']"
      ]
     },
     "execution_count": 2,
     "metadata": {},
     "output_type": "execute_result"
    }
   ],
   "source": [
    "# Load all the fasta filenames of the GTDB bac120 sequences\n",
    "dirname = '../../kofamscan/bac120_marker_genes_reps_r207/faa/'\n",
    "fnames = glob.glob(dirname + '*.faa')\n",
    "fnames[:3]"
   ]
  },
  {
   "cell_type": "code",
   "execution_count": 3,
   "metadata": {},
   "outputs": [
    {
     "name": "stderr",
     "output_type": "stream",
     "text": [
      "  0%|          | 0/120 [00:00<?, ?it/s]"
     ]
    },
    {
     "name": "stderr",
     "output_type": "stream",
     "text": [
      "100%|██████████| 120/120 [5:48:39<00:00, 174.33s/it]  \n"
     ]
    }
   ],
   "source": [
    "# Parse all the data from \n",
    "bac120_nosc_data = dict(gene_id=[], accession=[], NOSC=[])\n",
    "for fpath in tqdm(fnames):\n",
    "    # parse the gene identifier (PFAM, TIGERFAM) from the filename\n",
    "    p, f = path.split(fpath)    \n",
    "    head, tail = path.splitext(f)\n",
    "    gene_identified = head\n",
    "    for record in SeqIO.parse(fpath, 'fasta'):\n",
    "        bac120_nosc_data['gene_id'].append(gene_identified)\n",
    "        bac120_nosc_data['accession'].append(record.id)\n",
    "        try:\n",
    "            Ce, NC = calc_protein_nosc(record.seq)\n",
    "            bac120_nosc_data['NOSC'].append(Ce/NC)\n",
    "        except ValueError:\n",
    "            # This sequence contains a non-specific amino acid\n",
    "            # TODO: could calculate the NOSC with some error range\n",
    "            # presuming either random aminos or some null distribution\n",
    "            bac120_nosc_data['NOSC'].append(np.NaN)"
   ]
  },
  {
   "cell_type": "code",
   "execution_count": 4,
   "metadata": {},
   "outputs": [
    {
     "data": {
      "text/html": [
       "<div>\n",
       "<style scoped>\n",
       "    .dataframe tbody tr th:only-of-type {\n",
       "        vertical-align: middle;\n",
       "    }\n",
       "\n",
       "    .dataframe tbody tr th {\n",
       "        vertical-align: top;\n",
       "    }\n",
       "\n",
       "    .dataframe thead th {\n",
       "        text-align: right;\n",
       "    }\n",
       "</style>\n",
       "<table border=\"1\" class=\"dataframe\">\n",
       "  <thead>\n",
       "    <tr style=\"text-align: right;\">\n",
       "      <th></th>\n",
       "      <th>gene_id</th>\n",
       "      <th>accession</th>\n",
       "      <th>NOSC</th>\n",
       "    </tr>\n",
       "  </thead>\n",
       "  <tbody>\n",
       "    <tr>\n",
       "      <th>0</th>\n",
       "      <td>TIGR01391</td>\n",
       "      <td>RS_GCF_001027105.1</td>\n",
       "      <td>-0.120462</td>\n",
       "    </tr>\n",
       "    <tr>\n",
       "      <th>1</th>\n",
       "      <td>TIGR01391</td>\n",
       "      <td>RS_GCF_001457635.1</td>\n",
       "      <td>-0.136591</td>\n",
       "    </tr>\n",
       "    <tr>\n",
       "      <th>2</th>\n",
       "      <td>TIGR01391</td>\n",
       "      <td>RS_GCF_001544255.1</td>\n",
       "      <td>-0.138392</td>\n",
       "    </tr>\n",
       "    <tr>\n",
       "      <th>3</th>\n",
       "      <td>TIGR01391</td>\n",
       "      <td>RS_GCF_001457695.1</td>\n",
       "      <td>-0.208469</td>\n",
       "    </tr>\n",
       "    <tr>\n",
       "      <th>4</th>\n",
       "      <td>TIGR01391</td>\n",
       "      <td>RS_GCF_000006945.2</td>\n",
       "      <td>-0.119282</td>\n",
       "    </tr>\n",
       "  </tbody>\n",
       "</table>\n",
       "</div>"
      ],
      "text/plain": [
       "     gene_id           accession      NOSC\n",
       "0  TIGR01391  RS_GCF_001027105.1 -0.120462\n",
       "1  TIGR01391  RS_GCF_001457635.1 -0.136591\n",
       "2  TIGR01391  RS_GCF_001544255.1 -0.138392\n",
       "3  TIGR01391  RS_GCF_001457695.1 -0.208469\n",
       "4  TIGR01391  RS_GCF_000006945.2 -0.119282"
      ]
     },
     "execution_count": 4,
     "metadata": {},
     "output_type": "execute_result"
    }
   ],
   "source": [
    "# Convert to a dataframe\n",
    "bac120_nosc_df = pd.DataFrame(bac120_nosc_data)\n",
    "bac120_nosc_df.head()"
   ]
  },
  {
   "cell_type": "code",
   "execution_count": 5,
   "metadata": {},
   "outputs": [],
   "source": [
    "# Save DF as a CSV\n",
    "bac120_nosc_df.to_csv('../data/gtdb/r207/bac120_nosc_vals.csv')"
   ]
  },
  {
   "cell_type": "code",
   "execution_count": 6,
   "metadata": {},
   "outputs": [],
   "source": [
    "# Pivot so that we have rows per genome of nosc values\n",
    "bac120_nosc_mat = bac120_nosc_df.pivot(index='accession', columns='gene_id', values='NOSC')\n",
    "bac120_nosc_mat.to_csv('../data/gtdb/r207/bac120_nosc_vals_wide.csv')"
   ]
  },
  {
   "cell_type": "code",
   "execution_count": 7,
   "metadata": {},
   "outputs": [],
   "source": [
    "bac120_nosc_mat.to_csv('../data/gtdb/r207/bac120_nosc_vals_wide_compressed.csv', float_format='%.6f')"
   ]
  },
  {
   "cell_type": "code",
   "execution_count": null,
   "metadata": {},
   "outputs": [],
   "source": []
  }
 ],
 "metadata": {
  "kernelspec": {
   "display_name": "conda.base",
   "language": "python",
   "name": "conda.base"
  },
  "language_info": {
   "codemirror_mode": {
    "name": "ipython",
    "version": 3
   },
   "file_extension": ".py",
   "mimetype": "text/x-python",
   "name": "python",
   "nbconvert_exporter": "python",
   "pygments_lexer": "ipython3",
   "version": "3.8.5"
  }
 },
 "nbformat": 4,
 "nbformat_minor": 4
}
