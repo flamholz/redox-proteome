{
 "cells": [
  {
   "cell_type": "code",
   "execution_count": 23,
   "metadata": {},
   "outputs": [],
   "source": [
    "import numpy as np\n",
    "import pandas as pd\n",
    "import plot_util\n",
    "import seaborn as sns\n",
    "\n",
    "from collections import defaultdict\n",
    "from matplotlib.patches import Patch\n",
    "from matplotlib.lines import Line2D\n",
    "from matplotlib import pyplot as plt\n",
    "from matplotlib.colors import LogNorm\n",
    "from matplotlib.ticker import FuncFormatter\n",
    "from matplotlib.legend_handler import HandlerTuple\n",
    "from rdkit import Chem\n",
    "from rdkit.Chem.rdMolDescriptors import CalcMolFormula\n",
    "from scipy.stats import linregress, gmean, gstd\n",
    "\n",
    "plt.style.use('style.mpl')"
   ]
  },
  {
   "cell_type": "code",
   "execution_count": 2,
   "metadata": {},
   "outputs": [],
   "source": [
    "# Large kcat dataset from Li et al. 2022 includes SMILES strings for substrates\n",
    "kcat_data = pd.read_json('../data/enzymes/Li2022_DLKat_kcats.json')"
   ]
  },
  {
   "cell_type": "code",
   "execution_count": 4,
   "metadata": {},
   "outputs": [
    {
     "name": "stderr",
     "output_type": "stream",
     "text": [
      "[14:44:13] WARNING: not removing hydrogen atom without neighbors\n",
      "[14:44:13] WARNING: not removing hydrogen atom without neighbors\n",
      "[14:44:16] WARNING: not removing hydrogen atom without neighbors\n",
      "[14:44:16] WARNING: not removing hydrogen atom without neighbors\n"
     ]
    }
   ],
   "source": [
    "def count_C_atoms(smiles):\n",
    "    m = Chem.MolFromSmiles(smiles)\n",
    "    atomic_count = defaultdict(lambda : 0)\n",
    "    for atom in m.GetAtoms():\n",
    "        atomic_count[atom.GetAtomicNum()] += 1\n",
    "\n",
    "    return atomic_count[6]\n",
    "\n",
    "get_formula = lambda x: CalcMolFormula(Chem.MolFromSmiles(x))\n",
    "\n",
    "formulae = kcat_data.Smiles.map(get_formula)\n",
    "C_counts = kcat_data.Smiles.map(count_C_atoms)\n",
    "kcat_data['substrate_formula'] = formulae\n",
    "kcat_data['substrate_C_count'] = C_counts\n",
    "kcat_data['kcat_C_per_s'] = kcat_data.substrate_C_count * kcat_data.Value\n",
    "kcat_data.to_csv('../data/enzymes/Li2022_DLKat_kcats_C_counts.csv', index=False)"
   ]
  },
  {
   "cell_type": "code",
   "execution_count": 21,
   "metadata": {},
   "outputs": [
    {
     "data": {
      "image/png": "[encoded data removed]",
      "text/plain": [
       "<Figure size 252x180 with 1 Axes>"
      ]
     },
     "metadata": {
      "needs_background": "light"
     },
     "output_type": "display_data"
    }
   ],
   "source": [
    "plt.figure(figsize=(3.5, 2.5))\n",
    "plt.xscale('log')\n",
    "\n",
    "mask = np.logical_and(kcat_data.Value > 0, kcat_data.kcat_C_per_s > 0)\n",
    "masked = kcat_data[mask]\n",
    "bins = np.logspace(-6, 6, 100)\n",
    "plt.hist(masked.Value, label='reactions/s', bins=bins)\n",
    "plt.hist(masked.kcat_C_per_s, label='C/s', bins=bins, alpha=0.5)\n",
    "plt.xlabel('maximum reaction rate')\n",
    "plt.legend()\n",
    "plt.show()"
   ]
  },
  {
   "cell_type": "code",
   "execution_count": 25,
   "metadata": {},
   "outputs": [
    {
     "name": "stdout",
     "output_type": "stream",
     "text": [
      "geometric mean kcat: 3.51e+00 reactions/s +/- 31 fold\n",
      "geometric mean kcat_C: 3.28e+01 C/s +/- 31 fold\n",
      "ratio of means: 9.36e+00\n"
     ]
    }
   ],
   "source": [
    "# Calculate the average difference between the two notions of kcat\n",
    "gmean_kcat = gmean(masked.Value)\n",
    "gmean_kcat_c_per_s = gmean(masked.kcat_C_per_s)\n",
    "gstdev_kcat = gstd(masked.Value)\n",
    "gstdev_kcat_c_per_s = gstd(masked.kcat_C_per_s)\n",
    "\n",
    "print(f'geometric mean kcat: {gmean_kcat:.2e} reactions/s +/- {gstdev_kcat:.2g} fold')\n",
    "print(f'geometric mean kcat_C: {gmean_kcat_c_per_s:.2e} C/s +/- {gstdev_kcat_c_per_s:.2g} fold')\n",
    "print(f'ratio of means: {gmean_kcat_c_per_s / gmean_kcat:.2e}')"
   ]
  },
  {
   "cell_type": "code",
   "execution_count": 43,
   "metadata": {},
   "outputs": [],
   "source": [
    "enz_data = pd.read_excel('../data/enzymes/BarEven2011.xls', sheet_name='1. KineticTable')\n",
    "enz_data.columns = 'EC1,EC2,EC3,EC4,compound_ID,reaction_ID,direction,organism_ID,publication_ID,T,pH,KM_uM,kcat_s'.split(',')\n",
    "enz_data.head()\n",
    "\n",
    "modules = pd.read_excel('../data/enzymes/BarEven2011.xls', sheet_name='6. Metabolic Modules')\n",
    "modules.columns = 'reaction_ID,module_ID'.split(',')\n",
    "modules = modules.set_index('reaction_ID')\n",
    "\n",
    "module_groups = pd.read_excel('../data/enzymes/BarEven2011.xls', sheet_name='module_groups')\n",
    "module_groups.columns = 'module_ID,module_name,module_type'.split(',')\n",
    "module_groups = module_groups.set_index('module_ID')"
   ]
  },
  {
   "cell_type": "code",
   "execution_count": 51,
   "metadata": {},
   "outputs": [
    {
     "data": {
      "text/plain": [
       "Intermediate                                          152\n",
       "Primary - amino acids, fatty acids and nucleotides     60\n",
       "Secondary                                              46\n",
       "x                                                      28\n",
       "Primary - Carbohydrate & Energy Metabolism             25\n",
       "Name: module_type, dtype: int64"
      ]
     },
     "execution_count": 51,
     "metadata": {},
     "output_type": "execute_result"
    }
   ],
   "source": [
    "module_groups.module_type.value_counts()"
   ]
  },
  {
   "cell_type": "code",
   "execution_count": 44,
   "metadata": {},
   "outputs": [],
   "source": [
    "# Join in module information. Default join is 'left' i.e. keep all rows in enz_data.\n",
    "enz_data = enz_data.join(modules, on='reaction_ID').join(module_groups, on='module_ID')\n",
    "enz_data.to_csv('../data/enzymes/BarEven2011_compact_kinetics.csv', index=False)"
   ]
  },
  {
   "cell_type": "code",
   "execution_count": 72,
   "metadata": {},
   "outputs": [
    {
     "data": {
      "image/png": "[encoded data removed]",
      "text/plain": [
       "<Figure size 504x360 with 6 Axes>"
      ]
     },
     "metadata": {
      "needs_background": "light"
     },
     "output_type": "display_data"
    }
   ],
   "source": [
    "fig, axs = plt.subplots(nrows=2, ncols=3, figsize=(7, 5), sharex='row')\n",
    "\n",
    "notnull = enz_data.kcat_s.notnull()\n",
    "mask_primary_energy = np.logical_and(\n",
    "    notnull, enz_data.module_type == 'Primary - Carbohydrate & Energy Metabolism')\n",
    "mask_primary_biosyn = np.logical_and(\n",
    "    notnull, enz_data.module_type == 'Primary - amino acids, fatty acids and nucleotides')\n",
    "mask_primary_all = np.logical_or(mask_primary_energy, mask_primary_biosyn)\n",
    "mask_secondary = np.logical_and(\n",
    "    notnull, enz_data.module_type == 'Secondary')\n",
    "\n",
    "masks = [mask_primary_energy, mask_primary_biosyn, mask_primary_all]\n",
    "names = ['core energy metabolsm', 'core anabolism', 'all central metabolism']\n",
    "for i, (mask, name) in enumerate(zip(masks, names)):\n",
    "    plt.sca(axs[0, i])\n",
    "    plt.xscale('log')\n",
    "    masked = enz_data[mask]\n",
    "    n_vals = masked.kcat_s.notnull().sum()\n",
    "    bins = np.logspace(\n",
    "        np.log10(masked.kcat_s.min()),\n",
    "        np.log10(masked.kcat_s.max()),\n",
    "        int(n_vals/50))\n",
    "    plt.hist(masked.kcat_s, label=name, bins=bins, edgecolor='k')\n",
    "    plt.title(name)\n",
    "    plt.xlabel('$k_{cat}$ (s$^{-1}$)')\n",
    "\n",
    "for i, (mask, name) in enumerate(zip(masks, names)):\n",
    "    plt.sca(axs[1, i])\n",
    "    plt.xscale('log')\n",
    "    masked = enz_data[mask]\n",
    "    n_vals = masked.KM_uM.notnull().sum()\n",
    "    bins = np.logspace(\n",
    "        np.log10(masked.KM_uM.min()),\n",
    "        np.log10(masked.KM_uM.max()),\n",
    "        int(n_vals/50))\n",
    "    plt.hist(masked.KM_uM, label=name, bins=bins, edgecolor='k')\n",
    "    plt.xlabel('$K_{M}$ ($\\mu$M)')\n",
    "\n",
    "for i in range(2):\n",
    "    plt.sca(axs[i, 0])\n",
    "    plt.ylabel('count')\n",
    "\n",
    "plt.tight_layout()\n",
    "plt.show()"
   ]
  },
  {
   "cell_type": "code",
   "execution_count": 22,
   "metadata": {},
   "outputs": [
    {
     "name": "stderr",
     "output_type": "stream",
     "text": [
      "/var/folders/h9/fvnb4xnn63qg71jx6ncvg62w0000gn/T/ipykernel_42652/3864715398.py:11: SettingWithCopyWarning: \n",
      "A value is trying to be set on a copy of a slice from a DataFrame.\n",
      "Try using .loc[row_indexer,col_indexer] = value instead\n",
      "\n",
      "See the caveats in the documentation: https://pandas.pydata.org/pandas-docs/stable/user_guide/indexing.html#returning-a-view-versus-a-copy\n",
      "  sub_df['log_KM_uM'] = np.log10(sub_df.KM_uM)\n",
      "/opt/miniconda3/lib/python3.8/site-packages/seaborn/categorical.py:1136: UserWarning: You passed a edgecolor/edgecolors ('#000000') for an unfilled marker ('_').  Matplotlib is ignoring the edgecolor in favor of the facecolor.  This behavior may change in the future.\n",
      "  ax.scatter(cat_pos, strip_data, **kws)\n"
     ]
    },
    {
     "data": {
      "image/png": "[encoded data removed]",
      "text/plain": [
       "<Figure size 360x180 with 1 Axes>"
      ]
     },
     "metadata": {
      "needs_background": "light"
     },
     "output_type": "display_data"
    }
   ],
   "source": [
    "cpds = {\n",
    "    2: 'ATP',\n",
    "    8: 'ADP',\n",
    "    3: 'NAD$^+$',\n",
    "    4: 'NADH',\n",
    "    6: 'NADP$^+$',\n",
    "    5: 'NADPH',\n",
    "}\n",
    "cpd_order = sorted(cpds.keys())\n",
    "sub_df = enz_data[enz_data.compound_ID.isin(cpds.keys())]\n",
    "sub_df['log_KM_uM'] = np.log10(sub_df.KM_uM)\n",
    "counts = sub_df.groupby('compound_ID').agg({'KM_uM':'count'}).values.T[0].tolist()\n",
    "medians = sub_df.groupby('compound_ID').agg({'KM_uM':'median', 'log_KM_uM':'median'})\n",
    "\n",
    "@FuncFormatter\n",
    "def my_formatter(x, pos):\n",
    "     return r\"10$^{{{0:0.0f}}}$\".format(x)\n",
    "\n",
    "plt.figure(figsize=(5,2.5))\n",
    "greys = sns.color_palette('Greys', 6)\n",
    "sns.violinplot(data=sub_df, x='compound_ID', y='log_KM_uM', marker='d', s=4, order=cpd_order, color=greys[1], edgecolor='k', linewidth=0.5, jitter=0.3)\n",
    "sns.stripplot(data=medians, x=medians.index, y='log_KM_uM', marker='_', s=10, order=cpd_order, color='k', linewidth=3, jitter=0)\n",
    "\n",
    "xs = np.arange(6)\n",
    "labels = [cpds[i] for i in cpd_order]\n",
    "labels = ['{0}\\nN={1}'.format(l, n) for l,n in zip(labels, counts)]\n",
    "plt.xticks(xs, labels)\n",
    "plt.xlabel('')\n",
    "plt.ylabel('$K_M$ ($\\mu$M)')\n",
    "plt.gca().yaxis.set_major_formatter(my_formatter)\n",
    "\n",
    "\n",
    "plt.tight_layout()\n",
    "plt.savefig('../output/enzyme_KMs.png', dpi=600, facecolor='w')\n",
    "plt.show()"
   ]
  },
  {
   "cell_type": "code",
   "execution_count": 9,
   "metadata": {},
   "outputs": [
    {
     "data": {
      "text/plain": [
       "2980.094925360276"
      ]
     },
     "execution_count": 9,
     "metadata": {},
     "output_type": "execute_result"
    },
    {
     "data": {
      "image/png": "[encoded data removed]",
      "text/plain": [
       "<Figure size 432x288 with 1 Axes>"
      ]
     },
     "metadata": {
      "needs_background": "light"
     },
     "output_type": "display_data"
    }
   ],
   "source": [
    "CA_mask1 = np.logical_and(enz_data.EC1 == 4, enz_data.EC2 == 2)\n",
    "CA_mask2 = np.logical_and(enz_data.EC3 == 1, enz_data.EC4 == 1)\n",
    "CA_mask = np.logical_and(CA_mask1, CA_mask2)\n",
    "CAs = enz_data[CA_mask]\n",
    "\n",
    "plt.figure()\n",
    "plt.yscale('log')\n",
    "sns.stripplot(data=CAs, y='kcat_s', x='compound_ID', hue='direction')\n",
    "plt.axhline(CAs.kcat_s.median(), color='k', ls='--')\n",
    "plt.axhline(gmean(CAs[CAs.kcat_s.notnull()].kcat_s), color='grey', ls='--')\n",
    "\n",
    "CAs.kcat_s.median()\n",
    "gmean(CAs[CAs.kcat_s.notnull()].kcat_s)"
   ]
  },
  {
   "cell_type": "code",
   "execution_count": 10,
   "metadata": {},
   "outputs": [
    {
     "name": "stderr",
     "output_type": "stream",
     "text": [
      "/opt/miniconda3/lib/python3.8/site-packages/openpyxl/worksheet/_reader.py:312: UserWarning: Unknown extension is not supported and will be removed\n",
      "  warn(msg)\n"
     ]
    }
   ],
   "source": [
    "davidi_df = pd.read_excel('../data/enzymes/Davidi2018.xlsx')"
   ]
  },
  {
   "cell_type": "code",
   "execution_count": null,
   "metadata": {},
   "outputs": [],
   "source": []
  }
 ],
 "metadata": {
  "kernelspec": {
   "display_name": "conda.base",
   "language": "python",
   "name": "conda.base"
  },
  "language_info": {
   "codemirror_mode": {
    "name": "ipython",
    "version": 3
   },
   "file_extension": ".py",
   "mimetype": "text/x-python",
   "name": "python",
   "nbconvert_exporter": "python",
   "pygments_lexer": "ipython3",
   "version": "3.8.5"
  }
 },
 "nbformat": 4,
 "nbformat_minor": 4
}
