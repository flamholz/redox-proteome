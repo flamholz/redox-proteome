{
 "cells": [
  {
   "cell_type": "code",
   "execution_count": 1,
   "metadata": {},
   "outputs": [],
   "source": [
    "import numpy as np\n",
    "import pandas as pd\n",
    "import seaborn as sns\n",
    "import re\n",
    "\n",
    "from matplotlib import pyplot as plt"
   ]
  },
  {
   "cell_type": "markdown",
   "metadata": {},
   "source": [
    "# Analyzing NOSC of the Cyanobacterial (PCC6803) proteome\n",
    "We need in order to compare between experiments from different we need absolute quantification of proteins per unit volume. Recent datasets of this quality were collected for by Dan Davidi for Davidi et al. PNAS 2016. \n",
    "\n",
    "# Known issues\n",
    "Using a reference genome for 6803 GT-S, but the data for GT-L. "
   ]
  },
  {
   "cell_type": "code",
   "execution_count": 2,
   "metadata": {},
   "outputs": [],
   "source": [
    "conds_df = pd.read_csv('../data/Zavrel_PCC6803_conditions.csv', dtype=dict(cond_id='str')).set_index('cond_id')\n",
    "raw_abund_df = pd.read_csv('../data/Zavrel_PCC6803_proteome.csv')\n",
    "nosc_df = pd.read_csv('../data/PCC6803_proteome_nosc.csv')"
   ]
  },
  {
   "cell_type": "code",
   "execution_count": 3,
   "metadata": {},
   "outputs": [
    {
     "name": "stdout",
     "output_type": "stream",
     "text": [
      "found abundance data for 1431 protein genes\n",
      "have abundance data for 1684 protein genes\n",
      "6 genes with null IDs\n"
     ]
    }
   ],
   "source": [
    "raw_abund_df['Gene names'].str.split(expand=True)\n",
    "\n",
    "raw_abund_df['Gene names'].str.contains('slr0906')\n",
    "notnull_mask = nosc_df.gene_id.notnull()\n",
    "gids = []\n",
    "idxs = []\n",
    "for gid in nosc_df[notnull_mask].gene_id:\n",
    "    mask = np.where(raw_abund_df['Gene names'].str.contains(gid))[0]\n",
    "    if len(mask) == 1:\n",
    "        idxs.append(mask[0])\n",
    "        gids.append(gid)\n",
    "    elif len(mask) > 1:\n",
    "        print(gid, idxs)\n",
    "\n",
    "print('found abundance data for', len(idxs), 'protein genes')\n",
    "print('have abundance data for', raw_abund_df['Protein names'].size, 'protein genes')\n",
    "print(nosc_df.gene_id.isnull().sum(), 'genes with null IDs')"
   ]
  },
  {
   "cell_type": "code",
   "execution_count": 4,
   "metadata": {},
   "outputs": [
    {
     "data": {
      "text/html": [
       "<div>\n",
       "<style scoped>\n",
       "    .dataframe tbody tr th:only-of-type {\n",
       "        vertical-align: middle;\n",
       "    }\n",
       "\n",
       "    .dataframe tbody tr th {\n",
       "        vertical-align: top;\n",
       "    }\n",
       "\n",
       "    .dataframe thead th {\n",
       "        text-align: right;\n",
       "    }\n",
       "</style>\n",
       "<table border=\"1\" class=\"dataframe\">\n",
       "  <thead>\n",
       "    <tr style=\"text-align: right;\">\n",
       "      <th></th>\n",
       "      <th>red_light_intensity_uE_m_s</th>\n",
       "      <th>growth_rate_hr</th>\n",
       "      <th>spare_media_flow_rate_hr</th>\n",
       "      <th>dry_weight_mg_L</th>\n",
       "      <th>NOSC</th>\n",
       "    </tr>\n",
       "    <tr>\n",
       "      <th>cond_id</th>\n",
       "      <th></th>\n",
       "      <th></th>\n",
       "      <th></th>\n",
       "      <th></th>\n",
       "      <th></th>\n",
       "    </tr>\n",
       "  </thead>\n",
       "  <tbody>\n",
       "    <tr>\n",
       "      <th>27.5</th>\n",
       "      <td>27.5</td>\n",
       "      <td>0.025</td>\n",
       "      <td>0.028</td>\n",
       "      <td>132</td>\n",
       "      <td>-0.133554</td>\n",
       "    </tr>\n",
       "    <tr>\n",
       "      <th>55</th>\n",
       "      <td>55.0</td>\n",
       "      <td>0.039</td>\n",
       "      <td>0.034</td>\n",
       "      <td>166</td>\n",
       "      <td>-0.134911</td>\n",
       "    </tr>\n",
       "    <tr>\n",
       "      <th>110</th>\n",
       "      <td>110.0</td>\n",
       "      <td>0.059</td>\n",
       "      <td>0.048</td>\n",
       "      <td>173</td>\n",
       "      <td>-0.136333</td>\n",
       "    </tr>\n",
       "    <tr>\n",
       "      <th>220</th>\n",
       "      <td>220.0</td>\n",
       "      <td>0.081</td>\n",
       "      <td>0.070</td>\n",
       "      <td>220</td>\n",
       "      <td>-0.136950</td>\n",
       "    </tr>\n",
       "    <tr>\n",
       "      <th>440</th>\n",
       "      <td>440.0</td>\n",
       "      <td>0.104</td>\n",
       "      <td>0.121</td>\n",
       "      <td>221</td>\n",
       "      <td>-0.136758</td>\n",
       "    </tr>\n",
       "    <tr>\n",
       "      <th>660</th>\n",
       "      <td>660.0</td>\n",
       "      <td>0.104</td>\n",
       "      <td>0.118</td>\n",
       "      <td>260</td>\n",
       "      <td>NaN</td>\n",
       "    </tr>\n",
       "    <tr>\n",
       "      <th>880</th>\n",
       "      <td>880.0</td>\n",
       "      <td>0.990</td>\n",
       "      <td>0.089</td>\n",
       "      <td>256</td>\n",
       "      <td>NaN</td>\n",
       "    </tr>\n",
       "    <tr>\n",
       "      <th>1100</th>\n",
       "      <td>1100.0</td>\n",
       "      <td>0.930</td>\n",
       "      <td>0.086</td>\n",
       "      <td>231</td>\n",
       "      <td>-0.139903</td>\n",
       "    </tr>\n",
       "  </tbody>\n",
       "</table>\n",
       "</div>"
      ],
      "text/plain": [
       "         red_light_intensity_uE_m_s  growth_rate_hr  spare_media_flow_rate_hr  \\\n",
       "cond_id                                                                         \n",
       "27.5                           27.5           0.025                     0.028   \n",
       "55                             55.0           0.039                     0.034   \n",
       "110                           110.0           0.059                     0.048   \n",
       "220                           220.0           0.081                     0.070   \n",
       "440                           440.0           0.104                     0.121   \n",
       "660                           660.0           0.104                     0.118   \n",
       "880                           880.0           0.990                     0.089   \n",
       "1100                         1100.0           0.930                     0.086   \n",
       "\n",
       "         dry_weight_mg_L      NOSC  \n",
       "cond_id                             \n",
       "27.5                 132 -0.133554  \n",
       "55                   166 -0.134911  \n",
       "110                  173 -0.136333  \n",
       "220                  220 -0.136950  \n",
       "440                  221 -0.136758  \n",
       "660                  260       NaN  \n",
       "880                  256       NaN  \n",
       "1100                 231 -0.139903  "
      ]
     },
     "execution_count": 4,
     "metadata": {},
     "output_type": "execute_result"
    }
   ],
   "source": [
    "my_nosc_df = nosc_df.set_index('gene_id')\n",
    "\n",
    "data_cols = ['27.5', '55', '110', '220', '440', '1100']\n",
    "# fg/mol = kg/mol * 1e18 fg/kg\n",
    "mws_fg_mol = raw_abund_df.loc[idxs]['Mol. weight [kDa]'] * 1e18 \n",
    "# copies/ul = 6.02e23 copies/mol * fg/ul / (fg/mol)\n",
    "copies_per_ul = raw_abund_df[data_cols].loc[idxs].multiply(6.02e23/mws_fg_mol, axis=0)\n",
    "\n",
    "Ce_total = copies_per_ul.multiply(my_nosc_df.loc[gids].Ce_tot.values, axis=0)\n",
    "NC_total = copies_per_ul.multiply(my_nosc_df.loc[gids].NC.values, axis=0)\n",
    "NOSC = Ce_total.sum()/NC_total.sum()\n",
    "conds_df['NOSC'] = NOSC\n",
    "conds_df"
   ]
  },
  {
   "cell_type": "code",
   "execution_count": 5,
   "metadata": {},
   "outputs": [
    {
     "name": "stderr",
     "output_type": "stream",
     "text": [
      "No artists with labels found to put in legend.  Note that artists whose label start with an underscore are ignored when legend() is called with no argument.\n",
      "No artists with labels found to put in legend.  Note that artists whose label start with an underscore are ignored when legend() is called with no argument.\n"
     ]
    },
    {
     "data": {
      "image/png": "[encoded data removed]",
      "text/plain": [
       "<Figure size 720x288 with 2 Axes>"
      ]
     },
     "metadata": {
      "needs_background": "light"
     },
     "output_type": "display_data"
    }
   ],
   "source": [
    "fig, axs = plt.subplots(figsize=(10,4), ncols=2)\n",
    "\n",
    "for ax, x_col in zip(axs, ['growth_rate_hr', 'red_light_intensity_uE_m_s']):\n",
    "    plt.sca(ax)\n",
    "    sns.scatterplot(data=conds_df, x=x_col, y='NOSC')\n",
    "    plt.legend().set_visible(False)\n",
    "\n",
    "plt.tight_layout()\n",
    "plt.savefig('../output/protein_NOSC_Zavrel_data.png', facecolor='w', dpi=600)\n",
    "plt.show()"
   ]
  },
  {
   "cell_type": "code",
   "execution_count": 8,
   "metadata": {},
   "outputs": [
    {
     "data": {
      "image/png": "[encoded data removed]",
      "text/plain": [
       "<Figure size 198x198 with 1 Axes>"
      ]
     },
     "metadata": {
      "needs_background": "light"
     },
     "output_type": "display_data"
    }
   ],
   "source": [
    "fig, ax = plt.subplots(figsize=(2.75,2.75), ncols=1)\n",
    "plt.sca(ax)\n",
    "pal = sns.color_palette()\n",
    "plt.scatter(conds_df['growth_rate_hr'], conds_df['NOSC'], color=pal[-2], label='Zavrel 2019')\n",
    "\n",
    "plt.xlabel('$\\mu$ (hr$^{-1}$)', fontsize=10)\n",
    "plt.ylabel('protein NOSC', fontsize=10)\n",
    "plt.title('Cyano. (PCC6803)', fontsize=10)\n",
    "plt.legend(loc=1, fontsize=6.5)\n",
    "\n",
    "plt.tight_layout()\n",
    "plt.savefig('../output/PCC6301_proteomics_NOSC.png', facecolor='w', dpi=600)\n",
    "plt.show()"
   ]
  },
  {
   "cell_type": "code",
   "execution_count": null,
   "metadata": {},
   "outputs": [],
   "source": []
  }
 ],
 "metadata": {
  "kernelspec": {
   "display_name": "conda.base",
   "language": "python",
   "name": "conda.base"
  },
  "language_info": {
   "codemirror_mode": {
    "name": "ipython",
    "version": 3
   },
   "file_extension": ".py",
   "mimetype": "text/x-python",
   "name": "python",
   "nbconvert_exporter": "python",
   "pygments_lexer": "ipython3",
   "version": "3.8.5"
  }
 },
 "nbformat": 4,
 "nbformat_minor": 4
}
