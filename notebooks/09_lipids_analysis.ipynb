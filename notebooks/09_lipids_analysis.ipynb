{
 "cells": [
  {
   "cell_type": "code",
   "execution_count": 1,
   "metadata": {},
   "outputs": [],
   "source": [
    "import numpy as np\n",
    "import pandas as pd\n",
    "import seaborn as sns\n",
    "\n",
    "from matplotlib import pyplot as plt"
   ]
  },
  {
   "cell_type": "markdown",
   "metadata": {},
   "source": [
    "TODO: Gill & Suisted 1978 Coli data.\n",
    "TODO: add data from Lewis et al. 1992 on Algae?\n",
    "TODO: add data from Hunter & Rose on Yeast?"
   ]
  },
  {
   "cell_type": "code",
   "execution_count": 2,
   "metadata": {},
   "outputs": [],
   "source": [
    "# Read and analyze Marr et al. Coli fatty-acid data. \n",
    "marr_conds = pd.read_excel('../data/lipids/Coli/Marr1962_JBac.xlsx', sheet_name='conditions', index_col=0)\n",
    "marr_fas = pd.read_excel('../data/lipids/Coli/Marr1962_JBac.xlsx', sheet_name='fatty_acids', index_col=1)\n",
    "marr_data = pd.read_excel('../data/lipids/Coli/Marr1962_JBac.xlsx', sheet_name='tables_1_2_3',\n",
    "                          index_col=1).replace({np.NaN: 0, '': 0}).infer_objects()"
   ]
  },
  {
   "cell_type": "code",
   "execution_count": 3,
   "metadata": {},
   "outputs": [],
   "source": [
    "# Grab the relevant data and convert to a long-form dataframe. Values are in weight percent. \n",
    "marr_data_long = marr_data.reset_index().melt(\n",
    "    id_vars='short_name', value_vars=marr_data.columns[1:], var_name='condition', value_name='weight_percent')\n",
    "\n",
    "# Add NC, MW and NOSC information to the long-form DF\n",
    "NC = marr_fas.loc[marr_data_long.short_name].NC.values\n",
    "mw = marr_fas.loc[marr_data_long.short_name].mw_daltons.values\n",
    "NOSC = marr_fas.loc[marr_data_long.short_name].NOSC.values\n",
    "\n",
    "marr_data_long['NC'] = NC\n",
    "marr_data_long['mw_daltons'] = mw\n",
    "marr_data_long['NOSC'] = NOSC\n",
    "\n",
    "# Calculate the fraction of lipid C atoms on each molecule\n",
    "# Convert to carbon units and then rescale. \n",
    "marr_data_long['C_fraction'] = marr_data_long.weight_percent*NC/mw\n",
    "C_sums = marr_data_long.groupby('condition').sum().C_fraction\n",
    "marr_data_long.C_fraction /= C_sums.loc[marr_data_long.condition].values\n",
    "\n",
    "# Save the long-form version\n",
    "marr_data_long.to_csv('../data/lipids/Coli/Marr1962_JBac_long.csv', index=False)"
   ]
  },
  {
   "cell_type": "code",
   "execution_count": 4,
   "metadata": {},
   "outputs": [
    {
     "data": {
      "text/html": [
       "<div>\n",
       "<style scoped>\n",
       "    .dataframe tbody tr th:only-of-type {\n",
       "        vertical-align: middle;\n",
       "    }\n",
       "\n",
       "    .dataframe tbody tr th {\n",
       "        vertical-align: top;\n",
       "    }\n",
       "\n",
       "    .dataframe thead th {\n",
       "        text-align: right;\n",
       "    }\n",
       "</style>\n",
       "<table border=\"1\" class=\"dataframe\">\n",
       "  <thead>\n",
       "    <tr style=\"text-align: right;\">\n",
       "      <th></th>\n",
       "      <th>lipid_NOSC</th>\n",
       "      <th>growth_rate_hr</th>\n",
       "      <th>temp_C</th>\n",
       "      <th>experiment</th>\n",
       "    </tr>\n",
       "    <tr>\n",
       "      <th>condition</th>\n",
       "      <th></th>\n",
       "      <th></th>\n",
       "      <th></th>\n",
       "      <th></th>\n",
       "    </tr>\n",
       "  </thead>\n",
       "  <tbody>\n",
       "    <tr>\n",
       "      <th>10_C</th>\n",
       "      <td>-1.661453</td>\n",
       "      <td>NaN</td>\n",
       "      <td>10</td>\n",
       "      <td>temp</td>\n",
       "    </tr>\n",
       "    <tr>\n",
       "      <th>10_C_rich</th>\n",
       "      <td>-1.660531</td>\n",
       "      <td>NaN</td>\n",
       "      <td>10</td>\n",
       "      <td>temp_rich</td>\n",
       "    </tr>\n",
       "    <tr>\n",
       "      <th>15_C</th>\n",
       "      <td>-1.664918</td>\n",
       "      <td>NaN</td>\n",
       "      <td>15</td>\n",
       "      <td>temp</td>\n",
       "    </tr>\n",
       "    <tr>\n",
       "      <th>20_C</th>\n",
       "      <td>-1.670111</td>\n",
       "      <td>NaN</td>\n",
       "      <td>20</td>\n",
       "      <td>temp</td>\n",
       "    </tr>\n",
       "    <tr>\n",
       "      <th>20_C_rich</th>\n",
       "      <td>-1.665985</td>\n",
       "      <td>NaN</td>\n",
       "      <td>20</td>\n",
       "      <td>temp_rich</td>\n",
       "    </tr>\n",
       "  </tbody>\n",
       "</table>\n",
       "</div>"
      ],
      "text/plain": [
       "           lipid_NOSC  growth_rate_hr  temp_C experiment\n",
       "condition                                               \n",
       "10_C        -1.661453             NaN      10       temp\n",
       "10_C_rich   -1.660531             NaN      10  temp_rich\n",
       "15_C        -1.664918             NaN      15       temp\n",
       "20_C        -1.670111             NaN      20       temp\n",
       "20_C_rich   -1.665985             NaN      20  temp_rich"
      ]
     },
     "execution_count": 4,
     "metadata": {},
     "output_type": "execute_result"
    }
   ],
   "source": [
    "# Fraction of C atoms x NOSC is related to total valence e- on that lipid.\n",
    "# The sum of these terms is just the total lipid NOSC. \n",
    "marr_data_long['lipid_NOSC'] = marr_data_long.C_fraction * marr_data_long.NOSC\n",
    "\n",
    "# Calculate the per-sample total lipid NOSC (with all the assumptions)\n",
    "total_lipids_nosc = marr_data_long.groupby('condition').agg(dict(lipid_NOSC='sum'))\n",
    "total_lipids_nosc['growth_rate_hr'] = marr_conds.loc[total_lipids_nosc.index].growth_rate_hr.values\n",
    "total_lipids_nosc['temp_C'] = marr_conds.loc[total_lipids_nosc.index].temp_C.values\n",
    "total_lipids_nosc['experiment'] = marr_conds.loc[total_lipids_nosc.index].experiment.values\n",
    "\n",
    "total_lipids_nosc.to_csv('../data/lipids/Coli/Marr1962_total_lipids_NOSC.csv')\n",
    "total_lipids_nosc.head()"
   ]
  },
  {
   "cell_type": "code",
   "execution_count": 5,
   "metadata": {},
   "outputs": [
    {
     "data": {
      "text/plain": [
       "<AxesSubplot: xlabel='growth_rate_hr', ylabel='lipid_NOSC'>"
      ]
     },
     "execution_count": 5,
     "metadata": {},
     "output_type": "execute_result"
    },
    {
     "data": {
      "image/png": "[encoded data removed]",
      "text/plain": [
       "<Figure size 432x288 with 1 Axes>"
      ]
     },
     "metadata": {
      "needs_background": "light"
     },
     "output_type": "display_data"
    }
   ],
   "source": [
    "sns.scatterplot(data=total_lipids_nosc, x='growth_rate_hr', y='lipid_NOSC')"
   ]
  },
  {
   "cell_type": "code",
   "execution_count": 6,
   "metadata": {},
   "outputs": [
    {
     "data": {
      "text/plain": [
       "<AxesSubplot: xlabel='temp_C', ylabel='lipid_NOSC'>"
      ]
     },
     "execution_count": 6,
     "metadata": {},
     "output_type": "execute_result"
    },
    {
     "data": {
      "image/png": "[encoded data removed]",
      "text/plain": [
       "<Figure size 432x288 with 1 Axes>"
      ]
     },
     "metadata": {
      "needs_background": "light"
     },
     "output_type": "display_data"
    }
   ],
   "source": [
    "sns.scatterplot(data=total_lipids_nosc, x='temp_C', y='lipid_NOSC', hue='experiment')"
   ]
  },
  {
   "cell_type": "code",
   "execution_count": null,
   "metadata": {},
   "outputs": [],
   "source": []
  }
 ],
 "metadata": {
  "kernelspec": {
   "display_name": "conda.base",
   "language": "python",
   "name": "conda.base"
  },
  "language_info": {
   "codemirror_mode": {
    "name": "ipython",
    "version": 3
   },
   "file_extension": ".py",
   "mimetype": "text/x-python",
   "name": "python",
   "nbconvert_exporter": "python",
   "pygments_lexer": "ipython3",
   "version": "3.8.5"
  }
 },
 "nbformat": 4,
 "nbformat_minor": 4
}
