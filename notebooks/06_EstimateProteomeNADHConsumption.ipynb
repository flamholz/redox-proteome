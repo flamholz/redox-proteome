{
 "cells": [
  {
   "cell_type": "code",
   "execution_count": 1,
   "metadata": {},
   "outputs": [],
   "source": [
    "import numpy as np\n",
    "import pandas as pd\n",
    "import matplotlib.pyplot as plt\n",
    "\n",
    "from scipy.stats import gmean, linregress"
   ]
  },
  {
   "cell_type": "markdown",
   "metadata": {},
   "source": [
    "# Estimating NADH consumption by proteome synthesis\n",
    "\n",
    "Taking a Bionumbers approach. Assuming that the carbon source is glucose and the proteome has some $-0.16 < Z_C < -0.13$ as estimated from the data. \n",
    "\n",
    "Given these assumptions we just need to know how many protein C atoms are in one gCDW to estimate NADH requirement per gDW of cell. To diagram the calculation, let's assume that cell dry weight is 50% protein. Averaged over the proteome, amino acids have a molar mass of ≈100 g/mol and ≈5 C atoms, or 5/100 = 0.05 mol C per g protein. This gives \n",
    "\n",
    "$0.05 \\frac{mol \\text{ C}}{g \\text{ protein}} \\times 0.5 \\frac{g \\text{ protein}}{gDW} = 2.5\\times 10^{-2} \\frac{mol \\text{ C}}{gDW}$\n",
    "\n",
    "Now if this protein-bound C has $Z_C^{P} ≈ -0.2$, say, then 0.2 electron equivalents = 0.1 NADH are required for its synthesis (NADH is a 2 e- carrier). Moreover, it must be synthesized at a rate at least equaling the growth rate $\\mu$. Hence: \n",
    "\n",
    "$J_{NADH}^{proteome} \\approx \\frac{-Z_C^{P} \\mu}{2} \\times 25 \\frac{mmol \\text{ NADH}}{gDW \\times hr}$\n",
    "\n",
    "Where we multiplied by $10^3$ to switch units to mmol NADH. Plugging in realistic values of $Z_C^{P} ≈ -0.2$ and $\\mu = 0.35 hr^{-1}$ gives \n",
    "\n",
    "$J_{NADH}^{proteome} \\approx 0.9 \\frac{mmol \\text{ NADH}}{gDW \\times hr}$ \n",
    "\n",
    "This value can be compared to an O2 respiratory rate measured for *E. coli* or Yeast. Postma et al. 1989 report a value of ≈10 mmol $O_2$ / gDW / hr at a growth rate of 0.35. $O_2$ accepts 4 e- to form water, meaning that 2 NADH are required per $O_2$. Hence the respiratory rate amounts to ≈20 mmol NADH / gDW / hr when $\\mu = 0.35$. So protein biosynthesis accounts for $\\frac{0.9}{20} ≈ 4.5\\%$ of respiratory NADH consumption. "
   ]
  },
  {
   "cell_type": "code",
   "execution_count": 2,
   "metadata": {},
   "outputs": [
    {
     "name": "stdout",
     "output_type": "stream",
     "text": [
      "AA MW range\n",
      "0.005    110.455164\n",
      "0.995    110.755406\n",
      "dtype: float64\n",
      "AA NC range\n",
      "0.005    4.906187\n",
      "0.995    4.949684\n",
      "dtype: float64\n"
     ]
    }
   ],
   "source": [
    "# Use the E. coli data to estimate the molar mass of a protein-bound amino acid in the proteome\n",
    "chure_mean_df = pd.read_csv('../data/proteomes/Coli/Chure_mean_absolute_measurements.csv')\n",
    "chure_mean_df['tot_mw'] = chure_mean_df.copies_per_cell*chure_mean_df.mw_daltons\n",
    "chure_mean_df['tot_aas'] = chure_mean_df.copies_per_cell*chure_mean_df.num_aas\n",
    "chure_mean_df['tot_Cs'] = chure_mean_df.copies_per_cell*chure_mean_df.NC_per\n",
    "group_sums = chure_mean_df.groupby('dataset,condition'.split(',')).sum()\n",
    "\n",
    "# 99% confidence interval on the MW of a protein-bound amino acid\n",
    "mw_range = group_sums.mw_daltons/group_sums.num_aas\n",
    "print('AA MW range')\n",
    "print(mw_range.quantile([0.005, 0.995]))\n",
    "\n",
    "# 99% confidence interval on the number of C atoms per protein-bound amino acid\n",
    "NC_range = group_sums.NC_per/group_sums.num_aas\n",
    "print('AA NC range')\n",
    "print(NC_range.quantile([0.005, 0.995]))"
   ]
  },
  {
   "cell_type": "code",
   "execution_count": 3,
   "metadata": {},
   "outputs": [
    {
     "data": {
      "image/png": "[encoded data removed]",
      "text/plain": [
       "<Figure size 432x288 with 1 Axes>"
      ]
     },
     "metadata": {
      "needs_background": "light"
     },
     "output_type": "display_data"
    }
   ],
   "source": [
    "# Mass fraction of protein -- double check this range. \n",
    "protein_fraction_range = (0.45, 0.55)\n",
    "# Number of carbons per amino acid\n",
    "aa_nc_range = (4.9, 5.1)\n",
    "# MW of a protein-bound amino acid\n",
    "aa_mw_range = (108, 112)\n",
    "\n",
    "n_samples = int(1e6)\n",
    "protein_fracs = np.random.uniform(\n",
    "        *protein_fraction_range, size=n_samples)\n",
    "aa_ncs = np.random.uniform(\n",
    "        *aa_nc_range, size=n_samples)\n",
    "aa_mws = np.random.uniform(\n",
    "        *aa_mw_range, size=n_samples)\n",
    "\n",
    "molC_per_gDWs = aa_ncs*protein_fracs/aa_mws\n",
    "mmolC_per_gDWs = 1e3*molC_per_gDWs\n",
    "\n",
    "# histogram of the 1e6 estimates\n",
    "plt.hist(mmolC_per_gDWs, bins=100)\n",
    "plt.xlabel('mmol protein C/gDW')\n",
    "plt.ylabel('number of estimates')\n",
    "plt.show()"
   ]
  },
  {
   "cell_type": "code",
   "execution_count": 4,
   "metadata": {},
   "outputs": [
    {
     "name": "stdout",
     "output_type": "stream",
     "text": [
      "mmol protein C / gDW:\n",
      "median estimate: 22.73\n",
      "geometric mean: 22.69\n",
      "95% CI: 20.42-25.10\n",
      "IQR: 21.59-23.86\n"
     ]
    }
   ],
   "source": [
    "pctiles = [2.5, 25, 50, 75, 97.5]\n",
    "pctile_vals = np.percentile(mmolC_per_gDWs, pctiles)\n",
    "print('mmol protein C / gDW:')\n",
    "print('median estimate: {0:.2f}'.format(pctile_vals[2]))\n",
    "\n",
    "print('geometric mean: {0:.2f}'.format(gmean(mmolC_per_gDWs)))\n",
    "print('95% CI: {0:.2f}-{1:.2f}'.format(pctile_vals[0], pctile_vals[-1]))\n",
    "print('IQR: {0:.2f}-{1:.2f}'.format(pctile_vals[1], pctile_vals[-2]))\n",
    "\n",
    "# For later use - present the IQR\n",
    "mmol_protein_C_per_gDW_IQR = pctile_vals[[1,-2]].copy()\n",
    "mmol_protein_C_per_gDW_median = pctile_vals[2]"
   ]
  },
  {
   "cell_type": "code",
   "execution_count": 5,
   "metadata": {},
   "outputs": [],
   "source": [
    "d = pd.DataFrame(dict(percentile=pctiles, value=pctile_vals))\n",
    "d.to_csv('../data/proteomes/Coli/mmol_protC_per_gDW_est.csv', index=False)"
   ]
  },
  {
   "cell_type": "code",
   "execution_count": 6,
   "metadata": {},
   "outputs": [],
   "source": [
    "# Load up the chemostat data and do some unit conversions here. \n",
    "# Kayser et al has specific O2 consumption rates for E. coli in a chemostat\n",
    "kayser_chemostat_df = pd.read_csv('../data/chemostat_data/kayser_chemostat_growth.csv').dropna(how='all')\n",
    "\n",
    "# Postma et al has specific O2 consumption rates for Yeast in a chemostat\n",
    "postma_chemostat_df = pd.read_csv('../data/chemostat_data/postma_chemostat_growth.csv').dropna(how='all')"
   ]
  },
  {
   "cell_type": "code",
   "execution_count": 7,
   "metadata": {},
   "outputs": [],
   "source": [
    "mw_o2 = 32\n",
    "NADH_per_O2 = 2\n",
    "r_o2_mmol_g_h = 1e3*kayser_chemostat_df.r_o2_g_g_h/mw_o2\n",
    "r_o2_mmol_NADH_g_h = r_o2_mmol_g_h*NADH_per_O2\n",
    "\n",
    "kayser_chemostat_df['r_o2_mmol_g_h'] = r_o2_mmol_g_h\n",
    "kayser_chemostat_df['r_o2_mmol_NADH_g_h'] = r_o2_mmol_NADH_g_h\n",
    "\n",
    "qO2_mmol_NADH_gDW_hr = postma_chemostat_df.qO2_mmol_gDW_hr*NADH_per_O2\n",
    "postma_chemostat_df['qO2_mmol_NADH_gDW_hr'] = qO2_mmol_NADH_gDW_hr"
   ]
  },
  {
   "cell_type": "code",
   "execution_count": 8,
   "metadata": {},
   "outputs": [],
   "source": [
    "kayser_chemostat_df.to_csv('../data/chemostat_data/kayser_chemostat_growth_unit_conv.csv', index=False)\n",
    "postma_chemostat_df.to_csv('../data/chemostat_data/postma_chemostat_growth_unit_conv.csv', index=False)"
   ]
  },
  {
   "cell_type": "code",
   "execution_count": 9,
   "metadata": {},
   "outputs": [
    {
     "data": {
      "text/html": [
       "<div>\n",
       "<style scoped>\n",
       "    .dataframe tbody tr th:only-of-type {\n",
       "        vertical-align: middle;\n",
       "    }\n",
       "\n",
       "    .dataframe tbody tr th {\n",
       "        vertical-align: top;\n",
       "    }\n",
       "\n",
       "    .dataframe thead th {\n",
       "        text-align: right;\n",
       "    }\n",
       "</style>\n",
       "<table border=\"1\" class=\"dataframe\">\n",
       "  <thead>\n",
       "    <tr style=\"text-align: right;\">\n",
       "      <th></th>\n",
       "      <th>D_per_h</th>\n",
       "      <th>qO2_mmol_gDW_hr</th>\n",
       "      <th>qCO2_mmol_gDW_hr</th>\n",
       "      <th>qO2_mmol_NADH_gDW_hr</th>\n",
       "    </tr>\n",
       "  </thead>\n",
       "  <tbody>\n",
       "    <tr>\n",
       "      <th>0</th>\n",
       "      <td>0.050</td>\n",
       "      <td>1.10</td>\n",
       "      <td>1.51</td>\n",
       "      <td>2.20</td>\n",
       "    </tr>\n",
       "    <tr>\n",
       "      <th>1</th>\n",
       "      <td>0.100</td>\n",
       "      <td>2.43</td>\n",
       "      <td>2.84</td>\n",
       "      <td>4.86</td>\n",
       "    </tr>\n",
       "    <tr>\n",
       "      <th>2</th>\n",
       "      <td>0.150</td>\n",
       "      <td>3.76</td>\n",
       "      <td>4.21</td>\n",
       "      <td>7.52</td>\n",
       "    </tr>\n",
       "    <tr>\n",
       "      <th>3</th>\n",
       "      <td>0.200</td>\n",
       "      <td>5.10</td>\n",
       "      <td>5.57</td>\n",
       "      <td>10.20</td>\n",
       "    </tr>\n",
       "    <tr>\n",
       "      <th>4</th>\n",
       "      <td>0.250</td>\n",
       "      <td>6.37</td>\n",
       "      <td>6.87</td>\n",
       "      <td>12.74</td>\n",
       "    </tr>\n",
       "    <tr>\n",
       "      <th>5</th>\n",
       "      <td>0.275</td>\n",
       "      <td>6.48</td>\n",
       "      <td>7.48</td>\n",
       "      <td>12.96</td>\n",
       "    </tr>\n",
       "    <tr>\n",
       "      <th>6</th>\n",
       "      <td>0.300</td>\n",
       "      <td>7.18</td>\n",
       "      <td>8.21</td>\n",
       "      <td>14.36</td>\n",
       "    </tr>\n",
       "    <tr>\n",
       "      <th>7</th>\n",
       "      <td>0.325</td>\n",
       "      <td>9.08</td>\n",
       "      <td>9.55</td>\n",
       "      <td>18.16</td>\n",
       "    </tr>\n",
       "    <tr>\n",
       "      <th>8</th>\n",
       "      <td>0.340</td>\n",
       "      <td>9.75</td>\n",
       "      <td>10.37</td>\n",
       "      <td>19.50</td>\n",
       "    </tr>\n",
       "    <tr>\n",
       "      <th>9</th>\n",
       "      <td>0.360</td>\n",
       "      <td>9.74</td>\n",
       "      <td>10.18</td>\n",
       "      <td>19.48</td>\n",
       "    </tr>\n",
       "    <tr>\n",
       "      <th>10</th>\n",
       "      <td>0.380</td>\n",
       "      <td>11.15</td>\n",
       "      <td>11.53</td>\n",
       "      <td>22.30</td>\n",
       "    </tr>\n",
       "    <tr>\n",
       "      <th>11</th>\n",
       "      <td>0.390</td>\n",
       "      <td>10.82</td>\n",
       "      <td>17.91</td>\n",
       "      <td>21.64</td>\n",
       "    </tr>\n",
       "    <tr>\n",
       "      <th>12</th>\n",
       "      <td>0.395</td>\n",
       "      <td>9.84</td>\n",
       "      <td>18.76</td>\n",
       "      <td>19.68</td>\n",
       "    </tr>\n",
       "    <tr>\n",
       "      <th>13</th>\n",
       "      <td>0.400</td>\n",
       "      <td>9.26</td>\n",
       "      <td>20.40</td>\n",
       "      <td>18.52</td>\n",
       "    </tr>\n",
       "    <tr>\n",
       "      <th>14</th>\n",
       "      <td>0.415</td>\n",
       "      <td>9.22</td>\n",
       "      <td>22.98</td>\n",
       "      <td>18.44</td>\n",
       "    </tr>\n",
       "    <tr>\n",
       "      <th>15</th>\n",
       "      <td>0.435</td>\n",
       "      <td>9.48</td>\n",
       "      <td>24.89</td>\n",
       "      <td>18.96</td>\n",
       "    </tr>\n",
       "    <tr>\n",
       "      <th>16</th>\n",
       "      <td>0.440</td>\n",
       "      <td>9.24</td>\n",
       "      <td>30.09</td>\n",
       "      <td>18.48</td>\n",
       "    </tr>\n",
       "    <tr>\n",
       "      <th>17</th>\n",
       "      <td>0.450</td>\n",
       "      <td>10.27</td>\n",
       "      <td>30.29</td>\n",
       "      <td>20.54</td>\n",
       "    </tr>\n",
       "    <tr>\n",
       "      <th>18</th>\n",
       "      <td>0.470</td>\n",
       "      <td>10.58</td>\n",
       "      <td>28.87</td>\n",
       "      <td>21.16</td>\n",
       "    </tr>\n",
       "    <tr>\n",
       "      <th>19</th>\n",
       "      <td>0.480</td>\n",
       "      <td>10.67</td>\n",
       "      <td>30.99</td>\n",
       "      <td>21.34</td>\n",
       "    </tr>\n",
       "  </tbody>\n",
       "</table>\n",
       "</div>"
      ],
      "text/plain": [
       "    D_per_h  qO2_mmol_gDW_hr  qCO2_mmol_gDW_hr  qO2_mmol_NADH_gDW_hr\n",
       "0     0.050             1.10              1.51                  2.20\n",
       "1     0.100             2.43              2.84                  4.86\n",
       "2     0.150             3.76              4.21                  7.52\n",
       "3     0.200             5.10              5.57                 10.20\n",
       "4     0.250             6.37              6.87                 12.74\n",
       "5     0.275             6.48              7.48                 12.96\n",
       "6     0.300             7.18              8.21                 14.36\n",
       "7     0.325             9.08              9.55                 18.16\n",
       "8     0.340             9.75             10.37                 19.50\n",
       "9     0.360             9.74             10.18                 19.48\n",
       "10    0.380            11.15             11.53                 22.30\n",
       "11    0.390            10.82             17.91                 21.64\n",
       "12    0.395             9.84             18.76                 19.68\n",
       "13    0.400             9.26             20.40                 18.52\n",
       "14    0.415             9.22             22.98                 18.44\n",
       "15    0.435             9.48             24.89                 18.96\n",
       "16    0.440             9.24             30.09                 18.48\n",
       "17    0.450            10.27             30.29                 20.54\n",
       "18    0.470            10.58             28.87                 21.16\n",
       "19    0.480            10.67             30.99                 21.34"
      ]
     },
     "execution_count": 9,
     "metadata": {},
     "output_type": "execute_result"
    }
   ],
   "source": [
    "postma_chemostat_df"
   ]
  },
  {
   "cell_type": "code",
   "execution_count": 10,
   "metadata": {},
   "outputs": [],
   "source": [
    "mask = np.logical_and(kayser_chemostat_df.D_per_h.notnull(), kayser_chemostat_df.r_o2_mmol_NADH_g_h.notnull())\n",
    "masked_kayser = kayser_chemostat_df[mask]\n",
    "kayser_reg = linregress(masked_kayser.D_per_h, masked_kayser.r_o2_mmol_NADH_g_h)\n",
    "postma_reg = linregress(postma_chemostat_df.D_per_h, postma_chemostat_df.qO2_mmol_NADH_gDW_hr)\n",
    "\n",
    "all_D = np.concatenate([masked_kayser.D_per_h.values, postma_chemostat_df.D_per_h.values])\n",
    "all_resp_NADH_gDW_hr = np.concatenate([\n",
    "    masked_kayser.r_o2_mmol_NADH_g_h.values, postma_chemostat_df.qO2_mmol_NADH_gDW_hr.values])\n",
    "all_reg = linregress(all_D, all_resp_NADH_gDW_hr)\n",
    "\n",
    "_l_get_dict = lambda r: dict(slope=r.slope, intercept=r.intercept,\n",
    "                             R=r.rvalue, P=r.pvalue, slope_stderr=r.stderr,\n",
    "                             int_stderr=r.intercept_stderr)\n",
    "postma_reg_dict = _l_get_dict(postma_reg)\n",
    "kayser_reg_dict = _l_get_dict(kayser_reg)\n",
    "both_reg_dict = _l_get_dict(all_reg)\n",
    "\n",
    "# Save the fits as a DF\n",
    "pd.DataFrame(dict(postma_fit=postma_reg_dict,\n",
    "                  kayser_fit=kayser_reg_dict,\n",
    "                  both_fit=both_reg_dict)).to_csv(\n",
    "    '../data/chemostat_data/respiratory_NADH_consumption_fits.csv')"
   ]
  },
  {
   "cell_type": "code",
   "execution_count": 11,
   "metadata": {},
   "outputs": [
    {
     "data": {
      "image/png": "[encoded data removed]",
      "text/plain": [
       "<Figure size 432x180 with 2 Axes>"
      ]
     },
     "metadata": {
      "needs_background": "light"
     },
     "output_type": "display_data"
    }
   ],
   "source": [
    "# plot the fits for a sanity check\n",
    "fig, axs = plt.subplots(nrows=1, ncols=2, sharey=True, figsize=(6,2.5))\n",
    "plt.sca(axs[0])\n",
    "plt.scatter(masked_kayser.D_per_h, masked_kayser.r_o2_mmol_NADH_g_h)\n",
    "xs = np.arange(0, 0.51, 0.1)\n",
    "pred_ys = kayser_reg.slope*xs + kayser_reg.intercept\n",
    "plt.plot(xs, pred_ys, ls='--', color='grey')\n",
    "\n",
    "plt.sca(axs[1])\n",
    "plt.scatter(postma_chemostat_df.D_per_h, postma_chemostat_df.qO2_mmol_NADH_gDW_hr)\n",
    "pred_ys = postma_reg.slope*xs + postma_reg.intercept\n",
    "plt.plot(xs, pred_ys, ls='--', color='grey')\n",
    "\n",
    "plt.tight_layout()\n",
    "plt.show()"
   ]
  },
  {
   "cell_type": "code",
   "execution_count": null,
   "metadata": {},
   "outputs": [],
   "source": []
  }
 ],
 "metadata": {
  "kernelspec": {
   "display_name": "conda.base",
   "language": "python",
   "name": "conda.base"
  },
  "language_info": {
   "codemirror_mode": {
    "name": "ipython",
    "version": 3
   },
   "file_extension": ".py",
   "mimetype": "text/x-python",
   "name": "python",
   "nbconvert_exporter": "python",
   "pygments_lexer": "ipython3",
   "version": "3.8.5"
  }
 },
 "nbformat": 4,
 "nbformat_minor": 4
}
