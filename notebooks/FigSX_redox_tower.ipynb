{
 "cells": [
  {
   "cell_type": "code",
   "execution_count": 1,
   "metadata": {},
   "outputs": [],
   "source": [
    "import numpy as np\n",
    "import pandas as pd\n",
    "import seaborn as sns\n",
    "from matplotlib import pyplot as plt\n",
    "\n",
    "import viz\n",
    "\n",
    "colors = viz.plotting_style()\n",
    "lin_colors = colors.values()\n",
    "plt.style.use('style.mpl')\n",
    "\n",
    "color_order = ['green', 'blue', 'red', 'purple', 'yellow', 'dark_green', 'dark_blue', 'dark_brown']\n",
    "lin_colors = [colors[c] for c in color_order]\n",
    "greys = sns.color_palette('Greys', 6)"
   ]
  },
  {
   "cell_type": "code",
   "execution_count": 2,
   "metadata": {},
   "outputs": [
    {
     "data": {
      "text/plain": [
       "{'green': '#7AA974',\n",
       " 'light_green': '#BFD598',\n",
       " 'pale_green': '#DCECCB',\n",
       " 'yellow': '#EAC264',\n",
       " 'light_yellow': '#F3DAA9',\n",
       " 'pale_yellow': '#FFEDCE',\n",
       " 'blue': '#738FC1',\n",
       " 'light_blue': '#A9BFE3',\n",
       " 'pale_blue': '#C9D7EE',\n",
       " 'red': '#D56C55',\n",
       " 'light_red': '#E8B19D',\n",
       " 'pale_red': '#F1D4C9',\n",
       " 'purple': '#AB85AC',\n",
       " 'light_purple': '#D4C2D9',\n",
       " 'dark_green': '#7E9D90',\n",
       " 'dark_brown': '#905426',\n",
       " 'dark_blue': '#535D87'}"
      ]
     },
     "execution_count": 2,
     "metadata": {},
     "output_type": "execute_result"
    }
   ],
   "source": [
    "colors"
   ]
  },
  {
   "cell_type": "code",
   "execution_count": 3,
   "metadata": {},
   "outputs": [
    {
     "data": {
      "text/html": [
       "<div>\n",
       "<style scoped>\n",
       "    .dataframe tbody tr th:only-of-type {\n",
       "        vertical-align: middle;\n",
       "    }\n",
       "\n",
       "    .dataframe tbody tr th {\n",
       "        vertical-align: top;\n",
       "    }\n",
       "\n",
       "    .dataframe thead th {\n",
       "        text-align: right;\n",
       "    }\n",
       "</style>\n",
       "<table border=\"1\" class=\"dataframe\">\n",
       "  <thead>\n",
       "    <tr style=\"text-align: right;\">\n",
       "      <th></th>\n",
       "      <th>E0_prime</th>\n",
       "      <th>E0_m</th>\n",
       "      <th>n_e</th>\n",
       "      <th>pretty_name</th>\n",
       "    </tr>\n",
       "  </thead>\n",
       "  <tbody>\n",
       "    <tr>\n",
       "      <th>glucose/CO2</th>\n",
       "      <td>-0.44</td>\n",
       "      <td>-0.477</td>\n",
       "      <td>24</td>\n",
       "      <td>glucose/CO$_2$ (24 e$^-$)</td>\n",
       "    </tr>\n",
       "    <tr>\n",
       "      <th>NADH/NAD+</th>\n",
       "      <td>-0.343</td>\n",
       "      <td>-0.343</td>\n",
       "      <td>2</td>\n",
       "      <td>NADH/NAD+ (2 e$^-$)</td>\n",
       "    </tr>\n",
       "    <tr>\n",
       "      <th>lactate/pyruvate</th>\n",
       "      <td>-0.22</td>\n",
       "      <td>-0.22</td>\n",
       "      <td>2</td>\n",
       "      <td>lactate/pyruvate (2 e$^-$)</td>\n",
       "    </tr>\n",
       "    <tr>\n",
       "      <th>H2/H+</th>\n",
       "      <td>0.0</td>\n",
       "      <td>0.0</td>\n",
       "      <td>2</td>\n",
       "      <td>H$_2$/H$^+$ (2 e$^-$)</td>\n",
       "    </tr>\n",
       "    <tr>\n",
       "      <th>NO3-/N2</th>\n",
       "      <td>0.692</td>\n",
       "      <td>0.675</td>\n",
       "      <td>10</td>\n",
       "      <td>2 NO$_3^-$ / N$_2$ (10 e$^-$)</td>\n",
       "    </tr>\n",
       "    <tr>\n",
       "      <th>H2O/O2</th>\n",
       "      <td>0.825</td>\n",
       "      <td>0.78</td>\n",
       "      <td>4</td>\n",
       "      <td>2 H$_2$O/O$_2$ (4 e$^-$)</td>\n",
       "    </tr>\n",
       "  </tbody>\n",
       "</table>\n",
       "</div>"
      ],
      "text/plain": [
       "                 E0_prime   E0_m n_e                    pretty_name\n",
       "glucose/CO2         -0.44 -0.477  24      glucose/CO$_2$ (24 e$^-$)\n",
       "NADH/NAD+          -0.343 -0.343   2            NADH/NAD+ (2 e$^-$)\n",
       "lactate/pyruvate    -0.22  -0.22   2     lactate/pyruvate (2 e$^-$)\n",
       "H2/H+                 0.0    0.0   2          H$_2$/H$^+$ (2 e$^-$)\n",
       "NO3-/N2             0.692  0.675  10  2 NO$_3^-$ / N$_2$ (10 e$^-$)\n",
       "H2O/O2              0.825   0.78   4       2 H$_2$O/O$_2$ (4 e$^-$)"
      ]
     },
     "execution_count": 3,
     "metadata": {},
     "output_type": "execute_result"
    }
   ],
   "source": [
    "# Values from eQuilibrator web interface\n",
    "redox_dict = {\n",
    "    'H2O/O2': {\n",
    "        'E0_prime': 0.825,\n",
    "        'E0_m': 0.780,\n",
    "        'n_e': 4,\n",
    "        'pretty_name': '2 H$_2$O/O$_2$ (4 e$^-$)'\n",
    "    },\n",
    "    'glucose/CO2': {\n",
    "        'E0_prime': -0.44,\n",
    "        'E0_m': -0.477,\n",
    "        'n_e': 24,\n",
    "        'pretty_name': 'glucose/CO$_2$ (24 e$^-$)'\n",
    "    },\n",
    "    'lactate/pyruvate': {\n",
    "        'E0_prime': -0.22,\n",
    "        'E0_m': -0.22,\n",
    "        'n_e': 2,\n",
    "        'pretty_name': 'lactate/pyruvate (2 e$^-$)'\n",
    "    },\n",
    "    'NADH/NAD+': {\n",
    "        'E0_prime': -0.343,\n",
    "        'E0_m': -0.343,\n",
    "        'n_e': 2,\n",
    "        'pretty_name': 'NADH/NAD+ (2 e$^-$)'\n",
    "    },\n",
    "    'NO3-/N2': {\n",
    "        'E0_prime': 0.692,\n",
    "        'E0_m': 0.675,\n",
    "        'n_e': 10,\n",
    "        'pretty_name': '2 NO$_3^-$ / N$_2$ (10 e$^-$)'\n",
    "    },\n",
    "    'H2/H+': {\n",
    "        'E0_prime': 0.0,\n",
    "        'E0_m': 0.0,\n",
    "        'n_e': 2,\n",
    "        'pretty_name': 'H$_2$/H$^+$ (2 e$^-$)'\n",
    "    },\n",
    "}\n",
    "\n",
    "redox_df = pd.DataFrame(redox_dict).T\n",
    "redox_df = redox_df.sort_values('E0_prime', ascending=True)\n",
    "redox_df"
   ]
  },
  {
   "cell_type": "code",
   "execution_count": 4,
   "metadata": {},
   "outputs": [
    {
     "data": {
      "image/png": "[encoded data removed]",
      "text/plain": [
       "<Figure size 144x432 with 1 Axes>"
      ]
     },
     "metadata": {
      "needs_background": "light"
     },
     "output_type": "display_data"
    }
   ],
   "source": [
    "# Make a redox tower from the df \n",
    "fig = plt.figure(figsize=(2, 6))\n",
    "# for each potential, write the pretty name on the plot at that y-position\n",
    "for i, row in redox_df.iterrows():\n",
    "    plt.text(0.05, row['E0_prime'], row['pretty_name'], ha='left', va='center', fontsize=9)\n",
    "\n",
    "# draw an arrow from pyruvate/lactate to NO3-/N2\n",
    "arrow_params = {'length_includes_head': True, 'shape': 'full', 'head_starts_at_zero': True,\n",
    "                \"fc\": greys[-1], \"ec\": greys[-1], \"width\": 0.01, \"head_width\": 0.1, \"head_length\": 0.05}\n",
    "plt.arrow(0.65, -0.22, 0.0, 0.85, **arrow_params)\n",
    "# annotate the arrow \"favorable e- flow\"\n",
    "plt.text(0.73, 0.2, \"example of a favorable e$^-$ flow\",\n",
    "         ha='center', va='center', fontsize=9, rotation=90)\n",
    "\n",
    "# scale of ATP hydrolysis at 250 mV -- line with caps at both ends\n",
    "plt.plot([0.07, 0.07], [0.2, 0.45], color=colors['dark_blue'], lw=2)\n",
    "plt.text(0.15, 0.325, \"ATP scale (2 e$^{-}$)\", ha='center', va='center', rotation=90, fontsize=9)\n",
    "\n",
    "# despine everything except the y-axis\n",
    "sns.despine(ax=plt.gca(), bottom=True, left=False, right=True, top=True)\n",
    "# hide the x ticks, invert the y-axis\n",
    "plt.xticks([], [])\n",
    "plt.xlim(0,1)\n",
    "yticks = np.round(redox_df.E0_prime.values.tolist(), 2)\n",
    "plt.yticks(yticks, fontsize=9)\n",
    "plt.ylabel(\"standard redox potential, $E'^{\\circ}$ (V)\", fontsize=10)\n",
    "plt.ylim(-0.5, 1.0)\n",
    "plt.gca().invert_yaxis()\n",
    "\n",
    "plt.savefig('../output/FigSX_redox_tower.pdf', dpi=300, bbox_inches='tight')\n",
    "plt.show()"
   ]
  },
  {
   "cell_type": "code",
   "execution_count": null,
   "metadata": {},
   "outputs": [],
   "source": []
  }
 ],
 "metadata": {
  "kernelspec": {
   "display_name": "conda.base",
   "language": "python",
   "name": "conda.base"
  },
  "language_info": {
   "codemirror_mode": {
    "name": "ipython",
    "version": 3
   },
   "file_extension": ".py",
   "mimetype": "text/x-python",
   "name": "python",
   "nbconvert_exporter": "python",
   "pygments_lexer": "ipython3",
   "version": "3.8.5"
  }
 },
 "nbformat": 4,
 "nbformat_minor": 2
}
