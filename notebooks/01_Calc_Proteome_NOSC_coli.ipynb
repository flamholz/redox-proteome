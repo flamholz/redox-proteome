{
 "cells": [
  {
   "cell_type": "code",
   "execution_count": 1,
   "metadata": {},
   "outputs": [],
   "source": [
    "import numpy as np\n",
    "import pandas as pd\n",
    "import seaborn as sns\n",
    "\n",
    "from adjustText import adjust_text\n",
    "from collections import Counter\n",
    "from matplotlib import pyplot as plt\n",
    "from util import calc_proteome_nosc"
   ]
  },
  {
   "cell_type": "code",
   "execution_count": 2,
   "metadata": {},
   "outputs": [
    {
     "data": {
      "text/html": [
       "<div>\n",
       "<style scoped>\n",
       "    .dataframe tbody tr th:only-of-type {\n",
       "        vertical-align: middle;\n",
       "    }\n",
       "\n",
       "    .dataframe tbody tr th {\n",
       "        vertical-align: top;\n",
       "    }\n",
       "\n",
       "    .dataframe thead th {\n",
       "        text-align: right;\n",
       "    }\n",
       "</style>\n",
       "<table border=\"1\" class=\"dataframe\">\n",
       "  <thead>\n",
       "    <tr style=\"text-align: right;\">\n",
       "      <th></th>\n",
       "      <th>full_name</th>\n",
       "      <th>short_name</th>\n",
       "      <th>NC</th>\n",
       "      <th>Formula</th>\n",
       "      <th>NOSC</th>\n",
       "      <th>MW</th>\n",
       "    </tr>\n",
       "    <tr>\n",
       "      <th>letter_code</th>\n",
       "      <th></th>\n",
       "      <th></th>\n",
       "      <th></th>\n",
       "      <th></th>\n",
       "      <th></th>\n",
       "      <th></th>\n",
       "    </tr>\n",
       "  </thead>\n",
       "  <tbody>\n",
       "    <tr>\n",
       "      <th>A</th>\n",
       "      <td>Alanine</td>\n",
       "      <td>{ALA}</td>\n",
       "      <td>3</td>\n",
       "      <td>C3H7NO2</td>\n",
       "      <td>0.00</td>\n",
       "      <td>89.0935</td>\n",
       "    </tr>\n",
       "    <tr>\n",
       "      <th>R</th>\n",
       "      <td>Arginine</td>\n",
       "      <td>{ARG}</td>\n",
       "      <td>6</td>\n",
       "      <td>C6H15N4O2+</td>\n",
       "      <td>0.33</td>\n",
       "      <td>174.2017</td>\n",
       "    </tr>\n",
       "    <tr>\n",
       "      <th>N</th>\n",
       "      <td>Asparagine</td>\n",
       "      <td>{ASN}</td>\n",
       "      <td>4</td>\n",
       "      <td>C4H8N2O3</td>\n",
       "      <td>1.00</td>\n",
       "      <td>132.1184</td>\n",
       "    </tr>\n",
       "    <tr>\n",
       "      <th>D</th>\n",
       "      <td>Aspartate</td>\n",
       "      <td>{ASP}</td>\n",
       "      <td>4</td>\n",
       "      <td>C4H6NO4−</td>\n",
       "      <td>1.00</td>\n",
       "      <td>133.1032</td>\n",
       "    </tr>\n",
       "    <tr>\n",
       "      <th>C</th>\n",
       "      <td>Cysteine</td>\n",
       "      <td>{CYS}</td>\n",
       "      <td>3</td>\n",
       "      <td>C3H7NO2S</td>\n",
       "      <td>0.67</td>\n",
       "      <td>121.1590</td>\n",
       "    </tr>\n",
       "  </tbody>\n",
       "</table>\n",
       "</div>"
      ],
      "text/plain": [
       "              full_name short_name  NC     Formula  NOSC        MW\n",
       "letter_code                                                       \n",
       "A               Alanine      {ALA}   3     C3H7NO2  0.00   89.0935\n",
       "R              Arginine      {ARG}   6  C6H15N4O2+  0.33  174.2017\n",
       "N            Asparagine      {ASN}   4    C4H8N2O3  1.00  132.1184\n",
       "D             Aspartate      {ASP}   4    C4H6NO4−  1.00  133.1032\n",
       "C              Cysteine      {CYS}   3    C3H7NO2S  0.67  121.1590"
      ]
     },
     "execution_count": 2,
     "metadata": {},
     "output_type": "execute_result"
    }
   ],
   "source": [
    "# Load amino acid NOSC table\n",
    "aa_nosc_df = pd.read_csv('../data/aa_nosc.csv').set_index('letter_code')\n",
    "aa_nosc_df.head()"
   ]
  },
  {
   "cell_type": "code",
   "execution_count": 3,
   "metadata": {},
   "outputs": [
    {
     "data": {
      "text/html": [
       "<div>\n",
       "<style scoped>\n",
       "    .dataframe tbody tr th:only-of-type {\n",
       "        vertical-align: middle;\n",
       "    }\n",
       "\n",
       "    .dataframe tbody tr th {\n",
       "        vertical-align: top;\n",
       "    }\n",
       "\n",
       "    .dataframe thead th {\n",
       "        text-align: right;\n",
       "    }\n",
       "</style>\n",
       "<table border=\"1\" class=\"dataframe\">\n",
       "  <thead>\n",
       "    <tr style=\"text-align: right;\">\n",
       "      <th></th>\n",
       "      <th>locus_tag</th>\n",
       "      <th>aaseq</th>\n",
       "      <th>NOSC</th>\n",
       "      <th>NC</th>\n",
       "      <th>Ce_tot</th>\n",
       "      <th>MW</th>\n",
       "      <th>naa</th>\n",
       "      <th>gene_name</th>\n",
       "      <th>gene_id</th>\n",
       "      <th>inner_membrane</th>\n",
       "      <th>outer_membrane</th>\n",
       "      <th>membrane_protein</th>\n",
       "    </tr>\n",
       "  </thead>\n",
       "  <tbody>\n",
       "    <tr>\n",
       "      <th>0</th>\n",
       "      <td>b0001</td>\n",
       "      <td>MKRISTTITTTITITTGNGAG</td>\n",
       "      <td>-0.180112</td>\n",
       "      <td>89</td>\n",
       "      <td>-16.03</td>\n",
       "      <td>2138.4426</td>\n",
       "      <td>21</td>\n",
       "      <td>thrL</td>\n",
       "      <td>None</td>\n",
       "      <td>False</td>\n",
       "      <td>False</td>\n",
       "      <td>False</td>\n",
       "    </tr>\n",
       "    <tr>\n",
       "      <th>1</th>\n",
       "      <td>b0002</td>\n",
       "      <td>MRVLKFGGTSVANAERFLRVADILESNARQGQVATVLSAPAKITNH...</td>\n",
       "      <td>-0.152033</td>\n",
       "      <td>3940</td>\n",
       "      <td>-599.01</td>\n",
       "      <td>89119.2202</td>\n",
       "      <td>820</td>\n",
       "      <td>thrA</td>\n",
       "      <td>None</td>\n",
       "      <td>False</td>\n",
       "      <td>False</td>\n",
       "      <td>False</td>\n",
       "    </tr>\n",
       "    <tr>\n",
       "      <th>2</th>\n",
       "      <td>b0003</td>\n",
       "      <td>MVKVYAPASSANMSVGFDVLGAAVTPVDGALLGDVVTVEAAETFSL...</td>\n",
       "      <td>-0.131663</td>\n",
       "      <td>1485</td>\n",
       "      <td>-195.52</td>\n",
       "      <td>33623.2905</td>\n",
       "      <td>310</td>\n",
       "      <td>thrB</td>\n",
       "      <td>None</td>\n",
       "      <td>False</td>\n",
       "      <td>False</td>\n",
       "      <td>False</td>\n",
       "    </tr>\n",
       "    <tr>\n",
       "      <th>3</th>\n",
       "      <td>b0004</td>\n",
       "      <td>MKLYNLKDHNEQVSFAQAVTQGLGKNQGLFFPHDLPEFSLTEIDEM...</td>\n",
       "      <td>-0.167524</td>\n",
       "      <td>2120</td>\n",
       "      <td>-355.15</td>\n",
       "      <td>47113.2536</td>\n",
       "      <td>428</td>\n",
       "      <td>thrC</td>\n",
       "      <td>None</td>\n",
       "      <td>False</td>\n",
       "      <td>False</td>\n",
       "      <td>False</td>\n",
       "    </tr>\n",
       "    <tr>\n",
       "      <th>4</th>\n",
       "      <td>b0005</td>\n",
       "      <td>MKKMQSIVLALSLVLVAPMAAQAAEITLVPSVKLQIGDRDNRGYYW...</td>\n",
       "      <td>-0.030759</td>\n",
       "      <td>514</td>\n",
       "      <td>-15.81</td>\n",
       "      <td>11354.7994</td>\n",
       "      <td>98</td>\n",
       "      <td>yaaX</td>\n",
       "      <td>None</td>\n",
       "      <td>False</td>\n",
       "      <td>False</td>\n",
       "      <td>False</td>\n",
       "    </tr>\n",
       "  </tbody>\n",
       "</table>\n",
       "</div>"
      ],
      "text/plain": [
       "  locus_tag                                              aaseq      NOSC  \\\n",
       "0     b0001                              MKRISTTITTTITITTGNGAG -0.180112   \n",
       "1     b0002  MRVLKFGGTSVANAERFLRVADILESNARQGQVATVLSAPAKITNH... -0.152033   \n",
       "2     b0003  MVKVYAPASSANMSVGFDVLGAAVTPVDGALLGDVVTVEAAETFSL... -0.131663   \n",
       "3     b0004  MKLYNLKDHNEQVSFAQAVTQGLGKNQGLFFPHDLPEFSLTEIDEM... -0.167524   \n",
       "4     b0005  MKKMQSIVLALSLVLVAPMAAQAAEITLVPSVKLQIGDRDNRGYYW... -0.030759   \n",
       "\n",
       "     NC  Ce_tot          MW  naa gene_name gene_id  inner_membrane  \\\n",
       "0    89  -16.03   2138.4426   21      thrL    None           False   \n",
       "1  3940 -599.01  89119.2202  820      thrA    None           False   \n",
       "2  1485 -195.52  33623.2905  310      thrB    None           False   \n",
       "3  2120 -355.15  47113.2536  428      thrC    None           False   \n",
       "4   514  -15.81  11354.7994   98      yaaX    None           False   \n",
       "\n",
       "   outer_membrane  membrane_protein  \n",
       "0           False             False  \n",
       "1           False             False  \n",
       "2           False             False  \n",
       "3           False             False  \n",
       "4           False             False  "
      ]
     },
     "execution_count": 3,
     "metadata": {},
     "output_type": "execute_result"
    }
   ],
   "source": [
    "nosc_df = calc_proteome_nosc('../data/genomes/MG1655.gb', aa_nosc_df)\n",
    "nosc_df.to_csv('../data/MG1655_proteome_nosc.csv', index=False)\n",
    "nosc_df['membrane_protein'] = np.logical_or(nosc_df.inner_membrane, nosc_df.outer_membrane)\n",
    "nosc_df.head()"
   ]
  },
  {
   "cell_type": "code",
   "execution_count": 21,
   "metadata": {},
   "outputs": [
    {
     "data": {
      "image/png": "[encoded data removed]",
      "text/plain": [
       "<Figure size 504x180 with 3 Axes>"
      ]
     },
     "metadata": {
      "needs_background": "light"
     },
     "output_type": "display_data"
    }
   ],
   "source": [
    "# Histogram of protein NOSC in E. coli\n",
    "fig, axs = plt.subplots(ncols=3, figsize=(7,2.5), sharey=True)\n",
    "plt.sca(axs[0])\n",
    "mask = nosc_df.membrane_protein\n",
    "plt.hist(nosc_df.NC, color='grey', bins=100, lw=0.3, edgecolor='k', alpha=0.7, label='all coding sequences')\n",
    "plt.hist(nosc_df[mask].NC, color='orange', bins=50, lw=0.3, edgecolor='k', alpha=0.7, label='membrane proteins')\n",
    "plt.axvline(300*5, lw=.75, ls='--', color='k', label='naive calc.')\n",
    "\n",
    "plt.ylabel('# of protein-coding genes')\n",
    "plt.xlabel('number of C atoms N$_C$')\n",
    "\n",
    "xmin, xmax = plt.xlim()\n",
    "plt.xlim(xmin, 6000)\n",
    "\n",
    "plt.legend(loc=1, fontsize=7)\n",
    "\n",
    "plt.sca(axs[1])\n",
    "mask = nosc_df.membrane_protein\n",
    "plt.hist(nosc_df.NOSC, color='grey', bins=100, lw=0.3, edgecolor='k', alpha=0.7, label='all coding sequences')\n",
    "plt.hist(nosc_df[mask].NOSC, color='orange', bins=50, lw=0.3, edgecolor='k', alpha=0.7, label='membrane proteins')\n",
    "plt.axvline(-0.16, lw=.75, ls='--', color='k')\n",
    "\n",
    "plt.xlabel('protein NOSC', fontsize=10)\n",
    "\n",
    "plt.sca(axs[2])\n",
    "\n",
    "plt.hist(-nosc_df.Ce_tot, color='grey', bins=100, lw=0.3, edgecolor='k', alpha=0.7, label='all coding sequences')\n",
    "plt.hist(-nosc_df[mask].Ce_tot, color='orange', bins=100, lw=0.3, edgecolor='k', alpha=0.7, label='membrane proteins')\n",
    "plt.axvline(0.16*300*5, lw=.75, ls='--', color='k')\n",
    "\n",
    "plt.xlabel('C-bound $e^{-}$ (-NOSC$\\\\times$N$_C$)', fontsize=10)\n",
    "\n",
    "plt.tight_layout()\n",
    "plt.savefig('../output/EC_coding_seq_dists.png', facecolor='w', dpi=600)\n",
    "plt.show()"
   ]
  },
  {
   "cell_type": "code",
   "execution_count": 5,
   "metadata": {},
   "outputs": [
    {
     "data": {
      "text/plain": [
       "<AxesSubplot: xlabel='Ce_tot', ylabel='Count'>"
      ]
     },
     "execution_count": 5,
     "metadata": {},
     "output_type": "execute_result"
    },
    {
     "data": {
      "image/png": "[encoded data removed]",
      "text/plain": [
       "<Figure size 432x288 with 1 Axes>"
      ]
     },
     "metadata": {
      "needs_background": "light"
     },
     "output_type": "display_data"
    }
   ],
   "source": [
    "# Hist. of total formal carbon-bound e- on proteins\n",
    "plt.figure()\n",
    "sns.histplot(data=nosc_df, x='Ce_tot')"
   ]
  },
  {
   "cell_type": "code",
   "execution_count": 6,
   "metadata": {},
   "outputs": [
    {
     "data": {
      "text/plain": [
       "<AxesSubplot: xlabel='MW', ylabel='Count'>"
      ]
     },
     "execution_count": 6,
     "metadata": {},
     "output_type": "execute_result"
    },
    {
     "data": {
      "image/png": "[encoded data removed]",
      "text/plain": [
       "<Figure size 432x288 with 1 Axes>"
      ]
     },
     "metadata": {
      "needs_background": "light"
     },
     "output_type": "display_data"
    }
   ],
   "source": [
    "# Hist. of molecular weights\n",
    "# NB: figure out what these giant proteins are. \n",
    "plt.figure()\n",
    "sns.histplot(data=nosc_df, x='MW')"
   ]
  },
  {
   "cell_type": "code",
   "execution_count": 7,
   "metadata": {},
   "outputs": [
    {
     "name": "stdout",
     "output_type": "stream",
     "text": [
      "expected protein NOSC -0.161\n"
     ]
    }
   ],
   "source": [
    "# filter for \"normal-sized\" proteins. \n",
    "mask = np.logical_and(nosc_df.naa >= 30, nosc_df.naa <= 5000)\n",
    "all_aas = ''.join(nosc_df[mask].aaseq)\n",
    "aa_counts_genome = pd.Series(Counter(all_aas))\n",
    "aa_freqs_genome = aa_counts_genome / aa_counts_genome.sum()\n",
    "\n",
    "# reorder to match order in amino acid dataset\n",
    "aa_freqs_genome = aa_freqs_genome.loc[aa_nosc_df.index].copy()\n",
    "\n",
    "# calculate the genome-frequency-weighted NOSC\n",
    "nc_aa = aa_nosc_df.NC.copy()\n",
    "# c-bound e- per aa\n",
    "ne_aa = aa_nosc_df.NOSC.multiply(nc_aa)\n",
    "weighted_ne_aa = aa_freqs_genome.multiply(ne_aa)\n",
    "weighted_nc_aa = aa_freqs_genome.multiply(nc_aa)\n",
    "expected_NOSC = (weighted_ne_aa.sum() / weighted_nc_aa.sum())\n",
    "print('expected protein NOSC {0:.3f}'.format(expected_NOSC))"
   ]
  },
  {
   "cell_type": "code",
   "execution_count": 8,
   "metadata": {},
   "outputs": [
    {
     "name": "stderr",
     "output_type": "stream",
     "text": [
      "/opt/miniconda3/lib/python3.8/site-packages/seaborn/_decorators.py:36: FutureWarning: Pass the following variables as keyword args: x, y. From version 0.12, the only valid positional argument will be `data`, and passing other arguments without an explicit keyword will result in an error or misinterpretation.\n",
      "  warnings.warn(\n",
      "/opt/miniconda3/lib/python3.8/site-packages/seaborn/_decorators.py:36: FutureWarning: Pass the following variables as keyword args: x, y. From version 0.12, the only valid positional argument will be `data`, and passing other arguments without an explicit keyword will result in an error or misinterpretation.\n",
      "  warnings.warn(\n"
     ]
    },
    {
     "data": {
      "image/png": "[encoded data removed]",
      "text/plain": [
       "<Figure size 504x180 with 2 Axes>"
      ]
     },
     "metadata": {
      "needs_background": "light"
     },
     "output_type": "display_data"
    }
   ],
   "source": [
    "fig, axs = plt.subplots(ncols=2, figsize=(7,2.5), sharey=True)\n",
    "plt.sca(axs[0])\n",
    "sns.scatterplot(aa_nosc_df.NC, aa_nosc_df.NOSC)\n",
    "\n",
    "ts = []\n",
    "for aa in aa_freqs_genome.index:\n",
    "    xloc = aa_nosc_df.loc[aa].NC + 0.1\n",
    "    yloc = aa_nosc_df.loc[aa].NOSC + 0.01\n",
    "    ts.append(plt.annotate(aa, (xloc, yloc)))\n",
    "adjust_text(ts)\n",
    "    \n",
    "plt.xlabel('number of C atoms')\n",
    "plt.ylabel('NOSC of Amino Acid')\n",
    "\n",
    "# plot amino acid frequency against NOSC\n",
    "plt.sca(axs[1])\n",
    "sns.scatterplot(aa_freqs_genome, aa_nosc_df.NOSC)\n",
    "plt.axhline(expected_NOSC, ls='--', lw=0.75, color='grey')\n",
    "plt.text(0.06, expected_NOSC-0.15, 'weighted avg.', ha='left', color='grey')\n",
    "\n",
    "ts = []\n",
    "for aa in aa_freqs_genome.index:\n",
    "    xloc = aa_freqs_genome.loc[aa] + 0.002\n",
    "    yloc = aa_nosc_df.loc[aa].NOSC + 0.01\n",
    "    ts.append(plt.annotate(aa, (xloc, yloc)))\n",
    "adjust_text(ts)\n",
    "\n",
    "plt.xlabel('frequency in $E. coli$ coding seqs')\n",
    "\n",
    "plt.tight_layout()\n",
    "plt.savefig('../output/EC_aa_properties.png', facecolor='w', dpi=600)\n",
    "plt.show()"
   ]
  },
  {
   "cell_type": "code",
   "execution_count": null,
   "metadata": {},
   "outputs": [],
   "source": []
  }
 ],
 "metadata": {
  "kernelspec": {
   "display_name": "conda.base",
   "language": "python",
   "name": "conda.base"
  },
  "language_info": {
   "codemirror_mode": {
    "name": "ipython",
    "version": 3
   },
   "file_extension": ".py",
   "mimetype": "text/x-python",
   "name": "python",
   "nbconvert_exporter": "python",
   "pygments_lexer": "ipython3",
   "version": "3.8.5"
  }
 },
 "nbformat": 4,
 "nbformat_minor": 4
}
