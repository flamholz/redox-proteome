{
 "cells": [
  {
   "cell_type": "code",
   "execution_count": 1,
   "metadata": {},
   "outputs": [],
   "source": [
    "import numpy as np\n",
    "import pandas as pd\n",
    "import seaborn as sns\n",
    "\n",
    "from matplotlib import pyplot as plt\n",
    "from adjustText import adjust_text"
   ]
  },
  {
   "cell_type": "code",
   "execution_count": 2,
   "metadata": {},
   "outputs": [
    {
     "data": {
      "text/html": [
       "<div>\n",
       "<style scoped>\n",
       "    .dataframe tbody tr th:only-of-type {\n",
       "        vertical-align: middle;\n",
       "    }\n",
       "\n",
       "    .dataframe tbody tr th {\n",
       "        vertical-align: top;\n",
       "    }\n",
       "\n",
       "    .dataframe thead th {\n",
       "        text-align: right;\n",
       "    }\n",
       "</style>\n",
       "<table border=\"1\" class=\"dataframe\">\n",
       "  <thead>\n",
       "    <tr style=\"text-align: right;\">\n",
       "      <th></th>\n",
       "      <th>aa_freq</th>\n",
       "    </tr>\n",
       "    <tr>\n",
       "      <th>letter_code</th>\n",
       "      <th></th>\n",
       "    </tr>\n",
       "  </thead>\n",
       "  <tbody>\n",
       "    <tr>\n",
       "      <th>A</th>\n",
       "      <td>0.095532</td>\n",
       "    </tr>\n",
       "    <tr>\n",
       "      <th>R</th>\n",
       "      <td>0.055253</td>\n",
       "    </tr>\n",
       "    <tr>\n",
       "      <th>N</th>\n",
       "      <td>0.038926</td>\n",
       "    </tr>\n",
       "    <tr>\n",
       "      <th>D</th>\n",
       "      <td>0.051345</td>\n",
       "    </tr>\n",
       "    <tr>\n",
       "      <th>C</th>\n",
       "      <td>0.011575</td>\n",
       "    </tr>\n",
       "  </tbody>\n",
       "</table>\n",
       "</div>"
      ],
      "text/plain": [
       "              aa_freq\n",
       "letter_code          \n",
       "A            0.095532\n",
       "R            0.055253\n",
       "N            0.038926\n",
       "D            0.051345\n",
       "C            0.011575"
      ]
     },
     "execution_count": 2,
     "metadata": {},
     "output_type": "execute_result"
    }
   ],
   "source": [
    "coli_aas = pd.read_csv('../data/genomes/Coli/MG1655/MG1655_CDS_aafreq.csv', index_col=0)\n",
    "scer_aas = pd.read_csv('../data/genomes/Scer/S288c/Scer_S288c_CDS_aafreq.csv', index_col=0)\n",
    "aa_nosc_df = pd.read_csv('../data/aa_nosc.csv').set_index('letter_code')\n",
    "coli_aas.head()"
   ]
  },
  {
   "cell_type": "code",
   "execution_count": 3,
   "metadata": {},
   "outputs": [],
   "source": [
    "deltas = scer_aas - coli_aas.loc[scer_aas.index]\n",
    "relative_deltas = (deltas/coli_aas.loc[scer_aas.index]).sort_values('aa_freq')"
   ]
  },
  {
   "cell_type": "code",
   "execution_count": 4,
   "metadata": {},
   "outputs": [
    {
     "data": {
      "image/png": "[encoded data removed]",
      "text/plain": [
       "<Figure size 504x180 with 2 Axes>"
      ]
     },
     "metadata": {
      "needs_background": "light"
     },
     "output_type": "display_data"
    }
   ],
   "source": [
    "coli_freqs = coli_aas.loc[scer_aas.index].values\n",
    "scer_freqs = scer_aas.values\n",
    "\n",
    "fig, axs = plt.subplots(ncols=2, figsize=(7,2.5), gridspec_kw=dict(width_ratios=[1.5,2]))\n",
    "\n",
    "plt.sca(axs[0])\n",
    "plt.scatter(coli_freqs, scer_freqs)\n",
    "plt.xlabel('$E. coli$ CDS freq.', fontsize=10)\n",
    "plt.ylabel('$S. cerevisiae$ CDS freq.', fontsize=10)\n",
    "\n",
    "ts = [] \n",
    "for aa in scer_aas.index:\n",
    "    xloc = coli_aas.loc[aa] + 0.001\n",
    "    yloc = scer_aas.loc[aa] + 0.001\n",
    "    ts.append(plt.annotate(aa, (xloc, yloc)))\n",
    "xs = np.arange(0, 0.11, 0.005)\n",
    "plt.plot(xs, xs, ls='--', c='grey', lw=1, label='1:1')\n",
    "plt.legend()\n",
    "plt.title('Amino Acid Frequencies in CDS', fontsize=10)\n",
    "\n",
    "plt.sca(axs[1])\n",
    "plt.title('AA Enrichment in $S. cer$ S288c over $E. coli$', fontsize=10)\n",
    "xs = np.arange(relative_deltas.size)\n",
    "plt.bar(xs, relative_deltas.aa_freq.values*100)\n",
    "\n",
    "labels = aa_nosc_df.loc[relative_deltas.index].short_name\n",
    "plt.xticks(xs, labels, rotation=45, ha='right', fontsize=9)\n",
    "plt.ylabel('% Enrichment in $S. cer$ CDS', fontsize=10)\n",
    "\n",
    "plt.tight_layout()\n",
    "plt.savefig('../output/scer_coli_aa_freq_comparison.png', facecolor='w', dpi=300)\n",
    "plt.show()"
   ]
  },
  {
   "cell_type": "code",
   "execution_count": 5,
   "metadata": {},
   "outputs": [
    {
     "data": {
      "text/html": [
       "<div>\n",
       "<style scoped>\n",
       "    .dataframe tbody tr th:only-of-type {\n",
       "        vertical-align: middle;\n",
       "    }\n",
       "\n",
       "    .dataframe tbody tr th {\n",
       "        vertical-align: top;\n",
       "    }\n",
       "\n",
       "    .dataframe thead th {\n",
       "        text-align: right;\n",
       "    }\n",
       "</style>\n",
       "<table border=\"1\" class=\"dataframe\">\n",
       "  <thead>\n",
       "    <tr style=\"text-align: right;\">\n",
       "      <th></th>\n",
       "      <th>aa_freq</th>\n",
       "    </tr>\n",
       "  </thead>\n",
       "  <tbody>\n",
       "    <tr>\n",
       "      <th>M</th>\n",
       "      <td>-0.275627</td>\n",
       "    </tr>\n",
       "    <tr>\n",
       "      <th>G</th>\n",
       "      <td>-0.168466</td>\n",
       "    </tr>\n",
       "    <tr>\n",
       "      <th>A</th>\n",
       "      <td>-0.166235</td>\n",
       "    </tr>\n",
       "    <tr>\n",
       "      <th>V</th>\n",
       "      <td>-0.072589</td>\n",
       "    </tr>\n",
       "    <tr>\n",
       "      <th>Q</th>\n",
       "      <td>-0.070877</td>\n",
       "    </tr>\n",
       "    <tr>\n",
       "      <th>R</th>\n",
       "      <td>-0.048556</td>\n",
       "    </tr>\n",
       "    <tr>\n",
       "      <th>D</th>\n",
       "      <td>-0.033800</td>\n",
       "    </tr>\n",
       "    <tr>\n",
       "      <th>L</th>\n",
       "      <td>-0.017553</td>\n",
       "    </tr>\n",
       "    <tr>\n",
       "      <th>E</th>\n",
       "      <td>-0.003962</td>\n",
       "    </tr>\n",
       "    <tr>\n",
       "      <th>W</th>\n",
       "      <td>-0.000032</td>\n",
       "    </tr>\n",
       "    <tr>\n",
       "      <th>H</th>\n",
       "      <td>0.003375</td>\n",
       "    </tr>\n",
       "    <tr>\n",
       "      <th>I</th>\n",
       "      <td>0.006735</td>\n",
       "    </tr>\n",
       "    <tr>\n",
       "      <th>T</th>\n",
       "      <td>0.015909</td>\n",
       "    </tr>\n",
       "    <tr>\n",
       "      <th>C</th>\n",
       "      <td>0.027771</td>\n",
       "    </tr>\n",
       "    <tr>\n",
       "      <th>P</th>\n",
       "      <td>0.070306</td>\n",
       "    </tr>\n",
       "    <tr>\n",
       "      <th>Y</th>\n",
       "      <td>0.086003</td>\n",
       "    </tr>\n",
       "    <tr>\n",
       "      <th>F</th>\n",
       "      <td>0.137319</td>\n",
       "    </tr>\n",
       "    <tr>\n",
       "      <th>N</th>\n",
       "      <td>0.142311</td>\n",
       "    </tr>\n",
       "    <tr>\n",
       "      <th>K</th>\n",
       "      <td>0.289756</td>\n",
       "    </tr>\n",
       "    <tr>\n",
       "      <th>S</th>\n",
       "      <td>0.365338</td>\n",
       "    </tr>\n",
       "  </tbody>\n",
       "</table>\n",
       "</div>"
      ],
      "text/plain": [
       "    aa_freq\n",
       "M -0.275627\n",
       "G -0.168466\n",
       "A -0.166235\n",
       "V -0.072589\n",
       "Q -0.070877\n",
       "R -0.048556\n",
       "D -0.033800\n",
       "L -0.017553\n",
       "E -0.003962\n",
       "W -0.000032\n",
       "H  0.003375\n",
       "I  0.006735\n",
       "T  0.015909\n",
       "C  0.027771\n",
       "P  0.070306\n",
       "Y  0.086003\n",
       "F  0.137319\n",
       "N  0.142311\n",
       "K  0.289756\n",
       "S  0.365338"
      ]
     },
     "execution_count": 5,
     "metadata": {},
     "output_type": "execute_result"
    }
   ],
   "source": [
    "coli_aas_expression_weighted = pd.read_csv('../data/proteomes/Coli/Schmidt_mu0.5_expression_weighted_aa_freqs.csv', index_col=0)\n",
    "scer_aas_expression_weighted = pd.read_csv('../data/proteomes/Scer/Xia_mu0.379_expression_weighted_aa_freqs.csv', index_col=0)\n",
    "\n",
    "deltas = scer_aas_expression_weighted - coli_aas_expression_weighted.loc[scer_aas_expression_weighted.index]\n",
    "relative_deltas = (deltas/coli_aas_expression_weighted.loc[scer_aas_expression_weighted.index]).sort_values('aa_freq')\n",
    "relative_deltas"
   ]
  },
  {
   "cell_type": "code",
   "execution_count": 7,
   "metadata": {},
   "outputs": [
    {
     "data": {
      "image/png": "[encoded data removed]",
      "text/plain": [
       "<Figure size 504x180 with 2 Axes>"
      ]
     },
     "metadata": {
      "needs_background": "light"
     },
     "output_type": "display_data"
    }
   ],
   "source": [
    "coli_freqs = coli_aas_expression_weighted.loc[scer_aas_expression_weighted.index].values\n",
    "scer_freqs = scer_aas_expression_weighted.values\n",
    "\n",
    "fig, axs = plt.subplots(ncols=2, figsize=(7,2.5), gridspec_kw=dict(width_ratios=[1.5,2]))\n",
    "\n",
    "plt.sca(axs[0])\n",
    "plt.scatter(coli_freqs, scer_freqs)\n",
    "plt.xlabel('$E. coli$ Proteome', fontsize=10)\n",
    "plt.ylabel('$S. cerevisiae$ Proteome', fontsize=10)\n",
    "\n",
    "ts = [] \n",
    "for aa in scer_aas.index:\n",
    "    xloc = coli_aas.loc[aa] + 0.001\n",
    "    yloc = scer_aas.loc[aa] + 0.001\n",
    "    ts.append(plt.annotate(aa, (xloc, yloc)))\n",
    "xs = np.arange(0, 0.11, 0.005)\n",
    "plt.plot(xs, xs, ls='--', c='grey', lw=1, label='1:1')\n",
    "plt.legend()\n",
    "plt.title('Expression-weighted AA Freq.', fontsize=10)\n",
    "\n",
    "plt.sca(axs[1])\n",
    "plt.title('Enrichment in $S. cer$ proteome over $E. coli$', fontsize=10)\n",
    "xs = np.arange(relative_deltas.size)\n",
    "plt.bar(xs, relative_deltas.aa_freq.values*100)\n",
    "\n",
    "labels = aa_nosc_df.loc[relative_deltas.index].short_name\n",
    "plt.xticks(xs, labels, rotation=45, ha='right', fontsize=9)\n",
    "plt.ylabel('% Enrichment in $S. cer$', fontsize=10)\n",
    "plt.ylim(-35, 60)\n",
    "\n",
    "plt.tight_layout()\n",
    "plt.savefig('../output/scer_coli_expressed_aa_freq_comparison.png', facecolor='w', dpi=300)\n",
    "plt.show()"
   ]
  },
  {
   "cell_type": "code",
   "execution_count": null,
   "metadata": {},
   "outputs": [],
   "source": []
  }
 ],
 "metadata": {
  "kernelspec": {
   "display_name": "conda.base",
   "language": "python",
   "name": "conda.base"
  },
  "language_info": {
   "codemirror_mode": {
    "name": "ipython",
    "version": 3
   },
   "file_extension": ".py",
   "mimetype": "text/x-python",
   "name": "python",
   "nbconvert_exporter": "python",
   "pygments_lexer": "ipython3",
   "version": "3.8.5"
  }
 },
 "nbformat": 4,
 "nbformat_minor": 4
}
