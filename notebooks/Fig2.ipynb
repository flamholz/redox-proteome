{
 "cells": [
  {
   "cell_type": "code",
   "execution_count": 1,
   "metadata": {},
   "outputs": [],
   "source": [
    "import numpy as np\n",
    "import pandas as pd\n",
    "import seaborn as sns\n",
    "import viz\n",
    "\n",
    "from matplotlib import pyplot as plt\n",
    "\n",
    "colors = viz.plotting_style()\n",
    "lin_colors = colors.values()\n",
    "plt.style.use('style.mpl')\n",
    "\n",
    "color_order = ['green', 'blue', 'red', 'purple', 'yellow', 'dark_green', 'dark_blue', 'dark_brown']\n",
    "lin_colors = [colors[c] for c in color_order]"
   ]
  },
  {
   "cell_type": "code",
   "execution_count": 2,
   "metadata": {},
   "outputs": [],
   "source": [
    "phi_df = pd.read_csv('../output/Fig2A_variable_lambda.csv')\n",
    "zcorg_sensitivity_df = pd.read_csv('../output/Fig2B_variable_ZCred.csv')\n",
    "\n",
    "auto_comp_df = pd.read_csv('../output/Fig2C_autotrophy_comparison.csv')\n",
    "hetero_gamma_df = auto_comp_df[auto_comp_df['model'] == 'heterotrophy']\n",
    "auto_gamma_df = auto_comp_df[auto_comp_df['model'] == 'autotrophy']"
   ]
  },
  {
   "cell_type": "code",
   "execution_count": 3,
   "metadata": {},
   "outputs": [
    {
     "name": "stdout",
     "output_type": "stream",
     "text": [
      "estimated lambda_max: 2.592\n",
      "actual lambda_max: 2.287042625886344\n"
     ]
    },
    {
     "data": {
      "image/png": "[encoded data removed]",
      "text/plain": [
       "<Figure size 504x194.4 with 3 Axes>"
      ]
     },
     "metadata": {
      "needs_background": "light"
     },
     "output_type": "display_data"
    }
   ],
   "source": [
    "# Notice that phi_O increases as lambda decreases\n",
    "fig, axs = plt.subplots(ncols=3, nrows=1, figsize=(7, 2.7))\n",
    "\n",
    "# Estimate lambda_max from simple relationships\n",
    "min_phi_O = 0.4\n",
    "g_ana = phi_df.anabolism_gamma.values[0]\n",
    "est_lambda_max = 12*3600*g_ana*(1-min_phi_O)\n",
    "lambda_max = phi_df.lambda_hr.max()\n",
    "print('estimated lambda_max:', est_lambda_max)\n",
    "print('actual lambda_max:', lambda_max)\n",
    "\n",
    "plt.sca(axs[0])\n",
    "\n",
    "# Line at min_phi_O\n",
    "min_phi_O = 0.4\n",
    "plt.plot([0, lambda_max], [min_phi_O, min_phi_O], \n",
    "         color='grey', ls='-.', lw=1)\n",
    "#plt.text(1.1, min_phi_O+0.03, r'min. $\\phi_O$', ha='center', fontsize=9)\n",
    "\n",
    "x = phi_df['lambda_hr']\n",
    "# Not plotting homeostasis because it was set to zero\n",
    "cmap = dict(oxidation=colors['dark_blue'],\n",
    "            reduction=colors['red'],\n",
    "            anabolism=colors['dark_green'],\n",
    "            other='grey')\n",
    "processes = 'oxidation,reduction,anabolism'.split(',')\n",
    "process_labels = dict(\n",
    "    oxidation=r'$\\phi_{ox}$',\n",
    "    reduction=r'$\\phi_{red}$',\n",
    "    anabolism=r'$\\phi_{ana}$',\n",
    "    other=r'$\\phi_O$')\n",
    "phi_cols = ['{}_phi'.format(p) for p in processes] + ['phi_O']\n",
    "for i, col in enumerate(phi_cols):\n",
    "    label = processes[i] if i < len(processes) else r'other'\n",
    "    legend_label = process_labels[label]\n",
    "    c = cmap[label]\n",
    "    ls = '--' if label == 'reduction' else '-'\n",
    "    plt.plot(x, phi_df[col], label=legend_label, color=c, ls=ls)\n",
    "plt.scatter([lambda_max], [min_phi_O], color=colors['purple'], edgecolor='k', marker='*', zorder=10, s=20)\n",
    "\n",
    "plt.axvline(est_lambda_max, color='k', ls='--', lw=1) \n",
    "#plt.text(est_lambda_max-0.02, 0.3, r'$\\lambda_{max} \\approx \\gamma_{ana}(1-\\phi_O)$', ha='right', va='center', rotation=90, fontsize=9)\n",
    "plt.xlabel(r'growth rate $\\lambda$ (hr$^{-1}$)')\n",
    "plt.ylabel(r'optimal C mass fraction $\\phi_\\alpha$')   \n",
    "#plt.legend(loc=1)\n",
    "plt.ylim(-0.1, 1.1)\n",
    "\n",
    "plt.sca(axs[1])\n",
    "phi_H_included = zcorg_sensitivity_df[\n",
    "    zcorg_sensitivity_df['opt.max_phi_H_set'] == False]\n",
    "no_phi_H = zcorg_sensitivity_df[\n",
    "    zcorg_sensitivity_df['opt.max_phi_H_set'] == True]\n",
    "\n",
    "plt.plot(no_phi_H.ZCorg, no_phi_H.lambda_hr, color='grey',\n",
    "         label=r'baseline $\\phi_O \\geq$ {0:.1f}'.format(min_phi_O))\n",
    "plt.plot(phi_H_included.ZCorg, phi_H_included.lambda_hr,\n",
    "         color=colors['dark_green'], ls='--',\n",
    "         label=r'+ATP homeostasis', zorder=10)\n",
    "\n",
    "#plt.legend(loc=1)\n",
    "plt.ylim(0, 3.1)\n",
    "plt.xlabel('redox state of C source, $Z_{C,red}$')\n",
    "plt.ylabel(r'$\\lambda_{max}$ (hr$^{-1}$)')\n",
    "\n",
    "plt.sca(axs[2])\n",
    "plt.xscale('log')\n",
    "plt.yscale('log')\n",
    "plt.plot(hetero_gamma_df.anabolism_gamma, hetero_gamma_df.lambda_hr,\n",
    "         color=colors['blue'], label='respiration')\n",
    "plt.plot(auto_gamma_df.anabolism_gamma, auto_gamma_df.lambda_hr,\n",
    "         color=colors['dark_green'], label='autotrophy')\n",
    "plt.xlabel('enzyme activity $\\gamma$ (mol gC$^{-1}$ s$^{-1}$)')\n",
    "plt.ylabel(r'$\\lambda_{max}$ (hr$^{-1}$)')\n",
    "#plt.legend(loc=4)\n",
    "\n",
    "titles = [\n",
    "    'A continuum of viable\\n growth rates $\\lambda < \\lambda_{max}$',\n",
    "    'Broad metabolic flexibility\\n comes at a cost',\n",
    "    'Heterotrophy is faster\\n than autotrophy'\n",
    "]\n",
    "for title, label, ax in zip(titles, 'ABC', axs):\n",
    "    #ax.text(0.03, 0.97, label, transform=ax.transAxes, fontsize=10, fontweight='bold', va='top')\n",
    "    ax.set_title(title)\n",
    "    \n",
    "plt.tight_layout()\n",
    "plt.savefig('../output/Fig2.png', facecolor='white', bbox_inches='tight', dpi=300)\n",
    "plt.show()"
   ]
  },
  {
   "cell_type": "code",
   "execution_count": null,
   "metadata": {},
   "outputs": [],
   "source": []
  }
 ],
 "metadata": {
  "kernelspec": {
   "display_name": "conda.base",
   "language": "python",
   "name": "conda.base"
  },
  "language_info": {
   "codemirror_mode": {
    "name": "ipython",
    "version": 3
   },
   "file_extension": ".py",
   "mimetype": "text/x-python",
   "name": "python",
   "nbconvert_exporter": "python",
   "pygments_lexer": "ipython3",
   "version": "3.8.5"
  },
  "orig_nbformat": 4
 },
 "nbformat": 4,
 "nbformat_minor": 2
}
