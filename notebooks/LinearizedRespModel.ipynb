{
 "cells": [
  {
   "cell_type": "code",
   "execution_count": 1,
   "metadata": {},
   "outputs": [],
   "source": [
    "import cvxpy as cp\n",
    "import numpy as np\n",
    "import pandas as pd\n",
    "import seaborn as sns\n",
    "import viz\n",
    "\n",
    "from matplotlib import pyplot as plt\n",
    "from matplotlib.colors import LogNorm\n",
    "from os import path\n",
    "from linear_opt.lin_metabolism import MW_C_ATOM\n",
    "from linear_opt.lin_metabolism import LinearMetabolicModel\n",
    "from linear_opt.lin_metabolism import GrowthRateOptParams\n",
    "from linear_opt.lin_metabolism import SingleSubstrateMMRateLaw\n",
    "from linear_opt.lin_metabolism import MultiSubstrateMMRateLaw\n",
    "from matplotlib.ticker import LogFormatter \n",
    "\n",
    "colors = viz.plotting_style()\n",
    "color_order = ['green', 'blue', 'red', 'purple', 'yellow', 'dark_green', 'dark_blue', 'dark_brown']\n",
    "lin_colors = [colors[c] for c in color_order]\n",
    "plt.style.use('style.mpl')\n",
    "\n",
    "# Approximate concentrations and ratios for plotting\n",
    "# Based on Bennett et al. 2009 measurements in E. coli\n",
    "DEFAULT_ATP = 1.4e-6\n",
    "DEFAULT_NADH = 1.2e-7\n",
    "DEFAULT_RE = 10\n",
    "DEFAULT_RA = 0.3"
   ]
  },
  {
   "cell_type": "code",
   "execution_count": 2,
   "metadata": {},
   "outputs": [],
   "source": [
    "model_dir = '../models/linear/respiration/'\n",
    "m_fname = path.join(model_dir, 'glucose_resp_molecular_props.csv')\n",
    "S_fname = path.join(model_dir, 'glucose_resp_stoich_matrix.csv')\n",
    "lam = LinearMetabolicModel.FromFiles(m_fname, S_fname)\n",
    "#lam.print_model()"
   ]
  },
  {
   "cell_type": "code",
   "execution_count": 3,
   "metadata": {},
   "outputs": [
    {
     "name": "stdout",
     "output_type": "stream",
     "text": [
      "===============================================================================\n",
      "                                     CVXPY                                     \n",
      "                                     v1.2.1                                    \n",
      "===============================================================================\n",
      "(CVXPY) Aug 30 05:07:53 PM: Your problem has 5 variables, 3 constraints, and 23 parameters.\n",
      "(CVXPY) Aug 30 05:07:53 PM: It is compliant with the following grammars: DCP, DQCP\n",
      "(CVXPY) Aug 30 05:07:53 PM: CVXPY will first compile your problem; then, it will invoke a numerical solver to obtain a solution.\n",
      "-------------------------------------------------------------------------------\n",
      "                                  Compilation                                  \n",
      "-------------------------------------------------------------------------------\n",
      "(CVXPY) Aug 30 05:07:53 PM: Compiling problem (target solver=ECOS).\n",
      "(CVXPY) Aug 30 05:07:53 PM: Reduction chain: EvalParams -> FlipObjective -> Dcp2Cone -> CvxAttr2Constr -> ConeMatrixStuffing -> ECOS\n",
      "(CVXPY) Aug 30 05:07:53 PM: Applying reduction EvalParams\n",
      "(CVXPY) Aug 30 05:07:53 PM: Applying reduction FlipObjective\n",
      "(CVXPY) Aug 30 05:07:53 PM: Applying reduction Dcp2Cone\n",
      "(CVXPY) Aug 30 05:07:53 PM: Applying reduction CvxAttr2Constr\n",
      "(CVXPY) Aug 30 05:07:53 PM: Applying reduction ConeMatrixStuffing\n",
      "(CVXPY) Aug 30 05:07:53 PM: Applying reduction ECOS\n",
      "(CVXPY) Aug 30 05:07:53 PM: Finished problem compilation (took 6.278e-02 seconds).\n",
      "-------------------------------------------------------------------------------\n",
      "                                Numerical solver                               \n",
      "-------------------------------------------------------------------------------\n",
      "(CVXPY) Aug 30 05:07:53 PM: Invoking solver ECOS  to obtain a solution.\n",
      "\n",
      "ECOS 2.0.10 - (C) embotech GmbH, Zurich Switzerland, 2012-15. Web: www.embotech.com/ECOS\n",
      "\n",
      "It     pcost       dcost      gap   pres   dres    k/t    mu     step   sigma     IR    |   BT\n",
      " 0  -6.061e-01  +6.520e-01  +2e+01  6e-01  7e-01  1e+00  4e+00    ---    ---    1  1  - |  -  - \n",
      "-------------------------------------------------------------------------------\n",
      "                                    Summary                                    \n",
      "-------------------------------------------------------------------------------\n",
      "(CVXPY) Aug 30 05:07:53 PM: Problem status: optimal\n",
      " 1  -1.880e+00  -1.742e+00  +3e+00  6e-02  4e-02  1e-01  4e-01  0.8987  3e-02   0  0  0 |  0  0\n",
      " 2  -1.375e+00  -1.364e+00  +3e-01  6e-03  2e-03  9e-03  5e-02  0.9206  3e-02   0  0  0 |  0  0\n",
      " 3  -1.345e+00  -1.344e+00  +5e-03  8e-05  3e-05  1e-04  8e-04  0.9838  8e-04   0  0  0 |  0  0\n",
      " 4  -1.344e+00  -1.344e+00  +6e-05  9e-07  3e-07  1e-06  9e-06  0.9890  1e-04   1  0  0 |  0  0\n",
      " 5  -1.344e+00  -1.344e+00  +6e-07  1e-08  4e-09  2e-08  1e-07  0.9890  1e-04   1  0  0 |  0  0\n",
      " 6  -1.344e+00  -1.344e+00  +7e-09  1e-10  4e-11  2e-10  1e-09  0.9890  1e-04   1  0  0 |  0  0\n",
      "\n",
      "OPTIMAL (within feastol=1.2e-10, reltol=5.4e-09, abstol=7.2e-09).\n",
      "Runtime: 0.000298 seconds.\n",
      "\n",
      "(CVXPY) Aug 30 05:07:53 PM: Optimal value: 1.344e+00\n",
      "(CVXPY) Aug 30 05:07:53 PM: Compilation took 6.278e-02 seconds\n",
      "(CVXPY) Aug 30 05:07:53 PM: Solver (including time spent in interface) took 8.740e-04 seconds\n"
     ]
    },
    {
     "name": "stderr",
     "output_type": "stream",
     "text": [
      "/opt/miniconda3/lib/python3.8/site-packages/cvxpy/reductions/solvers/solving_chain.py:178: UserWarning: You are solving a parameterized problem that is not DPP. Because the problem is not DPP, subsequent solves will not be faster than the first one. For more information, see the documentation on Discplined Parametrized Programming, at\n",
      "\thttps://www.cvxpy.org/tutorial/advanced/index.html#disciplined-parametrized-programming\n",
      "  warnings.warn(dpp_error_msg)\n"
     ]
    },
    {
     "data": {
      "text/plain": [
       "1.343980153629763"
      ]
     },
     "execution_count": 3,
     "metadata": {},
     "output_type": "execute_result"
    }
   ],
   "source": [
    "# Concentrations are typically ~1 mM, converting to mol/gCDW\n",
    "# If the density rho ≈ 1000 g/L, 1/rho ≈ 1e-3 L/g = 1 mL/g so... \n",
    "# 1e-3 mol/L x 1e-3 L/g x 0.3 gDW/g x 2 gDW/gCDW = 1.5e-7 mol/gCDW\n",
    "params = GrowthRateOptParams(min_phi_O=0.4, \n",
    "                             #rate_law=ZerothOrderRateLaw(),\n",
    "                             do_dilution=True,\n",
    "                             rate_law=SingleSubstrateMMRateLaw(),\n",
    "                             fixed_ATP=DEFAULT_ATP, fixed_NADH=DEFAULT_NADH,\n",
    "                             fixed_re=DEFAULT_RE, fixed_ra=DEFAULT_RE)\n",
    "p = lam.max_growth_rate_problem(params)\n",
    "p.solve(verbose=True)\n",
    "\n",
    "#lam.solution_as_dict(p)"
   ]
  },
  {
   "cell_type": "code",
   "execution_count": 4,
   "metadata": {},
   "outputs": [
    {
     "data": {
      "text/plain": [
       "2.2870588142242774"
      ]
     },
     "execution_count": 4,
     "metadata": {},
     "output_type": "execute_result"
    }
   ],
   "source": [
    "# Do a quick run of the model to make sure it is feasible\n",
    "params = GrowthRateOptParams(maintenance_cost=1e-6, phi_O=0.4)\n",
    "opt, problem = lam.maximize_growth_rate(params)\n",
    "opt"
   ]
  },
  {
   "cell_type": "code",
   "execution_count": 5,
   "metadata": {},
   "outputs": [],
   "source": [
    "concs = np.logspace(-7, -1, 50)\n",
    "ATPgrid, NADHgrid = np.meshgrid(concs, concs)\n",
    "lambda_grid = np.zeros_like(ATPgrid)\n",
    "\n",
    "for i, ATP in enumerate(concs):\n",
    "    for j, NADH in enumerate(concs):\n",
    "        params = GrowthRateOptParams(min_phi_O=0.4, do_dilution=True,\n",
    "                                     fixed_ATP=ATP, fixed_NADH=NADH,\n",
    "                                     fixed_re=DEFAULT_RE, fixed_ra=DEFAULT_RA)\n",
    "        opt, _ = lam.maximize_growth_rate(params)\n",
    "        lambda_grid[i, j] = opt"
   ]
  },
  {
   "cell_type": "code",
   "execution_count": 6,
   "metadata": {},
   "outputs": [
    {
     "data": {
      "image/png": "[encoded data removed]",
      "text/plain": [
       "<Figure size 360x360 with 2 Axes>"
      ]
     },
     "metadata": {
      "needs_background": "light"
     },
     "output_type": "display_data"
    }
   ],
   "source": [
    "plt.figure(figsize=(5, 5))\n",
    "plt.xscale('log')\n",
    "plt.yscale('log')\n",
    "plt.contourf(ATPgrid, NADHgrid, lambda_grid, cmap='viridis')\n",
    "plt.xlabel('[ATP] (mol/gCDW)')\n",
    "plt.ylabel('[NADH] (mol/gCDW)')\n",
    "cb = plt.colorbar(label=r'maximum $\\lambda$ (hr$^{-1}$)')\n",
    "plt.show()"
   ]
  },
  {
   "cell_type": "code",
   "execution_count": 7,
   "metadata": {},
   "outputs": [],
   "source": [
    "# Same as above, multi-substrate michaelis menten rate law\n",
    "concs = np.logspace(-8, -1, 50)\n",
    "ATPgrid, NADHgrid = np.meshgrid(concs, concs)\n",
    "lambda_grid = np.zeros_like(ATPgrid)\n",
    "\n",
    "for i, ATP in enumerate(concs):\n",
    "    for j, NADH in enumerate(concs):\n",
    "        rl = MultiSubstrateMMRateLaw()\n",
    "        params = GrowthRateOptParams(min_phi_O=0.4, do_dilution=True,\n",
    "                                     fixed_ATP=ATP, fixed_NADH=NADH,\n",
    "                                     fixed_re=10, fixed_ra=0.3,\n",
    "                                     rate_law=rl)\n",
    "        opt = np.NaN\n",
    "        try:\n",
    "            opt, _ = lam.maximize_growth_rate(params)\n",
    "        except:\n",
    "            # Optimal solution not found\n",
    "            pass\n",
    "        \n",
    "        lambda_grid[i, j] = opt"
   ]
  },
  {
   "cell_type": "code",
   "execution_count": 8,
   "metadata": {},
   "outputs": [
    {
     "data": {
      "image/png": "[encoded data removed]",
      "text/plain": [
       "<Figure size 504x216 with 3 Axes>"
      ]
     },
     "metadata": {
      "needs_background": "light"
     },
     "output_type": "display_data"
    }
   ],
   "source": [
    "fig, axs = plt.subplots(figsize=(7, 3), ncols=2, width_ratios=[1, 1.3])\n",
    "\n",
    "plt.sca(axs[0])\n",
    "plt.xscale('log')\n",
    "plt.yscale('log')\n",
    "plt.contourf(ATPgrid, NADHgrid, lambda_grid, cmap='viridis', norm=LogNorm())\n",
    "plt.xlabel('[ATP] (mol/gCDW)')\n",
    "plt.ylabel('[NADH] (mol/gCDW)')\n",
    "\n",
    "plt.sca(axs[1])\n",
    "# plot zoomed in on the range of ATP and NADH concentrations we care about\n",
    "# which are 1e-8 to 1e-5 for both \n",
    "plt.xscale('log')\n",
    "plt.yscale('log')\n",
    "plt.contourf(ATPgrid, NADHgrid, lambda_grid, cmap='viridis', norm=LogNorm())\n",
    "plt.xlabel('[ATP] (mol/gCDW)')\n",
    "plt.ylabel('[NADH] (mol/gCDW)')\n",
    "plt.xlim(1e-8, 1e-5)\n",
    "plt.ylim(1e-8, 1e-5)\n",
    "formatter = LogFormatter(10, labelOnlyBase=False)\n",
    "cb = plt.colorbar(label=r'maximum $\\lambda$ (hr$^{-1}$)', format=formatter)\n",
    "\n",
    "# put a * at the Bennet concentrations of ATP ≈ 1.4e-6 (9.6 mM) and NADH ≈ 1.2e-7 (83 uM)\n",
    "plt.scatter(DEFAULT_ATP, DEFAULT_NADH, marker='*', color='red', edgecolor='k', lw=0.5, s=100)\n",
    "\n",
    "plt.tight_layout()\n",
    "plt.show()"
   ]
  },
  {
   "cell_type": "code",
   "execution_count": 9,
   "metadata": {},
   "outputs": [
    {
     "name": "stderr",
     "output_type": "stream",
     "text": [
      "/opt/miniconda3/lib/python3.8/site-packages/cvxpy/reductions/solvers/solving_chain.py:178: UserWarning: You are solving a parameterized problem that is not DPP. Because the problem is not DPP, subsequent solves will not be faster than the first one. For more information, see the documentation on Discplined Parametrized Programming, at\n",
      "\thttps://www.cvxpy.org/tutorial/advanced/index.html#disciplined-parametrized-programming\n",
      "  warnings.warn(dpp_error_msg)\n"
     ]
    },
    {
     "data": {
      "text/html": [
       "<div>\n",
       "<style scoped>\n",
       "    .dataframe tbody tr th:only-of-type {\n",
       "        vertical-align: middle;\n",
       "    }\n",
       "\n",
       "    .dataframe tbody tr th {\n",
       "        vertical-align: top;\n",
       "    }\n",
       "\n",
       "    .dataframe thead th {\n",
       "        text-align: right;\n",
       "    }\n",
       "</style>\n",
       "<table border=\"1\" class=\"dataframe\">\n",
       "  <thead>\n",
       "    <tr style=\"text-align: right;\">\n",
       "      <th></th>\n",
       "      <th>oxidation_kcat_s</th>\n",
       "      <th>oxidation_m_kDa</th>\n",
       "      <th>reduction_kcat_s</th>\n",
       "      <th>reduction_m_kDa</th>\n",
       "      <th>anabolism_kcat_s</th>\n",
       "      <th>anabolism_m_kDa</th>\n",
       "      <th>ATP_homeostasis_kcat_s</th>\n",
       "      <th>ATP_homeostasis_m_kDa</th>\n",
       "      <th>ZCB</th>\n",
       "      <th>ZCorg</th>\n",
       "      <th>...</th>\n",
       "      <th>opt.fixed_ADP_mol_gCDW</th>\n",
       "      <th>opt.fixed_C_red_mol_gCDW</th>\n",
       "      <th>opt.fixed_ra</th>\n",
       "      <th>opt.fixed_re</th>\n",
       "      <th>opt.rate_law_name</th>\n",
       "      <th>opt.rate_law_order</th>\n",
       "      <th>analytic_lambda_zo</th>\n",
       "      <th>analytic_lambda_max_zo</th>\n",
       "      <th>S6_lb_zo</th>\n",
       "      <th>S6_ub_zo</th>\n",
       "    </tr>\n",
       "  </thead>\n",
       "  <tbody>\n",
       "    <tr>\n",
       "      <th>0</th>\n",
       "      <td>100.0</td>\n",
       "      <td>2000.0</td>\n",
       "      <td>400.0</td>\n",
       "      <td>2000.0</td>\n",
       "      <td>100.0</td>\n",
       "      <td>2000.0</td>\n",
       "      <td>100.0</td>\n",
       "      <td>2000.0</td>\n",
       "      <td>0.0</td>\n",
       "      <td>0.0</td>\n",
       "      <td>...</td>\n",
       "      <td>4.200000e-07</td>\n",
       "      <td>1</td>\n",
       "      <td>0.3</td>\n",
       "      <td>10</td>\n",
       "      <td>ZeroOrder</td>\n",
       "      <td>0</td>\n",
       "      <td>0.10</td>\n",
       "      <td>0.10</td>\n",
       "      <td>0.15001</td>\n",
       "      <td>-1.200263</td>\n",
       "    </tr>\n",
       "    <tr>\n",
       "      <th>1</th>\n",
       "      <td>100.0</td>\n",
       "      <td>2000.0</td>\n",
       "      <td>400.0</td>\n",
       "      <td>2000.0</td>\n",
       "      <td>100.0</td>\n",
       "      <td>2000.0</td>\n",
       "      <td>100.0</td>\n",
       "      <td>2000.0</td>\n",
       "      <td>0.0</td>\n",
       "      <td>0.0</td>\n",
       "      <td>...</td>\n",
       "      <td>4.200000e-07</td>\n",
       "      <td>1</td>\n",
       "      <td>0.3</td>\n",
       "      <td>10</td>\n",
       "      <td>ZeroOrder</td>\n",
       "      <td>0</td>\n",
       "      <td>0.11</td>\n",
       "      <td>0.11</td>\n",
       "      <td>0.15001</td>\n",
       "      <td>-1.200263</td>\n",
       "    </tr>\n",
       "    <tr>\n",
       "      <th>2</th>\n",
       "      <td>100.0</td>\n",
       "      <td>2000.0</td>\n",
       "      <td>400.0</td>\n",
       "      <td>2000.0</td>\n",
       "      <td>100.0</td>\n",
       "      <td>2000.0</td>\n",
       "      <td>100.0</td>\n",
       "      <td>2000.0</td>\n",
       "      <td>0.0</td>\n",
       "      <td>0.0</td>\n",
       "      <td>...</td>\n",
       "      <td>4.200000e-07</td>\n",
       "      <td>1</td>\n",
       "      <td>0.3</td>\n",
       "      <td>10</td>\n",
       "      <td>ZeroOrder</td>\n",
       "      <td>0</td>\n",
       "      <td>0.12</td>\n",
       "      <td>0.12</td>\n",
       "      <td>0.15001</td>\n",
       "      <td>-1.200263</td>\n",
       "    </tr>\n",
       "    <tr>\n",
       "      <th>3</th>\n",
       "      <td>100.0</td>\n",
       "      <td>2000.0</td>\n",
       "      <td>400.0</td>\n",
       "      <td>2000.0</td>\n",
       "      <td>100.0</td>\n",
       "      <td>2000.0</td>\n",
       "      <td>100.0</td>\n",
       "      <td>2000.0</td>\n",
       "      <td>0.0</td>\n",
       "      <td>0.0</td>\n",
       "      <td>...</td>\n",
       "      <td>4.200000e-07</td>\n",
       "      <td>1</td>\n",
       "      <td>0.3</td>\n",
       "      <td>10</td>\n",
       "      <td>ZeroOrder</td>\n",
       "      <td>0</td>\n",
       "      <td>0.13</td>\n",
       "      <td>0.13</td>\n",
       "      <td>0.15001</td>\n",
       "      <td>-1.200263</td>\n",
       "    </tr>\n",
       "    <tr>\n",
       "      <th>4</th>\n",
       "      <td>100.0</td>\n",
       "      <td>2000.0</td>\n",
       "      <td>400.0</td>\n",
       "      <td>2000.0</td>\n",
       "      <td>100.0</td>\n",
       "      <td>2000.0</td>\n",
       "      <td>100.0</td>\n",
       "      <td>2000.0</td>\n",
       "      <td>0.0</td>\n",
       "      <td>0.0</td>\n",
       "      <td>...</td>\n",
       "      <td>4.200000e-07</td>\n",
       "      <td>1</td>\n",
       "      <td>0.3</td>\n",
       "      <td>10</td>\n",
       "      <td>ZeroOrder</td>\n",
       "      <td>0</td>\n",
       "      <td>0.14</td>\n",
       "      <td>0.14</td>\n",
       "      <td>0.15001</td>\n",
       "      <td>-1.200263</td>\n",
       "    </tr>\n",
       "  </tbody>\n",
       "</table>\n",
       "<p>5 rows × 65 columns</p>\n",
       "</div>"
      ],
      "text/plain": [
       "   oxidation_kcat_s  oxidation_m_kDa  reduction_kcat_s  reduction_m_kDa  \\\n",
       "0             100.0           2000.0             400.0           2000.0   \n",
       "1             100.0           2000.0             400.0           2000.0   \n",
       "2             100.0           2000.0             400.0           2000.0   \n",
       "3             100.0           2000.0             400.0           2000.0   \n",
       "4             100.0           2000.0             400.0           2000.0   \n",
       "\n",
       "   anabolism_kcat_s  anabolism_m_kDa  ATP_homeostasis_kcat_s  \\\n",
       "0             100.0           2000.0                   100.0   \n",
       "1             100.0           2000.0                   100.0   \n",
       "2             100.0           2000.0                   100.0   \n",
       "3             100.0           2000.0                   100.0   \n",
       "4             100.0           2000.0                   100.0   \n",
       "\n",
       "   ATP_homeostasis_m_kDa  ZCB  ZCorg  ...  opt.fixed_ADP_mol_gCDW  \\\n",
       "0                 2000.0  0.0    0.0  ...            4.200000e-07   \n",
       "1                 2000.0  0.0    0.0  ...            4.200000e-07   \n",
       "2                 2000.0  0.0    0.0  ...            4.200000e-07   \n",
       "3                 2000.0  0.0    0.0  ...            4.200000e-07   \n",
       "4                 2000.0  0.0    0.0  ...            4.200000e-07   \n",
       "\n",
       "   opt.fixed_C_red_mol_gCDW  opt.fixed_ra  opt.fixed_re  opt.rate_law_name  \\\n",
       "0                         1           0.3            10          ZeroOrder   \n",
       "1                         1           0.3            10          ZeroOrder   \n",
       "2                         1           0.3            10          ZeroOrder   \n",
       "3                         1           0.3            10          ZeroOrder   \n",
       "4                         1           0.3            10          ZeroOrder   \n",
       "\n",
       "   opt.rate_law_order  analytic_lambda_zo analytic_lambda_max_zo  S6_lb_zo  \\\n",
       "0                   0                0.10                   0.10   0.15001   \n",
       "1                   0                0.11                   0.11   0.15001   \n",
       "2                   0                0.12                   0.12   0.15001   \n",
       "3                   0                0.13                   0.13   0.15001   \n",
       "4                   0                0.14                   0.14   0.15001   \n",
       "\n",
       "   S6_ub_zo  \n",
       "0 -1.200263  \n",
       "1 -1.200263  \n",
       "2 -1.200263  \n",
       "3 -1.200263  \n",
       "4 -1.200263  \n",
       "\n",
       "[5 rows x 65 columns]"
      ]
     },
     "execution_count": 9,
     "metadata": {},
     "output_type": "execute_result"
    }
   ],
   "source": [
    "# Here is a model that has no homeostasis (phi_H <= 0),\n",
    "# no maintenance (ATP_maint = 0), but can alter biomass\n",
    "# composition through phi_O. We set a maximum lambda\n",
    "# so that we can run the model over a range of lambda values.\n",
    "params = GrowthRateOptParams(min_phi_O=0.4, do_dilution=True, \n",
    "                             max_lambda_hr=0.1, max_phi_H=0,\n",
    "                             fixed_ATP=DEFAULT_ATP, fixed_NADH=DEFAULT_NADH,\n",
    "                             fixed_re=DEFAULT_RE, fixed_ra=DEFAULT_RA)\n",
    "                             \n",
    "lam = LinearMetabolicModel.FromFiles(m_fname, S_fname)\n",
    "p = lam.max_growth_rate_problem(params)\n",
    "lambdas = np.arange(0.1, 4, 0.01)\n",
    "results = []\n",
    "\n",
    "for lam_val in lambdas:\n",
    "    p.param_dict['max_lambda_hr'].value = lam_val\n",
    "    res = p.solve()\n",
    "    d = lam.results_as_dict(p, params)\n",
    "    results.append(d)\n",
    "\n",
    "phi_df = pd.DataFrame(results)\n",
    "phi_df.head()"
   ]
  },
  {
   "cell_type": "code",
   "execution_count": 10,
   "metadata": {},
   "outputs": [
    {
     "name": "stdout",
     "output_type": "stream",
     "text": [
      "2.592\n"
     ]
    },
    {
     "data": {
      "image/png": "[encoded data removed]",
      "text/plain": [
       "<Figure size 360x180 with 2 Axes>"
      ]
     },
     "metadata": {
      "needs_background": "light"
     },
     "output_type": "display_data"
    }
   ],
   "source": [
    "# Notice that phi_O increases as lambda decreases\n",
    "fig, axs = plt.subplots(1, 2, figsize=(5, 2.5))\n",
    "\n",
    "min_phi_O = 0.4\n",
    "g_ana = phi_df.anabolism_gamma.values[0]\n",
    "lambda_max = 12*3600*g_ana*(1-min_phi_O)\n",
    "print(lambda_max)\n",
    "plt.sca(axs[0])\n",
    "\n",
    "x = phi_df['lambda_hr']\n",
    "# Not plotting homeostasis because it was set to zero\n",
    "processes = 'oxidation,reduction,anabolism'.split(',')\n",
    "phi_cols = ['{}_phi'.format(p) for p in processes] + ['phi_O']\n",
    "for i, col in enumerate(phi_cols):\n",
    "    label = processes[i] if i < len(processes) else r'other'\n",
    "    plt.plot(x, phi_df[col], label=label, color=lin_colors[i])\n",
    "\n",
    "plt.axvline(lambda_max, color='k', ls='--', lw=1) \n",
    "plt.xlabel(r'$\\lambda$ (hr$^{-1}$)')\n",
    "plt.ylabel(r'C mass fraction $\\phi_\\alpha$')   \n",
    "plt.legend(loc=1)\n",
    "\n",
    "plt.sca(axs[1])\n",
    "j_cols = ['{}_flux'.format(p) for p in processes]\n",
    "for i, col in enumerate(j_cols):\n",
    "    plt.plot(x, phi_df[col]*3600, label=processes[i], color=lin_colors[i])\n",
    "plt.xlabel(r'$\\lambda$ (hr$^{-1}$)')\n",
    "plt.ylabel(r'flux (/hr)')\n",
    "plt.legend(loc=1).set_visible(False)\n",
    "\n",
    "plt.tight_layout()\n",
    "plt.show()\n"
   ]
  },
  {
   "cell_type": "code",
   "execution_count": 11,
   "metadata": {},
   "outputs": [
    {
     "name": "stderr",
     "output_type": "stream",
     "text": [
      "/opt/miniconda3/lib/python3.8/site-packages/cvxpy/reductions/solvers/solving_chain.py:178: UserWarning: You are solving a parameterized problem that is not DPP. Because the problem is not DPP, subsequent solves will not be faster than the first one. For more information, see the documentation on Discplined Parametrized Programming, at\n",
      "\thttps://www.cvxpy.org/tutorial/advanced/index.html#disciplined-parametrized-programming\n",
      "  warnings.warn(dpp_error_msg)\n"
     ]
    }
   ],
   "source": [
    "# Sweep a range of biomass ZC values\n",
    "ZCBs = np.arange(-3, 3.01, 0.05)\n",
    "phi_Os = np.arange(0.1,0.41,0.1)\n",
    "\n",
    "results = []\n",
    "lmm = LinearMetabolicModel.FromFiles(m_fname, S_fname)\n",
    "\n",
    "for z in ZCBs:\n",
    "    for phi_O in phi_Os:\n",
    "        # Test with and without ATP homeostasis -- first with\n",
    "        ref_lam = lmm.copy()\n",
    "        ref_lam.set_ZCB(z)\n",
    "\n",
    "        # Note we are fixing phi_O here to highlight the contribution of phi_H\n",
    "        params = GrowthRateOptParams(min_phi_O=phi_O, do_dilution=True,\n",
    "                                    fixed_ATP=DEFAULT_ATP, fixed_NADH=DEFAULT_NADH,\n",
    "                                    fixed_re=DEFAULT_RE, fixed_ra=DEFAULT_RA)\n",
    "        m, opt_p = ref_lam.maximize_growth_rate(params)\n",
    "        d = ref_lam.model_as_dict()\n",
    "        d.update(ref_lam.solution_as_dict(opt_p, params))\n",
    "        d.update(params.as_dict())\n",
    "        results.append(d)\n",
    "\n",
    "        # Now without -- seting max_phi_H = 0\n",
    "        params_nh = GrowthRateOptParams(min_phi_O=phi_O, do_dilution=True, max_phi_H=0,\n",
    "                                        fixed_ATP=DEFAULT_ATP, fixed_NADH=DEFAULT_NADH,\n",
    "                                        fixed_re=DEFAULT_RE, fixed_ra=DEFAULT_RA)\n",
    "        m, opt_p = ref_lam.maximize_growth_rate(params_nh)\n",
    "        d = ref_lam.results_as_dict(opt_p, params_nh)\n",
    "        results.append(d)\n",
    "\n",
    "zc_sensitivity_df = pd.DataFrame(results)"
   ]
  },
  {
   "cell_type": "code",
   "execution_count": 12,
   "metadata": {},
   "outputs": [
    {
     "data": {
      "text/plain": [
       "0          NaN\n",
       "1      0.15001\n",
       "2          NaN\n",
       "3      0.15001\n",
       "4          NaN\n",
       "        ...   \n",
       "963    0.15001\n",
       "964        NaN\n",
       "965    0.15001\n",
       "966        NaN\n",
       "967    0.15001\n",
       "Name: S6_lb_zo, Length: 968, dtype: float64"
      ]
     },
     "execution_count": 12,
     "metadata": {},
     "output_type": "execute_result"
    }
   ],
   "source": [
    "zc_sensitivity_df.S6_lb_zo"
   ]
  },
  {
   "cell_type": "code",
   "execution_count": 15,
   "metadata": {},
   "outputs": [
    {
     "data": {
      "image/png": "[encoded data removed]",
      "text/plain": [
       "<Figure size 360x180 with 2 Axes>"
      ]
     },
     "metadata": {
      "needs_background": "light"
     },
     "output_type": "display_data"
    }
   ],
   "source": [
    "fig, axs = plt.subplots(nrows=1, ncols=2, figsize=(5, 2.5), sharex=True, sharey=True)\n",
    "\n",
    "ZCB = zc_sensitivity_df.ZCB.values[0]\n",
    "my_phi_O = 0.4\n",
    "\n",
    "plt.sca(axs[0])\n",
    "plt.title(r'min $\\phi_O$ = {0:.1f}'.format(my_phi_O))\n",
    "mask = zc_sensitivity_df['min_phi_O'] == my_phi_O\n",
    "masked = zc_sensitivity_df[mask]\n",
    "\n",
    "phi_H_included = masked[masked['opt.max_phi_H_set'] == False]\n",
    "no_phi_H = masked[masked['opt.max_phi_H_set'] == True]\n",
    "\n",
    "plt.plot(no_phi_H.S6, no_phi_H.lambda_hr, label=r'baseline')\n",
    "plt.plot(phi_H_included.S6, phi_H_included.lambda_hr, label=r'+ATP homeostasis', \n",
    "         zorder=10)\n",
    "\n",
    "plt.axvline(no_phi_H.S6_lb_zo.values[0], color='k', ls='--', lw=1)\n",
    "plt.axvline(no_phi_H.S6_ub_zo.values[0], color='k', ls='--', lw=1)\n",
    "\n",
    "\n",
    "plt.legend()\n",
    "plt.xlabel('$S_6$')\n",
    "plt.ylabel(r'$\\lambda$ (hr$^{-1}$)')\n",
    "    \n",
    "plt.tight_layout()\n",
    "plt.show()"
   ]
  },
  {
   "cell_type": "code",
   "execution_count": 16,
   "metadata": {},
   "outputs": [
    {
     "data": {
      "image/png": "[encoded data removed]",
      "text/plain": [
       "<Figure size 432x216 with 2 Axes>"
      ]
     },
     "metadata": {
      "needs_background": "light"
     },
     "output_type": "display_data"
    }
   ],
   "source": [
    "\n",
    "fig, axs = plt.subplots(ncols=2, figsize=(6,3))\n",
    "\n",
    "mask = zc_sensitivity_df['opt_status'] == 'optimal'\n",
    "masked = zc_sensitivity_df[mask]\n",
    "\n",
    "plt.sca(axs[0])\n",
    "sns.scatterplot(data=masked, x='lambda_hr', y='analytic_lambda_zo', hue='S6', palette='cividis')\n",
    "xs = np.arange(0, 4, 0.1)\n",
    "plt.plot(xs, xs)\n",
    "\n",
    "plt.sca(axs[1])\n",
    "sns.scatterplot(data=masked, x='lambda_hr', y='analytic_lambda_max_zo', hue='opt.max_phi_H_set')    \n",
    "plt.plot(xs, xs)\n",
    "\n",
    "plt.tight_layout()\n",
    "\n",
    "plt.show()"
   ]
  },
  {
   "cell_type": "code",
   "execution_count": null,
   "metadata": {},
   "outputs": [
    {
     "data": {
      "image/png": "[encoded data removed]",
      "text/plain": [
       "<Figure size 432x216 with 2 Axes>"
      ]
     },
     "metadata": {
      "needs_background": "light"
     },
     "output_type": "display_data"
    }
   ],
   "source": [
    "fig, axs = plt.subplots(ncols=2, figsize=(6,3))\n",
    "\n",
    "plt.sca(axs[0])\n",
    "sns.scatterplot(data=res_df, x='lambda_hr', y='analytic_lambda', hue='S6', palette='cividis')\n",
    "xs = np.arange(0, 4, 0.1)\n",
    "plt.plot(xs, xs)\n",
    "\n",
    "plt.sca(axs[1])\n",
    "sns.scatterplot(data=res_df, x='lambda_hr', y='analytic_lambda_opt',)    \n",
    "plt.plot(xs, xs)\n",
    "\n",
    "plt.tight_layout()\n",
    "\n",
    "plt.show()"
   ]
  },
  {
   "cell_type": "code",
   "execution_count": null,
   "metadata": {},
   "outputs": [
    {
     "data": {
      "text/plain": [
       "<AxesSubplot: xlabel='lambda_hr', ylabel='analytic_lambda'>"
      ]
     },
     "execution_count": 21,
     "metadata": {},
     "output_type": "execute_result"
    },
    {
     "data": {
      "image/png": "[encoded data removed]",
      "text/plain": [
       "<Figure size 432x288 with 1 Axes>"
      ]
     },
     "metadata": {
      "needs_background": "light"
     },
     "output_type": "display_data"
    }
   ],
   "source": [
    "sns.scatterplot(data=res_df[res_df.S6 > 0], x='lambda_hr', y='analytic_lambda', color='red')\n",
    "sns.scatterplot(data=res_df[res_df.S6 <= 0], x='lambda_hr', y='analytic_lambda', color='blue')\n",
    "\n",
    "\n"
   ]
  },
  {
   "cell_type": "code",
   "execution_count": null,
   "metadata": {},
   "outputs": [],
   "source": []
  }
 ],
 "metadata": {
  "kernelspec": {
   "display_name": "conda.base",
   "language": "python",
   "name": "conda.base"
  },
  "language_info": {
   "codemirror_mode": {
    "name": "ipython",
    "version": 3
   },
   "file_extension": ".py",
   "mimetype": "text/x-python",
   "name": "python",
   "nbconvert_exporter": "python",
   "pygments_lexer": "ipython3",
   "version": "3.8.5"
  }
 },
 "nbformat": 4,
 "nbformat_minor": 4
}
