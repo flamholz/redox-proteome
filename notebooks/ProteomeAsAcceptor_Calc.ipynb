{
 "cells": [
  {
   "cell_type": "code",
   "execution_count": 36,
   "metadata": {},
   "outputs": [],
   "source": [
    "import numpy as np\n",
    "import pandas as pd\n",
    "import seaborn as sns\n",
    "import uncertainties\n",
    "\n",
    "from scipy.stats import linregress, gmean\n",
    "from numpy.linalg import lstsq\n",
    "import statsmodels.api as sm\n",
    "\n",
    "from matplotlib import pyplot as plt"
   ]
  },
  {
   "cell_type": "code",
   "execution_count": 2,
   "metadata": {},
   "outputs": [],
   "source": [
    "abund_df = pd.read_csv('../data/Chure_mean_absolute_measurements.csv', index_col=0)\n",
    "chemostat_df = pd.read_csv('../data/kayser_chemostat_growth.csv')"
   ]
  },
  {
   "cell_type": "code",
   "execution_count": 3,
   "metadata": {},
   "outputs": [
    {
     "data": {
      "text/html": [
       "<div>\n",
       "<style scoped>\n",
       "    .dataframe tbody tr th:only-of-type {\n",
       "        vertical-align: middle;\n",
       "    }\n",
       "\n",
       "    .dataframe tbody tr th {\n",
       "        vertical-align: top;\n",
       "    }\n",
       "\n",
       "    .dataframe thead th {\n",
       "        text-align: right;\n",
       "    }\n",
       "</style>\n",
       "<table border=\"1\" class=\"dataframe\">\n",
       "  <thead>\n",
       "    <tr style=\"text-align: right;\">\n",
       "      <th></th>\n",
       "      <th>D_per_h</th>\n",
       "      <th>biomass_g_l</th>\n",
       "      <th>glucose_g_l</th>\n",
       "      <th>acetate_g_l</th>\n",
       "      <th>ammonium_g_l</th>\n",
       "      <th>CTR</th>\n",
       "      <th>OTR</th>\n",
       "      <th>c_recovery_pct</th>\n",
       "      <th>n_recovery_pct</th>\n",
       "      <th>r_biomass_g_l_h</th>\n",
       "      <th>r_glucose_g_g_h</th>\n",
       "      <th>r_co2_g_g_h</th>\n",
       "      <th>r_o2_g_g_h</th>\n",
       "      <th>r_acetate_g_g_h</th>\n",
       "      <th>r_ammonium_g_g_h</th>\n",
       "    </tr>\n",
       "  </thead>\n",
       "  <tbody>\n",
       "    <tr>\n",
       "      <th>0</th>\n",
       "      <td>0.044</td>\n",
       "      <td>5.07</td>\n",
       "      <td>0.0</td>\n",
       "      <td>0.0</td>\n",
       "      <td>1.709</td>\n",
       "      <td>0.286</td>\n",
       "      <td>0.222</td>\n",
       "      <td>96</td>\n",
       "      <td>99</td>\n",
       "      <td>0.223</td>\n",
       "      <td>0.087</td>\n",
       "      <td>0.056</td>\n",
       "      <td>0.0437</td>\n",
       "      <td>0.0 000</td>\n",
       "      <td>0.0060</td>\n",
       "    </tr>\n",
       "    <tr>\n",
       "      <th>1</th>\n",
       "      <td>0.066</td>\n",
       "      <td>5.05</td>\n",
       "      <td>0.0</td>\n",
       "      <td>0.0</td>\n",
       "      <td>1.688</td>\n",
       "      <td>0.440</td>\n",
       "      <td>0.288</td>\n",
       "      <td>97</td>\n",
       "      <td>98</td>\n",
       "      <td>0.333</td>\n",
       "      <td>0.131</td>\n",
       "      <td>0.087</td>\n",
       "      <td>0.0570</td>\n",
       "      <td>0.0 000</td>\n",
       "      <td>0.0093</td>\n",
       "    </tr>\n",
       "    <tr>\n",
       "      <th>2</th>\n",
       "      <td>0.134</td>\n",
       "      <td>5.29</td>\n",
       "      <td>0.0</td>\n",
       "      <td>0.0</td>\n",
       "      <td>1.652</td>\n",
       "      <td>0.924</td>\n",
       "      <td>0.576</td>\n",
       "      <td>101</td>\n",
       "      <td>98</td>\n",
       "      <td>0.709</td>\n",
       "      <td>0.253</td>\n",
       "      <td>0.175</td>\n",
       "      <td>0.1089</td>\n",
       "      <td>0.0 000</td>\n",
       "      <td>0.0190</td>\n",
       "    </tr>\n",
       "    <tr>\n",
       "      <th>3</th>\n",
       "      <td>0.150</td>\n",
       "      <td>5.24</td>\n",
       "      <td>0.0</td>\n",
       "      <td>0.0</td>\n",
       "      <td>1.650</td>\n",
       "      <td>0.915</td>\n",
       "      <td>0.615</td>\n",
       "      <td>95</td>\n",
       "      <td>98</td>\n",
       "      <td>0.785</td>\n",
       "      <td>0.287</td>\n",
       "      <td>0.175</td>\n",
       "      <td>0.1175</td>\n",
       "      <td>0.0 000</td>\n",
       "      <td>0.0215</td>\n",
       "    </tr>\n",
       "    <tr>\n",
       "      <th>4</th>\n",
       "      <td>0.170</td>\n",
       "      <td>5.23</td>\n",
       "      <td>0.0</td>\n",
       "      <td>0.0</td>\n",
       "      <td>1.656</td>\n",
       "      <td>1.113</td>\n",
       "      <td>0.896</td>\n",
       "      <td>98</td>\n",
       "      <td>98</td>\n",
       "      <td>0.889</td>\n",
       "      <td>0.325</td>\n",
       "      <td>0.213</td>\n",
       "      <td>0.1713</td>\n",
       "      <td>0.0 000</td>\n",
       "      <td>0.0242</td>\n",
       "    </tr>\n",
       "  </tbody>\n",
       "</table>\n",
       "</div>"
      ],
      "text/plain": [
       "   D_per_h  biomass_g_l  glucose_g_l  acetate_g_l  ammonium_g_l    CTR    OTR  \\\n",
       "0    0.044         5.07          0.0          0.0         1.709  0.286  0.222   \n",
       "1    0.066         5.05          0.0          0.0         1.688  0.440  0.288   \n",
       "2    0.134         5.29          0.0          0.0         1.652  0.924  0.576   \n",
       "3    0.150         5.24          0.0          0.0         1.650  0.915  0.615   \n",
       "4    0.170         5.23          0.0          0.0         1.656  1.113  0.896   \n",
       "\n",
       "   c_recovery_pct  n_recovery_pct  r_biomass_g_l_h  r_glucose_g_g_h  \\\n",
       "0              96              99            0.223            0.087   \n",
       "1              97              98            0.333            0.131   \n",
       "2             101              98            0.709            0.253   \n",
       "3              95              98            0.785            0.287   \n",
       "4              98              98            0.889            0.325   \n",
       "\n",
       "   r_co2_g_g_h  r_o2_g_g_h r_acetate_g_g_h  r_ammonium_g_g_h  \n",
       "0        0.056      0.0437         0.0 000            0.0060  \n",
       "1        0.087      0.0570         0.0 000            0.0093  \n",
       "2        0.175      0.1089         0.0 000            0.0190  \n",
       "3        0.175      0.1175         0.0 000            0.0215  \n",
       "4        0.213      0.1713         0.0 000            0.0242  "
      ]
     },
     "execution_count": 3,
     "metadata": {},
     "output_type": "execute_result"
    }
   ],
   "source": [
    "chemostat_df.head()"
   ]
  },
  {
   "cell_type": "code",
   "execution_count": 4,
   "metadata": {},
   "outputs": [
    {
     "data": {
      "image/png": "[encoded data removed]",
      "text/plain": [
       "<Figure size 432x288 with 1 Axes>"
      ]
     },
     "metadata": {
      "needs_background": "light"
     },
     "output_type": "display_data"
    }
   ],
   "source": [
    "# load Kayser chemostat growth data - regress O2 consumption as a function of growth\n",
    "plt.figure()\n",
    "mw_o2 = 32\n",
    "mw_co2 = 44\n",
    "mw_gluc = 180\n",
    "plt.scatter(chemostat_df.D_per_h, chemostat_df.r_o2_g_g_h/mw_o2, color='g', label='o2')\n",
    "plt.scatter(chemostat_df.D_per_h, 6*chemostat_df.r_glucose_g_g_h/mw_gluc, color='m', label='glucose')\n",
    "plt.scatter(chemostat_df.D_per_h, chemostat_df.r_co2_g_g_h/mw_co2, color='orange', label='co2')\n",
    "\n",
    "plt.xlabel('dilution rate (hr$^{-1}$)')\n",
    "plt.ylabel('rate (mol C gDW$^{-1}$ hr$^{-1}$)')\n",
    "plt.legend(loc=2)\n",
    "plt.show()"
   ]
  },
  {
   "cell_type": "code",
   "execution_count": 56,
   "metadata": {},
   "outputs": [
    {
     "name": "stdout",
     "output_type": "stream",
     "text": [
      "0.020630350391572242 0.02411614808517998\n"
     ]
    }
   ],
   "source": [
    "# regression of specific O2 reduction rate against dilution rate in chemostat data\n",
    "# need to get rid of the NANs before fitting\n",
    "cols = \"D_per_h,r_o2_g_g_h\".split(',')\n",
    "mask = np.logical_not(chemostat_df[cols].isnull().any(axis=1))\n",
    "masked = chemostat_df[mask]\n",
    "x = masked.D_per_h.values\n",
    "y = masked.r_o2_g_g_h.values\n",
    "\n",
    "# statsmodels does y before x... also assumes 0 intercept.\n",
    "# assumption of zero O2 uptake at zero growth is worth discussion,\n",
    "# but not so important for order of magnitude comparisons. \n",
    "model = sm.OLS(y, x)\n",
    "res = model.fit()\n",
    "\n",
    "# 95% ci by default\n",
    "o2_mu_slope_interval_mass = res.conf_int().flatten()\n",
    "\n",
    "# convert to mol e-/gDW/hr\n",
    "e_per_o2 = 4\n",
    "o2_mu_slope_lb, o2_mu_slope_ub = o2_mu_slope_interval_mass/mw_o2\n",
    "print(o2_mu_slope_lb, o2_mu_slope_ub)"
   ]
  },
  {
   "cell_type": "code",
   "execution_count": 55,
   "metadata": {},
   "outputs": [
    {
     "name": "stdout",
     "output_type": "stream",
     "text": [
      "0.02108197734817755 0.024417989765361546\n"
     ]
    }
   ],
   "source": [
    "# same calculation from CO2 efflux should give the same electron flux within error\n",
    "# get rid of the NANs before fitting\n",
    "cols = \"D_per_h,r_co2_g_g_h\".split(',')\n",
    "mask = np.logical_not(chemostat_df[cols].isnull().any(axis=1))\n",
    "masked = chemostat_df[mask]\n",
    "x = masked.D_per_h.values\n",
    "y = masked.r_co2_g_g_h.values\n",
    "\n",
    "# statsmodels does y before x... also assumes 0 intercept.\n",
    "# assumption of zero O2 uptake at zero growth is worth discussion,\n",
    "# but not so important for order of magnitude comparisons. \n",
    "model = sm.OLS(y, x)\n",
    "res = model.fit()\n",
    "\n",
    "# 95% ci by default\n",
    "co2_mu_slope_interval_mass = res.conf_int().flatten()\n",
    "\n",
    "# convert to mol CO2/gDW/hr\n",
    "co2_e_mu_slope_lb, co2_e_mu_slope_ub = co2_mu_slope_interval_mass/mw_co2\n",
    "print(co2_e_mu_slope_lb, co2_e_mu_slope_ub)"
   ]
  },
  {
   "cell_type": "code",
   "execution_count": 7,
   "metadata": {},
   "outputs": [
    {
     "name": "stdout",
     "output_type": "stream",
     "text": [
      "0.05758920606413548 0.05758920606413548\n"
     ]
    }
   ],
   "source": [
    "# regression of specific glucose update rate against dilution rate in chemostat data\n",
    "# need to get rid of the NANs before fitting\n",
    "cols = \"D_per_h,r_glucose_g_g_h\".split(',')\n",
    "mask = np.logical_not(chemostat_df[cols].isnull().any(axis=1))\n",
    "masked = chemostat_df[mask]\n",
    "x = masked.D_per_h.values\n",
    "y = masked.r_glucose_g_g_h.values\n",
    "\n",
    "# statsmodels does y before x... also assumes 0 intercept.\n",
    "model = sm.OLS(y, x)\n",
    "res = model.fit()\n",
    "\n",
    "# 95% ci by default\n",
    "gluc_mu_slope_interval_mass = res.conf_int().flatten()\n",
    "\n",
    "# convert to mol C/gDW/hr\n",
    "nc_gluc = 6\n",
    "gluc_C_mu_slope_lb, gluc_C_mu_slope_ub = nc_gluc*gluc_mu_slope_interval_mass/mw_gluc\n",
    "print(gluc_C_mu_slope_lb, gluc_C_mu_slope_lb)"
   ]
  },
  {
   "cell_type": "code",
   "execution_count": 8,
   "metadata": {},
   "outputs": [
    {
     "name": "stdout",
     "output_type": "stream",
     "text": [
      "mean expression-weighted protein length\n",
      "0    266.072757\n",
      "dtype: float64\n",
      "mean expression-weighted C per aa\n",
      "0    4.842292\n",
      "dtype: float64\n",
      "mean expression-weighted MW\n",
      "0    29142.455874\n",
      "dtype: float64\n"
     ]
    }
   ],
   "source": [
    "# Calculate and store number of carbons per amino acids\n",
    "abund_df['C_per_aa'] = abund_df.NC / abund_df.naa\n",
    "\n",
    "# what is the typical length of proteins measured here? ... 200-300 aa, mean of 266. \n",
    "group_cols = 'dataset,strain,condition,growth_rate_hr'.split(',')\n",
    "abund_reindexed_df = abund_df.set_index(group_cols)\n",
    "aa_weighted_counts = (abund_reindexed_df.tot_per_cell * abund_reindexed_df.naa).reset_index()\n",
    "c_per_aa_weighted_counts = (abund_reindexed_df.tot_per_cell * abund_reindexed_df.C_per_aa).reset_index()\n",
    "mw_weighted_counts = (abund_reindexed_df.tot_per_cell * abund_reindexed_df.MW).reset_index()\n",
    "\n",
    "# Mean length is ≈270 aminos\n",
    "total_aa_weighted_counts_by_sample = aa_weighted_counts.groupby(group_cols).sum()\n",
    "total_counts = abund_reindexed_df.tot_per_cell.reset_index().groupby(group_cols).sum()\n",
    "mean_aa_len_by_sample = total_aa_weighted_counts_by_sample.divide(total_counts.values)\n",
    "print(\"mean expression-weighted protein length\")\n",
    "print(mean_aa_len_by_sample.mean())\n",
    "\n",
    "# Mean amino has ≈5 carbons\n",
    "c_per_aa_weighted_counts_by_sample = c_per_aa_weighted_counts.groupby(group_cols).sum()\n",
    "mean_c_per_aa_by_sample = c_per_aa_weighted_counts_by_sample.divide(total_counts.values)\n",
    "print(\"mean expression-weighted C per aa\")\n",
    "print(mean_c_per_aa_by_sample.mean())\n",
    "\n",
    "# Average protein has MW of 29 kDa, giving 29e3/266 ≈ 110 Da for average amino acid.\n",
    "# Note that this value is smaller than you'd estimate from the genome (130 Da)... interesting. \n",
    "mw_weighted_counts_by_sample = mw_weighted_counts.groupby(group_cols).sum()\n",
    "mean_mw_by_sample = mw_weighted_counts_by_sample.divide(total_counts.values)\n",
    "print(\"mean expression-weighted MW\")\n",
    "print(mean_mw_by_sample.mean())"
   ]
  },
  {
   "cell_type": "code",
   "execution_count": 17,
   "metadata": {},
   "outputs": [],
   "source": [
    "uncertainties."
   ]
  },
  {
   "cell_type": "code",
   "execution_count": 44,
   "metadata": {},
   "outputs": [],
   "source": [
    "def protein_C_per_gDW_range(\n",
    "    protein_density_range, # g/L\n",
    "    v_cell_range,          # L\n",
    "    m_cell_range,          # g\n",
    "    aa_molar_mass_range,   # g/mol\n",
    "    nc_per_aa_range,       # C/amino\n",
    "    n_samples=10000):\n",
    "    \"\"\"Monte Carlo sampling calcultion of the number of \n",
    "    protein-bound C atoms per gram cell dry weight.\n",
    "    \"\"\"\n",
    "    protein_density = np.random.uniform(\n",
    "        *protein_density_range, size=n_samples)\n",
    "    v_cell = np.random.uniform(\n",
    "        *v_cell_range, size=n_samples)\n",
    "    m_cell = np.random.uniform(\n",
    "        *m_cell_range, size=n_samples)\n",
    "    aa_molar_mass = np.random.uniform(\n",
    "        *aa_molar_mass_range, size=n_samples)\n",
    "    nc_per_aa = np.random.uniform(\n",
    "        *nc_per_aa_range, size=n_samples)\n",
    "    \n",
    "    m_protein_per_cell = protein_density * v_cell\n",
    "    print(gmean(m_protein_per_cell))\n",
    "    aa_cs_per_cell = nc_per_aa * m_protein_per_cell / aa_molar_mass\n",
    "    print(gmean(aa_cs_per_cell))\n",
    "    slopes = aa_cs_per_cell / m_cell\n",
    "    print(gmean(slopes))\n",
    "    return slopes\n"
   ]
  },
  {
   "cell_type": "code",
   "execution_count": 50,
   "metadata": {},
   "outputs": [
    {
     "name": "stdout",
     "output_type": "stream",
     "text": [
      "2.900798635431778e-13\n",
      "1.2643888365438166e-14\n",
      "0.02660586570473469\n",
      "median 0.025\n",
      "geometric mean 0.027\n",
      "95% CI 0.0076-0.12\n",
      "IQR 0.016-0.042\n"
     ]
    },
    {
     "data": {
      "image/png": "[encoded data removed]",
      "text/plain": [
       "<Figure size 432x288 with 1 Axes>"
      ]
     },
     "metadata": {
      "needs_background": "light"
     },
     "output_type": "display_data"
    }
   ],
   "source": [
    "# protein density ≈250 mg/mL = 250 g/L\n",
    "# ^^^ considering only the cells not the media\n",
    "protein_density_range = (200,300)  # g/L\n",
    "\n",
    "# Cell size range, see\n",
    "# http://book.bionumbers.org/how-big-is-an-e-coli-cell-and-what-is-its-mass/\n",
    "v_cell_range = (0.5e-15, 2e-15)    # L\n",
    "\n",
    "# usage-weighted amino acid MW ≈110 g/mol, 5 carbons. \n",
    "# see calculation above. Giving ranges around those numbers.\n",
    "aa_molar_mass_range = (100, 130)   # g/mol/aa\n",
    "nc_per_aa_range = (4.8, 5.2)       # C atoms/aa\n",
    "\n",
    "# E. coli cell has a typical mass of a few hundred femtograms \n",
    "# http://book.bionumbers.org/how-big-is-an-e-coli-cell-and-what-is-its-mass/\n",
    "m_cell_range = (1e-13, 1e-12)         # g/cell\n",
    "\n",
    "# Monte-Carlo sampling of the slope\n",
    "vals = protein_C_per_gDW_range(\n",
    "    protein_density_range,\n",
    "    v_cell_range,\n",
    "    m_cell_range,\n",
    "    aa_molar_mass_range,\n",
    "    nc_per_aa_range, \n",
    "    n_samples=int(1e6))\n",
    "\n",
    "\n",
    "pctiles = [2.5, 25, 50, 75, 97.5]\n",
    "pctile_vals = np.percentile(vals, pctiles)\n",
    "print('median {0:.2g}'.format(pctile_vals[2]))\n",
    "\n",
    "print('geometric mean {0:.2g}'.format(gmean(vals)))\n",
    "print('95% CI {0:.2g}-{1:.2g}'.format(pctile_vals[0],pctile_vals[-1]))\n",
    "print('IQR {0:.2g}-{1:.2g}'.format(pctile_vals[1],pctile_vals[-2]))\n",
    "\n",
    "# For later use - present the IQR\n",
    "protein_C_per_gDW_IQR = pctile_vals[[1,-2]].copy()\n",
    "protein_C_per_gDW_median = pctile_vals[2]\n",
    "\n",
    "plt.figure()\n",
    "plt.xscale('log')\n",
    "plt.hist(vals, np.logspace(-2, 0, 50))\n",
    "plt.xlabel('mol C/gDW')\n",
    "plt.ylabel('sample count')\n",
    "plt.show()"
   ]
  },
  {
   "cell_type": "code",
   "execution_count": 58,
   "metadata": {},
   "outputs": [
    {
     "data": {
      "image/png": "[encoded data removed]",
      "text/plain": [
       "<Figure size 432x288 with 1 Axes>"
      ]
     },
     "metadata": {
      "needs_background": "light"
     },
     "output_type": "display_data"
    }
   ],
   "source": [
    "# Growth rates u range from 0.05 (10 hrs) to 2 (20 min)\n",
    "growth_rates = np.arange(0.05, 2.01, 0.05)\n",
    "\n",
    "# Assume proteins are produced to match dilution by growth, i.e. degradation is negligible\n",
    "# as typical lifetimes are longer than generation times. This is more likely to be true\n",
    "# at higher growth rates.\n",
    "protein_C_flux_med = protein_C_per_gDW_median * growth_rates       # mol aa C / gDW / hr\n",
    "protein_C_flux_min = protein_C_per_gDW_IQR[0] * growth_rates       # mol aa C / gDW / hr\n",
    "protein_C_flux_max = protein_C_per_gDW_IQR[1] * growth_rates       # mol aa C / gDW / hr\n",
    "\n",
    "pal = sns.color_palette('dark')\n",
    "for i, delta_nos in enumerate(np.arange(0.0, 0.41, 0.1)):\n",
    "    # delta nos is e- per protein-bound carbon atom\n",
    "    protein_e_flux = delta_nos * protein_C_flux_med\n",
    "    label = '$\\Delta$NOSC = {0:0.3f}'.format(delta_nos)\n",
    "    \n",
    "    pe_flux_min = delta_nos * protein_C_flux_min\n",
    "    pe_flux_max = delta_nos * protein_C_flux_max\n",
    "    plt.fill_between(growth_rates, pe_flux_min, pe_flux_max, color=pal[i], alpha=0.4)\n",
    "    plt.plot(growth_rates, protein_e_flux_O2_eq, label=label, color=pal[i], lw=2)\n",
    "    \n",
    "r_o2_mol_e_g_h = e_per_o2*chemostat_df.r_o2_g_g_h/mw_o2\n",
    "plt.scatter(chemostat_df.D_per_h, r_o2_mol_e_g_h, label='Kayser chemostat data')\n",
    "\n",
    "plt.ylabel('mol O2 equivalents / gDW / hr')\n",
    "plt.xlabel('$\\mu$ (hr$^{-1}$)')\n",
    "\n",
    "plt.legend(loc=1)\n",
    "plt.savefig('../output/proteome_electron_flux_estimate.png')\n",
    "plt.show()\n",
    "\n",
    "# at the moment it's all per unit cell volume, not culture volume...\n",
    "# need to convert to reasonable culture densities, i.e. where the is media and not just cells.\n",
    "# then I can compare to measured respiratory rates. "
   ]
  },
  {
   "cell_type": "code",
   "execution_count": null,
   "metadata": {},
   "outputs": [],
   "source": []
  }
 ],
 "metadata": {
  "kernelspec": {
   "display_name": "conda.base",
   "language": "python",
   "name": "conda.base"
  },
  "language_info": {
   "codemirror_mode": {
    "name": "ipython",
    "version": 3
   },
   "file_extension": ".py",
   "mimetype": "text/x-python",
   "name": "python",
   "nbconvert_exporter": "python",
   "pygments_lexer": "ipython3",
   "version": "3.8.5"
  }
 },
 "nbformat": 4,
 "nbformat_minor": 4
}
