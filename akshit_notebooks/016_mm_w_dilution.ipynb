{
 "cells": [
  {
   "cell_type": "code",
   "execution_count": 1,
   "id": "1daa831e-7669-4552-9360-9aaa0ab4552c",
   "metadata": {},
   "outputs": [],
   "source": [
    "import numpy as np\n",
    "from scipy.integrate import solve_ivp\n",
    "import matplotlib.pyplot as plt\n",
    "import seaborn as sns\n",
    "import pandas as pd\n",
    "plt.style.use('../notebooks/style.mpl')"
   ]
  },
  {
   "cell_type": "code",
   "execution_count": 2,
   "id": "f04c3e28-3fe6-4903-94c3-f386414c1b98",
   "metadata": {},
   "outputs": [],
   "source": [
    "import warnings\n",
    "warnings.filterwarnings('ignore')"
   ]
  },
  {
   "attachments": {},
   "cell_type": "markdown",
   "id": "8722192f",
   "metadata": {},
   "source": [
    "# Mapping $S_1$ and $S_6$ using $Z_{C,red}$"
   ]
  },
  {
   "attachments": {},
   "cell_type": "markdown",
   "id": "b5ccb028",
   "metadata": {},
   "source": [
    "We have the following equations:\n",
    "\n",
    "\\begin{align}\n",
    "S_1 =  \\frac{1}{2} (Z_{C,ox} - Z_{C,red}) \\\\\n",
    "S_6 = \\frac{1}{2} (Z_{C,B} - Z_{C,red}) \\\\\n",
    "\\end{align}"
   ]
  },
  {
   "attachments": {},
   "cell_type": "markdown",
   "id": "c3e22c04",
   "metadata": {},
   "source": [
    "We want to vary $Z_{C,red}$ and effectively set $S_1$ and $S_6$ from it."
   ]
  },
  {
   "cell_type": "code",
   "execution_count": 3,
   "id": "df5163b8",
   "metadata": {},
   "outputs": [],
   "source": [
    "ZCred = 0.0 # setting a dummy ZCred, assuming glucose as a reference carbon source\n",
    "ZCox = +4.0 # assuming CO2 as the reference metabolic product\n",
    "ZCB = 0.0   # assuming glucose as reference carbon source, and reference S6 of 0\n",
    "\n",
    "def set_stoichs(ZCox, ZCB, ZCred):\n",
    "    S1 = 0.5 * (ZCox - ZCred)\n",
    "    S6 = 0.5 * (ZCB - ZCred)\n",
    "    return S1, S6"
   ]
  },
  {
   "cell_type": "code",
   "execution_count": 4,
   "id": "5e4d1263",
   "metadata": {},
   "outputs": [],
   "source": [
    "S1, S6 = set_stoichs(ZCox, ZCB, ZCred)"
   ]
  },
  {
   "cell_type": "code",
   "execution_count": 5,
   "id": "cb22c77a",
   "metadata": {},
   "outputs": [
    {
     "data": {
      "text/plain": [
       "(2.0, 0.0)"
      ]
     },
     "execution_count": 5,
     "metadata": {},
     "output_type": "execute_result"
    }
   ],
   "source": [
    "S1, S6"
   ]
  },
  {
   "attachments": {},
   "cell_type": "markdown",
   "id": "9c7ea4aa",
   "metadata": {},
   "source": [
    "# Respiratory heterotrophy model"
   ]
  },
  {
   "cell_type": "code",
   "execution_count": 6,
   "id": "541c9b31-43ec-4542-9dcf-4ae880760d53",
   "metadata": {},
   "outputs": [],
   "source": [
    "eps = 1e-10\n",
    "tau = 1e0\n",
    "S2 = 2."
   ]
  },
  {
   "cell_type": "code",
   "execution_count": 7,
   "id": "250a0233",
   "metadata": {},
   "outputs": [],
   "source": [
    "rho  = 1.0\n",
    "qMc = 12.0"
   ]
  },
  {
   "cell_type": "code",
   "execution_count": 43,
   "id": "f97755ac-74b6-4dd2-ba5f-35049b132aaa",
   "metadata": {},
   "outputs": [],
   "source": [
    "def het_model( t, y ):\n",
    "    x = y.copy()\n",
    "    x[x<eps] = eps\n",
    "    x[x>1e8] = 1e8\n",
    "    Corg = x[0]\n",
    "    NADH = x[1]\n",
    "    O2 = x[2]\n",
    "    ATP = x[3]\n",
    "    \n",
    "    NAD = r1 * NADH\n",
    "    ADP = r2 * ATP\n",
    "\n",
    "    # concentration dynamics are in χ units; NADH and ATP take values in mol/gC\n",
    "    # where 1 mM = 1e-3 mol/l = 6e-6 mol/gC\n",
    "    N_KM = NADH/KM\n",
    "    A_KM = ATP/KM\n",
    "    \n",
    "    # Writing down the MM term for NADH and ATP explicitly.\n",
    "    fN = N_KM / (1 + N_KM)\n",
    "    fA = A_KM / (1 + A_KM)\n",
    "\n",
    "    nu_cat = rho * phi_cat * gamma_cat_inv * tau * fN\n",
    "    nu_resp = rho * phi_resp * gamma_resp_inv * tau * fN\n",
    "    nu_ana = rho * phi_ana * gamma_ana_inv * tau * fN * fA\n",
    "    \n",
    "    mu = qMc * nu_ana\n",
    "    Jh = rho * phi_h * gamma_hom_inv * tau\n",
    "    \n",
    "    # dCorg = - nu_cat - nu_ana + nu_supply - mu * Corg\n",
    "    dCorg = 0.0\n",
    "    dNADH = S1 * nu_cat - S2 * nu_resp - S6 * nu_ana - mu * (NADH + NAD)\n",
    "    # dNADH = 0.0\n",
    "    dNAD = - dNADH\n",
    "    dO2 = 0.0\n",
    "    dATP = S3 * nu_cat + S4 * nu_resp - S5 * nu_ana  - Jh - maint - mu * ATP\n",
    "    dADP = -dATP\n",
    "    \n",
    "    dydt = np.array([dCorg, dNADH, dO2, dATP])\n",
    "    return dydt"
   ]
  },
  {
   "attachments": {},
   "cell_type": "markdown",
   "id": "004c55d8-8f66-4174-b70a-b863b452a7d5",
   "metadata": {},
   "source": [
    "# Simulations"
   ]
  },
  {
   "attachments": {},
   "cell_type": "markdown",
   "id": "c9b7154c-8473-47a7-b865-545b4d05f39f",
   "metadata": {},
   "source": [
    "### Parameters"
   ]
  },
  {
   "cell_type": "code",
   "execution_count": 53,
   "id": "ff0aa970-99f0-4dab-a7bf-35ed3a20403a",
   "metadata": {},
   "outputs": [],
   "source": [
    "# gamma inverses are in /hr units.\n",
    "gamma_cat_inv = 5e-5*3600\n",
    "gamma_resp_inv = 5e-5*3600\n",
    "gamma_ana_inv = 5e-5*3600\n",
    "gamma_hom_inv = 5e-5*3600\n",
    "\n",
    "phi_cat = 0.3\n",
    "phi_ana = 0.4\n",
    "phi_resp = 0.03\n",
    "phi_h = 0.0\n",
    "phi_o = 1 - (phi_cat + phi_ana + phi_resp + phi_h)\n",
    "\n",
    "# maintenance energy\n",
    "maint = 0.01\n",
    "\n",
    "# Default params: reliance on respiration.\n",
    "S4 = 1.0    # ATP yield of respiration\n",
    "S3 = 0.5    # ATP yield of catabolism\n",
    "S5 = 0.3    # ATP cost of anabolism"
   ]
  },
  {
   "attachments": {},
   "cell_type": "markdown",
   "id": "640499e0-f358-4198-a24b-1cd090baa581",
   "metadata": {},
   "source": [
    "### Initial conditions"
   ]
  },
  {
   "cell_type": "code",
   "execution_count": 54,
   "id": "145f2111-6e05-42b2-9110-0325dec40605",
   "metadata": {},
   "outputs": [],
   "source": [
    "# concentrations in χ units; initial values set arbitarily.\n",
    "Corg0 = 1e2\n",
    "NADH0 = 1e2\n",
    "O20 = 1e1\n",
    "ATP0 = 1e2\n",
    "\n",
    "# KM is in χ units, mol/gC (new supplement section 2.1: typical χ values)\n",
    "KM = 6e-7   # 1e-3 mol/L is 6e-6 mol/gC; 6e-7 is thus for a KM of 100 μM.\n",
    "r1 = 10.\n",
    "r2 = 0.1"
   ]
  },
  {
   "attachments": {},
   "cell_type": "markdown",
   "id": "dbe72c9b-07f7-4c1c-a034-8387a1b1b634",
   "metadata": {},
   "source": [
    "### Dynamics"
   ]
  },
  {
   "cell_type": "code",
   "execution_count": 55,
   "id": "9ac08ddb-9a53-418a-8d4c-d4fa4405b204",
   "metadata": {},
   "outputs": [],
   "source": [
    "y0 = np.array([ Corg0, NADH0, O20, ATP0 ])\n",
    "NUM_METS = len(y0)\n",
    "\n",
    "# Evaluation time\n",
    "TFINAL = 1e2\n",
    "t = np.logspace(-4, 2, 1000 )"
   ]
  },
  {
   "cell_type": "code",
   "execution_count": 56,
   "id": "2c135a22-b29f-464a-a194-96500e30a46a",
   "metadata": {},
   "outputs": [],
   "source": [
    "def give_nus( y_sol, tpt ):\n",
    "    x = y_sol[:, tpt].copy()\n",
    "    Corg = x[0]\n",
    "    NADH = x[1]\n",
    "    O2 = x[2]\n",
    "    ATP = x[3]\n",
    "\n",
    "    NAD = r1 * NADH\n",
    "    ADP = r2 * ATP\n",
    "\n",
    "    # concentration dynamics are in χ units; NADH and ATP take values in mol/gC\n",
    "    # where 1 mM = 1e-3 mol/l = 6e-6 mol/gC\n",
    "    N_KM = NADH/KM\n",
    "    A_KM = ATP/KM\n",
    "    \n",
    "    # Writing down the MM term for NADH and ATP explicitly.\n",
    "    fN = N_KM / (1 + N_KM)\n",
    "    fA = A_KM / (1 + A_KM)\n",
    "\n",
    "    nu_cat = rho * phi_cat * gamma_cat_inv * tau * fN\n",
    "    nu_resp = rho * phi_resp * gamma_resp_inv * tau * fN\n",
    "    nu_ana = rho * phi_ana * gamma_ana_inv * tau * fN * fA\n",
    "    \n",
    "    mu = qMc * nu_ana\n",
    "    Jh = rho * phi_h * gamma_hom_inv * tau\n",
    "    \n",
    "    return np.array([nu_cat, nu_resp, nu_ana, mu])"
   ]
  },
  {
   "cell_type": "code",
   "execution_count": 57,
   "id": "13c20fca",
   "metadata": {},
   "outputs": [],
   "source": [
    "y_sol = solve_ivp(het_model, [ 1e-4, TFINAL ],  y0, t_eval=t, method='Radau' ).y"
   ]
  },
  {
   "cell_type": "code",
   "execution_count": 58,
   "id": "83acaff4",
   "metadata": {},
   "outputs": [
    {
     "data": {
      "image/png": "[encoded data removed]",
      "text/plain": [
       "<Figure size 216x216 with 1 Axes>"
      ]
     },
     "metadata": {
      "needs_background": "light"
     },
     "output_type": "display_data"
    }
   ],
   "source": [
    "fig, ax = plt.subplots( 1, 1, figsize=(3,3) )\n",
    "\n",
    "ax.set_ylabel( 'concentration (' + r'$\\mathcal{C}$)')\n",
    "ax.set_xlabel( 'time (' + r'$t$)')\n",
    "for idx in range(NUM_METS):\n",
    "    ax.plot( t[:len(y_sol[idx])], y_sol[idx], lw=5 )\n",
    "ax.legend([ 'Corg', 'NADH', 'O2', 'ATP' ], loc='best')\n",
    "ax.set_yscale('log')\n",
    "ax.set_xscale('log')\n",
    "\n",
    "fig.tight_layout()\n",
    "plt.show()"
   ]
  },
  {
   "cell_type": "code",
   "execution_count": 15,
   "id": "3cb6b155",
   "metadata": {},
   "outputs": [],
   "source": [
    "def is_steady(y_sol, eps):\n",
    "    # Check if solution has reached steady state\n",
    "    # by checking if the values at index 1 and -1 are constant and above eps\n",
    "    return y_sol[1,-1] > eps and y_sol[-1,-1] > eps and np.abs(np.diff(y_sol[1,:]))[-1] < eps and np.abs(np.diff(y_sol[-1,:]))[-1] < eps"
   ]
  },
  {
   "cell_type": "code",
   "execution_count": 16,
   "id": "628f1f63",
   "metadata": {},
   "outputs": [
    {
     "data": {
      "text/plain": [
       "True"
      ]
     },
     "execution_count": 16,
     "metadata": {},
     "output_type": "execute_result"
    }
   ],
   "source": [
    "is_steady(y_sol, 1e-4)"
   ]
  },
  {
   "cell_type": "code",
   "execution_count": 17,
   "id": "0e5962f1",
   "metadata": {},
   "outputs": [
    {
     "data": {
      "image/png": "[encoded data removed]",
      "text/plain": [
       "<Figure size 216x216 with 1 Axes>"
      ]
     },
     "metadata": {
      "needs_background": "light"
     },
     "output_type": "display_data"
    }
   ],
   "source": [
    "nus = np.array([give_nus(y_sol, tpt) for tpt in range(len(t))]).T\n",
    "\n",
    "fig, ax = plt.subplots( 1, 1, figsize=(3,3) )\n",
    "\n",
    "ax.set_ylabel( 'flux (' + r'$\\nu$)')\n",
    "ax.set_xlabel( 'time (' + r'$t$)')\n",
    "for idx in range(4):\n",
    "    ax.plot( t[:len(nus[idx])], nus[idx], lw=5 )\n",
    "ax.legend([ 'cat', 'resp', 'ana', r'$\\lambda$' ], loc='best')\n",
    "ax.set_yscale('log')\n",
    "ax.set_xscale('log')\n",
    "\n",
    "fig.tight_layout()\n",
    "plt.show()"
   ]
  },
  {
   "attachments": {},
   "cell_type": "markdown",
   "id": "9e7c4e52",
   "metadata": {},
   "source": [
    "# Variable $Z_{C,red}$"
   ]
  },
  {
   "cell_type": "code",
   "execution_count": 18,
   "id": "c3929279",
   "metadata": {},
   "outputs": [
    {
     "data": {
      "text/plain": [
       "array([-5.        , -2.85714286, -0.71428571,  1.42857143,  3.57142857,\n",
       "        5.71428571,  7.85714286, 10.        ])"
      ]
     },
     "execution_count": 18,
     "metadata": {},
     "output_type": "execute_result"
    }
   ],
   "source": [
    "np.linspace(-5, 10, 8)"
   ]
  },
  {
   "cell_type": "code",
   "execution_count": 19,
   "id": "403ae9c1",
   "metadata": {},
   "outputs": [
    {
     "data": {
      "text/plain": [
       "0.0"
      ]
     },
     "execution_count": 19,
     "metadata": {},
     "output_type": "execute_result"
    }
   ],
   "source": [
    "ZCred"
   ]
  },
  {
   "cell_type": "code",
   "execution_count": 26,
   "id": "79d65fcb",
   "metadata": {},
   "outputs": [],
   "source": [
    "LB_CONC = eps  # threshold concentration set to arbitrary small value\n",
    "UB_CONC = 1e-2   # threshold concentration set to reasonable value\n",
    "\n",
    "opt_atps = []\n",
    "opt_nadhs = []\n",
    "opt_mus = []\n",
    "opt_phi_cats = []\n",
    "opt_phi_resps = []\n",
    "opt_phi_anas = []\n",
    "opt_phi_hs = []\n",
    "opt_phi_os = []\n",
    "zcreds = []\n",
    "zcbs = []\n",
    "s6s = []\n",
    "s4s = []\n",
    "s3s = []\n",
    "\n",
    "# initial concentrations in KM units\n",
    "NADH0 = 1e2\n",
    "ATP0 = 1e2\n",
    "\n",
    "eps = 1e-4 # arbitrary small value\n",
    "\n",
    "# Set fixed values for phi_o_min and maintenance\n",
    "MIN_PHI_O = 0.3\n",
    "maint = 0.00\n",
    "\n",
    "SAMPLING_DENSITY = 25\n",
    "\n",
    "S4 = 1.0    # ATP yield of respiration\n",
    "S3 = 0.5    # ATP yield of catabolism\n",
    "for S4 in [1.0, 0.1]:\n",
    "    for S3 in [0.5, 0.1]:\n",
    "        for ZCred in np.linspace(-5, 10, 50):\n",
    "            # setting stoichiometries\n",
    "            S1, S6 = set_stoichs(ZCox, ZCB, ZCred)\n",
    "\n",
    "            anas_to_sample = np.linspace(0.00, 0.9, SAMPLING_DENSITY)\n",
    "            resps_to_sample = np.linspace(0.00, 0.7, SAMPLING_DENSITY)\n",
    "            cats_to_sample = np.linspace(0.00, 0.4, SAMPLING_DENSITY)\n",
    "\n",
    "            allatps, allnadhs, allmus, allphis = [], [], [], []\n",
    "            for phi_ana in anas_to_sample:\n",
    "                for phi_resp in resps_to_sample:\n",
    "                    for phi_cat in cats_to_sample:\n",
    "                        phi_h = 0.0\n",
    "                        phi_o = 1 - (phi_cat + phi_ana + phi_resp + phi_h)\n",
    "                        # make sure that phi_o is above the minimum value.\n",
    "                        if phi_o < MIN_PHI_O:\n",
    "                            continue\n",
    "\n",
    "                        y0 = np.array([Corg0, NADH0, O20, ATP0])\n",
    "                        NUM_METS = len(y0)\n",
    "\n",
    "                        # Evaluation time\n",
    "                        TFINAL = 1e6\n",
    "                        t = np.logspace(-4, 6, 1000)\n",
    "\n",
    "                        y_sol = solve_ivp(het_model, [1e-4, TFINAL], y0, t_eval=t, method='Radau').y\n",
    "\n",
    "                        if is_steady(y_sol, eps):\n",
    "                            nus = np.array([give_nus(y_sol, tpt) for tpt in range(len(t))]).T\n",
    "\n",
    "                            allatps.append(y_sol[-1, -1])\n",
    "                            allnadhs.append(y_sol[1, -1])\n",
    "                            allmus.append(nus[-1, -1])\n",
    "                            allphis.append([phi_cat, phi_resp, phi_ana, phi_h, phi_o])\n",
    "\n",
    "            if len(allmus) > 0:\n",
    "                # Filter out solutions with ATP or NADH below LB_CONC\n",
    "                valid_indices = [i for i, (atp, nadh) in enumerate(zip(allatps, allnadhs)) if atp >= LB_CONC and nadh >= LB_CONC and atp <= UB_CONC and nadh <= UB_CONC]\n",
    "\n",
    "                allatps = [allatps[i] for i in valid_indices]\n",
    "                allnadhs = [allnadhs[i] for i in valid_indices]\n",
    "                allmus = [allmus[i] for i in valid_indices]\n",
    "                allphis = [allphis[i] for i in valid_indices]\n",
    "\n",
    "                # Check if any valid solutions remain\n",
    "                if len(allmus) > 0:\n",
    "                    mus = np.array(allmus)\n",
    "                    max_index = np.argmax(mus)  # finding growth-optimal index\n",
    "                    phi_cat, phi_resp, phi_ana, phi_h, phi_o = allphis[max_index]  # optimal phis\n",
    "\n",
    "                    # storing optimized ATP*, NADH* and optimal phi_resp.\n",
    "                    opt_atps.append(allatps[max_index])\n",
    "                    opt_nadhs.append(allnadhs[max_index])\n",
    "                    opt_phi_cats.append(phi_cat)\n",
    "                    opt_phi_resps.append(phi_resp)\n",
    "                    opt_phi_anas.append(phi_ana)\n",
    "                    opt_phi_hs.append(phi_h)\n",
    "                    opt_phi_os.append(phi_o)\n",
    "                    opt_mus.append(allmus[max_index])\n",
    "                    zcreds.append(ZCred)\n",
    "                    zcbs.append(ZCB)\n",
    "                    s6s.append(S6)\n",
    "                    s4s.append(S4)\n",
    "                    s3s.append(S3)\n",
    "                else:\n",
    "                    # storing optimized ATP*, NADH* and optimal phi_resp.\n",
    "                    opt_atps.append(0.0)\n",
    "                    opt_nadhs.append(0.0)\n",
    "                    opt_phi_cats.append(0.0)\n",
    "                    opt_phi_resps.append(0.0)\n",
    "                    opt_phi_anas.append(0.0)\n",
    "                    opt_phi_hs.append(0.0)\n",
    "                    opt_phi_os.append(0.0)\n",
    "                    opt_mus.append(0.0)\n",
    "                    zcreds.append(ZCred)\n",
    "                    zcbs.append(ZCB)\n",
    "                    s6s.append(S6)\n",
    "                    s4s.append(S4)\n",
    "                    s3s.append(S3)\n",
    "\n",
    "\n",
    "df = pd.DataFrame({'atps': opt_atps,\n",
    "                   'nadhs': opt_nadhs,\n",
    "                   'zcred': zcreds,\n",
    "                   'zcb': zcbs,\n",
    "                   's6s': s6s,\n",
    "                   's4s': s4s,\n",
    "                   's3s': s3s,\n",
    "                   'mus': opt_mus,\n",
    "                   'opt_phi_cat': opt_phi_cats,\n",
    "                   'opt_phi_resp': opt_phi_resps,\n",
    "                   'opt_phi_ana': opt_phi_anas,\n",
    "                   'opt_phi_h': opt_phi_hs,\n",
    "                   'opt_phi_o': opt_phi_os\n",
    "                   })\n"
   ]
  },
  {
   "cell_type": "code",
   "execution_count": 27,
   "id": "fdc7f917",
   "metadata": {},
   "outputs": [
    {
     "data": {
      "text/html": [
       "<div>\n",
       "<style scoped>\n",
       "    .dataframe tbody tr th:only-of-type {\n",
       "        vertical-align: middle;\n",
       "    }\n",
       "\n",
       "    .dataframe tbody tr th {\n",
       "        vertical-align: top;\n",
       "    }\n",
       "\n",
       "    .dataframe thead th {\n",
       "        text-align: right;\n",
       "    }\n",
       "</style>\n",
       "<table border=\"1\" class=\"dataframe\">\n",
       "  <thead>\n",
       "    <tr style=\"text-align: right;\">\n",
       "      <th></th>\n",
       "      <th>atps</th>\n",
       "      <th>nadhs</th>\n",
       "      <th>zcred</th>\n",
       "      <th>zcb</th>\n",
       "      <th>s6s</th>\n",
       "      <th>s4s</th>\n",
       "      <th>s3s</th>\n",
       "      <th>mus</th>\n",
       "      <th>opt_phi_cat</th>\n",
       "      <th>opt_phi_resp</th>\n",
       "      <th>opt_phi_ana</th>\n",
       "      <th>opt_phi_h</th>\n",
       "      <th>opt_phi_o</th>\n",
       "    </tr>\n",
       "  </thead>\n",
       "  <tbody>\n",
       "    <tr>\n",
       "      <th>0</th>\n",
       "      <td>0.000253</td>\n",
       "      <td>0.001722</td>\n",
       "      <td>-5.000000</td>\n",
       "      <td>0.0</td>\n",
       "      <td>2.500000</td>\n",
       "      <td>1.0</td>\n",
       "      <td>0.5</td>\n",
       "      <td>0.891</td>\n",
       "      <td>0.25</td>\n",
       "      <td>0.0</td>\n",
       "      <td>0.4125</td>\n",
       "      <td>0.0</td>\n",
       "      <td>0.3375</td>\n",
       "    </tr>\n",
       "    <tr>\n",
       "      <th>1</th>\n",
       "      <td>0.000253</td>\n",
       "      <td>0.002179</td>\n",
       "      <td>-4.693878</td>\n",
       "      <td>0.0</td>\n",
       "      <td>2.346939</td>\n",
       "      <td>1.0</td>\n",
       "      <td>0.5</td>\n",
       "      <td>0.891</td>\n",
       "      <td>0.25</td>\n",
       "      <td>0.0</td>\n",
       "      <td>0.4125</td>\n",
       "      <td>0.0</td>\n",
       "      <td>0.3375</td>\n",
       "    </tr>\n",
       "    <tr>\n",
       "      <th>2</th>\n",
       "      <td>0.000253</td>\n",
       "      <td>0.002635</td>\n",
       "      <td>-4.387755</td>\n",
       "      <td>0.0</td>\n",
       "      <td>2.193878</td>\n",
       "      <td>1.0</td>\n",
       "      <td>0.5</td>\n",
       "      <td>0.891</td>\n",
       "      <td>0.25</td>\n",
       "      <td>0.0</td>\n",
       "      <td>0.4125</td>\n",
       "      <td>0.0</td>\n",
       "      <td>0.3375</td>\n",
       "    </tr>\n",
       "    <tr>\n",
       "      <th>3</th>\n",
       "      <td>0.000253</td>\n",
       "      <td>0.003092</td>\n",
       "      <td>-4.081633</td>\n",
       "      <td>0.0</td>\n",
       "      <td>2.040816</td>\n",
       "      <td>1.0</td>\n",
       "      <td>0.5</td>\n",
       "      <td>0.891</td>\n",
       "      <td>0.25</td>\n",
       "      <td>0.0</td>\n",
       "      <td>0.4125</td>\n",
       "      <td>0.0</td>\n",
       "      <td>0.3375</td>\n",
       "    </tr>\n",
       "    <tr>\n",
       "      <th>4</th>\n",
       "      <td>0.000253</td>\n",
       "      <td>0.003549</td>\n",
       "      <td>-3.775510</td>\n",
       "      <td>0.0</td>\n",
       "      <td>1.887755</td>\n",
       "      <td>1.0</td>\n",
       "      <td>0.5</td>\n",
       "      <td>0.891</td>\n",
       "      <td>0.25</td>\n",
       "      <td>0.0</td>\n",
       "      <td>0.4125</td>\n",
       "      <td>0.0</td>\n",
       "      <td>0.3375</td>\n",
       "    </tr>\n",
       "    <tr>\n",
       "      <th>...</th>\n",
       "      <td>...</td>\n",
       "      <td>...</td>\n",
       "      <td>...</td>\n",
       "      <td>...</td>\n",
       "      <td>...</td>\n",
       "      <td>...</td>\n",
       "      <td>...</td>\n",
       "      <td>...</td>\n",
       "      <td>...</td>\n",
       "      <td>...</td>\n",
       "      <td>...</td>\n",
       "      <td>...</td>\n",
       "      <td>...</td>\n",
       "    </tr>\n",
       "    <tr>\n",
       "      <th>195</th>\n",
       "      <td>0.000000</td>\n",
       "      <td>0.000000</td>\n",
       "      <td>8.775510</td>\n",
       "      <td>0.0</td>\n",
       "      <td>-4.387755</td>\n",
       "      <td>0.1</td>\n",
       "      <td>0.1</td>\n",
       "      <td>0.000</td>\n",
       "      <td>0.00</td>\n",
       "      <td>0.0</td>\n",
       "      <td>0.0000</td>\n",
       "      <td>0.0</td>\n",
       "      <td>0.0000</td>\n",
       "    </tr>\n",
       "    <tr>\n",
       "      <th>196</th>\n",
       "      <td>0.000000</td>\n",
       "      <td>0.000000</td>\n",
       "      <td>9.081633</td>\n",
       "      <td>0.0</td>\n",
       "      <td>-4.540816</td>\n",
       "      <td>0.1</td>\n",
       "      <td>0.1</td>\n",
       "      <td>0.000</td>\n",
       "      <td>0.00</td>\n",
       "      <td>0.0</td>\n",
       "      <td>0.0000</td>\n",
       "      <td>0.0</td>\n",
       "      <td>0.0000</td>\n",
       "    </tr>\n",
       "    <tr>\n",
       "      <th>197</th>\n",
       "      <td>0.000000</td>\n",
       "      <td>0.000000</td>\n",
       "      <td>9.387755</td>\n",
       "      <td>0.0</td>\n",
       "      <td>-4.693878</td>\n",
       "      <td>0.1</td>\n",
       "      <td>0.1</td>\n",
       "      <td>0.000</td>\n",
       "      <td>0.00</td>\n",
       "      <td>0.0</td>\n",
       "      <td>0.0000</td>\n",
       "      <td>0.0</td>\n",
       "      <td>0.0000</td>\n",
       "    </tr>\n",
       "    <tr>\n",
       "      <th>198</th>\n",
       "      <td>0.000000</td>\n",
       "      <td>0.000000</td>\n",
       "      <td>9.693878</td>\n",
       "      <td>0.0</td>\n",
       "      <td>-4.846939</td>\n",
       "      <td>0.1</td>\n",
       "      <td>0.1</td>\n",
       "      <td>0.000</td>\n",
       "      <td>0.00</td>\n",
       "      <td>0.0</td>\n",
       "      <td>0.0000</td>\n",
       "      <td>0.0</td>\n",
       "      <td>0.0000</td>\n",
       "    </tr>\n",
       "    <tr>\n",
       "      <th>199</th>\n",
       "      <td>0.000000</td>\n",
       "      <td>0.000000</td>\n",
       "      <td>10.000000</td>\n",
       "      <td>0.0</td>\n",
       "      <td>-5.000000</td>\n",
       "      <td>0.1</td>\n",
       "      <td>0.1</td>\n",
       "      <td>0.000</td>\n",
       "      <td>0.00</td>\n",
       "      <td>0.0</td>\n",
       "      <td>0.0000</td>\n",
       "      <td>0.0</td>\n",
       "      <td>0.0000</td>\n",
       "    </tr>\n",
       "  </tbody>\n",
       "</table>\n",
       "<p>200 rows × 13 columns</p>\n",
       "</div>"
      ],
      "text/plain": [
       "         atps     nadhs      zcred  zcb       s6s  s4s  s3s    mus  \\\n",
       "0    0.000253  0.001722  -5.000000  0.0  2.500000  1.0  0.5  0.891   \n",
       "1    0.000253  0.002179  -4.693878  0.0  2.346939  1.0  0.5  0.891   \n",
       "2    0.000253  0.002635  -4.387755  0.0  2.193878  1.0  0.5  0.891   \n",
       "3    0.000253  0.003092  -4.081633  0.0  2.040816  1.0  0.5  0.891   \n",
       "4    0.000253  0.003549  -3.775510  0.0  1.887755  1.0  0.5  0.891   \n",
       "..        ...       ...        ...  ...       ...  ...  ...    ...   \n",
       "195  0.000000  0.000000   8.775510  0.0 -4.387755  0.1  0.1  0.000   \n",
       "196  0.000000  0.000000   9.081633  0.0 -4.540816  0.1  0.1  0.000   \n",
       "197  0.000000  0.000000   9.387755  0.0 -4.693878  0.1  0.1  0.000   \n",
       "198  0.000000  0.000000   9.693878  0.0 -4.846939  0.1  0.1  0.000   \n",
       "199  0.000000  0.000000  10.000000  0.0 -5.000000  0.1  0.1  0.000   \n",
       "\n",
       "     opt_phi_cat  opt_phi_resp  opt_phi_ana  opt_phi_h  opt_phi_o  \n",
       "0           0.25           0.0       0.4125        0.0     0.3375  \n",
       "1           0.25           0.0       0.4125        0.0     0.3375  \n",
       "2           0.25           0.0       0.4125        0.0     0.3375  \n",
       "3           0.25           0.0       0.4125        0.0     0.3375  \n",
       "4           0.25           0.0       0.4125        0.0     0.3375  \n",
       "..           ...           ...          ...        ...        ...  \n",
       "195         0.00           0.0       0.0000        0.0     0.0000  \n",
       "196         0.00           0.0       0.0000        0.0     0.0000  \n",
       "197         0.00           0.0       0.0000        0.0     0.0000  \n",
       "198         0.00           0.0       0.0000        0.0     0.0000  \n",
       "199         0.00           0.0       0.0000        0.0     0.0000  \n",
       "\n",
       "[200 rows x 13 columns]"
      ]
     },
     "execution_count": 27,
     "metadata": {},
     "output_type": "execute_result"
    }
   ],
   "source": [
    "df"
   ]
  },
  {
   "cell_type": "code",
   "execution_count": 28,
   "id": "a9b75fd8",
   "metadata": {},
   "outputs": [],
   "source": [
    "# df.to_csv('../data/zcred_sweep_1.csv', index=False)"
   ]
  },
  {
   "cell_type": "code",
   "execution_count": 60,
   "id": "02ea666c",
   "metadata": {},
   "outputs": [],
   "source": [
    "df = pd.read_csv('mm_zcred_sweep_1.csv', index_col=False)"
   ]
  },
  {
   "cell_type": "code",
   "execution_count": 61,
   "id": "1010a8a9",
   "metadata": {},
   "outputs": [
    {
     "data": {
      "image/png": "[encoded data removed]",
      "text/plain": [
       "<Figure size 288x288 with 1 Axes>"
      ]
     },
     "metadata": {
      "needs_background": "light"
     },
     "output_type": "display_data"
    }
   ],
   "source": [
    "# Initialize the plot\n",
    "plt.figure(figsize=(4, 4))\n",
    "\n",
    "# Define the values you want to filter by\n",
    "s4s_values = [1.0, 0.1]  # Replace with the actual values\n",
    "s3s_values = [0.5, 0.5]  # Replace with the actual values\n",
    "zcb_values = [0.0, 0.0]  # Replace with the actual values\n",
    "\n",
    "# Loop through the values and plot\n",
    "for s4s_val, s3s_val, zcb_val in zip(s4s_values, s3s_values, zcb_values):\n",
    "    # Filter the DataFrame\n",
    "    filtered_df = df[(df['s4s'] == s4s_val) & (df['s3s'] == s3s_val) & (df['zcb'] == zcb_val)]\n",
    "    \n",
    "    # Plot the filtered data\n",
    "    plt.plot(filtered_df['zcred'], filtered_df['mus'], marker='o', linestyle='-', label=f'S4={s4s_val}, S3={s3s_val}, ZCB={zcb_val}')\n",
    "\n",
    "# Add labels and title\n",
    "plt.xlabel(r'$Z_{C,red}$')\n",
    "plt.ylabel('optimal growth rate ' + r'$\\lambda_{max}$')\n",
    "\n",
    "# Add grid and legend\n",
    "plt.legend()\n",
    "\n",
    "# Show the plot\n",
    "plt.show()"
   ]
  },
  {
   "cell_type": "code",
   "execution_count": 62,
   "id": "91909bfa",
   "metadata": {},
   "outputs": [
    {
     "data": {
      "image/png": "[encoded data removed]",
      "text/plain": [
       "<Figure size 288x288 with 1 Axes>"
      ]
     },
     "metadata": {
      "needs_background": "light"
     },
     "output_type": "display_data"
    }
   ],
   "source": [
    "# Initialize the plot\n",
    "plt.figure(figsize=(4, 4))\n",
    "\n",
    "# Define the values you want to filter by\n",
    "s4s_values = [1.0, 1.0]  # Replace with the actual values\n",
    "s3s_values = [0.5, 0.1]  # Replace with the actual values\n",
    "zcb_values = [0.0, 0.0]  # Replace with the actual values\n",
    "\n",
    "# Loop through the values and plot\n",
    "for s4s_val, s3s_val, zcb_val in zip(s4s_values, s3s_values, zcb_values):\n",
    "    # Filter the DataFrame\n",
    "    filtered_df = df[(df['s4s'] == s4s_val) & (df['s3s'] == s3s_val) & (df['zcb'] == zcb_val)]\n",
    "    \n",
    "    # Plot the filtered data\n",
    "    plt.plot(filtered_df['zcred'], filtered_df['mus'], marker='o', linestyle='-', label=f'S4={s4s_val}, S3={s3s_val}, ZCB={zcb_val}')\n",
    "\n",
    "# Add labels and title\n",
    "plt.xlabel(r'$Z_{C,red}$')\n",
    "plt.ylabel('optimal growth rate ' + r'$\\lambda_{max}$')\n",
    "\n",
    "# Add grid and legend\n",
    "plt.legend()\n",
    "\n",
    "# Show the plot\n",
    "plt.show()"
   ]
  },
  {
   "attachments": {},
   "cell_type": "markdown",
   "id": "9666f132",
   "metadata": {},
   "source": [
    "# Variable $\\phi_h$"
   ]
  },
  {
   "cell_type": "code",
   "execution_count": 26,
   "id": "29b93366",
   "metadata": {},
   "outputs": [
    {
     "ename": "KeyboardInterrupt",
     "evalue": "",
     "output_type": "error",
     "traceback": [
      "\u001b[0;31m---------------------------------------------------------------------------\u001b[0m",
      "\u001b[0;31mKeyboardInterrupt\u001b[0m                         Traceback (most recent call last)",
      "\u001b[1;32m/Users/akshit/Documents/GitHub/redox-proteome/akshit_notebooks/015_zero_order_w_dilution.ipynb Cell 20\u001b[0m in \u001b[0;36m<cell line: 24>\u001b[0;34m()\u001b[0m\n\u001b[1;32m     <a href='vscode-notebook-cell:/Users/akshit/Documents/GitHub/redox-proteome/akshit_notebooks/015_zero_order_w_dilution.ipynb#X25sZmlsZQ%3D%3D?line=42'>43</a>\u001b[0m TFINAL \u001b[39m=\u001b[39m \u001b[39m1e6\u001b[39m\n\u001b[1;32m     <a href='vscode-notebook-cell:/Users/akshit/Documents/GitHub/redox-proteome/akshit_notebooks/015_zero_order_w_dilution.ipynb#X25sZmlsZQ%3D%3D?line=43'>44</a>\u001b[0m t \u001b[39m=\u001b[39m np\u001b[39m.\u001b[39mlogspace(\u001b[39m-\u001b[39m\u001b[39m4\u001b[39m, \u001b[39m6\u001b[39m, \u001b[39m1000\u001b[39m)\n\u001b[0;32m---> <a href='vscode-notebook-cell:/Users/akshit/Documents/GitHub/redox-proteome/akshit_notebooks/015_zero_order_w_dilution.ipynb#X25sZmlsZQ%3D%3D?line=45'>46</a>\u001b[0m y_sol \u001b[39m=\u001b[39m solve_ivp(het_model, [\u001b[39m1e-4\u001b[39;49m, TFINAL], y0, t_eval\u001b[39m=\u001b[39;49mt, method\u001b[39m=\u001b[39;49m\u001b[39m'\u001b[39;49m\u001b[39mRadau\u001b[39;49m\u001b[39m'\u001b[39;49m)\u001b[39m.\u001b[39my\n\u001b[1;32m     <a href='vscode-notebook-cell:/Users/akshit/Documents/GitHub/redox-proteome/akshit_notebooks/015_zero_order_w_dilution.ipynb#X25sZmlsZQ%3D%3D?line=47'>48</a>\u001b[0m \u001b[39mif\u001b[39;00m is_steady(y_sol, eps):\n\u001b[1;32m     <a href='vscode-notebook-cell:/Users/akshit/Documents/GitHub/redox-proteome/akshit_notebooks/015_zero_order_w_dilution.ipynb#X25sZmlsZQ%3D%3D?line=48'>49</a>\u001b[0m     nus \u001b[39m=\u001b[39m np\u001b[39m.\u001b[39marray([give_nus(y_sol, tpt) \u001b[39mfor\u001b[39;00m tpt \u001b[39min\u001b[39;00m \u001b[39mrange\u001b[39m(\u001b[39mlen\u001b[39m(t))])\u001b[39m.\u001b[39mT\n",
      "File \u001b[0;32m~/opt/miniconda3/envs/ces/lib/python3.8/site-packages/scipy/integrate/_ivp/ivp.py:589\u001b[0m, in \u001b[0;36msolve_ivp\u001b[0;34m(fun, t_span, y0, method, t_eval, dense_output, events, vectorized, args, **options)\u001b[0m\n\u001b[1;32m    587\u001b[0m status \u001b[39m=\u001b[39m \u001b[39mNone\u001b[39;00m\n\u001b[1;32m    588\u001b[0m \u001b[39mwhile\u001b[39;00m status \u001b[39mis\u001b[39;00m \u001b[39mNone\u001b[39;00m:\n\u001b[0;32m--> 589\u001b[0m     message \u001b[39m=\u001b[39m solver\u001b[39m.\u001b[39;49mstep()\n\u001b[1;32m    591\u001b[0m     \u001b[39mif\u001b[39;00m solver\u001b[39m.\u001b[39mstatus \u001b[39m==\u001b[39m \u001b[39m'\u001b[39m\u001b[39mfinished\u001b[39m\u001b[39m'\u001b[39m:\n\u001b[1;32m    592\u001b[0m         status \u001b[39m=\u001b[39m \u001b[39m0\u001b[39m\n",
      "File \u001b[0;32m~/opt/miniconda3/envs/ces/lib/python3.8/site-packages/scipy/integrate/_ivp/base.py:181\u001b[0m, in \u001b[0;36mOdeSolver.step\u001b[0;34m(self)\u001b[0m\n\u001b[1;32m    179\u001b[0m \u001b[39melse\u001b[39;00m:\n\u001b[1;32m    180\u001b[0m     t \u001b[39m=\u001b[39m \u001b[39mself\u001b[39m\u001b[39m.\u001b[39mt\n\u001b[0;32m--> 181\u001b[0m     success, message \u001b[39m=\u001b[39m \u001b[39mself\u001b[39;49m\u001b[39m.\u001b[39;49m_step_impl()\n\u001b[1;32m    183\u001b[0m     \u001b[39mif\u001b[39;00m \u001b[39mnot\u001b[39;00m success:\n\u001b[1;32m    184\u001b[0m         \u001b[39mself\u001b[39m\u001b[39m.\u001b[39mstatus \u001b[39m=\u001b[39m \u001b[39m'\u001b[39m\u001b[39mfailed\u001b[39m\u001b[39m'\u001b[39m\n",
      "File \u001b[0;32m~/opt/miniconda3/envs/ces/lib/python3.8/site-packages/scipy/integrate/_ivp/radau.py:451\u001b[0m, in \u001b[0;36mRadau._step_impl\u001b[0;34m(self)\u001b[0m\n\u001b[1;32m    448\u001b[0m     LU_real \u001b[39m=\u001b[39m \u001b[39mself\u001b[39m\u001b[39m.\u001b[39mlu(MU_REAL \u001b[39m/\u001b[39m h \u001b[39m*\u001b[39m \u001b[39mself\u001b[39m\u001b[39m.\u001b[39mI \u001b[39m-\u001b[39m J)\n\u001b[1;32m    449\u001b[0m     LU_complex \u001b[39m=\u001b[39m \u001b[39mself\u001b[39m\u001b[39m.\u001b[39mlu(MU_COMPLEX \u001b[39m/\u001b[39m h \u001b[39m*\u001b[39m \u001b[39mself\u001b[39m\u001b[39m.\u001b[39mI \u001b[39m-\u001b[39m J)\n\u001b[0;32m--> 451\u001b[0m converged, n_iter, Z, rate \u001b[39m=\u001b[39m solve_collocation_system(\n\u001b[1;32m    452\u001b[0m     \u001b[39mself\u001b[39;49m\u001b[39m.\u001b[39;49mfun, t, y, h, Z0, scale, \u001b[39mself\u001b[39;49m\u001b[39m.\u001b[39;49mnewton_tol,\n\u001b[1;32m    453\u001b[0m     LU_real, LU_complex, \u001b[39mself\u001b[39;49m\u001b[39m.\u001b[39;49msolve_lu)\n\u001b[1;32m    455\u001b[0m \u001b[39mif\u001b[39;00m \u001b[39mnot\u001b[39;00m converged:\n\u001b[1;32m    456\u001b[0m     \u001b[39mif\u001b[39;00m current_jac:\n",
      "File \u001b[0;32m~/opt/miniconda3/envs/ces/lib/python3.8/site-packages/scipy/integrate/_ivp/radau.py:103\u001b[0m, in \u001b[0;36msolve_collocation_system\u001b[0;34m(fun, t, y, h, Z0, scale, tol, LU_real, LU_complex, solve_lu)\u001b[0m\n\u001b[1;32m    101\u001b[0m \u001b[39mfor\u001b[39;00m k \u001b[39min\u001b[39;00m \u001b[39mrange\u001b[39m(NEWTON_MAXITER):\n\u001b[1;32m    102\u001b[0m     \u001b[39mfor\u001b[39;00m i \u001b[39min\u001b[39;00m \u001b[39mrange\u001b[39m(\u001b[39m3\u001b[39m):\n\u001b[0;32m--> 103\u001b[0m         F[i] \u001b[39m=\u001b[39m fun(t \u001b[39m+\u001b[39;49m ch[i], y \u001b[39m+\u001b[39;49m Z[i])\n\u001b[1;32m    105\u001b[0m     \u001b[39mif\u001b[39;00m \u001b[39mnot\u001b[39;00m np\u001b[39m.\u001b[39mall(np\u001b[39m.\u001b[39misfinite(F)):\n\u001b[1;32m    106\u001b[0m         \u001b[39mbreak\u001b[39;00m\n",
      "File \u001b[0;32m~/opt/miniconda3/envs/ces/lib/python3.8/site-packages/scipy/integrate/_ivp/base.py:138\u001b[0m, in \u001b[0;36mOdeSolver.__init__.<locals>.fun\u001b[0;34m(t, y)\u001b[0m\n\u001b[1;32m    136\u001b[0m \u001b[39mdef\u001b[39;00m \u001b[39mfun\u001b[39m(t, y):\n\u001b[1;32m    137\u001b[0m     \u001b[39mself\u001b[39m\u001b[39m.\u001b[39mnfev \u001b[39m+\u001b[39m\u001b[39m=\u001b[39m \u001b[39m1\u001b[39m\n\u001b[0;32m--> 138\u001b[0m     \u001b[39mreturn\u001b[39;00m \u001b[39mself\u001b[39;49m\u001b[39m.\u001b[39;49mfun_single(t, y)\n",
      "File \u001b[0;32m~/opt/miniconda3/envs/ces/lib/python3.8/site-packages/scipy/integrate/_ivp/base.py:20\u001b[0m, in \u001b[0;36mcheck_arguments.<locals>.fun_wrapped\u001b[0;34m(t, y)\u001b[0m\n\u001b[1;32m     19\u001b[0m \u001b[39mdef\u001b[39;00m \u001b[39mfun_wrapped\u001b[39m(t, y):\n\u001b[0;32m---> 20\u001b[0m     \u001b[39mreturn\u001b[39;00m np\u001b[39m.\u001b[39masarray(fun(t, y), dtype\u001b[39m=\u001b[39mdtype)\n",
      "\u001b[1;32m/Users/akshit/Documents/GitHub/redox-proteome/akshit_notebooks/015_zero_order_w_dilution.ipynb Cell 20\u001b[0m in \u001b[0;36mhet_model\u001b[0;34m(t, y)\u001b[0m\n\u001b[1;32m     <a href='vscode-notebook-cell:/Users/akshit/Documents/GitHub/redox-proteome/akshit_notebooks/015_zero_order_w_dilution.ipynb#X25sZmlsZQ%3D%3D?line=19'>20</a>\u001b[0m \u001b[39m# dCorg = - nu_cat - nu_ana + nu_supply - mu * Corg\u001b[39;00m\n\u001b[1;32m     <a href='vscode-notebook-cell:/Users/akshit/Documents/GitHub/redox-proteome/akshit_notebooks/015_zero_order_w_dilution.ipynb#X25sZmlsZQ%3D%3D?line=20'>21</a>\u001b[0m dCorg \u001b[39m=\u001b[39m \u001b[39m0.0\u001b[39m\n\u001b[0;32m---> <a href='vscode-notebook-cell:/Users/akshit/Documents/GitHub/redox-proteome/akshit_notebooks/015_zero_order_w_dilution.ipynb#X25sZmlsZQ%3D%3D?line=21'>22</a>\u001b[0m dNADH \u001b[39m=\u001b[39m \u001b[39m2\u001b[39m \u001b[39m*\u001b[39m nu_cat \u001b[39m-\u001b[39m \u001b[39m2\u001b[39m \u001b[39m*\u001b[39m nu_resp \u001b[39m-\u001b[39m S6 \u001b[39m*\u001b[39m nu_ana \u001b[39m-\u001b[39m mu \u001b[39m*\u001b[39m (NADH \u001b[39m+\u001b[39m NAD)\n\u001b[1;32m     <a href='vscode-notebook-cell:/Users/akshit/Documents/GitHub/redox-proteome/akshit_notebooks/015_zero_order_w_dilution.ipynb#X25sZmlsZQ%3D%3D?line=22'>23</a>\u001b[0m \u001b[39m# dNADH = 0.0\u001b[39;00m\n\u001b[1;32m     <a href='vscode-notebook-cell:/Users/akshit/Documents/GitHub/redox-proteome/akshit_notebooks/015_zero_order_w_dilution.ipynb#X25sZmlsZQ%3D%3D?line=23'>24</a>\u001b[0m dNAD \u001b[39m=\u001b[39m \u001b[39m-\u001b[39m dNADH\n",
      "\u001b[0;31mKeyboardInterrupt\u001b[0m: "
     ]
    }
   ],
   "source": [
    "LB_CONC = 1e-20  # threshold concentration\n",
    "UB_CONC = 1e20   # threshold concentration\n",
    "\n",
    "opt_atps = []\n",
    "opt_nadhs = []\n",
    "opt_mus = []\n",
    "opt_phi_cats = []\n",
    "opt_phi_resps = []\n",
    "opt_phi_anas = []\n",
    "opt_phi_hs = []\n",
    "opt_phi_os = []\n",
    "s6s = []\n",
    "\n",
    "# concentrations in KM units\n",
    "NADH0 = 1e2\n",
    "ATP0 = 1e2\n",
    "\n",
    "eps = 1e-4 # define your own value for eps here\n",
    "\n",
    "# Set fixed values for phi_o and maintenance\n",
    "phi_o = 0.4\n",
    "maint = 0.01\n",
    "\n",
    "for S6 in [0.5]:#np.linspace(-1, 2, 3):\n",
    "    anas_to_sample = np.linspace(0.01, 0.9, 20)\n",
    "    resps_to_sample = np.linspace(0.01, 0.7, 20)\n",
    "    cats_to_sample = np.linspace(0.01, 0.4, 20)\n",
    "\n",
    "    allatps, allnadhs, allmus, allphis = [], [], [], []\n",
    "    for phi_ana in anas_to_sample:\n",
    "        for phi_resp in resps_to_sample:\n",
    "            for phi_cat in cats_to_sample:\n",
    "                phi_h = 0.0\n",
    "                phi_o = 1 - (phi_cat + phi_ana + phi_resp + phi_h)\n",
    "                # make sure that phi_h is positive.\n",
    "                if phi_o < 0.4:\n",
    "                    continue\n",
    "\n",
    "                y0 = np.array([Corg0, NADH0, O20, ATP0])\n",
    "                NUM_METS = len(y0)\n",
    "\n",
    "                # Evaluation time\n",
    "                TFINAL = 1e6\n",
    "                t = np.logspace(-4, 6, 1000)\n",
    "\n",
    "                y_sol = solve_ivp(het_model, [1e-4, TFINAL], y0, t_eval=t, method='Radau').y\n",
    "\n",
    "                if is_steady(y_sol, eps):\n",
    "                    nus = np.array([give_nus(y_sol, tpt) for tpt in range(len(t))]).T\n",
    "\n",
    "                    allatps.append(y_sol[-1, -1])\n",
    "                    allnadhs.append(y_sol[1, -1])\n",
    "                    allmus.append(nus[-1, -1])\n",
    "                    allphis.append([phi_cat, phi_resp, phi_ana, phi_h, phi_o])\n",
    "\n",
    "    if len(allmus) > 0:\n",
    "        # Filter out solutions with ATP or NADH below LB_CONC\n",
    "        valid_indices = [i for i, (atp, nadh) in enumerate(zip(allatps, allnadhs)) if atp >= LB_CONC and nadh >= LB_CONC and atp <= UB_CONC and nadh <= UB_CONC]\n",
    "\n",
    "        allatps = [allatps[i] for i in valid_indices]\n",
    "        allnadhs = [allnadhs[i] for i in valid_indices]\n",
    "        allmus = [allmus[i] for i in valid_indices]\n",
    "        allphis = [allphis[i] for i in valid_indices]\n",
    "\n",
    "        # Check if any valid solutions remain\n",
    "        if len(allmus) > 0:\n",
    "            mus = np.array(allmus)\n",
    "            max_index = np.argmax(mus)  # finding growth-optimal index\n",
    "            phi_cat, phi_resp, phi_ana, phi_h, phi_o = allphis[max_index]  # optimal phis\n",
    "\n",
    "            # storing optimized ATP*, NADH* and optimal phi_resp.\n",
    "            opt_atps.append(allatps[max_index])\n",
    "            opt_nadhs.append(allnadhs[max_index])\n",
    "            opt_phi_cats.append(phi_cat)\n",
    "            opt_phi_resps.append(phi_resp)\n",
    "            opt_phi_anas.append(phi_ana)\n",
    "            opt_phi_hs.append(phi_h)\n",
    "            opt_phi_os.append(phi_o)\n",
    "            opt_mus.append(allmus[max_index])\n",
    "            s6s.append(S6)\n",
    "\n",
    "df = pd.DataFrame({'atps': opt_atps,\n",
    "                   'nadhs': opt_nadhs,\n",
    "                   's6s': s6s,\n",
    "                   'mus': opt_mus,\n",
    "                   'opt_phi_cat': opt_phi_cats,\n",
    "                   'opt_phi_resp': opt_phi_resps,\n",
    "                   'opt_phi_ana': opt_phi_anas,\n",
    "                   'opt_phi_h': opt_phi_hs,\n",
    "                   'opt_phi_o': opt_phi_os\n",
    "                   })\n"
   ]
  },
  {
   "cell_type": "code",
   "execution_count": null,
   "id": "428041b7",
   "metadata": {},
   "outputs": [
    {
     "data": {
      "text/html": [
       "<div>\n",
       "<style scoped>\n",
       "    .dataframe tbody tr th:only-of-type {\n",
       "        vertical-align: middle;\n",
       "    }\n",
       "\n",
       "    .dataframe tbody tr th {\n",
       "        vertical-align: top;\n",
       "    }\n",
       "\n",
       "    .dataframe thead th {\n",
       "        text-align: right;\n",
       "    }\n",
       "</style>\n",
       "<table border=\"1\" class=\"dataframe\">\n",
       "  <thead>\n",
       "    <tr style=\"text-align: right;\">\n",
       "      <th></th>\n",
       "      <th>atps</th>\n",
       "      <th>nadhs</th>\n",
       "      <th>s6s</th>\n",
       "      <th>mus</th>\n",
       "      <th>opt_phi_cat</th>\n",
       "      <th>opt_phi_resp</th>\n",
       "      <th>opt_phi_ana</th>\n",
       "      <th>opt_phi_h</th>\n",
       "      <th>opt_phi_o</th>\n",
       "    </tr>\n",
       "  </thead>\n",
       "  <tbody>\n",
       "    <tr>\n",
       "      <th>0</th>\n",
       "      <td>0.008364</td>\n",
       "      <td>0.000988</td>\n",
       "      <td>0.5</td>\n",
       "      <td>0.6624</td>\n",
       "      <td>0.183333</td>\n",
       "      <td>0.086667</td>\n",
       "      <td>0.306667</td>\n",
       "      <td>0.0</td>\n",
       "      <td>0.423333</td>\n",
       "    </tr>\n",
       "  </tbody>\n",
       "</table>\n",
       "</div>"
      ],
      "text/plain": [
       "       atps     nadhs  s6s     mus  opt_phi_cat  opt_phi_resp  opt_phi_ana  \\\n",
       "0  0.008364  0.000988  0.5  0.6624     0.183333      0.086667     0.306667   \n",
       "\n",
       "   opt_phi_h  opt_phi_o  \n",
       "0        0.0   0.423333  "
      ]
     },
     "execution_count": 25,
     "metadata": {},
     "output_type": "execute_result"
    }
   ],
   "source": [
    "df"
   ]
  },
  {
   "attachments": {},
   "cell_type": "markdown",
   "id": "60c005ac",
   "metadata": {},
   "source": [
    "## Testing dynamics for some sample combinations"
   ]
  },
  {
   "cell_type": "code",
   "execution_count": null,
   "id": "5dfedc8e",
   "metadata": {},
   "outputs": [],
   "source": [
    "# Set the index manually\n",
    "ind = 0  # You can change this value to the index you want\n",
    "\n",
    "# Retrieve the values from the DataFrame based on the index\n",
    "phi_cat = df.loc[ind, 'opt_phi_cat']\n",
    "phi_resp = df.loc[ind, 'opt_phi_resp']\n",
    "phi_ana = df.loc[ind, 'opt_phi_ana']\n",
    "phi_h = df.loc[ind, 'opt_phi_h']\n",
    "phi_o = df.loc[ind, 'opt_phi_o']\n",
    "\n",
    "# Print the values to check\n",
    "print(\"phi_cat:\", phi_cat)\n",
    "print(\"phi_resp:\", phi_resp)\n",
    "print(\"phi_ana:\", phi_ana)\n",
    "print(\"phi_h:\", phi_h)\n",
    "print(\"phi_o:\", phi_o)"
   ]
  },
  {
   "cell_type": "code",
   "execution_count": null,
   "id": "f19eaa90",
   "metadata": {},
   "outputs": [
    {
     "data": {
      "text/plain": [
       "0.0"
      ]
     },
     "execution_count": 353,
     "metadata": {},
     "output_type": "execute_result"
    }
   ],
   "source": [
    "y0 = np.array([ Corg0, NADH0, O20, ATP0 ])\n",
    "NUM_METS = len(y0)\n",
    "\n",
    "# Evaluation time\n",
    "TFINAL = 1e6\n",
    "t = np.logspace(-4, 6, 1000 )"
   ]
  },
  {
   "cell_type": "code",
   "execution_count": null,
   "id": "c15e2a12",
   "metadata": {},
   "outputs": [],
   "source": [
    "y_sol = solve_ivp(het_model, [ 1e-4, TFINAL ],  y0, t_eval=t, method='Radau' ).y\n",
    "\n",
    "fig, ax = plt.subplots( 1, 1, figsize=(3,3) )\n",
    "\n",
    "ax.set_ylabel( 'concentration (' + r'$\\mathcal{C}$)')\n",
    "ax.set_xlabel( 'time (' + r'$t$)')\n",
    "for idx in range(NUM_METS):\n",
    "    ax.plot( t[:len(y_sol[idx])], y_sol[idx], lw=5 )\n",
    "ax.legend([ 'Corg', 'NADH', 'O2', 'ATP' ], loc='best')\n",
    "ax.set_yscale('log')\n",
    "ax.set_xscale('log')\n",
    "\n",
    "fig.tight_layout()\n",
    "plt.show()"
   ]
  },
  {
   "cell_type": "code",
   "execution_count": null,
   "id": "64125d45",
   "metadata": {},
   "outputs": [],
   "source": [
    "# Assuming y_sol is already defined and has the required shape\n",
    "values_to_print = y_sol[[1, -1], -1]\n",
    "\n",
    "for value in values_to_print:\n",
    "    print('{:.6e}'.format(value))\n"
   ]
  },
  {
   "cell_type": "code",
   "execution_count": null,
   "id": "a20072d6",
   "metadata": {},
   "outputs": [],
   "source": []
  }
 ],
 "metadata": {
  "kernelspec": {
   "display_name": "ces",
   "language": "python",
   "name": "python3"
  },
  "language_info": {
   "codemirror_mode": {
    "name": "ipython",
    "version": 3
   },
   "file_extension": ".py",
   "mimetype": "text/x-python",
   "name": "python",
   "nbconvert_exporter": "python",
   "pygments_lexer": "ipython3",
   "version": "3.8.11"
  }
 },
 "nbformat": 4,
 "nbformat_minor": 5
}
