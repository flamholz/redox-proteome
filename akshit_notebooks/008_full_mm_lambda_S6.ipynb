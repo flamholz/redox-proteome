{
 "cells": [
  {
   "cell_type": "code",
   "execution_count": 1,
   "id": "1daa831e-7669-4552-9360-9aaa0ab4552c",
   "metadata": {},
   "outputs": [],
   "source": [
    "import numpy as np\n",
    "from scipy.integrate import solve_ivp\n",
    "import matplotlib.pyplot as plt\n",
    "import seaborn as sns\n",
    "import pandas as pd\n",
    "plt.style.use('../notebooks/style.mpl')"
   ]
  },
  {
   "cell_type": "code",
   "execution_count": 2,
   "id": "f04c3e28-3fe6-4903-94c3-f386414c1b98",
   "metadata": {},
   "outputs": [],
   "source": [
    "import warnings\n",
    "warnings.filterwarnings('ignore')"
   ]
  },
  {
   "attachments": {},
   "cell_type": "markdown",
   "id": "a8a5ed2d-f6ee-4a25-a312-ad14a424ee7c",
   "metadata": {},
   "source": [
    "# Respiratory heterotrophy model"
   ]
  },
  {
   "cell_type": "code",
   "execution_count": 3,
   "id": "541c9b31-43ec-4542-9dcf-4ae880760d53",
   "metadata": {},
   "outputs": [],
   "source": [
    "eps = 1e-10\n",
    "tau = 1e0\n",
    "S2 = 2."
   ]
  },
  {
   "cell_type": "code",
   "execution_count": 4,
   "id": "f97755ac-74b6-4dd2-ba5f-35049b132aaa",
   "metadata": {},
   "outputs": [],
   "source": [
    "def het_model( t, y ):\n",
    "    x = y.copy()\n",
    "    x[x<eps] = 0.0\n",
    "    x[x>1e8] = 1e8\n",
    "    Corg = x[0]\n",
    "    NADH = x[1]\n",
    "    O2 = x[2]\n",
    "    ATP = x[3]\n",
    "    \n",
    "    NAD = r1 * NADH\n",
    "    ADP = r2 * ATP\n",
    "    \n",
    "    nu_cat = (NAD ** S2)/(1 + NAD ** S2) * phi_cat * gamma_cat_inv * tau\n",
    "    nu_resp = (NADH ** 2)/(1 + NADH ** 2) * phi_resp * gamma_resp_inv * tau\n",
    "    nu_ana = (NADH ** S6)/(1 + NADH ** S6) * (ATP ** S5)/(1 + ATP ** S5) * phi_ana * gamma_ana_inv * tau\n",
    "    \n",
    "    mu = nu_ana.copy()\n",
    "    \n",
    "    # dCorg = - nu_cat - nu_ana + nu_supply - mu * Corg\n",
    "    dCorg = 0.0\n",
    "    dNADH = S2 * nu_cat - 2 * nu_resp - S6 * nu_ana - mu * NADH\n",
    "    # dNADH = 0.0\n",
    "    dNAD = - dNADH\n",
    "    dO2 = 0.0\n",
    "    dATP = (S3 * nu_cat + S4 * nu_resp - S5 * nu_ana - mu * ATP)\n",
    "    dADP = -dATP\n",
    "    \n",
    "    dydt = np.array([dCorg, dNADH, dO2, dATP])\n",
    "    return dydt"
   ]
  },
  {
   "attachments": {},
   "cell_type": "markdown",
   "id": "3df0770d",
   "metadata": {},
   "source": [
    "# Regimes of $\\frac{d \\lambda}{d S_6}$"
   ]
  },
  {
   "attachments": {},
   "cell_type": "markdown",
   "id": "0f0c2e2f",
   "metadata": {},
   "source": [
    "## Case II: dynamic NADH and ATP levels"
   ]
  },
  {
   "attachments": {},
   "cell_type": "markdown",
   "id": "05fa86fb",
   "metadata": {},
   "source": [
    "For the full model, we have the following expression for how $\\lambda$ changes with $S_6$."
   ]
  },
  {
   "attachments": {},
   "cell_type": "markdown",
   "id": "d3d87866",
   "metadata": {},
   "source": [
    "$$   \\frac{d\\lambda}{d S_6} = \\frac{(S_2 S_3 + S_1 S_4)}{\\left(S_1 \\left(ATP +S_5\\right) - S_3\n",
    "   \\left(NADH + S_6\\right)\\right){}^2} \\cdot \\left[ \\frac{\\partial J_{resp}}{\\partial S_6} \\left(S_1 \\left(ATP + S_5\\right) - S_3 \\left(NADH +S_6\\right)\\right) - J_{resp} \\left(S_1 \\frac{\\partial (ATP)}{\\partial S_6} - S_3 \\frac{\\partial (NADH)}{\\partial S_6}\\right)\n",
    "  \\right]$$"
   ]
  },
  {
   "attachments": {},
   "cell_type": "markdown",
   "id": "604c1c4f",
   "metadata": {},
   "source": [
    "Since we are interested in the sign of $\\frac{d \\lambda}{d S_6}$, and the term outside the square brackets is always positive, we have:"
   ]
  },
  {
   "attachments": {},
   "cell_type": "markdown",
   "id": "ae219e3e",
   "metadata": {},
   "source": [
    "$$   \\text{sign}\\left[\\frac{d\\lambda}{d S_6}\\right] =  \\text{sign}\\left[ \\frac{\\partial J_{resp}}{\\partial S_6} \\left(S_1 \\left(ATP + S_5\\right) - S_3 \\left(NADH +S_6\\right)\\right) - J_{resp} \\left(S_1 \\frac{\\partial (ATP)}{\\partial S_6} - S_3 \\frac{\\partial (NADH)}{\\partial S_6}\\right)\n",
    "  \\right]$$"
   ]
  },
  {
   "attachments": {},
   "cell_type": "markdown",
   "id": "8811f297",
   "metadata": {},
   "source": [
    "We can now study different regimes of our simulations to understand the sign of $\\frac{d \\lambda}{d S_6}$. In case I, we considered the regime where NADH levels were homeostatically maintained, i.e., $ \\frac{\\partial (NADH)}{\\partial S_6} = 0 $. We shall now examine a more general case, where NADH levels are dynamic. Fluxes that depend on NADH levels can be either in the linear or saturated regimes, as determined by the following generalized Michaelis-Menten dependence:"
   ]
  },
  {
   "attachments": {},
   "cell_type": "markdown",
   "id": "6f9b9257",
   "metadata": {},
   "source": [
    "$$ \\frac{(NADH)^{S_{\\alpha i}}}{1 + (NADH)^{S_{\\alpha i}}} $$"
   ]
  },
  {
   "attachments": {},
   "cell_type": "markdown",
   "id": "7d89ae15",
   "metadata": {},
   "source": [
    "where $NADH$ is the dimensionless concentration of MADH, measured in units of its half-saturation constant $K_{M, NADH}$. Depending on the value of $S_{\\alpha i}$, this expression saturates at different values of $NADH = \\frac{[NADH]}{K_{M,NADH}}$, where [NADH] represents the true concentration of NADH in mM units.\n",
    "\n",
    "For reference, when $S_{\\alpha i} = 1$, it saturates (reaches 90% of its maximum value)  at roughly $NADH \\approx 10$, and when $S_{\\alpha i} = 2$, it reaches the same value at roughly $NADH \\approx 3$.\n",
    "\n",
    "Since we are interested in NADH levels in this regime, it is useful to look at the NADH stoichiometries in the three processes:"
   ]
  },
  {
   "attachments": {},
   "cell_type": "markdown",
   "id": "b444f666",
   "metadata": {},
   "source": [
    "$$ J_{cat} \\implies S_{cat, NADH} = 2 $$\n",
    "$$ J_{resp} \\implies S_{resp, NADH} = 2 $$\n",
    "$$ J_{ana} \\implies S_{ana, NADH} = S_6 \\in [-0.1, 0.5] $$"
   ]
  },
  {
   "attachments": {},
   "cell_type": "markdown",
   "id": "6896a661",
   "metadata": {},
   "source": [
    "This suggests that usually, we expect $J_{cat}$ and $J_{resp}$ to be saturated, and independent of NADH levels, while we expect $J_{ana}$ to scale roughly linearly with NADH levels. Thus:"
   ]
  },
  {
   "attachments": {},
   "cell_type": "markdown",
   "id": "0e4d392d",
   "metadata": {},
   "source": [
    "$$J_{cat} \\sim \\text{independent of NADH}$$\n",
    "$$J_{resp} \\sim \\text{independent of NADH}$$\n",
    "$$J_{ana} \\sim NADH^{S_6}$$"
   ]
  },
  {
   "attachments": {},
   "cell_type": "markdown",
   "id": "bb07dda5",
   "metadata": {},
   "source": [
    "Note that bears some similarity to the the case of homeostatic NADH levels, considered previously. That is, in the former case, we assumed that NADH levels did not change, and thus $J_{cat}$ and $J_{resp}$ did not change because of NADH. Here, $J_{cat}$ and $J_{resp}$ would typically respond weakly to changes in NADH levels once $NADH > 3$. "
   ]
  },
  {
   "attachments": {},
   "cell_type": "markdown",
   "id": "4c9fe4b6",
   "metadata": {},
   "source": [
    "Thus, going back to the expression for the sign of $\\frac{d\\lambda}{dS_6}$, we note the key change compared to the former case of homeostatic NADH levels is the possibility of a nonzero $\\frac{\\partial (NADH)}{\\partial S_6}$. We thus care about the sign of this quantity. In particular, for regimes where $\\frac{d\\lambda}{dS_6} > 0$, we are interested in the sign of $\\frac{\\partial (NADH)}{\\partial S_6}$. In particular, there are two ways for $\\frac{d\\lambda}{dS_6} > 0$."
   ]
  },
  {
   "attachments": {},
   "cell_type": "markdown",
   "id": "93085ea1",
   "metadata": {},
   "source": [
    "### IIa: increase in steady state NADH levels with increasing $S_6$"
   ]
  },
  {
   "attachments": {},
   "cell_type": "markdown",
   "id": "7be6b52b",
   "metadata": {},
   "source": [
    "First, the simplest way is for $\\frac{\\partial (NADH)}{\\partial S_6} > 0$. To see this, note our original expression:"
   ]
  },
  {
   "attachments": {},
   "cell_type": "markdown",
   "id": "2464e594",
   "metadata": {},
   "source": [
    "$$   \\text{sign}\\left[\\frac{d\\lambda}{d S_6}\\right] =  \\text{sign}\\left[ \\frac{\\partial J_{resp}}{\\partial S_6} \\left(S_1 \\left(ATP + S_5\\right) - S_3 \\left(NADH +S_6\\right)\\right) - J_{resp} \\left(S_1 \\frac{\\partial (ATP)}{\\partial S_6} - S_3 \\frac{\\partial (NADH)}{\\partial S_6}\\right)\n",
    "  \\right]$$"
   ]
  },
  {
   "attachments": {},
   "cell_type": "markdown",
   "id": "8065f439",
   "metadata": {},
   "source": [
    "Assuming that we are typically in the saturated regime for $J_{resp}$ (shown below), we have $J_{resp} = \\phi_{resp} \\gamma_{resp}^{-1}$, and thus:"
   ]
  },
  {
   "attachments": {},
   "cell_type": "markdown",
   "id": "2fd3c268",
   "metadata": {},
   "source": [
    "$$ \\frac{\\partial J_{resp}}{\\partial S_6} = \\frac{\\partial \\phi_{resp}}{\\partial S_6} \\gamma^{-1}_{resp} $$"
   ]
  },
  {
   "attachments": {},
   "cell_type": "markdown",
   "id": "baf891f4",
   "metadata": {},
   "source": [
    "As before, in our simulations, we observe (i) small changes in the optimal $\\phi_{resp}$ with increasing $S_6$ compared with changes in the steady state ATP concentration ATP $\\ast$, and (ii) thus, the first term in the expression for $\\text{sign}\\left[\\frac{d\\lambda}{d S_6}\\right]$ is much smaller than the second. Using these, we see that:"
   ]
  },
  {
   "attachments": {},
   "cell_type": "markdown",
   "id": "0da59e3d",
   "metadata": {},
   "source": [
    "$$   \\text{sign}\\left[\\frac{d\\lambda}{d S_6}\\right] \\approx  \\text{sign}\\left[ - J_{resp} \\left( S_1\\frac{\\partial (ATP)}{\\partial S_6} - S_3 \\frac{\\partial (NADH)}{\\partial S_6}\\right)\n",
    "  \\right]$$"
   ]
  },
  {
   "attachments": {},
   "cell_type": "markdown",
   "id": "88192310",
   "metadata": {},
   "source": [
    "Thus, similar to case I, one way to increasing $\\lambda$ with $S_6$ is if the steady state ATP levels ATP $\\ast$ decrease with $S_6$, while the steady state NADH levels NADH $\\ast$ increase with $S_6$, i.e.:"
   ]
  },
  {
   "attachments": {},
   "cell_type": "markdown",
   "id": "9c809102",
   "metadata": {},
   "source": [
    "$$ \\frac{\\partial (ATP)^\\ast}{\\partial S_6} < 0 \\hskip 5pt \\text{and} \\hskip 5pt \\frac{\\partial (NADH)}{\\partial S_6} > 0 \\implies \\frac{d\\lambda}{d S_6} > 0 $$"
   ]
  },
  {
   "attachments": {},
   "cell_type": "markdown",
   "id": "466114d9",
   "metadata": {},
   "source": [
    "While simple, this is not the case we typically observe in simulations. Instead, we interestingly observe that the simulations with dynamic NADH and ATP levels and instead in a more interesting second regime, described below."
   ]
  },
  {
   "attachments": {},
   "cell_type": "markdown",
   "id": "535622f7",
   "metadata": {},
   "source": [
    "### IIb: weak decrease in steady state NADH levels with increasing $S_6$"
   ]
  },
  {
   "attachments": {},
   "cell_type": "markdown",
   "id": "a4aa1ecb",
   "metadata": {},
   "source": [
    "Another way for $\\frac{d\\lambda}{d S_6} > 0$ would be if NADH levels decreased with $S_6$, but weakly. To see this, note that typical values of the NADH yield of catabolism $S_1 = 2$, while those for the ATP yield of catabolism $S_3 \\approx 0.5$. Interestingly, the expression for the dependence of $\\lambda$ with $S_6$ weighs the change in ATP with the catabolic NADH yield, and the change in NADH levels with the catabolic ATP yield. Thus for $\\frac{d\\lambda}{d S_6} > 0$, we need:"
   ]
  },
  {
   "attachments": {},
   "cell_type": "markdown",
   "id": "b05ddedd",
   "metadata": {},
   "source": [
    "$$\\frac{\\frac{\\partial (NADH)}{\\partial S_6}}{\\frac{\\partial (ATP)}{\\partial S_6}} < \\frac{S_1}{S_3}$$"
   ]
  },
  {
   "attachments": {},
   "cell_type": "markdown",
   "id": "52f4afe3",
   "metadata": {},
   "source": [
    "Since $S_1/S_3 \\approx 4$, as long as the slope of NADH is no steeper than 4 times the slope of ATP levels with $S_6$, we expect $\\lambda$ to increase with $S_6$. Equivalenty, for the same change in $S_6$, we need steady state NADH levels to increase less than $S_1/S_3 \\approx 4$ times compared with ATP levels."
   ]
  },
  {
   "attachments": {},
   "cell_type": "markdown",
   "id": "a7715d35",
   "metadata": {},
   "source": [
    "Below, using simuations, we show that our simulations are consistent with this regime, showing why we expect an increasing $\\lambda$ with $S_6$ to be robust to fully dynamic NADH and ATP levels. "
   ]
  },
  {
   "attachments": {},
   "cell_type": "markdown",
   "id": "85976fba",
   "metadata": {},
   "source": [
    "Thus, our model suggests that we expect the region where growth rate increases with anabolic NADH usage (more reduced biomass) to be quite broad. This helps explain the growth rate trends observed in the proteome data for organisms engaging in respiratory heterotrophy."
   ]
  },
  {
   "attachments": {},
   "cell_type": "markdown",
   "id": "004c55d8-8f66-4174-b70a-b863b452a7d5",
   "metadata": {},
   "source": [
    "# Simulations"
   ]
  },
  {
   "attachments": {},
   "cell_type": "markdown",
   "id": "c9b7154c-8473-47a7-b865-545b4d05f39f",
   "metadata": {},
   "source": [
    "### Parameters"
   ]
  },
  {
   "cell_type": "code",
   "execution_count": 5,
   "id": "ff0aa970-99f0-4dab-a7bf-35ed3a20403a",
   "metadata": {},
   "outputs": [],
   "source": [
    "# gamma inverses are in /hr units.\n",
    "gamma_cat_inv = 1000/3600\n",
    "gamma_resp_inv = 1000/3600\n",
    "gamma_ana_inv = 1000/3600\n",
    "\n",
    "phi_cat = 0.5\n",
    "phi_ana = 0.4\n",
    "phi_resp = 0.1\n",
    "\n",
    "# Default params: reliance on respiration.\n",
    "S4 = 10.0    # ATP yield of respiration\n",
    "S3 = 0.5    # ATP yield of catabolism ... NOTE: default should be 0.5\n",
    "S5 = 1.1    # ATP cost of anabolism\n",
    "S6 = 0.2    # reduction coefficient of biomass"
   ]
  },
  {
   "attachments": {},
   "cell_type": "markdown",
   "id": "640499e0-f358-4198-a24b-1cd090baa581",
   "metadata": {},
   "source": [
    "### Initial conditions"
   ]
  },
  {
   "cell_type": "code",
   "execution_count": 6,
   "id": "145f2111-6e05-42b2-9110-0325dec40605",
   "metadata": {},
   "outputs": [],
   "source": [
    "# concentrations in KM units\n",
    "Corg0 = 1e1\n",
    "NADH0 = 1e1\n",
    "O20 = 1e1\n",
    "ATP0 = 1e0\n",
    "\n",
    "# KM is in uM\n",
    "KM = 100\n",
    "r1 = 10.\n",
    "r2 = 0.1"
   ]
  },
  {
   "attachments": {},
   "cell_type": "markdown",
   "id": "dbe72c9b-07f7-4c1c-a034-8387a1b1b634",
   "metadata": {},
   "source": [
    "### Dynamics"
   ]
  },
  {
   "cell_type": "code",
   "execution_count": 7,
   "id": "9ac08ddb-9a53-418a-8d4c-d4fa4405b204",
   "metadata": {},
   "outputs": [],
   "source": [
    "y0 = np.array([ Corg0, NADH0, O20, ATP0 ])\n",
    "NUM_METS = len(y0)\n",
    "\n",
    "# Evaluation time\n",
    "TFINAL = 1e6\n",
    "t = np.logspace(-4, 6, 1000 )\n",
    "S6 = 0.1"
   ]
  },
  {
   "cell_type": "code",
   "execution_count": 8,
   "id": "2c135a22-b29f-464a-a194-96500e30a46a",
   "metadata": {},
   "outputs": [],
   "source": [
    "def give_nus( y_sol, tpt ):\n",
    "    x = y_sol[:, tpt].copy()\n",
    "    Corg = x[0]\n",
    "    NADH = x[1]\n",
    "    O2 = x[2]\n",
    "    ATP = x[3]\n",
    "\n",
    "    NAD = r1 * NADH\n",
    "    ADP = r2 * ATP\n",
    "\n",
    "    nu_cat = (NAD ** 2) * phi_cat * gamma_cat_inv * tau\n",
    "    nu_resp = (NADH ** 2) * phi_resp * gamma_resp_inv * tau\n",
    "    nu_ana = (NADH ** S6) * (ATP ** S5) * phi_ana * gamma_ana_inv * tau\n",
    "    \n",
    "    return np.array([nu_cat, nu_resp, nu_ana])"
   ]
  },
  {
   "cell_type": "code",
   "execution_count": 9,
   "id": "13c20fca",
   "metadata": {},
   "outputs": [
    {
     "data": {
      "image/png": "[encoded data removed]",
      "text/plain": [
       "<Figure size 300x300 with 1 Axes>"
      ]
     },
     "metadata": {},
     "output_type": "display_data"
    }
   ],
   "source": [
    "y_sol = solve_ivp(het_model, [ 1e-4, TFINAL ],  y0, t_eval=t, method='Radau' ).y\n",
    "\n",
    "fig, ax = plt.subplots( 1, 1, figsize=(3,3) )\n",
    "\n",
    "ax.set_ylabel( 'concentration (' + r'$\\mathcal{C}$)')\n",
    "ax.set_xlabel( 'time (' + r'$t$)')\n",
    "for idx in range(NUM_METS):\n",
    "    ax.plot( t[:len(y_sol[idx])], y_sol[idx], lw=5 )\n",
    "ax.legend([ 'Corg', 'NADH', 'O2', 'ATP' ], loc='best')\n",
    "ax.set_yscale('log')\n",
    "ax.set_xscale('log')\n",
    "\n",
    "fig.tight_layout()\n",
    "plt.show()"
   ]
  },
  {
   "cell_type": "code",
   "execution_count": 10,
   "id": "0e5962f1",
   "metadata": {},
   "outputs": [
    {
     "data": {
      "image/png": "[encoded data removed]",
      "text/plain": [
       "<Figure size 300x300 with 1 Axes>"
      ]
     },
     "metadata": {},
     "output_type": "display_data"
    }
   ],
   "source": [
    "nus = np.array([give_nus(y_sol, tpt) for tpt in range(len(t))]).T\n",
    "\n",
    "fig, ax = plt.subplots( 1, 1, figsize=(3,3) )\n",
    "\n",
    "ax.set_ylabel( 'flux (' + r'$\\nu$)')\n",
    "ax.set_xlabel( 'time (' + r'$t$)')\n",
    "for idx in range(3):\n",
    "    ax.plot( t[:len(nus[idx])], nus[idx], lw=5 )\n",
    "ax.legend([ 'cat', 'resp', 'ana' ], loc='best')\n",
    "ax.set_yscale('log')\n",
    "ax.set_xscale('log')\n",
    "\n",
    "fig.tight_layout()\n",
    "plt.show()"
   ]
  },
  {
   "attachments": {},
   "cell_type": "markdown",
   "id": "0b05480a",
   "metadata": {},
   "source": [
    "## Sweeping over $S_6$"
   ]
  },
  {
   "cell_type": "code",
   "execution_count": 11,
   "id": "84341687",
   "metadata": {},
   "outputs": [],
   "source": [
    "atps = []\n",
    "nadhs = []\n",
    "mus = []\n",
    "s6s = []\n",
    "\n",
    "for S6 in np.linspace(-0.1, 0.5, 100):\n",
    "    y0 = np.array([Corg0, NADH0, O20, ATP0])\n",
    "    NUM_METS = len(y0)\n",
    "\n",
    "    # Evaluation time\n",
    "    TFINAL = 1e6\n",
    "    t = np.logspace(-4, 6, 1000)\n",
    "\n",
    "    y_sol = solve_ivp(het_model, [1e-4, TFINAL], y0, t_eval=t, method='Radau').y\n",
    "\n",
    "    nus = np.array([give_nus(y_sol, tpt) for tpt in range(len(t))]).T\n",
    "\n",
    "    atps.append(y_sol[-1, -1])\n",
    "    nadhs.append(y_sol[1, -1])\n",
    "    mus.append(nus[-1, -1])\n",
    "    s6s.append(S6)\n",
    "    \n",
    "df = pd.DataFrame({'atps': atps, 'nadhs': nadhs, 's6s': s6s})"
   ]
  },
  {
   "cell_type": "code",
   "execution_count": 12,
   "id": "7cd0de8d",
   "metadata": {},
   "outputs": [
    {
     "data": {
      "image/png": "[encoded data removed]",
      "text/plain": [
       "<Figure size 300x300 with 1 Axes>"
      ]
     },
     "metadata": {},
     "output_type": "display_data"
    }
   ],
   "source": [
    "fig, ax = plt.subplots( 1, 1, figsize=(3, 3) )\n",
    "\n",
    "ax.set_ylabel( 'steady state ATP concentration (' + r'$ATP^\\ast$)')\n",
    "ax.set_xlabel( 'anabolic NADH usage (' + r'$S_6$)')\n",
    "ax.plot( df['s6s'], df['atps'], lw=5 )\n",
    "\n",
    "fig.tight_layout()\n",
    "plt.show()"
   ]
  },
  {
   "attachments": {},
   "cell_type": "markdown",
   "id": "5a1eaaa8",
   "metadata": {},
   "source": [
    "Measuring $\\frac{\\partial (ATP)}{\\partial S_6}$"
   ]
  },
  {
   "cell_type": "code",
   "execution_count": 13,
   "id": "5a6e73a4",
   "metadata": {},
   "outputs": [
    {
     "data": {
      "text/plain": [
       "-3.3936174218837163"
      ]
     },
     "execution_count": 13,
     "metadata": {},
     "output_type": "execute_result"
    }
   ],
   "source": [
    "(df['atps'].iloc[0] - df['atps'].iloc[-1])/(df['s6s'].iloc[0] - df['s6s'].iloc[-1])"
   ]
  },
  {
   "cell_type": "code",
   "execution_count": 14,
   "id": "9324f01c",
   "metadata": {},
   "outputs": [
    {
     "data": {
      "image/png": "[encoded data removed]",
      "text/plain": [
       "<Figure size 300x300 with 1 Axes>"
      ]
     },
     "metadata": {},
     "output_type": "display_data"
    }
   ],
   "source": [
    "fig, ax = plt.subplots( 1, 1, figsize=(3, 3) )\n",
    "\n",
    "ax.set_ylabel( 'steady state NADH concentration (' + r'$NADH^\\ast$)')\n",
    "ax.set_xlabel( 'anabolic NADH usage (' + r'$S_6$)')\n",
    "ax.plot( df['s6s'], df['nadhs'], lw=5 )\n",
    "\n",
    "fig.tight_layout()\n",
    "plt.show()"
   ]
  },
  {
   "attachments": {},
   "cell_type": "markdown",
   "id": "4bc00cd0",
   "metadata": {},
   "source": [
    "Measuring $\\frac{\\partial (NADH)}{\\partial S_6}$"
   ]
  },
  {
   "cell_type": "code",
   "execution_count": 15,
   "id": "99dc82b0",
   "metadata": {},
   "outputs": [
    {
     "data": {
      "text/plain": [
       "-2.9487084869357503"
      ]
     },
     "execution_count": 15,
     "metadata": {},
     "output_type": "execute_result"
    }
   ],
   "source": [
    "(df['nadhs'].iloc[0] - df['nadhs'].iloc[-1])/(df['s6s'].iloc[0] - df['s6s'].iloc[-1])"
   ]
  },
  {
   "attachments": {},
   "cell_type": "markdown",
   "id": "4555d33f",
   "metadata": {},
   "source": [
    "Measuring $\\frac{\\frac{\\partial (NADH)}{\\partial S_6}}{\\frac{\\partial (ATP)}{\\partial S_6}}$"
   ]
  },
  {
   "cell_type": "code",
   "execution_count": 16,
   "id": "f9135d01",
   "metadata": {},
   "outputs": [
    {
     "data": {
      "text/plain": [
       "0.8688983230463829"
      ]
     },
     "execution_count": 16,
     "metadata": {},
     "output_type": "execute_result"
    }
   ],
   "source": [
    "(df['nadhs'].iloc[0] - df['nadhs'].iloc[-1])/(df['atps'].iloc[0] - df['atps'].iloc[-1])"
   ]
  },
  {
   "attachments": {},
   "cell_type": "markdown",
   "id": "eacf813e",
   "metadata": {},
   "source": [
    "Checking if $\\frac{\\frac{\\partial (NADH)}{\\partial S_6}}{\\frac{\\partial (ATP)}{\\partial S_6}} < \\frac{S_1}{S_3}$"
   ]
  },
  {
   "cell_type": "code",
   "execution_count": 17,
   "id": "8fe66fd1",
   "metadata": {},
   "outputs": [
    {
     "data": {
      "text/plain": [
       "True"
      ]
     },
     "execution_count": 17,
     "metadata": {},
     "output_type": "execute_result"
    }
   ],
   "source": [
    "(df['nadhs'].iloc[0] - df['nadhs'].iloc[-1])/(df['atps'].iloc[0] - df['atps'].iloc[-1]) < 2/S3"
   ]
  },
  {
   "attachments": {},
   "cell_type": "markdown",
   "id": "38e97b1b",
   "metadata": {},
   "source": [
    "## Robustness to optimizing $\\phi$'s"
   ]
  },
  {
   "attachments": {},
   "cell_type": "markdown",
   "id": "b8c027fe",
   "metadata": {},
   "source": [
    "Above, we assumed that the optimal allocation fractions $\\phi_\\alpha$ were relatively insensitive to changes in $S_6$. \n",
    "\n",
    "Below, we show that even when optimizing the $\\phi$'s, we are still in the regime where $\\frac{\\frac{\\partial (NADH)}{\\partial S_6}}{\\frac{\\partial (ATP)}{\\partial S_6}} < \\frac{S_1}{S_3}$."
   ]
  },
  {
   "cell_type": "code",
   "execution_count": 18,
   "id": "962fb17d",
   "metadata": {},
   "outputs": [],
   "source": [
    "opt_atps = []\n",
    "opt_nadhs = []\n",
    "opt_phi_resps = []\n",
    "s6s = []\n",
    "\n",
    "for S6 in np.linspace(0.0, 0.5, 100):\n",
    "    # optimizing \n",
    "    cats_to_sample = np.linspace(0.1, 0.5, 10)\n",
    "    resps_to_sample = np.linspace(0.01, 0.2, 10)\n",
    "\n",
    "    allatps, allnadhs, allmus, allphis = [], [], [], []\n",
    "    for phi_cat in cats_to_sample:\n",
    "        for phi_resp in resps_to_sample:\n",
    "            phi_ana = 1-phi_cat-phi_resp\n",
    "\n",
    "            y0 = np.array([ Corg0, NADH0, O20, ATP0 ])\n",
    "            NUM_METS = len(y0)\n",
    "\n",
    "            # Evaluation time\n",
    "            TFINAL = 1e6\n",
    "            t = np.logspace(-4, 6, 1000 )\n",
    "\n",
    "            y_sol = solve_ivp(het_model, [ 1e-4, TFINAL ],  y0, t_eval=t, method='Radau' ).y\n",
    "\n",
    "            nus = np.array([give_nus(y_sol, tpt) for tpt in range(len(t))]).T\n",
    "            \n",
    "            allatps.append(y_sol[-1, -1])\n",
    "            allnadhs.append(y_sol[1, -1])\n",
    "            allmus.append(nus[-1, -1])\n",
    "            allphis.append([phi_cat, phi_resp, phi_ana])\n",
    "\n",
    "    mus = np.array(allmus)\n",
    "    max_index = np.argmax(mus)  # finding growth-optimal index\n",
    "    phi_cat, phi_resp, phi_ana = allphis[max_index] # optimal phis\n",
    "\n",
    "    # storing optimized ATP*, NADH* and optimal phi_resp.\n",
    "    opt_atps.append(allatps[max_index])\n",
    "    opt_nadhs.append(allnadhs[max_index])\n",
    "    opt_phi_resps.append(phi_resp)\n",
    "    s6s.append(S6)\n",
    "\n",
    "df = pd.DataFrame({'atps': opt_atps, 'nadhs': opt_nadhs, 's6s': s6s, 'optphiresps': opt_phi_resps})"
   ]
  },
  {
   "cell_type": "code",
   "execution_count": 19,
   "id": "9b1d11eb",
   "metadata": {},
   "outputs": [
    {
     "data": {
      "text/plain": [
       "(0.5, 0.2, 0.3)"
      ]
     },
     "execution_count": 19,
     "metadata": {},
     "output_type": "execute_result"
    }
   ],
   "source": [
    "phi_cat, phi_resp, phi_ana"
   ]
  },
  {
   "cell_type": "code",
   "execution_count": 20,
   "id": "940b7ed3",
   "metadata": {},
   "outputs": [
    {
     "data": {
      "image/png": "[encoded data removed]",
      "text/plain": [
       "<Figure size 300x300 with 1 Axes>"
      ]
     },
     "metadata": {},
     "output_type": "display_data"
    }
   ],
   "source": [
    "fig, ax = plt.subplots( 1, 1, figsize=(3, 3) )\n",
    "\n",
    "ax.set_ylabel( 'steady state ATP concentration (' + r'$ATP^\\ast$)')\n",
    "ax.set_xlabel( 'anabolic NADH usage (' + r'$S_6$)')\n",
    "ax.plot( df['s6s'], df['atps'], lw=5 )\n",
    "\n",
    "fig.tight_layout()\n",
    "plt.show()"
   ]
  },
  {
   "cell_type": "code",
   "execution_count": 21,
   "id": "8be7c18f",
   "metadata": {},
   "outputs": [
    {
     "data": {
      "image/png": "[encoded data removed]",
      "text/plain": [
       "<Figure size 300x300 with 1 Axes>"
      ]
     },
     "metadata": {},
     "output_type": "display_data"
    }
   ],
   "source": [
    "fig, ax = plt.subplots( 1, 1, figsize=(3, 3) )\n",
    "\n",
    "ax.set_ylabel( 'steady state NADH concentration (' + r'$NADH^\\ast$)')\n",
    "ax.set_xlabel( 'anabolic NADH usage (' + r'$S_6$)')\n",
    "ax.plot( df['s6s'], df['nadhs'], lw=5 )\n",
    "\n",
    "fig.tight_layout()\n",
    "plt.show()"
   ]
  },
  {
   "attachments": {},
   "cell_type": "markdown",
   "id": "5122a94a",
   "metadata": {},
   "source": [
    "Measuring $\\frac{\\partial (ATP)}{\\partial S_6}$"
   ]
  },
  {
   "cell_type": "code",
   "execution_count": 22,
   "id": "74d85d7b",
   "metadata": {},
   "outputs": [
    {
     "data": {
      "text/plain": [
       "-7.061313464417189"
      ]
     },
     "execution_count": 22,
     "metadata": {},
     "output_type": "execute_result"
    }
   ],
   "source": [
    "(df['atps'].iloc[0] - df['atps'].iloc[-1])/(df['s6s'].iloc[0] - df['s6s'].iloc[-1])"
   ]
  },
  {
   "attachments": {},
   "cell_type": "markdown",
   "id": "6d5eb83e",
   "metadata": {},
   "source": [
    "Measuring $\\frac{\\partial (NADH)}{\\partial S_6}$"
   ]
  },
  {
   "cell_type": "code",
   "execution_count": 23,
   "id": "4f8f1ab1",
   "metadata": {},
   "outputs": [
    {
     "data": {
      "text/plain": [
       "-2.5449588604602376"
      ]
     },
     "execution_count": 23,
     "metadata": {},
     "output_type": "execute_result"
    }
   ],
   "source": [
    "(df['nadhs'].iloc[0] - df['nadhs'].iloc[-1])/(df['s6s'].iloc[0] - df['s6s'].iloc[-1])"
   ]
  },
  {
   "attachments": {},
   "cell_type": "markdown",
   "id": "3b7e8215",
   "metadata": {},
   "source": [
    "Measuring $\\frac{\\frac{\\partial (NADH)}{\\partial S_6}}{\\frac{\\partial (ATP)}{\\partial S_6}}$"
   ]
  },
  {
   "cell_type": "code",
   "execution_count": 24,
   "id": "7c2fd4c6",
   "metadata": {},
   "outputs": [
    {
     "data": {
      "text/plain": [
       "0.3604087077120414"
      ]
     },
     "execution_count": 24,
     "metadata": {},
     "output_type": "execute_result"
    }
   ],
   "source": [
    "(df['nadhs'].iloc[0] - df['nadhs'].iloc[-1])/(df['atps'].iloc[0] - df['atps'].iloc[-1])"
   ]
  },
  {
   "attachments": {},
   "cell_type": "markdown",
   "id": "65f0e9e6",
   "metadata": {},
   "source": [
    "Checking if $\\frac{\\frac{\\partial (NADH)}{\\partial S_6}}{\\frac{\\partial (ATP)}{\\partial S_6}} < \\frac{S_1}{S_3}$"
   ]
  },
  {
   "cell_type": "code",
   "execution_count": 25,
   "id": "26faf81d",
   "metadata": {},
   "outputs": [
    {
     "data": {
      "text/plain": [
       "True"
      ]
     },
     "execution_count": 25,
     "metadata": {},
     "output_type": "execute_result"
    }
   ],
   "source": [
    "(df['nadhs'].iloc[0] - df['nadhs'].iloc[-1])/(df['atps'].iloc[0] - df['atps'].iloc[-1]) < 2/S3"
   ]
  }
 ],
 "metadata": {
  "kernelspec": {
   "display_name": "ces",
   "language": "python",
   "name": "python3"
  },
  "language_info": {
   "codemirror_mode": {
    "name": "ipython",
    "version": 3
   },
   "file_extension": ".py",
   "mimetype": "text/x-python",
   "name": "python",
   "nbconvert_exporter": "python",
   "pygments_lexer": "ipython3",
   "version": "3.7.12"
  }
 },
 "nbformat": 4,
 "nbformat_minor": 5
}
