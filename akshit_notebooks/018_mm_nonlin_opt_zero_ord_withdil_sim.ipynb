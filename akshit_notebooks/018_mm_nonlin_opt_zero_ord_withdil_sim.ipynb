{
 "cells": [
  {
   "cell_type": "code",
   "execution_count": 1,
   "id": "1daa831e-7669-4552-9360-9aaa0ab4552c",
   "metadata": {},
   "outputs": [],
   "source": [
    "import numpy as np\n",
    "from scipy.integrate import solve_ivp\n",
    "import matplotlib.pyplot as plt\n",
    "import seaborn as sns\n",
    "import pandas as pd\n",
    "from scipy.optimize import minimize\n",
    "plt.style.use('../notebooks/style.mpl')"
   ]
  },
  {
   "cell_type": "code",
   "execution_count": 2,
   "id": "f04c3e28-3fe6-4903-94c3-f386414c1b98",
   "metadata": {},
   "outputs": [],
   "source": [
    "import warnings\n",
    "warnings.filterwarnings('ignore')"
   ]
  },
  {
   "attachments": {},
   "cell_type": "markdown",
   "id": "a8a5ed2d-f6ee-4a25-a312-ad14a424ee7c",
   "metadata": {},
   "source": [
    "# Respiratory heterotrophy model"
   ]
  },
  {
   "attachments": {},
   "cell_type": "markdown",
   "id": "712ebc34",
   "metadata": {},
   "source": [
    "# Mapping $S_1$ and $S_6$ using $Z_{C,red}$"
   ]
  },
  {
   "attachments": {},
   "cell_type": "markdown",
   "id": "130f557d",
   "metadata": {},
   "source": [
    "We have the following equations:\n",
    "\n",
    "\\begin{align}\n",
    "S_1 =  \\frac{1}{2} (Z_{C,ox} - Z_{C,red}) \\\\\n",
    "S_6 = \\frac{1}{2} (Z_{C,B} - Z_{C,red}) \\\\\n",
    "\\end{align}"
   ]
  },
  {
   "attachments": {},
   "cell_type": "markdown",
   "id": "5b7d9cdf",
   "metadata": {},
   "source": [
    "We want to vary $Z_{C,red}$ and effectively set $S_1$ and $S_6$ from it."
   ]
  },
  {
   "cell_type": "code",
   "execution_count": 3,
   "id": "f23b5b72",
   "metadata": {},
   "outputs": [],
   "source": [
    "ZCred = 0.0 # setting a dummy ZCred, assuming glucose as a reference carbon source\n",
    "ZCox = +4.0 # assuming CO2 as the reference metabolic product\n",
    "ZCB = 0.0   # assuming glucose as reference carbon source, and reference S6 of 0\n",
    "\n",
    "def set_stoichs(ZCox, ZCB, ZCred):\n",
    "    S1 = 0.5 * (ZCox - ZCred)\n",
    "    S6 = 0.5 * (ZCB - ZCred)\n",
    "    return S1, S6"
   ]
  },
  {
   "cell_type": "code",
   "execution_count": 4,
   "id": "c7dfa12b",
   "metadata": {},
   "outputs": [],
   "source": [
    "S1, S6 = set_stoichs(ZCox, ZCB, ZCred)"
   ]
  },
  {
   "cell_type": "code",
   "execution_count": 5,
   "id": "0b18616b",
   "metadata": {},
   "outputs": [
    {
     "data": {
      "text/plain": [
       "(2.0, 0.0)"
      ]
     },
     "execution_count": 5,
     "metadata": {},
     "output_type": "execute_result"
    }
   ],
   "source": [
    "S1, S6"
   ]
  },
  {
   "attachments": {},
   "cell_type": "markdown",
   "id": "3716e2fd",
   "metadata": {},
   "source": [
    "# Respiratory heterotrophy model"
   ]
  },
  {
   "cell_type": "code",
   "execution_count": 6,
   "id": "b0565006",
   "metadata": {},
   "outputs": [],
   "source": [
    "eps = 1e-10\n",
    "tau = 1e0\n",
    "S2 = 2."
   ]
  },
  {
   "cell_type": "code",
   "execution_count": 7,
   "id": "85ed05c0",
   "metadata": {},
   "outputs": [],
   "source": [
    "rho  = 1.0\n",
    "qMc = 12.0"
   ]
  },
  {
   "cell_type": "code",
   "execution_count": 8,
   "id": "a98cf7f6",
   "metadata": {},
   "outputs": [],
   "source": [
    "def het_model( t, y ):\n",
    "    x = y.copy()\n",
    "    x[x<eps] = eps\n",
    "    x[x>1e8] = 1e8\n",
    "    Corg = x[0]\n",
    "    NADH = x[1]\n",
    "    O2 = x[2]\n",
    "    ATP = x[3]\n",
    "    \n",
    "    NAD = r1 * NADH\n",
    "    ADP = r2 * ATP\n",
    "\n",
    "    # concentration dynamics are in χ units; NADH and ATP take values in mol/gC\n",
    "    # where 1 mM = 1e-3 mol/l = 6e-6 mol/gC\n",
    "    N_KM = NADH/KM\n",
    "    A_KM = ATP/KM\n",
    "    \n",
    "    # Writing down the MM term for NADH and ATP explicitly.\n",
    "    fN = N_KM / (1 + N_KM)\n",
    "    fA = A_KM / (1 + A_KM)\n",
    "\n",
    "    nu_cat = rho * phi_cat * gamma_cat_inv * tau * fN\n",
    "    nu_resp = rho * phi_resp * gamma_resp_inv * tau * fN\n",
    "    nu_ana = rho * phi_ana * gamma_ana_inv * tau * fN * fA\n",
    "    \n",
    "    mu = qMc * nu_ana\n",
    "    Jh = rho * phi_h * gamma_hom_inv * tau\n",
    "    \n",
    "    # dCorg = - nu_cat - nu_ana + nu_supply - mu * Corg\n",
    "    dCorg = 0.0\n",
    "    dNADH = S1 * nu_cat - S2 * nu_resp - S6 * nu_ana - mu * (NADH + NAD)\n",
    "    # dNADH = 0.0\n",
    "    dNAD = - dNADH\n",
    "    dO2 = 0.0\n",
    "    dATP = S3 * nu_cat + S4 * nu_resp - S5 * nu_ana  - Jh - maint - mu * ATP\n",
    "    dADP = -dATP\n",
    "    \n",
    "    dydt = np.array([dCorg, dNADH, dO2, dATP])\n",
    "    return dydt"
   ]
  },
  {
   "attachments": {},
   "cell_type": "markdown",
   "id": "c9b7154c-8473-47a7-b865-545b4d05f39f",
   "metadata": {},
   "source": [
    "### Parameters"
   ]
  },
  {
   "cell_type": "code",
   "execution_count": 9,
   "id": "ff0aa970-99f0-4dab-a7bf-35ed3a20403a",
   "metadata": {},
   "outputs": [],
   "source": [
    "# gamma inverses are in /hr units.\n",
    "gamma_cat_inv = 5e-5*3600\n",
    "gamma_resp_inv = 5e-5*3600\n",
    "gamma_ana_inv = 5e-5*3600\n",
    "gamma_hom_inv = 5e-5*3600\n",
    "\n",
    "phi_cat = 0.3\n",
    "phi_ana = 0.4\n",
    "phi_resp = 0.03\n",
    "phi_h = 0.0\n",
    "phi_o = 1 - (phi_cat + phi_ana + phi_resp + phi_h)\n",
    "\n",
    "# maintenance energy\n",
    "maint = 0.01\n",
    "\n",
    "# Default params: reliance on respiration.\n",
    "S4 = 1.0    # ATP yield of respiration\n",
    "S3 = 0.5    # ATP yield of catabolism\n",
    "S5 = 0.3    # ATP cost of anabolism"
   ]
  },
  {
   "attachments": {},
   "cell_type": "markdown",
   "id": "640499e0-f358-4198-a24b-1cd090baa581",
   "metadata": {},
   "source": [
    "### Initial conditions"
   ]
  },
  {
   "cell_type": "code",
   "execution_count": 10,
   "id": "145f2111-6e05-42b2-9110-0325dec40605",
   "metadata": {},
   "outputs": [],
   "source": [
    "# concentrations in χ units; initial values set arbitarily.\n",
    "Corg0 = 1e2\n",
    "NADH0 = 1e2\n",
    "O20 = 1e1\n",
    "ATP0 = 1e2\n",
    "\n",
    "# KM is in χ units, mol/gC (new supplement section 2.1: typical χ values)\n",
    "KM = 6e-7   # 1e-3 mol/L is 6e-6 mol/gC; 6e-7 is thus for a KM of 100 μM.\n",
    "r1 = 10.\n",
    "r2 = 0.1"
   ]
  },
  {
   "cell_type": "code",
   "execution_count": 11,
   "id": "c05591f4",
   "metadata": {},
   "outputs": [],
   "source": [
    "# Constraint function for dNADH = 0 and dATP = 0 based on het_model\n",
    "def new_constraints(x):\n",
    "    NADH = x[5]\n",
    "    ATP = x[4]\n",
    "    NAD = r1 * NADH\n",
    "    ADP = r2 * ATP\n",
    "    N_KM = NADH / KM\n",
    "    A_KM = ATP / KM\n",
    "    fN = N_KM / (1 + N_KM)\n",
    "    fA = A_KM / (1 + A_KM)\n",
    "    nu_cat = rho * x[0] * gamma_cat_inv * tau\n",
    "    nu_resp = rho * x[1] * gamma_resp_inv * tau * fN\n",
    "    nu_ana = rho * x[2] * gamma_ana_inv * tau * fN * fA\n",
    "    mu = qMc * nu_ana\n",
    "    Jh = rho * x[3] * gamma_hom_inv * tau\n",
    "    dNADH = S1 * nu_cat - S2 * nu_resp - S6 * nu_ana - mu * (NADH + NAD)\n",
    "    dATP = S3 * nu_cat + S4 * nu_resp - S5 * nu_ana - Jh - maint - mu * ATP\n",
    "    return [dNADH, dATP]"
   ]
  },
  {
   "cell_type": "code",
   "execution_count": 12,
   "id": "368e51c2",
   "metadata": {},
   "outputs": [
    {
     "name": "stdout",
     "output_type": "stream",
     "text": [
      "Chosen phi_o: 0.3\n",
      "Optimal phi_cat: 0.09138450223915197\n",
      "Optimal phi_resp: 0.09654873833618657\n",
      "Optimal phi_ana: 0.512066759425067\n",
      "Optimal phi_h: 0.0\n",
      "Optimal ATP: 1e-05\n",
      "Optimal NADH: 1e-05\n",
      "Optimal growth rate: 0.9843932007459458\n"
     ]
    }
   ],
   "source": [
    "# Set fixed values for phi_o_min and maintenance\n",
    "MIN_PHI_O = 0.3\n",
    "maint = 0.00\n",
    "\n",
    "LB_CONC = 1e-8  # threshold concentration set to arbitrary small value\n",
    "UB_CONC = 1e-5   # threshold concentration set to reasonable value\n",
    "\n",
    "# Initial guess for the phi variables and metabolite concentrations\n",
    "initial_values = [0.1, 0.1, 0.1, 0.1, 1e2, 1e2, 0.5]  # Update as necessary. The last two are ATP and NADH\n",
    "\n",
    "# Bounds for the phi variables and metabolite concentrations.\n",
    "bounds = [(0, 1), (0, 1), (0, 1), (0, 1), \n",
    "          (LB_CONC, UB_CONC), (LB_CONC, UB_CONC),\n",
    "          (MIN_PHI_O, 1)]\n",
    "\n",
    "# Constraint function for the sum of phi parameters and the dNADH and dATP = 0 conditions\n",
    "cons = ({'type': 'eq', 'fun': lambda x: sum(x[:-3]) - (1 - x[-1])},\n",
    "        {'type': 'eq', 'fun': lambda x: new_constraints(x)[0]},\n",
    "        {'type': 'eq', 'fun': lambda x: new_constraints(x)[1]})\n",
    "\n",
    "# Objective function. \n",
    "def growth_rate_obj(phi_values):\n",
    "    phi_cat, phi_resp, phi_ana, phi_h, A, N, phi_o = phi_values\n",
    "\n",
    "    N_KM = N / KM\n",
    "    A_KM = A / KM\n",
    "    fN = N_KM / (1 + N_KM)\n",
    "    fA = A_KM / (1 + A_KM)\n",
    "\n",
    "    # Objective function for optimization\n",
    "    # obj needs to be minimized, so we set it to \n",
    "    # the negative of the growth rate.\n",
    "    obj = - qMc * rho * phi_ana * gamma_ana_inv * tau * fN * fA\n",
    "\n",
    "    return obj\n",
    "\n",
    "# Call the optimizer\n",
    "res = minimize(growth_rate_obj, initial_values, method='SLSQP', bounds=bounds, constraints=cons)\n",
    "\n",
    "# Extract the optimal phi values and metabolite concentrations\n",
    "phi_cat_opt, phi_resp_opt, phi_ana_opt, phi_h_opt, ATP_opt, NADH_opt, phi_o_opt = res.x\n",
    "\n",
    "print('Chosen phi_o:', phi_o_opt)\n",
    "print('Optimal phi_cat:', phi_cat_opt)\n",
    "print('Optimal phi_resp:', phi_resp_opt)\n",
    "print('Optimal phi_ana:', phi_ana_opt)\n",
    "print('Optimal phi_h:', phi_h_opt)\n",
    "print('Optimal ATP:', ATP_opt)\n",
    "print('Optimal NADH:', NADH_opt)\n",
    "print('Optimal growth rate:', -growth_rate_obj(res.x))\n"
   ]
  },
  {
   "attachments": {},
   "cell_type": "markdown",
   "id": "2a45cc07",
   "metadata": {},
   "source": [
    "Checking if all constraints are satisfied"
   ]
  },
  {
   "cell_type": "code",
   "execution_count": 13,
   "id": "34ee1bd0",
   "metadata": {},
   "outputs": [
    {
     "name": "stdout",
     "output_type": "stream",
     "text": [
      "Allocation constraint satisfied: True\n",
      "NADH balanced: True\n",
      "ATP balanced: True\n"
     ]
    }
   ],
   "source": [
    "print('Allocation constraint satisfied:', np.isclose(cons[0]['fun'](res.x), 0, atol=1e-8))\n",
    "print('NADH balanced:', np.isclose(cons[1]['fun'](res.x), 0, atol=1e-8))\n",
    "print('ATP balanced:', np.isclose(cons[2]['fun'](res.x), 0, atol=1e-8))"
   ]
  },
  {
   "cell_type": "code",
   "execution_count": 14,
   "id": "f5dda015",
   "metadata": {},
   "outputs": [
    {
     "data": {
      "text/plain": [
       "0.9843932007459458"
      ]
     },
     "execution_count": 14,
     "metadata": {},
     "output_type": "execute_result"
    }
   ],
   "source": [
    "-res.fun"
   ]
  },
  {
   "attachments": {},
   "cell_type": "markdown",
   "id": "2dadd5e0",
   "metadata": {},
   "source": [
    "# Varying $Z_{C,red}$"
   ]
  },
  {
   "cell_type": "code",
   "execution_count": 44,
   "id": "cc9d2e72",
   "metadata": {},
   "outputs": [],
   "source": [
    "SAMPLING_DENSITY = 25\n",
    "\n",
    "# Set fixed values for phi_o_min and maintenance\n",
    "MIN_PHI_O = 0.4\n",
    "maint = 0.00\n",
    "\n",
    "# Old defaults.\n",
    "# ATP_LB_CONC = 1e-8\n",
    "# ATP_UB_CONC = 1e-3\n",
    "# NADH_LB_CONC = 1e-8\n",
    "# NADH_UB_CONC = 1e-3\n",
    "\n",
    "# Avi's suggested values; these make the MM for ATP irrelevant.\n",
    "ATP_LB_CONC = 6e-6\n",
    "ATP_UB_CONC = 6e-5\n",
    "NADH_LB_CONC = 6e-7\n",
    "NADH_UB_CONC = 1.2e-6\n",
    "\n",
    "# Initial guess for the phi variables and metabolite concentrations\n",
    "initial_values = [0.1, 0.1, 0.1, 0.1, 1e2, 1e2, 0.5]  # Update as necessary. The last two are ATP and NADH\n",
    "\n",
    "# Bounds for the phi variables and metabolite concentrations.\n",
    "bounds = [(0, 1), (0, 1), (0, 1), (0, 0), \n",
    "          (ATP_LB_CONC, ATP_UB_CONC), (NADH_LB_CONC, NADH_UB_CONC),\n",
    "          (MIN_PHI_O, 1)]\n",
    "\n",
    "opt_atps = []\n",
    "opt_nadhs = []\n",
    "opt_mus = []\n",
    "opt_phi_cats = []\n",
    "opt_phi_resps = []\n",
    "opt_phi_anas = []\n",
    "opt_phi_hs = []\n",
    "opt_phi_os = []\n",
    "zcreds = []\n",
    "zcbs = []\n",
    "s6s = []\n",
    "s4s = []\n",
    "s3s = []\n",
    "\n",
    "S4 = 1.0    # ATP yield of respiration\n",
    "S3 = 0.5    # ATP yield of catabolism\n",
    "for S4 in [1.0, 0.1]:\n",
    "    for S3 in [0.5, 0.1]:\n",
    "        for ZCred in np.linspace(-5, 10, 50):\n",
    "            # setting stoichiometries\n",
    "            S1, S6 = set_stoichs(ZCox, ZCB, ZCred)\n",
    "\n",
    "            # Constraint function for the sum of phi parameters and the dNADH and dATP = 0 conditions\n",
    "            cons = ({'type': 'eq', 'fun': lambda x: sum(x[:-3]) - (1 - x[-1])},\n",
    "                    {'type': 'eq', 'fun': lambda x: new_constraints(x)[0]},\n",
    "                    {'type': 'eq', 'fun': lambda x: new_constraints(x)[1]})\n",
    "            \n",
    "            # Objective function. \n",
    "            def growth_rate_obj(phi_values):\n",
    "                phi_cat, phi_resp, phi_ana, phi_h, A, N, phi_o = phi_values\n",
    "\n",
    "                N_KM = N / KM\n",
    "                A_KM = A / KM\n",
    "                fN = N_KM / (1 + N_KM)\n",
    "                fA = A_KM / (1 + A_KM)\n",
    "\n",
    "                # Objective function for optimization\n",
    "                # obj needs to be minimized, so we set it to \n",
    "                # the negative of the growth rate.\n",
    "                obj = - qMc * rho * phi_ana * gamma_ana_inv * tau * fN * fA\n",
    "\n",
    "                return obj            \n",
    "\n",
    "            # Call the optimizer\n",
    "            res = minimize(growth_rate_obj, initial_values, method='SLSQP', bounds=bounds, constraints=cons)\n",
    "\n",
    "            # Extract the optimal phi values and metabolite concentrations\n",
    "            phi_cat_opt, phi_resp_opt, phi_ana_opt, phi_h_opt, ATP_opt, NADH_opt, phi_o_opt = res.x\n",
    "\n",
    "            # storing optimized ATP*, NADH* and optimal phi_resp.\n",
    "            opt_atps.append(ATP_opt)\n",
    "            opt_nadhs.append(NADH_opt)\n",
    "            opt_phi_cats.append(phi_cat_opt)\n",
    "            opt_phi_resps.append(phi_resp_opt)\n",
    "            opt_phi_anas.append(phi_ana_opt)\n",
    "            opt_phi_hs.append(phi_h_opt)\n",
    "            opt_phi_os.append(phi_o_opt)\n",
    "            opt_mus.append(-res.fun)\n",
    "            zcreds.append(ZCred)\n",
    "            zcbs.append(ZCB)\n",
    "            s6s.append(S6)\n",
    "            s4s.append(S4)\n",
    "            s3s.append(S3)\n",
    "\n",
    "df = pd.DataFrame({\n",
    "    'atps': opt_atps,\n",
    "    'nadhs': opt_nadhs,\n",
    "    'zcred': zcreds,\n",
    "    'zcb': zcbs,\n",
    "    's6s': s6s,\n",
    "    's4s': s4s,\n",
    "    's3s': s3s,\n",
    "    'mus': opt_mus,\n",
    "    'opt_phi_cat': opt_phi_cats,\n",
    "    'opt_phi_resp': opt_phi_resps,\n",
    "    'opt_phi_ana': opt_phi_anas,\n",
    "    'opt_phi_h': opt_phi_hs,\n",
    "    'opt_phi_o': opt_phi_os\n",
    "    })"
   ]
  },
  {
   "cell_type": "markdown",
   "id": "4d09417b",
   "metadata": {},
   "source": [
    "## Changing $S_3$"
   ]
  },
  {
   "cell_type": "code",
   "execution_count": 45,
   "id": "73f5e83a",
   "metadata": {},
   "outputs": [
    {
     "data": {
      "image/png": "[encoded data removed]",
      "text/plain": [
       "<Figure size 288x288 with 1 Axes>"
      ]
     },
     "metadata": {},
     "output_type": "display_data"
    }
   ],
   "source": [
    "# Initialize the plot\n",
    "plt.figure(figsize=(4, 4))\n",
    "\n",
    "# Define the values you want to filter by\n",
    "s4s_values = [1.0, 1.0]  # Replace with the actual values\n",
    "s3s_values = [0.5, 0.1]  # Replace with the actual values\n",
    "zcb_values = [0.0, 0.0]  # Replace with the actual values\n",
    "\n",
    "# Loop through the values and plot\n",
    "for s4s_val, s3s_val, zcb_val in zip(s4s_values, s3s_values, zcb_values):\n",
    "    # Filter the DataFrame\n",
    "    filtered_df = df[(df['s4s'] == s4s_val) & (df['s3s'] == s3s_val) & (df['zcb'] == zcb_val)]\n",
    "    \n",
    "    # Plot the filtered data\n",
    "    plt.plot(filtered_df['zcred'], filtered_df['mus'], marker='o', linestyle='-', label=f'S4={s4s_val}, S3={s3s_val}, ZCB={zcb_val}')\n",
    "\n",
    "# Add labels and title\n",
    "plt.xlabel(r'$Z_{C,red}$')\n",
    "plt.ylabel('optimal growth rate ' + r'$\\lambda_{max}$')\n",
    "\n",
    "# Add grid and legend\n",
    "plt.legend()\n",
    "\n",
    "# Show the plot\n",
    "plt.show()"
   ]
  },
  {
   "cell_type": "markdown",
   "id": "58c8c431",
   "metadata": {},
   "source": [
    "## Changing $S_4$"
   ]
  },
  {
   "cell_type": "code",
   "execution_count": 46,
   "id": "9bca5288",
   "metadata": {},
   "outputs": [
    {
     "data": {
      "image/png": "[encoded data removed]",
      "text/plain": [
       "<Figure size 288x288 with 1 Axes>"
      ]
     },
     "metadata": {},
     "output_type": "display_data"
    }
   ],
   "source": [
    "# Initialize the plot\n",
    "plt.figure(figsize=(4, 4))\n",
    "\n",
    "# Define the values you want to filter by\n",
    "s4s_values = [1.0, 0.1]  # Replace with the actual values\n",
    "s3s_values = [0.5, 0.5]  # Replace with the actual values\n",
    "zcb_values = [0.0, 0.0]  # Replace with the actual values\n",
    "\n",
    "# Loop through the values and plot\n",
    "for s4s_val, s3s_val, zcb_val in zip(s4s_values, s3s_values, zcb_values):\n",
    "    # Filter the DataFrame\n",
    "    filtered_df = df[(df['s4s'] == s4s_val) & (df['s3s'] == s3s_val) & (df['zcb'] == zcb_val)]\n",
    "    \n",
    "    # Plot the filtered data\n",
    "    plt.plot(filtered_df['zcred'], filtered_df['mus'], marker='o', linestyle='-', label=f'S4={s4s_val}, S3={s3s_val}, ZCB={zcb_val}')\n",
    "\n",
    "# Add labels and title\n",
    "plt.xlabel(r'$Z_{C,red}$')\n",
    "plt.ylabel('optimal growth rate ' + r'$\\lambda_{max}$')\n",
    "\n",
    "# Add grid and legend\n",
    "plt.legend()\n",
    "\n",
    "# Show the plot\n",
    "plt.show()"
   ]
  },
  {
   "cell_type": "markdown",
   "id": "2fd5d2e2",
   "metadata": {},
   "source": [
    "# Visually consistent plots"
   ]
  },
  {
   "cell_type": "code",
   "execution_count": 48,
   "id": "ee3c417d",
   "metadata": {},
   "outputs": [
    {
     "data": {
      "image/png": "[encoded data removed]",
      "text/plain": [
       "<Figure size 381.6x216 with 2 Axes>"
      ]
     },
     "metadata": {},
     "output_type": "display_data"
    }
   ],
   "source": [
    "import numpy as np\n",
    "import pandas as pd\n",
    "import seaborn as sns\n",
    "import viz\n",
    "\n",
    "from matplotlib import pyplot as plt\n",
    "\n",
    "colors = viz.plotting_style()\n",
    "lin_colors = colors.values()\n",
    "plt.style.use('style.mpl')\n",
    "\n",
    "color_order = ['green', 'blue', 'red', 'purple', 'yellow', 'dark_green', 'dark_blue', 'dark_brown']\n",
    "lin_colors = [colors[c] for c in color_order]\n",
    "\n",
    "fig, axs = plt.subplots(ncols=2, nrows=1, figsize=(5.3, 3), sharey=True)\n",
    "pal = sns.color_palette('Greys_r', n_colors=5)\n",
    "\n",
    "# PANEL Α\n",
    "# Variable S4 = respiratory ATP yield\n",
    "plt.sca(axs[0])\n",
    "plt.title('Altering reductive ATP yield ($S_4$)')\n",
    "\n",
    "# Choosing parameter values.\n",
    "s4s_values = [1.0, 0.1]\n",
    "s3s_values = [0.5, 0.5]\n",
    "zcb_values = [0.0, 0.0]\n",
    "\n",
    "# Loop through the values and plot\n",
    "for i, (s4s_val, s3s_val, zcb_val) in enumerate(zip(s4s_values, s3s_values, zcb_values)):\n",
    "    # Filter the DataFrame\n",
    "    filtered_df = df[(df['s4s'] == s4s_val) & (df['s3s'] == s3s_val) & (df['zcb'] == zcb_val)]\n",
    "    \n",
    "    # Plot the filtered data\n",
    "    plt.plot(filtered_df['zcred'], filtered_df['mus'], lw=3,\n",
    "            color=pal[i], label='$S_4$ = {0:.1f}'.format(s4s_val))\n",
    "\n",
    "\n",
    "plt.ylabel('$\\lambda_{max}$ (hr$^{-1}$)')\n",
    "plt.xlabel('redox state of C source, $Z_{C,red}$')\n",
    "plt.legend(loc=2)\n",
    "\n",
    "# PANEL B\n",
    "# Variable S3 = oxidative ATP yield\n",
    "plt.sca(axs[1])\n",
    "plt.title('Altering oxidative ATP yield ($S_3$)')\n",
    "\n",
    "# Choosing parameter values.\n",
    "s4s_values = [1.0, 1.0]\n",
    "s3s_values = [0.5, 0.1]\n",
    "zcb_values = [0.0, 0.0]\n",
    "\n",
    "# Loop through the values and plot\n",
    "for i, (s4s_val, s3s_val, zcb_val) in enumerate(zip(s4s_values, s3s_values, zcb_values)):\n",
    "    # Filter the DataFrame\n",
    "    filtered_df = df[(df['s4s'] == s4s_val) & (df['s3s'] == s3s_val) & (df['zcb'] == zcb_val)]\n",
    "    \n",
    "    # Plot the filtered data\n",
    "    plt.plot(filtered_df['zcred'], filtered_df['mus'], lw=3,\n",
    "            color=pal[i], label='$S_4$ = {0:.1f}'.format(s3s_val))\n",
    "\n",
    "plt.xlabel('redox state of C source, $Z_{C,red}$')\n",
    "plt.legend(loc=2)\n",
    "\n",
    "plt.ylim(0, 1.2)\n",
    "\n",
    "plt.tight_layout()\n",
    "plt.savefig('supp_figs/Akshit_FigS8_no_hom_mm_biolconcs.png', facecolor='white', bbox_inches='tight', dpi=300)\n",
    "plt.show()"
   ]
  },
  {
   "cell_type": "code",
   "execution_count": null,
   "id": "3db8235e",
   "metadata": {},
   "outputs": [],
   "source": []
  }
 ],
 "metadata": {
  "kernelspec": {
   "display_name": "ces",
   "language": "python",
   "name": "python3"
  },
  "language_info": {
   "codemirror_mode": {
    "name": "ipython",
    "version": 3
   },
   "file_extension": ".py",
   "mimetype": "text/x-python",
   "name": "python",
   "nbconvert_exporter": "python",
   "pygments_lexer": "ipython3",
   "version": "3.8.11"
  }
 },
 "nbformat": 4,
 "nbformat_minor": 5
}
