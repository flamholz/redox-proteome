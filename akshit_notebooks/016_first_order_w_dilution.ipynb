{
 "cells": [
  {
   "cell_type": "code",
   "execution_count": 11,
   "id": "1daa831e-7669-4552-9360-9aaa0ab4552c",
   "metadata": {},
   "outputs": [],
   "source": [
    "import numpy as np\n",
    "from scipy.integrate import solve_ivp\n",
    "import matplotlib.pyplot as plt\n",
    "import seaborn as sns\n",
    "import pandas as pd\n",
    "plt.style.use('../notebooks/style.mpl')"
   ]
  },
  {
   "cell_type": "code",
   "execution_count": 12,
   "id": "f04c3e28-3fe6-4903-94c3-f386414c1b98",
   "metadata": {},
   "outputs": [],
   "source": [
    "import warnings\n",
    "warnings.filterwarnings('ignore')"
   ]
  },
  {
   "attachments": {},
   "cell_type": "markdown",
   "id": "a8a5ed2d-f6ee-4a25-a312-ad14a424ee7c",
   "metadata": {},
   "source": [
    "# Respiratory heterotrophy model"
   ]
  },
  {
   "cell_type": "code",
   "execution_count": 287,
   "id": "541c9b31-43ec-4542-9dcf-4ae880760d53",
   "metadata": {},
   "outputs": [],
   "source": [
    "eps = 1e-10\n",
    "tau = 1e0\n",
    "S2 = 2."
   ]
  },
  {
   "cell_type": "code",
   "execution_count": 288,
   "id": "250a0233",
   "metadata": {},
   "outputs": [],
   "source": [
    "rho  = 1.0\n",
    "qMc = 12.0"
   ]
  },
  {
   "cell_type": "code",
   "execution_count": 289,
   "id": "f97755ac-74b6-4dd2-ba5f-35049b132aaa",
   "metadata": {},
   "outputs": [],
   "source": [
    "def het_model( t, y ):\n",
    "    x = y.copy()\n",
    "    x[x<eps] = 0.0\n",
    "    x[x>1e8] = 1e8\n",
    "    Corg = x[0]\n",
    "    NADH = x[1]\n",
    "    O2 = x[2]\n",
    "    ATP = x[3]\n",
    "    \n",
    "    NAD = r1 * NADH\n",
    "    ADP = r2 * ATP\n",
    "    \n",
    "    nu_cat = rho * phi_cat * gamma_cat_inv * tau\n",
    "    nu_resp = rho * phi_resp * gamma_resp_inv * tau\n",
    "    nu_ana = rho * phi_ana * gamma_ana_inv * tau * (ATP)/(KM + ATP)\n",
    "    \n",
    "    mu = qMc * nu_ana\n",
    "    Jh = rho * phi_h * gamma_hom_inv * tau\n",
    "    \n",
    "    # dCorg = - nu_cat - nu_ana + nu_supply - mu * Corg\n",
    "    dCorg = 0.0\n",
    "    dNADH = 2 * nu_cat - 2 * nu_resp - S6 * nu_ana - mu * (NADH + NAD)\n",
    "    # dNADH = 0.0\n",
    "    dNAD = - dNADH\n",
    "    dO2 = 0.0\n",
    "    dATP = S3 * nu_cat + S4 * nu_resp - S5 * nu_ana  - Jh - maint - mu * ATP\n",
    "    dADP = -dATP\n",
    "    \n",
    "    dydt = np.array([dCorg, dNADH, dO2, dATP])\n",
    "    return dydt"
   ]
  },
  {
   "attachments": {},
   "cell_type": "markdown",
   "id": "004c55d8-8f66-4174-b70a-b863b452a7d5",
   "metadata": {},
   "source": [
    "# Simulations"
   ]
  },
  {
   "attachments": {},
   "cell_type": "markdown",
   "id": "c9b7154c-8473-47a7-b865-545b4d05f39f",
   "metadata": {},
   "source": [
    "### Parameters"
   ]
  },
  {
   "cell_type": "code",
   "execution_count": 309,
   "id": "ff0aa970-99f0-4dab-a7bf-35ed3a20403a",
   "metadata": {},
   "outputs": [],
   "source": [
    "# gamma inverses are in /hr units.\n",
    "gamma_cat_inv = 5e-5*3600\n",
    "gamma_resp_inv = 5e-5*3600\n",
    "gamma_ana_inv = 5e-5*3600\n",
    "gamma_hom_inv = 5e-5*3600\n",
    "\n",
    "phi_cat = 0.3\n",
    "phi_ana = 0.4\n",
    "phi_resp = 0.05\n",
    "phi_h = 0.01\n",
    "phi_o = 1 - (phi_cat + phi_ana + phi_resp + phi_h)\n",
    "\n",
    "# maintenance energy\n",
    "maint = 0.032\n",
    "\n",
    "# Default params: reliance on respiration.\n",
    "S4 = 1.0    # ATP yield of respiration\n",
    "S3 = 0.5    # ATP yield of catabolism\n",
    "S5 = 0.3    # ATP cost of anabolism\n",
    "S6 = 1.0    # reduction coefficient of biomass"
   ]
  },
  {
   "attachments": {},
   "cell_type": "markdown",
   "id": "640499e0-f358-4198-a24b-1cd090baa581",
   "metadata": {},
   "source": [
    "### Initial conditions"
   ]
  },
  {
   "cell_type": "code",
   "execution_count": 310,
   "id": "145f2111-6e05-42b2-9110-0325dec40605",
   "metadata": {},
   "outputs": [],
   "source": [
    "# concentrations in KM units\n",
    "Corg0 = 1e2\n",
    "NADH0 = 1e-3\n",
    "O20 = 1e1\n",
    "ATP0 = 1e-3\n",
    "\n",
    "# KM is in uM\n",
    "KM = 1e-4\n",
    "r1 = 100.\n",
    "r2 = 0.1"
   ]
  },
  {
   "attachments": {},
   "cell_type": "markdown",
   "id": "dbe72c9b-07f7-4c1c-a034-8387a1b1b634",
   "metadata": {},
   "source": [
    "### Dynamics"
   ]
  },
  {
   "cell_type": "code",
   "execution_count": 311,
   "id": "9ac08ddb-9a53-418a-8d4c-d4fa4405b204",
   "metadata": {},
   "outputs": [],
   "source": [
    "y0 = np.array([ Corg0, NADH0, O20, ATP0 ])\n",
    "NUM_METS = len(y0)\n",
    "\n",
    "# Evaluation time\n",
    "TFINAL = 1e6\n",
    "t = np.logspace(-4, 6, 1000 )"
   ]
  },
  {
   "cell_type": "code",
   "execution_count": 312,
   "id": "2c135a22-b29f-464a-a194-96500e30a46a",
   "metadata": {},
   "outputs": [],
   "source": [
    "def give_nus( y_sol, tpt ):\n",
    "    x = y_sol[:, tpt].copy()\n",
    "    Corg = x[0]\n",
    "    NADH = x[1]\n",
    "    O2 = x[2]\n",
    "    ATP = x[3]\n",
    "\n",
    "    NAD = r1 * NADH\n",
    "    ADP = r2 * ATP\n",
    "\n",
    "    nu_cat = rho * phi_cat * gamma_cat_inv * tau\n",
    "    nu_resp = rho * phi_resp * gamma_resp_inv * tau \n",
    "    nu_ana = rho * phi_ana * gamma_ana_inv * tau * (ATP)/(KM + ATP)\n",
    "    \n",
    "    mu = qMc * nu_ana\n",
    "    Jh = rho * phi_h * gamma_hom_inv * tau\n",
    "    \n",
    "    return np.array([nu_cat, nu_resp, nu_ana, mu])"
   ]
  },
  {
   "cell_type": "code",
   "execution_count": 313,
   "id": "13c20fca",
   "metadata": {},
   "outputs": [
    {
     "data": {
      "image/png": "[encoded data removed]",
      "text/plain": [
       "<Figure size 300x300 with 1 Axes>"
      ]
     },
     "metadata": {},
     "output_type": "display_data"
    }
   ],
   "source": [
    "y_sol = solve_ivp(het_model, [ 1e-4, TFINAL ],  y0, t_eval=t, method='Radau' ).y\n",
    "\n",
    "fig, ax = plt.subplots( 1, 1, figsize=(3,3) )\n",
    "\n",
    "ax.set_ylabel( 'concentration (' + r'$\\mathcal{C}$)')\n",
    "ax.set_xlabel( 'time (' + r'$t$)')\n",
    "for idx in range(NUM_METS):\n",
    "    ax.plot( t[:len(y_sol[idx])], y_sol[idx], lw=5 )\n",
    "ax.legend([ 'Corg', 'NADH', 'O2', 'ATP' ], loc='best')\n",
    "ax.set_yscale('log')\n",
    "ax.set_xscale('log')\n",
    "\n",
    "fig.tight_layout()\n",
    "plt.show()"
   ]
  },
  {
   "cell_type": "code",
   "execution_count": 314,
   "id": "3cb6b155",
   "metadata": {},
   "outputs": [],
   "source": [
    "def is_steady(y_sol, eps):\n",
    "    # Check if solution has reached steady state\n",
    "    # by checking if the values at index 1 and -1 are constant and above eps\n",
    "    return y_sol[1,-1] > eps and y_sol[-1,-1] > eps and np.abs(np.diff(y_sol[1,:]))[-1] < eps and np.abs(np.diff(y_sol[-1,:]))[-1] < eps"
   ]
  },
  {
   "cell_type": "code",
   "execution_count": 315,
   "id": "628f1f63",
   "metadata": {},
   "outputs": [
    {
     "data": {
      "text/plain": [
       "False"
      ]
     },
     "execution_count": 315,
     "metadata": {},
     "output_type": "execute_result"
    }
   ],
   "source": [
    "is_steady(y_sol, 1e-4)"
   ]
  },
  {
   "cell_type": "code",
   "execution_count": 316,
   "id": "0e5962f1",
   "metadata": {},
   "outputs": [
    {
     "data": {
      "image/png": "[encoded data removed]",
      "text/plain": [
       "<Figure size 300x300 with 1 Axes>"
      ]
     },
     "metadata": {},
     "output_type": "display_data"
    }
   ],
   "source": [
    "nus = np.array([give_nus(y_sol, tpt) for tpt in range(len(t))]).T\n",
    "\n",
    "fig, ax = plt.subplots( 1, 1, figsize=(3,3) )\n",
    "\n",
    "ax.set_ylabel( 'flux (' + r'$\\nu$)')\n",
    "ax.set_xlabel( 'time (' + r'$t$)')\n",
    "for idx in range(4):\n",
    "    ax.plot( t[:len(nus[idx])], nus[idx], lw=5 )\n",
    "ax.legend([ 'cat', 'resp', 'ana', r'$\\lambda$' ], loc='best')\n",
    "ax.set_yscale('log')\n",
    "ax.set_xscale('log')\n",
    "\n",
    "fig.tight_layout()\n",
    "plt.show()"
   ]
  },
  {
   "attachments": {},
   "cell_type": "markdown",
   "id": "9666f132",
   "metadata": {},
   "source": [
    "# Variable $\\phi_h$"
   ]
  },
  {
   "cell_type": "code",
   "execution_count": 332,
   "id": "29b93366",
   "metadata": {},
   "outputs": [],
   "source": [
    "LB_CONC = 1e-20  # threshold concentration\n",
    "UB_CONC = 1e20   # threshold concentration\n",
    "\n",
    "opt_atps = []\n",
    "opt_nadhs = []\n",
    "opt_mus = []\n",
    "opt_phi_cats = []\n",
    "opt_phi_resps = []\n",
    "opt_phi_anas = []\n",
    "opt_phi_hs = []\n",
    "opt_phi_os = []\n",
    "s6s = []\n",
    "\n",
    "# concentrations in KM units\n",
    "NADH0 = 1e-3\n",
    "ATP0 = 1e-3\n",
    "\n",
    "eps = 1e-10 # define your own value for eps here\n",
    "\n",
    "# Set fixed values for phi_o and maintenance\n",
    "phi_o = 0.3\n",
    "maint = 0.032\n",
    "\n",
    "for S6 in [1.0]:#np.linspace(-1, 2, 3):\n",
    "    anas_to_sample = np.linspace(0.01, 0.9, 10)\n",
    "    resps_to_sample = np.linspace(0.01, 0.7, 10)\n",
    "    cats_to_sample = np.linspace(0.01, 0.4, 10)\n",
    "\n",
    "    allatps, allnadhs, allmus, allphis = [], [], [], []\n",
    "    for phi_ana in anas_to_sample:\n",
    "        for phi_resp in resps_to_sample:\n",
    "            for phi_cat in cats_to_sample:\n",
    "                phi_h = 0.02\n",
    "                phi_o = 1 - (phi_cat + phi_ana + phi_resp + phi_h)\n",
    "                # make sure that phi_h is positive.\n",
    "                if phi_o < 0.4:\n",
    "                    continue\n",
    "\n",
    "                y0 = np.array([Corg0, NADH0, O20, ATP0])\n",
    "                NUM_METS = len(y0)\n",
    "\n",
    "                # Evaluation time\n",
    "                TFINAL = 1e6\n",
    "                t = np.logspace(-4, 6, 1000)\n",
    "\n",
    "                y_sol = solve_ivp(het_model, [1e-4, TFINAL], y0, t_eval=t, method='Radau').y\n",
    "\n",
    "                if is_steady(y_sol, eps):\n",
    "                    nus = np.array([give_nus(y_sol, tpt) for tpt in range(len(t))]).T\n",
    "\n",
    "                    allatps.append(y_sol[-1, -1])\n",
    "                    allnadhs.append(y_sol[1, -1])\n",
    "                    allmus.append(nus[-1, -1])\n",
    "                    allphis.append([phi_cat, phi_resp, phi_ana, phi_h, phi_o])\n",
    "\n",
    "    if len(allmus) > 0:\n",
    "        # Filter out solutions with ATP or NADH below LB_CONC\n",
    "        valid_indices = [i for i, (atp, nadh) in enumerate(zip(allatps, allnadhs)) if atp >= LB_CONC and nadh >= LB_CONC and atp <= UB_CONC and nadh <= UB_CONC]\n",
    "\n",
    "        allatps = [allatps[i] for i in valid_indices]\n",
    "        allnadhs = [allnadhs[i] for i in valid_indices]\n",
    "        allmus = [allmus[i] for i in valid_indices]\n",
    "        allphis = [allphis[i] for i in valid_indices]\n",
    "\n",
    "        # Check if any valid solutions remain\n",
    "        if len(allmus) > 0:\n",
    "            mus = np.array(allmus)\n",
    "            max_index = np.argmax(mus)  # finding growth-optimal index\n",
    "            phi_cat, phi_resp, phi_ana, phi_h, phi_o = allphis[max_index]  # optimal phis\n",
    "\n",
    "            # storing optimized ATP*, NADH* and optimal phi_resp.\n",
    "            opt_atps.append(allatps[max_index])\n",
    "            opt_nadhs.append(allnadhs[max_index])\n",
    "            opt_phi_cats.append(phi_cat)\n",
    "            opt_phi_resps.append(phi_resp)\n",
    "            opt_phi_anas.append(phi_ana)\n",
    "            opt_phi_hs.append(phi_h)\n",
    "            opt_phi_os.append(phi_o)\n",
    "            opt_mus.append(allmus[max_index])\n",
    "            s6s.append(S6)\n",
    "\n",
    "df = pd.DataFrame({'atps': opt_atps,\n",
    "                   'nadhs': opt_nadhs,\n",
    "                   's6s': s6s,\n",
    "                   'mus': opt_mus,\n",
    "                   'opt_phi_cat': opt_phi_cats,\n",
    "                   'opt_phi_resp': opt_phi_resps,\n",
    "                   'opt_phi_ana': opt_phi_anas,\n",
    "                   'opt_phi_h': opt_phi_hs,\n",
    "                   'opt_phi_o': opt_phi_os\n",
    "                   })\n"
   ]
  },
  {
   "cell_type": "code",
   "execution_count": 333,
   "id": "428041b7",
   "metadata": {},
   "outputs": [
    {
     "data": {
      "text/html": [
       "<div>\n",
       "<style scoped>\n",
       "    .dataframe tbody tr th:only-of-type {\n",
       "        vertical-align: middle;\n",
       "    }\n",
       "\n",
       "    .dataframe tbody tr th {\n",
       "        vertical-align: top;\n",
       "    }\n",
       "\n",
       "    .dataframe thead th {\n",
       "        text-align: right;\n",
       "    }\n",
       "</style>\n",
       "<table border=\"1\" class=\"dataframe\">\n",
       "  <thead>\n",
       "    <tr style=\"text-align: right;\">\n",
       "      <th></th>\n",
       "      <th>atps</th>\n",
       "      <th>nadhs</th>\n",
       "      <th>s6s</th>\n",
       "      <th>mus</th>\n",
       "      <th>opt_phi_cat</th>\n",
       "      <th>opt_phi_resp</th>\n",
       "      <th>opt_phi_ana</th>\n",
       "      <th>opt_phi_h</th>\n",
       "      <th>opt_phi_o</th>\n",
       "    </tr>\n",
       "  </thead>\n",
       "  <tbody>\n",
       "    <tr>\n",
       "      <th>0</th>\n",
       "      <td>0.000062</td>\n",
       "      <td>0.002984</td>\n",
       "      <td>1.0</td>\n",
       "      <td>0.171575</td>\n",
       "      <td>0.27</td>\n",
       "      <td>0.086667</td>\n",
       "      <td>0.207778</td>\n",
       "      <td>0.02</td>\n",
       "      <td>0.415556</td>\n",
       "    </tr>\n",
       "  </tbody>\n",
       "</table>\n",
       "</div>"
      ],
      "text/plain": [
       "       atps     nadhs  s6s       mus  opt_phi_cat  opt_phi_resp  opt_phi_ana  \\\n",
       "0  0.000062  0.002984  1.0  0.171575         0.27      0.086667     0.207778   \n",
       "\n",
       "   opt_phi_h  opt_phi_o  \n",
       "0       0.02   0.415556  "
      ]
     },
     "execution_count": 333,
     "metadata": {},
     "output_type": "execute_result"
    }
   ],
   "source": [
    "df"
   ]
  },
  {
   "cell_type": "markdown",
   "id": "60c005ac",
   "metadata": {},
   "source": [
    "## Testing dynamics for some sample combinations"
   ]
  },
  {
   "cell_type": "code",
   "execution_count": 334,
   "id": "c15e2a12",
   "metadata": {},
   "outputs": [
    {
     "name": "stdout",
     "output_type": "stream",
     "text": [
      "phi_cat: 0.27\n",
      "phi_resp: 0.08666666666666666\n",
      "phi_ana: 0.20777777777777778\n",
      "phi_h: 0.02\n",
      "phi_o: 0.41555555555555557\n"
     ]
    }
   ],
   "source": [
    "# Set the index manually\n",
    "ind = 0  # You can change this value to the index you want\n",
    "\n",
    "# Retrieve the values from the DataFrame based on the index\n",
    "phi_cat = df.loc[ind, 'opt_phi_cat']\n",
    "phi_resp = df.loc[ind, 'opt_phi_resp']\n",
    "phi_ana = df.loc[ind, 'opt_phi_ana']\n",
    "phi_h = df.loc[ind, 'opt_phi_h']\n",
    "phi_o = df.loc[ind, 'opt_phi_o']\n",
    "\n",
    "# Print the values to check\n",
    "print(\"phi_cat:\", phi_cat)\n",
    "print(\"phi_resp:\", phi_resp)\n",
    "print(\"phi_ana:\", phi_ana)\n",
    "print(\"phi_h:\", phi_h)\n",
    "print(\"phi_o:\", phi_o)"
   ]
  },
  {
   "cell_type": "code",
   "execution_count": 335,
   "id": "e7a0a336",
   "metadata": {},
   "outputs": [],
   "source": [
    "y0 = np.array([ Corg0, NADH0, O20, ATP0 ])\n",
    "NUM_METS = len(y0)\n",
    "\n",
    "# Evaluation time\n",
    "TFINAL = 1e6\n",
    "t = np.logspace(-4, 6, 1000 )"
   ]
  },
  {
   "cell_type": "code",
   "execution_count": 336,
   "id": "9b192610",
   "metadata": {},
   "outputs": [
    {
     "data": {
      "image/png": "[encoded data removed]",
      "text/plain": [
       "<Figure size 300x300 with 1 Axes>"
      ]
     },
     "metadata": {},
     "output_type": "display_data"
    }
   ],
   "source": [
    "y_sol = solve_ivp(het_model, [ 1e-4, TFINAL ],  y0, t_eval=t, method='Radau' ).y\n",
    "\n",
    "fig, ax = plt.subplots( 1, 1, figsize=(3,3) )\n",
    "\n",
    "ax.set_ylabel( 'concentration (' + r'$\\mathcal{C}$)')\n",
    "ax.set_xlabel( 'time (' + r'$t$)')\n",
    "for idx in range(NUM_METS):\n",
    "    ax.plot( t[:len(y_sol[idx])], y_sol[idx], lw=5 )\n",
    "ax.legend([ 'Corg', 'NADH', 'O2', 'ATP' ], loc='best')\n",
    "ax.set_yscale('log')\n",
    "ax.set_xscale('log')\n",
    "\n",
    "fig.tight_layout()\n",
    "plt.show()"
   ]
  },
  {
   "cell_type": "code",
   "execution_count": 337,
   "id": "b2b930ab",
   "metadata": {},
   "outputs": [
    {
     "name": "stdout",
     "output_type": "stream",
     "text": [
      "2.983540e-03\n",
      "6.189031e-05\n"
     ]
    }
   ],
   "source": [
    "# Assuming y_sol is already defined and has the required shape\n",
    "values_to_print = y_sol[[1, -1], -1]\n",
    "\n",
    "for value in values_to_print:\n",
    "    print('{:.6e}'.format(value))\n"
   ]
  },
  {
   "cell_type": "code",
   "execution_count": null,
   "id": "a20072d6",
   "metadata": {},
   "outputs": [],
   "source": []
  }
 ],
 "metadata": {
  "kernelspec": {
   "display_name": "ces",
   "language": "python",
   "name": "python3"
  },
  "language_info": {
   "codemirror_mode": {
    "name": "ipython",
    "version": 3
   },
   "file_extension": ".py",
   "mimetype": "text/x-python",
   "name": "python",
   "nbconvert_exporter": "python",
   "pygments_lexer": "ipython3",
   "version": "3.7.12"
  }
 },
 "nbformat": 4,
 "nbformat_minor": 5
}
