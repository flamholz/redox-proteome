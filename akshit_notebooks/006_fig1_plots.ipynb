{
 "cells": [
  {
   "cell_type": "code",
   "execution_count": 1,
   "id": "1daa831e-7669-4552-9360-9aaa0ab4552c",
   "metadata": {},
   "outputs": [],
   "source": [
    "import numpy as np\n",
    "from scipy.integrate import solve_ivp\n",
    "import matplotlib.pyplot as plt\n",
    "import seaborn as sns\n",
    "from tqdm import tqdm\n",
    "import pandas as pd\n",
    "import random\n",
    "import itertools\n",
    "from scipy.optimize import minimize, least_squares\n",
    "from scipy.optimize import NonlinearConstraint\n",
    "from sklearn.manifold import MDS\n",
    "from sklearn.metrics.pairwise import manhattan_distances, euclidean_distances\n",
    "from matplotlib.offsetbox import OffsetImage, AnnotationBbox\n",
    "from scipy.spatial import ConvexHull\n",
    "from scipy.stats import zscore\n",
    "from itertools import permutations, product"
   ]
  },
  {
   "cell_type": "code",
   "execution_count": 2,
   "id": "f04c3e28-3fe6-4903-94c3-f386414c1b98",
   "metadata": {},
   "outputs": [],
   "source": [
    "import warnings\n",
    "warnings.filterwarnings('ignore')"
   ]
  },
  {
   "cell_type": "code",
   "execution_count": 3,
   "id": "79a07b42-6d5d-4b6e-9915-1ea9869bd6de",
   "metadata": {},
   "outputs": [],
   "source": [
    "import matplotlib as mpl\n",
    "\n",
    "plt.style.use('style.mpl')"
   ]
  },
  {
   "cell_type": "code",
   "execution_count": 4,
   "id": "eaf8a768-415d-424b-b2a8-4d7a2048c3f9",
   "metadata": {},
   "outputs": [],
   "source": [
    "import matplotlib.colors as colors\n",
    "# set the colormap and centre the colorbar\n",
    "class MidpointNormalize(colors.Normalize):\n",
    "    \"\"\"\n",
    "    Normalise the colorbar so that diverging bars work there way either side from a prescribed midpoint value)\n",
    "\n",
    "    e.g. im=ax1.imshow(array, norm=MidpointNormalize(midpoint=0.,vmin=-100, vmax=100))\n",
    "    \"\"\"\n",
    "    def __init__(self, vmin=None, vmax=None, midpoint=None, clip=False):\n",
    "        self.midpoint = midpoint\n",
    "        colors.Normalize.__init__(self, vmin, vmax, clip)\n",
    "\n",
    "    def __call__(self, value, clip=None):\n",
    "        # I'm ignoring masked values and all kinds of edge cases to make a\n",
    "        # simple example...\n",
    "        x, y = [self.vmin, self.midpoint, self.vmax], [0, 0.5, 1]\n",
    "        return np.ma.masked_array(np.interp(value, x, y), np.isnan(value))\n",
    "import matplotlib as mpl"
   ]
  },
  {
   "attachments": {},
   "cell_type": "markdown",
   "id": "a8a5ed2d-f6ee-4a25-a312-ad14a424ee7c",
   "metadata": {},
   "source": [
    "# Models"
   ]
  },
  {
   "attachments": {},
   "cell_type": "markdown",
   "id": "66fbc43b-3321-44c1-a5eb-2059cb03fefb",
   "metadata": {},
   "source": [
    "## Heterotrophy"
   ]
  },
  {
   "attachments": {},
   "cell_type": "markdown",
   "id": "85ae2cf0-b698-477a-bd42-1ccf8981903a",
   "metadata": {},
   "source": [
    "Set of metabolites are:\n",
    "<ul>\n",
    "    <li> Corg\n",
    "    <li> NAD\n",
    "    <li> NADH\n",
    "    <li> O2\n",
    "    <li> ATP\n",
    "    <li> ADP\n",
    "    <li> CO2\n",
    "    <li> biomass\n",
    "</ul>"
   ]
  },
  {
   "attachments": {},
   "cell_type": "markdown",
   "id": "022d07dc-83c0-4e35-97a5-906bea0791f3",
   "metadata": {},
   "source": [
    "Set of parameters are:\n",
    "\n",
    "<ul>\n",
    "    <li> $\\nu_{supply}$\n",
    "    <li> $\\gamma$'s\n",
    "    <li> $\\phi$'s\n",
    "    <li> total ATP/ADP and NADH/NAD+ pools\n",
    "</ul>"
   ]
  },
  {
   "cell_type": "code",
   "execution_count": 5,
   "id": "541c9b31-43ec-4542-9dcf-4ae880760d53",
   "metadata": {},
   "outputs": [],
   "source": [
    "eps = 1e-10\n",
    "tau = 1e-4"
   ]
  },
  {
   "cell_type": "code",
   "execution_count": 6,
   "id": "84f3c468",
   "metadata": {},
   "outputs": [],
   "source": [
    "ZC_org = 2."
   ]
  },
  {
   "cell_type": "code",
   "execution_count": 7,
   "id": "f97755ac-74b6-4dd2-ba5f-35049b132aaa",
   "metadata": {},
   "outputs": [],
   "source": [
    "def het_model( t, y ):\n",
    "    x = y.copy()\n",
    "    x[x<eps] = 0.0\n",
    "    x[x>1e8] = 1e8\n",
    "    Corg = x[0]\n",
    "    NADH = x[1]\n",
    "    O2 = x[2]\n",
    "    ATP = x[3]\n",
    "    \n",
    "    NAD = r1 * NADH\n",
    "    ADP = r2 * ATP\n",
    "    \n",
    "    nu_cat = (NAD ** ZC_org) * phi_cat * gamma_cat_inv * tau\n",
    "    nu_resp = (NADH ** 2) * phi_resp * gamma_resp_inv * tau\n",
    "    nu_ana = (NADH ** S6) * (ATP ** S5) * phi_ana * gamma_ana_inv * tau\n",
    "    \n",
    "    mu = nu_ana.copy()\n",
    "    \n",
    "    # dCorg = - nu_cat - nu_ana + nu_supply - mu * Corg\n",
    "    dCorg = 0.0\n",
    "    # dNADH = 2 * nu_cat - 2 * nu_resp - S6 * nu_ana - mu * NADH\n",
    "    dNADH = 0.0\n",
    "    dNAD = - dNADH\n",
    "    dO2 = 0.0\n",
    "    dATP = (S3 * nu_cat + S4 * nu_resp - S5 * nu_ana - mu * ATP)\n",
    "    dADP = -dATP\n",
    "    \n",
    "    dydt = np.array([dCorg, dNADH, dO2, dATP])\n",
    "    return dydt"
   ]
  },
  {
   "attachments": {},
   "cell_type": "markdown",
   "id": "004c55d8-8f66-4174-b70a-b863b452a7d5",
   "metadata": {},
   "source": [
    "# Simulations"
   ]
  },
  {
   "attachments": {},
   "cell_type": "markdown",
   "id": "c9b7154c-8473-47a7-b865-545b4d05f39f",
   "metadata": {},
   "source": [
    "## Parameters"
   ]
  },
  {
   "cell_type": "code",
   "execution_count": 8,
   "id": "ff0aa970-99f0-4dab-a7bf-35ed3a20403a",
   "metadata": {},
   "outputs": [],
   "source": [
    "# gammas are in (g s)/(mol) units.\n",
    "gamma_cat_inv = 200\n",
    "gamma_resp_inv = 40\n",
    "gamma_ana_inv = 200\n",
    "\n",
    "phi_cat = 0.5\n",
    "phi_ana = 0.4\n",
    "phi_resp = 0.1\n",
    "\n",
    "# Default params: reliance on respiration.\n",
    "S4 = 4.0    # ATP yield of respiration\n",
    "S3 = 0.3    # ATP yield of catabolism\n",
    "S5 = 1.1    # ATP cost of anabolism\n",
    "S6 = 0.2    # reduction coefficient of biomass"
   ]
  },
  {
   "attachments": {},
   "cell_type": "markdown",
   "id": "640499e0-f358-4198-a24b-1cd090baa581",
   "metadata": {},
   "source": [
    "### Initial conditions"
   ]
  },
  {
   "cell_type": "code",
   "execution_count": 9,
   "id": "145f2111-6e05-42b2-9110-0325dec40605",
   "metadata": {},
   "outputs": [],
   "source": [
    "# micromolar concentrations\n",
    "Corg0 = 1e1\n",
    "NADH0 = 1e1\n",
    "O20 = 1e1\n",
    "ATP0 = 1e1\n",
    "\n",
    "# KM is in uM\n",
    "KM = 100\n",
    "r1 = 10.\n",
    "r2 = 0.1"
   ]
  },
  {
   "attachments": {},
   "cell_type": "markdown",
   "id": "dbe72c9b-07f7-4c1c-a034-8387a1b1b634",
   "metadata": {},
   "source": [
    "### Dynamics"
   ]
  },
  {
   "cell_type": "code",
   "execution_count": 10,
   "id": "9ac08ddb-9a53-418a-8d4c-d4fa4405b204",
   "metadata": {},
   "outputs": [],
   "source": [
    "y0 = np.array([ Corg0, NADH0, O20, ATP0 ])\n",
    "NUM_METS = len(y0)\n",
    "\n",
    "# Evaluation time\n",
    "TFINAL = 1e6\n",
    "t = np.logspace(-4, 2, 1000 )\n",
    "S6 = 1."
   ]
  },
  {
   "cell_type": "code",
   "execution_count": 11,
   "id": "2b551d19-2c37-46c6-9abc-d0ce98faccce",
   "metadata": {},
   "outputs": [],
   "source": [
    "y_sol = solve_ivp(het_model, [ 1e-4, TFINAL ],  y0, t_eval=t, method='Radau' ).y"
   ]
  },
  {
   "attachments": {},
   "cell_type": "markdown",
   "id": "6153c287-31bd-4b0d-acde-df77e6170981",
   "metadata": {},
   "source": [
    "### Plot"
   ]
  },
  {
   "cell_type": "code",
   "execution_count": 12,
   "id": "e2d271e8-0f81-4ea2-9be1-1d250f152c33",
   "metadata": {},
   "outputs": [
    {
     "data": {
      "image/png": "[encoded data removed]",
      "text/plain": [
       "<Figure size 300x300 with 1 Axes>"
      ]
     },
     "metadata": {},
     "output_type": "display_data"
    }
   ],
   "source": [
    "fig, ax = plt.subplots( 1, 1, figsize=(3, 3) )\n",
    "\n",
    "ax.set_ylabel( 'concentration (' + r'$\\mathcal{C}$)')\n",
    "ax.set_xlabel( 'time (' + r'$t$)')\n",
    "for idx in range(NUM_METS):\n",
    "    ax.plot( t[:len(y_sol[idx])], y_sol[idx], lw=5 )\n",
    "ax.legend([ 'Corg', 'NADH', 'O2', 'ATP' ], loc='best')\n",
    "ax.set_yscale('log')\n",
    "ax.set_xscale('log')\n",
    "\n",
    "fig.tight_layout()\n",
    "plt.show()"
   ]
  },
  {
   "attachments": {},
   "cell_type": "markdown",
   "id": "629f7ecb-ee28-4459-8949-b13fa30773ab",
   "metadata": {},
   "source": [
    "### Fluxes"
   ]
  },
  {
   "cell_type": "code",
   "execution_count": 13,
   "id": "2c135a22-b29f-464a-a194-96500e30a46a",
   "metadata": {},
   "outputs": [],
   "source": [
    "def give_nus( y_sol, tpt ):\n",
    "    x = y_sol[:, tpt].copy()\n",
    "    Corg = x[0]\n",
    "    NADH = x[1]\n",
    "    O2 = x[2]\n",
    "    ATP = x[3]\n",
    "\n",
    "    NAD = r1 * NADH\n",
    "    ADP = r2 * ATP\n",
    "\n",
    "    nu_cat = (NAD ** 2) * phi_cat * gamma_cat_inv * tau\n",
    "    nu_resp = (NADH ** 2) * phi_resp * gamma_resp_inv * tau\n",
    "    nu_ana = (NADH ** S6) * (ATP ** S5) * phi_ana * gamma_ana_inv * tau\n",
    "    \n",
    "    return np.array([nu_cat, nu_resp, nu_ana])"
   ]
  },
  {
   "cell_type": "code",
   "execution_count": 14,
   "id": "eccfe56a-225b-433b-8470-00b2c9c83b0b",
   "metadata": {},
   "outputs": [],
   "source": [
    "nus = np.array([give_nus(y_sol, tpt) for tpt in range(len(t))]).T"
   ]
  },
  {
   "cell_type": "code",
   "execution_count": 15,
   "id": "4520d68b-d24d-4ece-949e-b88bde2ad7bf",
   "metadata": {},
   "outputs": [
    {
     "data": {
      "image/png": "[encoded data removed]",
      "text/plain": [
       "<Figure size 500x500 with 1 Axes>"
      ]
     },
     "metadata": {},
     "output_type": "display_data"
    }
   ],
   "source": [
    "fig, ax = plt.subplots( 1, 1, figsize=(5, 5) )\n",
    "\n",
    "ax.set_ylabel( 'flux (' + r'$\\nu$)')\n",
    "ax.set_xlabel( 'time (' + r'$t$)')\n",
    "for idx in range(3):\n",
    "    ax.plot( t[:len(nus[idx])], nus[idx], lw=5 )\n",
    "ax.legend([ 'cat', 'resp', 'ana' ], loc='best')\n",
    "ax.set_yscale('log')\n",
    "ax.set_xscale('log')\n",
    "\n",
    "fig.tight_layout()\n",
    "plt.show()"
   ]
  },
  {
   "attachments": {},
   "cell_type": "markdown",
   "id": "e6d7a868",
   "metadata": {},
   "source": [
    "# Full figure 1, minus schematic Fig. 1A"
   ]
  },
  {
   "cell_type": "code",
   "execution_count": 16,
   "id": "46b0d338",
   "metadata": {},
   "outputs": [
    {
     "data": {
      "image/png": "[encoded data removed]",
      "text/plain": [
       "<Figure size 724x300 with 5 Axes>"
      ]
     },
     "metadata": {},
     "output_type": "display_data"
    }
   ],
   "source": [
    "# Create the figure\n",
    "fig, axs = plt.subplots(ncols=4, nrows=1, figsize=(7.24, 3.0))\n",
    "\n",
    "##############################################\n",
    "## Fig. 1B\n",
    "##############################################\n",
    "plt.sca(axs[0])\n",
    "plt.ylabel('growth rate ' + r'$\\mu$' + ' (hr$^{-1}$)')\n",
    "plt.xlabel('anabolic fraction ' + r'$\\phi_{ana}$')\n",
    "\n",
    "cs = ['dodgerblue', 'indianred', 'mediumseagreen']\n",
    "legend_elements = []\n",
    "\n",
    "# gammas are in (g s)/(mol) units.\n",
    "gamma_cat_inv = 200\n",
    "gamma_resp_inv = 40\n",
    "gamma_ana_inv = 200\n",
    "\n",
    "# Default params: reliance on respiration.\n",
    "S4 = 4.0    # ATP yield of respiration\n",
    "S3 = 0.3    # ATP yield of catabolism\n",
    "S5 = 1.1    # ATP cost of anabolism\n",
    "S6 = 0.2    # reduction coefficient of biomass\n",
    "for indx, t_phi_o in enumerate(np.linspace(0.4, 0.6, 3)):\n",
    "    mus = []\n",
    "    phianas = []\n",
    "    phi_o = t_phi_o\n",
    "    phi_resp = 0.05\n",
    "\n",
    "    for t_phi_ana in np.linspace(0.00, 1-phi_o-phi_resp, 200):\n",
    "        phi_cat = 1-phi_o-phi_resp-t_phi_ana\n",
    "        phi_ana = t_phi_ana.copy()\n",
    "\n",
    "        y0 = np.array([ Corg0, NADH0, O20, ATP0 ])\n",
    "        NUM_METS = len(y0)\n",
    "\n",
    "        # Evaluation time\n",
    "        TFINAL = 1e6\n",
    "        t = np.logspace(-4, 6, 1000 )\n",
    "        S6 = 1.\n",
    "\n",
    "        y_sol = solve_ivp(het_model, [ 1e-4, TFINAL ],  y0, t_eval=t, method='Radau' ).y\n",
    "\n",
    "\n",
    "        nus = np.array([give_nus(y_sol, tpt) for tpt in range(len(t))]).T\n",
    "\n",
    "        mus.append(nus[-1, -1])\n",
    "        phianas.append(t_phi_ana)\n",
    "\n",
    "    mus.append(0.0)\n",
    "    phianas.append(t_phi_ana)\n",
    "    plt.plot( phianas, mus, lw=4, c=cs[indx] )\n",
    "    legend_elements.append(r'$\\phi_o = $' + str(t_phi_o))\n",
    "plt.ylim(0.0, 1.3)\n",
    "plt.legend(legend_elements, loc='best')\n",
    "\n",
    "\n",
    "##############################################\n",
    "## Fig. 1C\n",
    "##############################################\n",
    "plt.sca(axs[1])\n",
    "plt.ylabel( '')\n",
    "plt.xlabel( 'respiratory rate ' + r'$\\nu_{resp}$' )\n",
    "\n",
    "# gammas are in (g s)/(mol) units.\n",
    "gamma_cat_inv = 200\n",
    "gamma_resp_inv = 40\n",
    "gamma_ana_inv = 200\n",
    "\n",
    "# Default params: reliance on respiration.\n",
    "ZC_org = 2  # NADH yield (ZC) of carbon source\n",
    "S4 = 7.0    # ATP yield of respiration\n",
    "S3 = 0.3    # ATP yield of catabolism\n",
    "S5 = 1.1    # ATP cost of anabolism\n",
    "S6 = 0.3    # reduction coefficient of biomass\n",
    "phi_o = 0.45\n",
    "\n",
    "tau = 1e-3\n",
    "\n",
    "cs = ['dodgerblue', 'indianred', 'mediumseagreen']\n",
    "legend_elements = []\n",
    "\n",
    "cats_to_sample = np.linspace(0.0004, 0.5, 1)\n",
    "resps_to_sample = np.linspace(0.0, 0.6, 100)\n",
    "\n",
    "for indx, phi_o in enumerate(np.linspace(0.4, 0.6, 3)):\n",
    "    for phi_cat in cats_to_sample:\n",
    "        allmus, allphis, allnuresps = [], [], []\n",
    "        for phi_resp in resps_to_sample:\n",
    "            phi_ana = 1-phi_cat-phi_resp-phi_o\n",
    "\n",
    "            y0 = np.array([ Corg0, NADH0, O20, ATP0 ])\n",
    "            NUM_METS = len(y0)\n",
    "\n",
    "            # Evaluation time\n",
    "            TFINAL = 1e6\n",
    "            t = np.logspace(-4, 6, 1000 )\n",
    "\n",
    "            y_sol = solve_ivp(het_model, [ 1e-4, TFINAL ],  y0, t_eval=t, method='Radau' ).y\n",
    "\n",
    "            nus = np.array([give_nus(y_sol, tpt) for tpt in range(len(t))]).T\n",
    "            if nus[-1,-1] >= 0.0:\n",
    "                allmus.append(nus[-1, -1])\n",
    "            else:\n",
    "                allmus.append(0.0)\n",
    "            allphis.append([phi_cat, phi_resp, phi_ana])\n",
    "            allnuresps.append(nus[-1,1])\n",
    "            if phi_resp == 0.0:\n",
    "                allnuresps.append(allnuresps[-1]+3e-2)\n",
    "                allmus.append(0.0)\n",
    "        \n",
    "        plt.plot( allnuresps, allmus, lw=4, c=cs[indx] )\n",
    "        legend_elements.append(r'$\\phi_o = $' + str(phi_o))\n",
    "\n",
    "plt.ylim(0.0, 1.3)\n",
    "plt.xlim(-0.06,3.2)\n",
    "plt.legend(legend_elements, loc='best')\n",
    "\n",
    "##############################################\n",
    "## Fig. 1D\n",
    "##############################################\n",
    "plt.sca(axs[2])\n",
    "plt.ylabel( '')\n",
    "plt.xlabel( 'anabolic fraction ' + r'$\\phi_{ana}$' )\n",
    "\n",
    "# gammas are in (g s)/(mol) units.\n",
    "gamma_cat_inv = 200\n",
    "gamma_resp_inv = 40\n",
    "gamma_ana_inv = 200\n",
    "\n",
    "# For diminishing reliance on respiration.\n",
    "# S4 = 0.1    # ATP yield of respiration\n",
    "# S3 = 1.3    # ATP yield of catabolism\n",
    "\n",
    "# Default params: reliance on respiration.\n",
    "ZC_org = 2  # NADH yield (ZC) of carbon source\n",
    "S4 = 4.0    # ATP yield of respiration\n",
    "S3 = 0.3    # ATP yield of catabolism\n",
    "S5 = 1.1    # ATP cost of anabolism\n",
    "S6 = 0.2    # reduction coefficient of biomass\n",
    "\n",
    "tau = 1e-4\n",
    "\n",
    "cs = ['dodgerblue', 'indianred', 'mediumseagreen']\n",
    "legend_elements = []\n",
    "phi_o = 0.6\n",
    "ZC_org = 2.0\n",
    "\n",
    "for indx, S3 in enumerate(np.linspace(1.1, 0.6, 2)):\n",
    "    mus = []\n",
    "    phianas = []\n",
    "    phi_resp = 0.12\n",
    "\n",
    "    for t_phi_ana in np.linspace(0.00, 1-phi_o-phi_resp, 200):\n",
    "        phi_cat = 1-phi_o-phi_resp-t_phi_ana\n",
    "        phi_ana = t_phi_ana.copy()\n",
    "\n",
    "        y0 = np.array([ Corg0, NADH0, O20, ATP0 ])\n",
    "        NUM_METS = len(y0)\n",
    "\n",
    "        # Evaluation time\n",
    "        TFINAL = 1e6\n",
    "        t = np.logspace(-4, 6, 1000 )\n",
    "        S6 = 1.\n",
    "\n",
    "        y_sol = solve_ivp(het_model, [ 1e-4, TFINAL ],  y0, t_eval=t, method='Radau' ).y\n",
    "\n",
    "        nus = np.array([give_nus(y_sol, tpt) for tpt in range(len(t))]).T\n",
    "\n",
    "        mus.append(nus[-1, -1])\n",
    "        phianas.append(t_phi_ana)\n",
    "\n",
    "    mus.append(0.0)\n",
    "    phianas.append(t_phi_ana)\n",
    "    plt.plot( phianas, mus, lw=4, c=cs[indx] )\n",
    "    legend_elements.append(r'($Z_C^{org}, S_3) = ($' + str(ZC_org) + ',' + str(S3) + ')')\n",
    "\n",
    "S3 = 1.1\n",
    "indx += 1\n",
    "phi_o = 0.6\n",
    "ZC_org = 2.05\n",
    "mus = []\n",
    "phianas = []\n",
    "phi_resp = 0.12\n",
    "\n",
    "for t_phi_ana in np.linspace(0.00, 1-phi_o-phi_resp, 200):\n",
    "    phi_cat = 1-phi_o-phi_resp-t_phi_ana\n",
    "    phi_ana = t_phi_ana.copy()\n",
    "\n",
    "    y0 = np.array([ Corg0, NADH0, O20, ATP0 ])\n",
    "    NUM_METS = len(y0)\n",
    "\n",
    "    # Evaluation time\n",
    "    TFINAL = 1e6\n",
    "    t = np.logspace(-4, 6, 1000 )\n",
    "    S6 = 1.\n",
    "\n",
    "    y_sol = solve_ivp(het_model, [ 1e-4, TFINAL ],  y0, t_eval=t, method='Radau' ).y\n",
    "\n",
    "    nus = np.array([give_nus(y_sol, tpt) for tpt in range(len(t))]).T\n",
    "\n",
    "    mus.append(nus[-1, -1])\n",
    "    phianas.append(t_phi_ana)\n",
    "\n",
    "mus.append(0.0)\n",
    "phianas.append(t_phi_ana)\n",
    "plt.plot( phianas, mus, lw=4, c=cs[indx] )\n",
    "legend_elements.append(r'($Z_C^{org}, S_3) = ($' + str(ZC_org) + ',' + str(S3) + ')')\n",
    "\n",
    "# resetting carbon source ZC.\n",
    "ZC_org = 2.0\n",
    "\n",
    "plt.ylim(0.0, 1.3)\n",
    "plt.legend(legend_elements, loc='best')\n",
    "\n",
    "##############################################\n",
    "## Fig. 1E\n",
    "##############################################\n",
    "plt.sca(axs[3])\n",
    "plt.ylabel('')\n",
    "plt.xlabel('anabolic NADH usage (' + r'$S_6$' + ')')\n",
    "\n",
    "cs = ['dodgerblue', 'indianred', 'mediumseagreen']\n",
    "\n",
    "all_mus = []\n",
    "all_zcs = []\n",
    "\n",
    "gamma_cat_inv = 200\n",
    "gamma_resp_inv = 40\n",
    "gamma_ana_inv = 200\n",
    "\n",
    "\n",
    "# Default params: reliance on respiration.\n",
    "NADH0 = 10. # init NADH conc in units of KM\n",
    "ZC_org = 2  # NADH yield (ZC) of carbon source\n",
    "S4 = 4.0    # ATP yield of respiration\n",
    "S3 = 0.3    # ATP yield of catabolism\n",
    "S5 = 1.1    # ATP cost of anabolism\n",
    "for indx in range(3):\n",
    "    mus = []\n",
    "    zcs = []\n",
    "    tau = 1e-4\n",
    "    phi_o = 0.4\n",
    "    phi_cat = 0.2\n",
    "    phi_resp = 0.1\n",
    "\n",
    "    if indx == 1:\n",
    "        NADH0 = 6.0\n",
    "    elif indx == 2:\n",
    "        NADH0 = 14.\n",
    "        S4 = 20.\n",
    "\n",
    "    phi_ana = 1 - phi_cat - phi_resp - phi_o\n",
    "\n",
    "    for S6 in np.linspace(-0.1, 0.5, 100):\n",
    "        y0 = np.array([Corg0, NADH0, O20, ATP0])\n",
    "        NUM_METS = len(y0)\n",
    "\n",
    "        # Evaluation time\n",
    "        TFINAL = 1e6\n",
    "        t = np.logspace(-4, 6, 1000)\n",
    "\n",
    "        y_sol = solve_ivp(het_model, [1e-4, TFINAL], y0, t_eval=t, method='Radau').y\n",
    "\n",
    "        nus = np.array([give_nus(y_sol, tpt) for tpt in range(len(t))]).T\n",
    "\n",
    "        mus.append(nus[-1, -1])\n",
    "        zcs.append(S6)\n",
    "\n",
    "    all_mus.append(mus)\n",
    "    all_zcs.append(zcs)\n",
    "\n",
    "    if indx == 1 or indx == 2:\n",
    "        plt.plot(zcs, mus, lw=0, c=cs[indx])\n",
    "    else:\n",
    "        plt.plot(zcs, mus, lw=5, c=cs[indx])\n",
    "\n",
    "# Filling the gap between the second and third curves\n",
    "if len(all_mus) >= 3:\n",
    "    plt.fill_between(all_zcs[1], all_mus[1], all_mus[2], alpha=0.3, color='dodgerblue')\n",
    "\n",
    "# Add parallel x-axis\n",
    "# ticks, labels = axs[3].get_xticks()\n",
    "ax2 = plt.twiny()\n",
    "ax2.plot(np.array(zcs) * 2, mus, lw=0, c=cs[indx])\n",
    "plt.xlabel(r'$Z_{C,B}$')\n",
    "\n",
    "\n",
    "plt.tight_layout()\n",
    "plt.savefig('Fig1.png', facecolor='w', dpi=300)\n",
    "plt.show()"
   ]
  },
  {
   "cell_type": "code",
   "execution_count": 17,
   "id": "86dc3b27",
   "metadata": {},
   "outputs": [
    {
     "data": {
      "text/plain": [
       "0.4322754523202647"
      ]
     },
     "execution_count": 17,
     "metadata": {},
     "output_type": "execute_result"
    }
   ],
   "source": [
    "(all_mus[0][-1] - all_mus[0][0])/(all_zcs[0][-1] - all_zcs[0][0])"
   ]
  },
  {
   "cell_type": "code",
   "execution_count": null,
   "id": "917fc5ce",
   "metadata": {},
   "outputs": [],
   "source": []
  }
 ],
 "metadata": {
  "kernelspec": {
   "display_name": "Python 3 (ipykernel)",
   "language": "python",
   "name": "python3"
  },
  "language_info": {
   "codemirror_mode": {
    "name": "ipython",
    "version": 3
   },
   "file_extension": ".py",
   "mimetype": "text/x-python",
   "name": "python",
   "nbconvert_exporter": "python",
   "pygments_lexer": "ipython3",
   "version": "3.7.12"
  }
 },
 "nbformat": 4,
 "nbformat_minor": 5
}
