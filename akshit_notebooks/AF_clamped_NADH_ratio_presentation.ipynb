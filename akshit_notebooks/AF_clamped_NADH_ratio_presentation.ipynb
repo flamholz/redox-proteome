{
 "cells": [
  {
   "cell_type": "code",
   "execution_count": 1,
   "id": "1daa831e-7669-4552-9360-9aaa0ab4552c",
   "metadata": {},
   "outputs": [],
   "source": [
    "import numpy as np\n",
    "from scipy.integrate import solve_ivp\n",
    "import matplotlib.pyplot as plt\n",
    "import seaborn as sns\n",
    "from tqdm import tqdm\n",
    "import pandas as pd\n",
    "import random\n",
    "import itertools\n",
    "from scipy.optimize import minimize, least_squares\n",
    "from scipy.optimize import NonlinearConstraint\n",
    "from matplotlib.offsetbox import OffsetImage, AnnotationBbox\n",
    "from scipy.spatial import ConvexHull\n",
    "from scipy.stats import zscore\n",
    "from itertools import permutations, product"
   ]
  },
  {
   "cell_type": "code",
   "execution_count": 2,
   "id": "f04c3e28-3fe6-4903-94c3-f386414c1b98",
   "metadata": {},
   "outputs": [],
   "source": [
    "import warnings\n",
    "warnings.filterwarnings('ignore')"
   ]
  },
  {
   "cell_type": "code",
   "execution_count": 3,
   "id": "79a07b42-6d5d-4b6e-9915-1ea9869bd6de",
   "metadata": {},
   "outputs": [],
   "source": [
    "plt.style.use('style.mpl')"
   ]
  },
  {
   "cell_type": "markdown",
   "id": "a8a5ed2d-f6ee-4a25-a312-ad14a424ee7c",
   "metadata": {},
   "source": [
    "# Models"
   ]
  },
  {
   "cell_type": "markdown",
   "id": "66fbc43b-3321-44c1-a5eb-2059cb03fefb",
   "metadata": {},
   "source": [
    "## Heterotrophy"
   ]
  },
  {
   "cell_type": "markdown",
   "id": "85ae2cf0-b698-477a-bd42-1ccf8981903a",
   "metadata": {},
   "source": [
    "Set of metabolites are:\n",
    "<ul>\n",
    "    <li> Corg\n",
    "    <li> NAD\n",
    "    <li> NADH\n",
    "    <li> O2\n",
    "    <li> ATP\n",
    "    <li> ADP\n",
    "    <li> CO2\n",
    "    <li> biomass\n",
    "</ul>"
   ]
  },
  {
   "cell_type": "markdown",
   "id": "022d07dc-83c0-4e35-97a5-906bea0791f3",
   "metadata": {},
   "source": [
    "Set of parameters are:\n",
    "\n",
    "<ul>\n",
    "    <li> $\\nu_{supply}$\n",
    "    <li> $\\gamma$'s\n",
    "    <li> $\\phi$'s\n",
    "    <li> total ATP/ADP and NADH/NAD+ pools\n",
    "</ul>\n",
    "\n",
    "TODO: add $phi_o$?"
   ]
  },
  {
   "cell_type": "code",
   "execution_count": 4,
   "id": "541c9b31-43ec-4542-9dcf-4ae880760d53",
   "metadata": {},
   "outputs": [],
   "source": [
    "eps = 1e-10"
   ]
  },
  {
   "cell_type": "code",
   "execution_count": 5,
   "id": "f97755ac-74b6-4dd2-ba5f-35049b132aaa",
   "metadata": {},
   "outputs": [],
   "source": [
    "def het_model( t, y ):\n",
    "    x = y.copy()\n",
    "    x[x<eps] = 0.0\n",
    "    Corg = x[0]\n",
    "    NADH = x[1]\n",
    "    O2 = x[2]\n",
    "    ATP = x[3]\n",
    "    \n",
    "    NAD = r1 * NADH\n",
    "    ADP = r2 * ATP\n",
    "    \n",
    "    sum_phis = phi_cat + phi_resp + phi_ana\n",
    "    assert(np.abs(sum_phis - 1) < 1e-4)\n",
    "    \n",
    "    KM_term_cat = 1 + (Corg/KM)*((NAD/KM)** 2)\n",
    "    nu_cat = Corg * (NAD ** 2) * phi_cat / (gamma_cat*KM_term_cat)\n",
    "    \n",
    "    KM_term_resp = 1 + (O2/KM)*((NADH/KM)**2)\n",
    "    nu_resp = (NADH ** 2) * O2 * phi_resp / (gamma_resp*KM_term_resp)\n",
    "    \n",
    "    KM_term_ana = 1 + (Corg/KM)*((NADH/KM)**S6)*((ATP/KM)**S6)\n",
    "    nu_ana = (Corg * (NADH ** S6) * (ATP ** S5) * phi_ana / \n",
    "              (gamma_ana*KM_term_ana))\n",
    "    \n",
    "    mu = nu_ana.copy()\n",
    "    \n",
    "    dCorg = - nu_cat - nu_ana + nu_supply - mu * Corg\n",
    "    dNADH = 2 * nu_cat - 2 * nu_resp - S6 * nu_ana - mu * NADH\n",
    "    #dNADH = 0.0\n",
    "    dNAD = - dNADH\n",
    "    dO2 = 0.0\n",
    "    dATP = S3 * nu_cat + S4 * nu_resp - S5 * nu_ana - mu * ATP\n",
    "    dADP = -dATP\n",
    "    \n",
    "    dydt = np.nan_to_num(np.array([dCorg, dNADH, dO2, dATP]))\n",
    "    return dydt"
   ]
  },
  {
   "cell_type": "markdown",
   "id": "004c55d8-8f66-4174-b70a-b863b452a7d5",
   "metadata": {},
   "source": [
    "# Simulations"
   ]
  },
  {
   "cell_type": "markdown",
   "id": "c9b7154c-8473-47a7-b865-545b4d05f39f",
   "metadata": {},
   "source": [
    "### Parameters"
   ]
  },
  {
   "cell_type": "code",
   "execution_count": 6,
   "id": "e0cd3701-0f6a-44cc-87d0-26ff30cc402c",
   "metadata": {},
   "outputs": [],
   "source": [
    "# fluxes are in mol C / g / s\n",
    "nu_supply = 1\n",
    "\n",
    "# gammas are in (g s)/(mol) units.\n",
    "gamma_cat = 50\n",
    "gamma_resp = 200\n",
    "gamma_ana = 50"
   ]
  },
  {
   "cell_type": "code",
   "execution_count": 7,
   "id": "5d7155db-f2ca-450c-8ea2-b75437480104",
   "metadata": {},
   "outputs": [],
   "source": [
    "phi_cat = 0.5\n",
    "phi_ana = 0.4\n",
    "phi_resp = 0.1"
   ]
  },
  {
   "cell_type": "code",
   "execution_count": 8,
   "id": "fc8674dd-39ce-4239-8a8b-b222fb0fd4d0",
   "metadata": {},
   "outputs": [],
   "source": [
    "S4 = 4\n",
    "S3 = 0.3\n",
    "S5 = 1\n",
    "S6 = 0.2"
   ]
  },
  {
   "cell_type": "markdown",
   "id": "640499e0-f358-4198-a24b-1cd090baa581",
   "metadata": {},
   "source": [
    "### Initial conditions"
   ]
  },
  {
   "cell_type": "code",
   "execution_count": 9,
   "id": "84d1336c-6667-44f2-818f-00898d2b4f8f",
   "metadata": {},
   "outputs": [],
   "source": [
    "# micromolar concentrations\n",
    "Corg0 = 1e3\n",
    "NADH0 = 1e4\n",
    "O20 = 1e4\n",
    "ATP0 = 1e4\n",
    "\n",
    "# KM is in uM\n",
    "KM = 100\n",
    "r1 = 10.\n",
    "r2 = 0.1"
   ]
  },
  {
   "cell_type": "code",
   "execution_count": 10,
   "id": "002b892a-5c54-4d9f-8f78-845249aabdb7",
   "metadata": {},
   "outputs": [
    {
     "name": "stdout",
     "output_type": "stream",
     "text": [
      "10000001.0\n",
      "9999.9990000001\n",
      "\n",
      "1000001.0\n",
      "499.9995000005\n",
      "\n",
      "2512.8864315095802\n",
      "200.870946356666\n",
      "0.008\n",
      "6.309573444801933\n",
      "10000.0\n"
     ]
    }
   ],
   "source": [
    "# Testing out the terms w saturation\n",
    "NAD0 = r1*NADH0\n",
    "KM_term_cat = 1 + (Corg0/KM)*((NAD0/KM)** 2)\n",
    "nu_cat = Corg0 * (NAD0 ** 2) * phi_cat / (gamma_cat*KM_term_cat)\n",
    "print(KM_term_cat)\n",
    "print(nu_cat)\n",
    "print()\n",
    "\n",
    "KM_term_resp = 1 + (O20/KM)*((NADH0/KM)**2)\n",
    "nu_resp = (NADH0 ** 2) * O20 * phi_resp / (gamma_resp*KM_term_resp)\n",
    "print(KM_term_resp)\n",
    "print(nu_resp)\n",
    "print()\n",
    "\n",
    "KM_term_ana = 1 + (Corg0/KM)*((NADH0/KM)**S6)*((ATP0/KM)**S5)\n",
    "nu_ana = (Corg0 * (NADH0 ** S6) * (ATP0 ** S5) * phi_ana / \n",
    "          (gamma_ana*KM_term_ana))\n",
    "print(KM_term_ana)\n",
    "print(nu_ana)\n",
    "print(phi_ana/gamma_ana)\n",
    "print((NADH0 ** S6))\n",
    "print((ATP0 ** S5))\n"
   ]
  },
  {
   "cell_type": "markdown",
   "id": "dbe72c9b-07f7-4c1c-a034-8387a1b1b634",
   "metadata": {},
   "source": [
    "### Dynamics"
   ]
  },
  {
   "cell_type": "code",
   "execution_count": 11,
   "id": "9ac08ddb-9a53-418a-8d4c-d4fa4405b204",
   "metadata": {},
   "outputs": [],
   "source": [
    "y0 = np.array([ Corg0, NADH0, O20, ATP0 ])\n",
    "NUM_METS = len(y0)\n",
    "\n",
    "# Evaluation time\n",
    "TFINAL = 1e6\n",
    "t = np.logspace(-4, 6, 1000 )"
   ]
  },
  {
   "cell_type": "code",
   "execution_count": 12,
   "id": "2b551d19-2c37-46c6-9abc-d0ce98faccce",
   "metadata": {},
   "outputs": [],
   "source": [
    "y_sol = solve_ivp(het_model, [ 1e-4, TFINAL ],  y0, t_eval=t, method='Radau' ).y"
   ]
  },
  {
   "cell_type": "markdown",
   "id": "6153c287-31bd-4b0d-acde-df77e6170981",
   "metadata": {},
   "source": [
    "### Plot"
   ]
  },
  {
   "cell_type": "code",
   "execution_count": 13,
   "id": "e2d271e8-0f81-4ea2-9be1-1d250f152c33",
   "metadata": {},
   "outputs": [
    {
     "data": {
      "image/png": "[encoded data removed]",
      "text/plain": [
       "<Figure size 216x216 with 1 Axes>"
      ]
     },
     "metadata": {
      "needs_background": "light"
     },
     "output_type": "display_data"
    }
   ],
   "source": [
    "fig, ax = plt.subplots( 1, 1, figsize=(3, 3) )\n",
    "\n",
    "ax.set_ylabel( 'concentration (' + r'$\\mathcal{C}$)')\n",
    "ax.set_xlabel( 'time (' + r'$t$)')\n",
    "for idx in range(NUM_METS):\n",
    "    ax.plot( t[:len(y_sol[idx])], y_sol[idx], lw=2)\n",
    "ax.legend([ 'Corg', 'NADH', 'O2', 'ATP' ], loc='best')\n",
    "ax.set_yscale('log')\n",
    "ax.set_xscale('log')\n",
    "\n",
    "fig.tight_layout()\n",
    "plt.show()"
   ]
  },
  {
   "cell_type": "markdown",
   "id": "629f7ecb-ee28-4459-8949-b13fa30773ab",
   "metadata": {},
   "source": [
    "### Fluxes"
   ]
  },
  {
   "cell_type": "code",
   "execution_count": 14,
   "id": "2c135a22-b29f-464a-a194-96500e30a46a",
   "metadata": {},
   "outputs": [],
   "source": [
    "def give_nus( y_sol, tpt ):\n",
    "    x = y_sol[:, tpt].copy()\n",
    "    Corg = x[0]\n",
    "    NADH = x[1]\n",
    "    O2 = x[2]\n",
    "    ATP = x[3]\n",
    "\n",
    "    NAD = r1 * NADH\n",
    "    ADP = r2 * ATP\n",
    "\n",
    "    nu_cat = Corg * (NAD ** 2) * phi_cat / gamma_cat\n",
    "    nu_resp = (NADH ** 2) * O2 * phi_resp / gamma_resp\n",
    "    nu_ana = Corg * (NADH ** S6) * (ATP ** S5) * phi_ana / gamma_ana\n",
    "    \n",
    "    # rescale to mmol/gDW/hr from mol/gDW/s\n",
    "    return 3.6e6*np.array([nu_cat, nu_resp, nu_ana])"
   ]
  },
  {
   "cell_type": "code",
   "execution_count": 15,
   "id": "eccfe56a-225b-433b-8470-00b2c9c83b0b",
   "metadata": {},
   "outputs": [],
   "source": [
    "nus = np.array([give_nus(y_sol, tpt) for tpt in range(len(t))]).T"
   ]
  },
  {
   "cell_type": "code",
   "execution_count": 19,
   "id": "4520d68b-d24d-4ece-949e-b88bde2ad7bf",
   "metadata": {},
   "outputs": [
    {
     "data": {
      "image/png": "[encoded data removed]",
      "text/plain": [
       "<Figure size 216x216 with 1 Axes>"
      ]
     },
     "metadata": {
      "needs_background": "light"
     },
     "output_type": "display_data"
    }
   ],
   "source": [
    "fig, ax = plt.subplots( 1, 1, figsize=(3, 3) )\n",
    "\n",
    "ax.set_ylabel( 'flux (' + r'$\\nu$)')\n",
    "ax.set_xlabel( 'time (' + r'$t$)')\n",
    "for idx in range(3):\n",
    "    ax.plot( t[:len(nus[idx])], nus[idx], lw=2 )\n",
    "ax.legend([ 'cat', 'resp', 'ana' ], loc='best')\n",
    "ax.set_yscale('log')\n",
    "ax.set_xscale('log')\n",
    "\n",
    "fig.tight_layout()\n",
    "plt.show()"
   ]
  },
  {
   "cell_type": "code",
   "execution_count": 17,
   "id": "7f57fb7a-128b-4ddd-b3be-db171e52c26e",
   "metadata": {},
   "outputs": [
    {
     "data": {
      "text/plain": [
       "array([0.1, 0.2, 0.3, 0.4, 0.5])"
      ]
     },
     "execution_count": 17,
     "metadata": {},
     "output_type": "execute_result"
    }
   ],
   "source": [
    "phi_resp_vals = np.linspace(0.0, 0.5, 6)[1:]\n",
    "phi_resp_vals"
   ]
  },
  {
   "cell_type": "markdown",
   "id": "25e2edee-d18b-4531-871a-9187be78cb73",
   "metadata": {},
   "source": [
    "# Sweeping over $\\phi_{ana} + \\phi_{cat}$"
   ]
  },
  {
   "cell_type": "code",
   "execution_count": 18,
   "id": "0cd19f38-1e15-4732-8ee9-b246849e95af",
   "metadata": {},
   "outputs": [
    {
     "name": "stdout",
     "output_type": "stream",
     "text": [
      "resp fraction 0.1\n"
     ]
    },
    {
     "ename": "KeyboardInterrupt",
     "evalue": "",
     "output_type": "error",
     "traceback": [
      "\u001b[0;31m---------------------------------------------------------------------------\u001b[0m",
      "\u001b[0;31mKeyboardInterrupt\u001b[0m                         Traceback (most recent call last)",
      "\u001b[0;32m<ipython-input-18-e86a0b091a03>\u001b[0m in \u001b[0;36m<module>\u001b[0;34m\u001b[0m\n\u001b[1;32m     17\u001b[0m         \u001b[0mS6\u001b[0m \u001b[0;34m=\u001b[0m \u001b[0;36m0.2\u001b[0m\u001b[0;34m\u001b[0m\u001b[0;34m\u001b[0m\u001b[0m\n\u001b[1;32m     18\u001b[0m \u001b[0;34m\u001b[0m\u001b[0m\n\u001b[0;32m---> 19\u001b[0;31m         \u001b[0my_sol\u001b[0m \u001b[0;34m=\u001b[0m \u001b[0msolve_ivp\u001b[0m\u001b[0;34m(\u001b[0m\u001b[0mhet_model\u001b[0m\u001b[0;34m,\u001b[0m \u001b[0;34m[\u001b[0m \u001b[0;36m1e-4\u001b[0m\u001b[0;34m,\u001b[0m \u001b[0mTFINAL\u001b[0m \u001b[0;34m]\u001b[0m\u001b[0;34m,\u001b[0m  \u001b[0my0\u001b[0m\u001b[0;34m,\u001b[0m \u001b[0mt_eval\u001b[0m\u001b[0;34m=\u001b[0m\u001b[0mt\u001b[0m\u001b[0;34m,\u001b[0m \u001b[0mmethod\u001b[0m\u001b[0;34m=\u001b[0m\u001b[0;34m'Radau'\u001b[0m \u001b[0;34m)\u001b[0m\u001b[0;34m.\u001b[0m\u001b[0my\u001b[0m\u001b[0;34m\u001b[0m\u001b[0;34m\u001b[0m\u001b[0m\n\u001b[0m\u001b[1;32m     20\u001b[0m \u001b[0;34m\u001b[0m\u001b[0m\n\u001b[1;32m     21\u001b[0m         \u001b[0mnus\u001b[0m \u001b[0;34m=\u001b[0m \u001b[0mnp\u001b[0m\u001b[0;34m.\u001b[0m\u001b[0marray\u001b[0m\u001b[0;34m(\u001b[0m\u001b[0;34m[\u001b[0m\u001b[0mgive_nus\u001b[0m\u001b[0;34m(\u001b[0m\u001b[0my_sol\u001b[0m\u001b[0;34m,\u001b[0m \u001b[0mtpt\u001b[0m\u001b[0;34m)\u001b[0m \u001b[0;32mfor\u001b[0m \u001b[0mtpt\u001b[0m \u001b[0;32min\u001b[0m \u001b[0mrange\u001b[0m\u001b[0;34m(\u001b[0m\u001b[0mlen\u001b[0m\u001b[0;34m(\u001b[0m\u001b[0mt\u001b[0m\u001b[0;34m)\u001b[0m\u001b[0;34m)\u001b[0m\u001b[0;34m]\u001b[0m\u001b[0;34m)\u001b[0m\u001b[0;34m.\u001b[0m\u001b[0mT\u001b[0m\u001b[0;34m\u001b[0m\u001b[0;34m\u001b[0m\u001b[0m\n",
      "\u001b[0;32m~/Library/Python/3.8/lib/python/site-packages/scipy/integrate/_ivp/ivp.py\u001b[0m in \u001b[0;36msolve_ivp\u001b[0;34m(fun, t_span, y0, method, t_eval, dense_output, events, vectorized, args, **options)\u001b[0m\n\u001b[1;32m    574\u001b[0m     \u001b[0mstatus\u001b[0m \u001b[0;34m=\u001b[0m \u001b[0;32mNone\u001b[0m\u001b[0;34m\u001b[0m\u001b[0;34m\u001b[0m\u001b[0m\n\u001b[1;32m    575\u001b[0m     \u001b[0;32mwhile\u001b[0m \u001b[0mstatus\u001b[0m \u001b[0;32mis\u001b[0m \u001b[0;32mNone\u001b[0m\u001b[0;34m:\u001b[0m\u001b[0;34m\u001b[0m\u001b[0;34m\u001b[0m\u001b[0m\n\u001b[0;32m--> 576\u001b[0;31m         \u001b[0mmessage\u001b[0m \u001b[0;34m=\u001b[0m \u001b[0msolver\u001b[0m\u001b[0;34m.\u001b[0m\u001b[0mstep\u001b[0m\u001b[0;34m(\u001b[0m\u001b[0;34m)\u001b[0m\u001b[0;34m\u001b[0m\u001b[0;34m\u001b[0m\u001b[0m\n\u001b[0m\u001b[1;32m    577\u001b[0m \u001b[0;34m\u001b[0m\u001b[0m\n\u001b[1;32m    578\u001b[0m         \u001b[0;32mif\u001b[0m \u001b[0msolver\u001b[0m\u001b[0;34m.\u001b[0m\u001b[0mstatus\u001b[0m \u001b[0;34m==\u001b[0m \u001b[0;34m'finished'\u001b[0m\u001b[0;34m:\u001b[0m\u001b[0;34m\u001b[0m\u001b[0;34m\u001b[0m\u001b[0m\n",
      "\u001b[0;32m~/Library/Python/3.8/lib/python/site-packages/scipy/integrate/_ivp/base.py\u001b[0m in \u001b[0;36mstep\u001b[0;34m(self)\u001b[0m\n\u001b[1;32m    179\u001b[0m         \u001b[0;32melse\u001b[0m\u001b[0;34m:\u001b[0m\u001b[0;34m\u001b[0m\u001b[0;34m\u001b[0m\u001b[0m\n\u001b[1;32m    180\u001b[0m             \u001b[0mt\u001b[0m \u001b[0;34m=\u001b[0m \u001b[0mself\u001b[0m\u001b[0;34m.\u001b[0m\u001b[0mt\u001b[0m\u001b[0;34m\u001b[0m\u001b[0;34m\u001b[0m\u001b[0m\n\u001b[0;32m--> 181\u001b[0;31m             \u001b[0msuccess\u001b[0m\u001b[0;34m,\u001b[0m \u001b[0mmessage\u001b[0m \u001b[0;34m=\u001b[0m \u001b[0mself\u001b[0m\u001b[0;34m.\u001b[0m\u001b[0m_step_impl\u001b[0m\u001b[0;34m(\u001b[0m\u001b[0;34m)\u001b[0m\u001b[0;34m\u001b[0m\u001b[0;34m\u001b[0m\u001b[0m\n\u001b[0m\u001b[1;32m    182\u001b[0m \u001b[0;34m\u001b[0m\u001b[0m\n\u001b[1;32m    183\u001b[0m             \u001b[0;32mif\u001b[0m \u001b[0;32mnot\u001b[0m \u001b[0msuccess\u001b[0m\u001b[0;34m:\u001b[0m\u001b[0;34m\u001b[0m\u001b[0;34m\u001b[0m\u001b[0m\n",
      "\u001b[0;32m~/Library/Python/3.8/lib/python/site-packages/scipy/integrate/_ivp/radau.py\u001b[0m in \u001b[0;36m_step_impl\u001b[0;34m(self)\u001b[0m\n\u001b[1;32m    500\u001b[0m         \u001b[0mf_new\u001b[0m \u001b[0;34m=\u001b[0m \u001b[0mself\u001b[0m\u001b[0;34m.\u001b[0m\u001b[0mfun\u001b[0m\u001b[0;34m(\u001b[0m\u001b[0mt_new\u001b[0m\u001b[0;34m,\u001b[0m \u001b[0my_new\u001b[0m\u001b[0;34m)\u001b[0m\u001b[0;34m\u001b[0m\u001b[0;34m\u001b[0m\u001b[0m\n\u001b[1;32m    501\u001b[0m         \u001b[0;32mif\u001b[0m \u001b[0mrecompute_jac\u001b[0m\u001b[0;34m:\u001b[0m\u001b[0;34m\u001b[0m\u001b[0;34m\u001b[0m\u001b[0m\n\u001b[0;32m--> 502\u001b[0;31m             \u001b[0mJ\u001b[0m \u001b[0;34m=\u001b[0m \u001b[0mjac\u001b[0m\u001b[0;34m(\u001b[0m\u001b[0mt_new\u001b[0m\u001b[0;34m,\u001b[0m \u001b[0my_new\u001b[0m\u001b[0;34m,\u001b[0m \u001b[0mf_new\u001b[0m\u001b[0;34m)\u001b[0m\u001b[0;34m\u001b[0m\u001b[0;34m\u001b[0m\u001b[0m\n\u001b[0m\u001b[1;32m    503\u001b[0m             \u001b[0mcurrent_jac\u001b[0m \u001b[0;34m=\u001b[0m \u001b[0;32mTrue\u001b[0m\u001b[0;34m\u001b[0m\u001b[0;34m\u001b[0m\u001b[0m\n\u001b[1;32m    504\u001b[0m         \u001b[0;32melif\u001b[0m \u001b[0mjac\u001b[0m \u001b[0;32mis\u001b[0m \u001b[0;32mnot\u001b[0m \u001b[0;32mNone\u001b[0m\u001b[0;34m:\u001b[0m\u001b[0;34m\u001b[0m\u001b[0;34m\u001b[0m\u001b[0m\n",
      "\u001b[0;32m~/Library/Python/3.8/lib/python/site-packages/scipy/integrate/_ivp/radau.py\u001b[0m in \u001b[0;36mjac_wrapped\u001b[0;34m(t, y, f)\u001b[0m\n\u001b[1;32m    346\u001b[0m             \u001b[0;32mdef\u001b[0m \u001b[0mjac_wrapped\u001b[0m\u001b[0;34m(\u001b[0m\u001b[0mt\u001b[0m\u001b[0;34m,\u001b[0m \u001b[0my\u001b[0m\u001b[0;34m,\u001b[0m \u001b[0mf\u001b[0m\u001b[0;34m)\u001b[0m\u001b[0;34m:\u001b[0m\u001b[0;34m\u001b[0m\u001b[0;34m\u001b[0m\u001b[0m\n\u001b[1;32m    347\u001b[0m                 \u001b[0mself\u001b[0m\u001b[0;34m.\u001b[0m\u001b[0mnjev\u001b[0m \u001b[0;34m+=\u001b[0m \u001b[0;36m1\u001b[0m\u001b[0;34m\u001b[0m\u001b[0;34m\u001b[0m\u001b[0m\n\u001b[0;32m--> 348\u001b[0;31m                 J, self.jac_factor = num_jac(self.fun_vectorized, t, y, f,\n\u001b[0m\u001b[1;32m    349\u001b[0m                                              \u001b[0mself\u001b[0m\u001b[0;34m.\u001b[0m\u001b[0matol\u001b[0m\u001b[0;34m,\u001b[0m \u001b[0mself\u001b[0m\u001b[0;34m.\u001b[0m\u001b[0mjac_factor\u001b[0m\u001b[0;34m,\u001b[0m\u001b[0;34m\u001b[0m\u001b[0;34m\u001b[0m\u001b[0m\n\u001b[1;32m    350\u001b[0m                                              sparsity)\n",
      "\u001b[0;32m~/Library/Python/3.8/lib/python/site-packages/scipy/integrate/_ivp/common.py\u001b[0m in \u001b[0;36mnum_jac\u001b[0;34m(fun, t, y, f, threshold, factor, sparsity)\u001b[0m\n\u001b[1;32m    314\u001b[0m \u001b[0;34m\u001b[0m\u001b[0m\n\u001b[1;32m    315\u001b[0m     \u001b[0;32mif\u001b[0m \u001b[0msparsity\u001b[0m \u001b[0;32mis\u001b[0m \u001b[0;32mNone\u001b[0m\u001b[0;34m:\u001b[0m\u001b[0;34m\u001b[0m\u001b[0;34m\u001b[0m\u001b[0m\n\u001b[0;32m--> 316\u001b[0;31m         \u001b[0;32mreturn\u001b[0m \u001b[0m_dense_num_jac\u001b[0m\u001b[0;34m(\u001b[0m\u001b[0mfun\u001b[0m\u001b[0;34m,\u001b[0m \u001b[0mt\u001b[0m\u001b[0;34m,\u001b[0m \u001b[0my\u001b[0m\u001b[0;34m,\u001b[0m \u001b[0mf\u001b[0m\u001b[0;34m,\u001b[0m \u001b[0mh\u001b[0m\u001b[0;34m,\u001b[0m \u001b[0mfactor\u001b[0m\u001b[0;34m,\u001b[0m \u001b[0my_scale\u001b[0m\u001b[0;34m)\u001b[0m\u001b[0;34m\u001b[0m\u001b[0;34m\u001b[0m\u001b[0m\n\u001b[0m\u001b[1;32m    317\u001b[0m     \u001b[0;32melse\u001b[0m\u001b[0;34m:\u001b[0m\u001b[0;34m\u001b[0m\u001b[0;34m\u001b[0m\u001b[0m\n\u001b[1;32m    318\u001b[0m         \u001b[0mstructure\u001b[0m\u001b[0;34m,\u001b[0m \u001b[0mgroups\u001b[0m \u001b[0;34m=\u001b[0m \u001b[0msparsity\u001b[0m\u001b[0;34m\u001b[0m\u001b[0;34m\u001b[0m\u001b[0m\n",
      "\u001b[0;32m~/Library/Python/3.8/lib/python/site-packages/scipy/integrate/_ivp/common.py\u001b[0m in \u001b[0;36m_dense_num_jac\u001b[0;34m(fun, t, y, f, h, factor, y_scale)\u001b[0m\n\u001b[1;32m    337\u001b[0m         \u001b[0mh_new\u001b[0m \u001b[0;34m=\u001b[0m \u001b[0;34m(\u001b[0m\u001b[0my\u001b[0m\u001b[0;34m[\u001b[0m\u001b[0mind\u001b[0m\u001b[0;34m]\u001b[0m \u001b[0;34m+\u001b[0m \u001b[0mnew_factor\u001b[0m \u001b[0;34m*\u001b[0m \u001b[0my_scale\u001b[0m\u001b[0;34m[\u001b[0m\u001b[0mind\u001b[0m\u001b[0;34m]\u001b[0m\u001b[0;34m)\u001b[0m \u001b[0;34m-\u001b[0m \u001b[0my\u001b[0m\u001b[0;34m[\u001b[0m\u001b[0mind\u001b[0m\u001b[0;34m]\u001b[0m\u001b[0;34m\u001b[0m\u001b[0;34m\u001b[0m\u001b[0m\n\u001b[1;32m    338\u001b[0m         \u001b[0mh_vecs\u001b[0m\u001b[0;34m[\u001b[0m\u001b[0mind\u001b[0m\u001b[0;34m,\u001b[0m \u001b[0mind\u001b[0m\u001b[0;34m]\u001b[0m \u001b[0;34m=\u001b[0m \u001b[0mh_new\u001b[0m\u001b[0;34m\u001b[0m\u001b[0;34m\u001b[0m\u001b[0m\n\u001b[0;32m--> 339\u001b[0;31m         \u001b[0mf_new\u001b[0m \u001b[0;34m=\u001b[0m \u001b[0mfun\u001b[0m\u001b[0;34m(\u001b[0m\u001b[0mt\u001b[0m\u001b[0;34m,\u001b[0m \u001b[0my\u001b[0m\u001b[0;34m[\u001b[0m\u001b[0;34m:\u001b[0m\u001b[0;34m,\u001b[0m \u001b[0;32mNone\u001b[0m\u001b[0;34m]\u001b[0m \u001b[0;34m+\u001b[0m \u001b[0mh_vecs\u001b[0m\u001b[0;34m[\u001b[0m\u001b[0;34m:\u001b[0m\u001b[0;34m,\u001b[0m \u001b[0mind\u001b[0m\u001b[0;34m]\u001b[0m\u001b[0;34m)\u001b[0m\u001b[0;34m\u001b[0m\u001b[0;34m\u001b[0m\u001b[0m\n\u001b[0m\u001b[1;32m    340\u001b[0m         \u001b[0mdiff_new\u001b[0m \u001b[0;34m=\u001b[0m \u001b[0mf_new\u001b[0m \u001b[0;34m-\u001b[0m \u001b[0mf\u001b[0m\u001b[0;34m[\u001b[0m\u001b[0;34m:\u001b[0m\u001b[0;34m,\u001b[0m \u001b[0;32mNone\u001b[0m\u001b[0;34m]\u001b[0m\u001b[0;34m\u001b[0m\u001b[0;34m\u001b[0m\u001b[0m\n\u001b[1;32m    341\u001b[0m         \u001b[0mmax_ind\u001b[0m \u001b[0;34m=\u001b[0m \u001b[0mnp\u001b[0m\u001b[0;34m.\u001b[0m\u001b[0margmax\u001b[0m\u001b[0;34m(\u001b[0m\u001b[0mnp\u001b[0m\u001b[0;34m.\u001b[0m\u001b[0mabs\u001b[0m\u001b[0;34m(\u001b[0m\u001b[0mdiff_new\u001b[0m\u001b[0;34m)\u001b[0m\u001b[0;34m,\u001b[0m \u001b[0maxis\u001b[0m\u001b[0;34m=\u001b[0m\u001b[0;36m0\u001b[0m\u001b[0;34m)\u001b[0m\u001b[0;34m\u001b[0m\u001b[0;34m\u001b[0m\u001b[0m\n",
      "\u001b[0;32m~/Library/Python/3.8/lib/python/site-packages/scipy/integrate/_ivp/base.py\u001b[0m in \u001b[0;36mfun_vectorized\u001b[0;34m(t, y)\u001b[0m\n\u001b[1;32m    131\u001b[0m                 \u001b[0mf\u001b[0m \u001b[0;34m=\u001b[0m \u001b[0mnp\u001b[0m\u001b[0;34m.\u001b[0m\u001b[0mempty_like\u001b[0m\u001b[0;34m(\u001b[0m\u001b[0my\u001b[0m\u001b[0;34m)\u001b[0m\u001b[0;34m\u001b[0m\u001b[0;34m\u001b[0m\u001b[0m\n\u001b[1;32m    132\u001b[0m                 \u001b[0;32mfor\u001b[0m \u001b[0mi\u001b[0m\u001b[0;34m,\u001b[0m \u001b[0myi\u001b[0m \u001b[0;32min\u001b[0m \u001b[0menumerate\u001b[0m\u001b[0;34m(\u001b[0m\u001b[0my\u001b[0m\u001b[0;34m.\u001b[0m\u001b[0mT\u001b[0m\u001b[0;34m)\u001b[0m\u001b[0;34m:\u001b[0m\u001b[0;34m\u001b[0m\u001b[0;34m\u001b[0m\u001b[0m\n\u001b[0;32m--> 133\u001b[0;31m                     \u001b[0mf\u001b[0m\u001b[0;34m[\u001b[0m\u001b[0;34m:\u001b[0m\u001b[0;34m,\u001b[0m \u001b[0mi\u001b[0m\u001b[0;34m]\u001b[0m \u001b[0;34m=\u001b[0m \u001b[0mself\u001b[0m\u001b[0;34m.\u001b[0m\u001b[0m_fun\u001b[0m\u001b[0;34m(\u001b[0m\u001b[0mt\u001b[0m\u001b[0;34m,\u001b[0m \u001b[0myi\u001b[0m\u001b[0;34m)\u001b[0m\u001b[0;34m\u001b[0m\u001b[0;34m\u001b[0m\u001b[0m\n\u001b[0m\u001b[1;32m    134\u001b[0m                 \u001b[0;32mreturn\u001b[0m \u001b[0mf\u001b[0m\u001b[0;34m\u001b[0m\u001b[0;34m\u001b[0m\u001b[0m\n\u001b[1;32m    135\u001b[0m \u001b[0;34m\u001b[0m\u001b[0m\n",
      "\u001b[0;32m~/Library/Python/3.8/lib/python/site-packages/scipy/integrate/_ivp/base.py\u001b[0m in \u001b[0;36mfun_wrapped\u001b[0;34m(t, y)\u001b[0m\n\u001b[1;32m     18\u001b[0m \u001b[0;34m\u001b[0m\u001b[0m\n\u001b[1;32m     19\u001b[0m     \u001b[0;32mdef\u001b[0m \u001b[0mfun_wrapped\u001b[0m\u001b[0;34m(\u001b[0m\u001b[0mt\u001b[0m\u001b[0;34m,\u001b[0m \u001b[0my\u001b[0m\u001b[0;34m)\u001b[0m\u001b[0;34m:\u001b[0m\u001b[0;34m\u001b[0m\u001b[0;34m\u001b[0m\u001b[0m\n\u001b[0;32m---> 20\u001b[0;31m         \u001b[0;32mreturn\u001b[0m \u001b[0mnp\u001b[0m\u001b[0;34m.\u001b[0m\u001b[0masarray\u001b[0m\u001b[0;34m(\u001b[0m\u001b[0mfun\u001b[0m\u001b[0;34m(\u001b[0m\u001b[0mt\u001b[0m\u001b[0;34m,\u001b[0m \u001b[0my\u001b[0m\u001b[0;34m)\u001b[0m\u001b[0;34m,\u001b[0m \u001b[0mdtype\u001b[0m\u001b[0;34m=\u001b[0m\u001b[0mdtype\u001b[0m\u001b[0;34m)\u001b[0m\u001b[0;34m\u001b[0m\u001b[0;34m\u001b[0m\u001b[0m\n\u001b[0m\u001b[1;32m     21\u001b[0m \u001b[0;34m\u001b[0m\u001b[0m\n\u001b[1;32m     22\u001b[0m     \u001b[0;32mreturn\u001b[0m \u001b[0mfun_wrapped\u001b[0m\u001b[0;34m,\u001b[0m \u001b[0my0\u001b[0m\u001b[0;34m\u001b[0m\u001b[0;34m\u001b[0m\u001b[0m\n",
      "\u001b[0;32m<ipython-input-5-d7abe5d7041f>\u001b[0m in \u001b[0;36mhet_model\u001b[0;34m(t, y)\u001b[0m\n\u001b[1;32m     11\u001b[0m \u001b[0;34m\u001b[0m\u001b[0m\n\u001b[1;32m     12\u001b[0m     \u001b[0msum_phis\u001b[0m \u001b[0;34m=\u001b[0m \u001b[0mphi_cat\u001b[0m \u001b[0;34m+\u001b[0m \u001b[0mphi_resp\u001b[0m \u001b[0;34m+\u001b[0m \u001b[0mphi_ana\u001b[0m\u001b[0;34m\u001b[0m\u001b[0;34m\u001b[0m\u001b[0m\n\u001b[0;32m---> 13\u001b[0;31m     \u001b[0;32massert\u001b[0m\u001b[0;34m(\u001b[0m\u001b[0mnp\u001b[0m\u001b[0;34m.\u001b[0m\u001b[0mabs\u001b[0m\u001b[0;34m(\u001b[0m\u001b[0msum_phis\u001b[0m \u001b[0;34m-\u001b[0m \u001b[0;36m1\u001b[0m\u001b[0;34m)\u001b[0m \u001b[0;34m<\u001b[0m \u001b[0;36m1e-4\u001b[0m\u001b[0;34m)\u001b[0m\u001b[0;34m\u001b[0m\u001b[0;34m\u001b[0m\u001b[0m\n\u001b[0m\u001b[1;32m     14\u001b[0m \u001b[0;34m\u001b[0m\u001b[0m\n\u001b[1;32m     15\u001b[0m     \u001b[0mKM_term_cat\u001b[0m \u001b[0;34m=\u001b[0m \u001b[0;36m1\u001b[0m \u001b[0;34m+\u001b[0m \u001b[0;34m(\u001b[0m\u001b[0mCorg\u001b[0m\u001b[0;34m/\u001b[0m\u001b[0mKM\u001b[0m\u001b[0;34m)\u001b[0m\u001b[0;34m*\u001b[0m\u001b[0;34m(\u001b[0m\u001b[0;34m(\u001b[0m\u001b[0mNAD\u001b[0m\u001b[0;34m/\u001b[0m\u001b[0mKM\u001b[0m\u001b[0;34m)\u001b[0m\u001b[0;34m**\u001b[0m \u001b[0;36m2\u001b[0m\u001b[0;34m)\u001b[0m\u001b[0;34m\u001b[0m\u001b[0;34m\u001b[0m\u001b[0m\n",
      "\u001b[0;31mKeyboardInterrupt\u001b[0m: "
     ]
    }
   ],
   "source": [
    "res = dict(mu=[], nu_cat=[], nu_resp=[], nu_ana=[], phi_cat=[], phi_ana=[], phi_resp=[])\n",
    "\n",
    "for t_phi_resp in phi_resp_vals:\n",
    "    print('resp fraction', t_phi_resp)\n",
    "    phi_resp = t_phi_resp.copy()\n",
    "    cat_ana_total = 1-t_phi_resp\n",
    "    for t_phi_ana in np.logspace(-6, np.log10(cat_ana_total), 300):\n",
    "        phi_ana = t_phi_ana.copy()\n",
    "        phi_cat = cat_ana_total - t_phi_ana\n",
    "\n",
    "        y0 = np.array([ Corg0, NADH0, O20, ATP0 ])\n",
    "        NUM_METS = len(y0)\n",
    "\n",
    "        # Evaluation time\n",
    "        TFINAL = 1e7\n",
    "        t = np.logspace(-4, 6, 1000 )\n",
    "        S6 = 0.2\n",
    "\n",
    "        y_sol = solve_ivp(het_model, [ 1e-4, TFINAL ],  y0, t_eval=t, method='Radau' ).y\n",
    "\n",
    "        nus = np.array([give_nus(y_sol, tpt) for tpt in range(len(t))]).T\n",
    "\n",
    "        res['mu'].append(nus[-1, -1])\n",
    "        for i, nu in enumerate('nu_cat,nu_resp,nu_ana'.split(',')):\n",
    "            res[nu].append(nus[i, -1])\n",
    "        res['phi_ana'].append(t_phi_ana)\n",
    "        res['phi_cat'].append(phi_cat.copy())\n",
    "        res['phi_resp'].append(t_phi_resp)"
   ]
  },
  {
   "cell_type": "code",
   "execution_count": null,
   "id": "b6ce5e7b-1e33-48b0-9a57-ce5aa2edbca0",
   "metadata": {},
   "outputs": [],
   "source": [
    "res_df = pd.DataFrame(res).replace({np.NaN:0})\n",
    "res_df"
   ]
  },
  {
   "cell_type": "code",
   "execution_count": null,
   "id": "b867f1ec-f81c-4157-8eb7-c342e48176c0",
   "metadata": {},
   "outputs": [],
   "source": [
    "fig, ax = plt.subplots( 1, 1, figsize=(5, 5) )\n",
    "\n",
    "plt.ylabel( r'$\\mu$' )\n",
    "plt.xlabel( r'$\\phi_{ana}$' )\n",
    "\n",
    "mask = res_df.phi_resp == res_df.phi_resp.max()\n",
    "ax.plot(res_df[mask].phi_ana, res_df[mask].mu, lw=5)\n",
    "plt.twiny()\n",
    "ax.plot(res_df[mask].phi_cat, res_df[mask].mu, lw=5)\n",
    "plt.xlabel(r'$\\phi_{cat}$', labelpad=10)\n",
    "\n",
    "# ax.set_yscale('log')\n",
    "# ax.set_xscale('log')\n",
    "\n",
    "fig.tight_layout()\n",
    "plt.show()"
   ]
  },
  {
   "cell_type": "code",
   "execution_count": null,
   "id": "ec810b3d-210e-442f-85ca-f745116f6d9e",
   "metadata": {},
   "outputs": [],
   "source": [
    "plt.figure()\n",
    "plt.xscale('log')\n",
    "\n",
    "pal = sns.color_palette('Reds')\n",
    "for i, (idx, gdf) in enumerate(res_df.groupby('phi_resp')):\n",
    "    plt.plot(gdf.phi_ana, gdf.mu, color=pal[i])"
   ]
  },
  {
   "cell_type": "code",
   "execution_count": null,
   "id": "3934c4e7-639c-4383-8b61-a376fcd380ff",
   "metadata": {},
   "outputs": [],
   "source": [
    "plt.figure()\n",
    "plt.xscale('log')\n",
    "\n",
    "tmp = res_df.groupby('phi_resp').agg(dict(mu='idxmax'))\n",
    "maxs = res_df.loc[tmp.mu]\n",
    "pal = sns.color_palette('Reds', n_colors=maxs.mu.size)\n",
    "\n",
    "for i, (idx, gdf) in enumerate(res_df.groupby('phi_resp')):\n",
    "    plt.plot(gdf.nu_resp, gdf.nu_ana, color=pal[i])\n",
    "    \n",
    "tmp = res_df.groupby('phi_resp').agg(dict(mu='idxmax'))\n",
    "maxs = res_df.loc[tmp.mu]\n",
    "\n",
    "plt.scatter(maxs.nu_resp, maxs.mu, edgecolor='k', lw=2, color='w', zorder=10)\n",
    "plt.xlabel('$\\\\nu_{resp}$')\n",
    "plt.ylabel('$\\\\nu_{ana}$')\n",
    "plt.show()"
   ]
  },
  {
   "cell_type": "markdown",
   "id": "efd9b8c9-eebf-4f03-b657-fc104547a6e5",
   "metadata": {},
   "source": [
    "# Sweeping over $S_6$"
   ]
  },
  {
   "cell_type": "code",
   "execution_count": null,
   "id": "0b84ea48-5caf-40a5-ad71-b629f24fe445",
   "metadata": {},
   "outputs": [],
   "source": [
    "mus = []\n",
    "zcs = []\n",
    "\n",
    "phi_cat = 0.4\n",
    "phi_resp = 0.05\n",
    "phi_ana = 1-phi_cat-phi_resp\n",
    "\n",
    "for S6 in np.linspace(-2., 2., 100):\n",
    "\n",
    "    y0 = np.array([ Corg0, NADH0, O20, ATP0 ])\n",
    "    NUM_METS = len(y0)\n",
    "\n",
    "    # Evaluation time\n",
    "    TFINAL = 1e6\n",
    "    t = np.logspace(-4, 6, 1000 )\n",
    "\n",
    "    y_sol = solve_ivp(het_model, [ 1e-4, TFINAL ],  y0, t_eval=t, method='Radau' ).y\n",
    "\n",
    "\n",
    "    nus = np.array([give_nus(y_sol, tpt) for tpt in range(len(t))]).T\n",
    "\n",
    "    mus.append(nus[-1, -1])\n",
    "    zcs.append(S6)"
   ]
  },
  {
   "cell_type": "code",
   "execution_count": null,
   "id": "3b3c5571-af33-49a2-a5c7-1cf4625a4353",
   "metadata": {},
   "outputs": [],
   "source": [
    "fig, ax = plt.subplots( 1, 1, figsize=(5, 5) )\n",
    "\n",
    "ax.set_ylabel( r'$\\mu$' )\n",
    "ax.set_xlabel( r'$S_6$' )\n",
    "ax.plot( zcs, mus, lw=5 )\n",
    "# ax.set_yscale('log')\n",
    "# ax.set_xscale('log')\n",
    "fig.tight_layout()\n",
    "plt.show()"
   ]
  },
  {
   "cell_type": "code",
   "execution_count": null,
   "id": "ed879937-e80f-4fb7-9d90-e34c716b6692",
   "metadata": {},
   "outputs": [],
   "source": []
  },
  {
   "cell_type": "code",
   "execution_count": null,
   "id": "4c4dad7b-6ada-4eb3-9db8-ce088a2c4650",
   "metadata": {},
   "outputs": [],
   "source": []
  },
  {
   "cell_type": "code",
   "execution_count": null,
   "id": "193e911c-d17a-471a-81e9-36ef2d1cca20",
   "metadata": {},
   "outputs": [],
   "source": []
  },
  {
   "cell_type": "code",
   "execution_count": null,
   "id": "cfa4f5d8-4dff-4d82-96b5-1d08187aa072",
   "metadata": {},
   "outputs": [],
   "source": []
  }
 ],
 "metadata": {
  "kernelspec": {
   "display_name": "Python 3",
   "language": "python",
   "name": "python3"
  },
  "language_info": {
   "codemirror_mode": {
    "name": "ipython",
    "version": 3
   },
   "file_extension": ".py",
   "mimetype": "text/x-python",
   "name": "python",
   "nbconvert_exporter": "python",
   "pygments_lexer": "ipython3",
   "version": "3.8.2"
  }
 },
 "nbformat": 4,
 "nbformat_minor": 5
}
