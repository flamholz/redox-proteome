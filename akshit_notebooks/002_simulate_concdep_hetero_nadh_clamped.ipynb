{
 "cells": [
  {
   "cell_type": "code",
   "execution_count": 596,
   "id": "1daa831e-7669-4552-9360-9aaa0ab4552c",
   "metadata": {},
   "outputs": [],
   "source": [
    "import numpy as np\n",
    "from scipy.integrate import solve_ivp\n",
    "import matplotlib.pyplot as plt\n",
    "import seaborn as sns\n",
    "from tqdm import tqdm\n",
    "import pandas as pd\n",
    "import random\n",
    "import itertools\n",
    "from scipy.optimize import minimize, least_squares\n",
    "from scipy.optimize import NonlinearConstraint\n",
    "from sklearn.manifold import MDS\n",
    "from sklearn.metrics.pairwise import manhattan_distances, euclidean_distances\n",
    "from matplotlib.offsetbox import OffsetImage, AnnotationBbox\n",
    "from scipy.spatial import ConvexHull\n",
    "from scipy.stats import zscore\n",
    "from itertools import permutations, product"
   ]
  },
  {
   "cell_type": "code",
   "execution_count": 597,
   "id": "f04c3e28-3fe6-4903-94c3-f386414c1b98",
   "metadata": {},
   "outputs": [],
   "source": [
    "import warnings\n",
    "warnings.filterwarnings('ignore')"
   ]
  },
  {
   "cell_type": "code",
   "execution_count": 598,
   "id": "79a07b42-6d5d-4b6e-9915-1ea9869bd6de",
   "metadata": {},
   "outputs": [],
   "source": [
    "import matplotlib as mpl\n",
    "\n",
    "mpl.rcParams['axes.linewidth'] = 1\n",
    "mpl.rcParams['axes.labelsize'] = 18\n",
    "mpl.rcParams['xtick.major.size'] = 10\n",
    "mpl.rcParams['xtick.major.width'] = 1\n",
    "mpl.rcParams['xtick.minor.size'] = 5\n",
    "mpl.rcParams['xtick.minor.width'] = 1\n",
    "mpl.rcParams['ytick.major.size'] = 10\n",
    "mpl.rcParams['ytick.major.width'] = 1\n",
    "mpl.rcParams['ytick.minor.size'] = 5\n",
    "mpl.rcParams['ytick.minor.width'] = 1\n",
    "mpl.rcParams['font.family'] = 'Arial'\n",
    "mpl.rcParams['font.size'] = 16\n",
    "mpl.rcParams['mathtext.fontset'] = 'cm'"
   ]
  },
  {
   "cell_type": "code",
   "execution_count": 599,
   "id": "eaf8a768-415d-424b-b2a8-4d7a2048c3f9",
   "metadata": {},
   "outputs": [],
   "source": [
    "import matplotlib.colors as colors\n",
    "# set the colormap and centre the colorbar\n",
    "class MidpointNormalize(colors.Normalize):\n",
    "    \"\"\"\n",
    "    Normalise the colorbar so that diverging bars work there way either side from a prescribed midpoint value)\n",
    "\n",
    "    e.g. im=ax1.imshow(array, norm=MidpointNormalize(midpoint=0.,vmin=-100, vmax=100))\n",
    "    \"\"\"\n",
    "    def __init__(self, vmin=None, vmax=None, midpoint=None, clip=False):\n",
    "        self.midpoint = midpoint\n",
    "        colors.Normalize.__init__(self, vmin, vmax, clip)\n",
    "\n",
    "    def __call__(self, value, clip=None):\n",
    "        # I'm ignoring masked values and all kinds of edge cases to make a\n",
    "        # simple example...\n",
    "        x, y = [self.vmin, self.midpoint, self.vmax], [0, 0.5, 1]\n",
    "        return np.ma.masked_array(np.interp(value, x, y), np.isnan(value))\n",
    "import matplotlib as mpl"
   ]
  },
  {
   "cell_type": "markdown",
   "id": "a8a5ed2d-f6ee-4a25-a312-ad14a424ee7c",
   "metadata": {},
   "source": [
    "# Models"
   ]
  },
  {
   "cell_type": "markdown",
   "id": "66fbc43b-3321-44c1-a5eb-2059cb03fefb",
   "metadata": {},
   "source": [
    "## Heterotrophy"
   ]
  },
  {
   "cell_type": "markdown",
   "id": "85ae2cf0-b698-477a-bd42-1ccf8981903a",
   "metadata": {},
   "source": [
    "Set of metabolites are:\n",
    "<ul>\n",
    "    <li> Corg\n",
    "    <li> NAD\n",
    "    <li> NADH\n",
    "    <li> O2\n",
    "    <li> ATP\n",
    "    <li> ADP\n",
    "    <li> CO2\n",
    "    <li> biomass\n",
    "</ul>"
   ]
  },
  {
   "cell_type": "markdown",
   "id": "022d07dc-83c0-4e35-97a5-906bea0791f3",
   "metadata": {},
   "source": [
    "Set of parameters are:\n",
    "\n",
    "<ul>\n",
    "    <li> $\\nu_{supply}$\n",
    "    <li> $\\gamma$'s\n",
    "    <li> $\\phi$'s\n",
    "    <li> total ATP/ADP and NADH/NAD+ pools\n",
    "</ul>"
   ]
  },
  {
   "cell_type": "code",
   "execution_count": 600,
   "id": "541c9b31-43ec-4542-9dcf-4ae880760d53",
   "metadata": {},
   "outputs": [],
   "source": [
    "eps = 1e-10"
   ]
  },
  {
   "cell_type": "code",
   "execution_count": 601,
   "id": "f97755ac-74b6-4dd2-ba5f-35049b132aaa",
   "metadata": {},
   "outputs": [],
   "source": [
    "def het_model( t, y ):\n",
    "    x = y.copy()\n",
    "    x[x<eps] = 0.0\n",
    "    Corg = x[0]\n",
    "    NADH = x[1]\n",
    "    O2 = x[2]\n",
    "    ATP = x[3]\n",
    "    \n",
    "    NAD = r1 * NADH\n",
    "    ADP = r2 * ATP\n",
    "    \n",
    "    nu_cat = Corg * (NAD ** 2) * phi_cat / gamma_cat\n",
    "    nu_resp = (NADH ** 2) * O2 * phi_resp / gamma_resp\n",
    "    nu_ana = Corg * (NADH ** S6) * (ATP ** S5) * phi_ana / gamma_ana\n",
    "    \n",
    "    mu = nu_ana.copy()\n",
    "    \n",
    "    dCorg = - nu_cat - nu_ana + nu_supply - mu * Corg\n",
    "    # dNADH = 2 * nu_cat - 2 * nu_resp - S6 * nu_ana - mu * NADH\n",
    "    dNADH = 0.0\n",
    "    dNAD = - dNADH\n",
    "    dO2 = 0.0\n",
    "    dATP = S3 * nu_cat + S4 * nu_resp - S5 * nu_ana - mu * ATP\n",
    "    dADP = -dATP\n",
    "    \n",
    "    dydt = np.array([dCorg, dNADH, dO2, dATP])\n",
    "    return dydt"
   ]
  },
  {
   "cell_type": "markdown",
   "id": "004c55d8-8f66-4174-b70a-b863b452a7d5",
   "metadata": {},
   "source": [
    "# Simulations"
   ]
  },
  {
   "cell_type": "markdown",
   "id": "c9b7154c-8473-47a7-b865-545b4d05f39f",
   "metadata": {},
   "source": [
    "### Parameters"
   ]
  },
  {
   "cell_type": "code",
   "execution_count": 602,
   "id": "e0cd3701-0f6a-44cc-87d0-26ff30cc402c",
   "metadata": {},
   "outputs": [],
   "source": [
    "nu_supply = 1.0\n",
    "gamma_cat = 3.0\n",
    "gamma_resp = 10.0\n",
    "gamma_ana = 3.0"
   ]
  },
  {
   "cell_type": "code",
   "execution_count": 603,
   "id": "5d7155db-f2ca-450c-8ea2-b75437480104",
   "metadata": {},
   "outputs": [],
   "source": [
    "phi_cat = 0.5\n",
    "phi_ana = 0.3\n",
    "phi_resp = 0.1"
   ]
  },
  {
   "cell_type": "code",
   "execution_count": 604,
   "id": "fc8674dd-39ce-4239-8a8b-b222fb0fd4d0",
   "metadata": {},
   "outputs": [],
   "source": [
    "S4 = 1\n",
    "S3 = 1\n",
    "S5 = 1"
   ]
  },
  {
   "cell_type": "markdown",
   "id": "640499e0-f358-4198-a24b-1cd090baa581",
   "metadata": {},
   "source": [
    "### Initial conditions"
   ]
  },
  {
   "cell_type": "code",
   "execution_count": 605,
   "id": "84d1336c-6667-44f2-818f-00898d2b4f8f",
   "metadata": {},
   "outputs": [],
   "source": [
    "Corg0 = 1.0\n",
    "NADH0 = 10.\n",
    "O20 = 1.0\n",
    "ATP0 = 0.03\n",
    "\n",
    "r1 = 30.\n",
    "r2 = 10."
   ]
  },
  {
   "cell_type": "markdown",
   "id": "dbe72c9b-07f7-4c1c-a034-8387a1b1b634",
   "metadata": {},
   "source": [
    "### Dynamics"
   ]
  },
  {
   "cell_type": "code",
   "execution_count": 606,
   "id": "9ac08ddb-9a53-418a-8d4c-d4fa4405b204",
   "metadata": {},
   "outputs": [],
   "source": [
    "y0 = np.array([ Corg0, NADH0, O20, ATP0 ])\n",
    "NUM_METS = len(y0)\n",
    "\n",
    "# Evaluation time\n",
    "TFINAL = 1e6\n",
    "t = np.logspace(-4, 6, 1000 )\n",
    "S6 = 1."
   ]
  },
  {
   "cell_type": "code",
   "execution_count": 607,
   "id": "2b551d19-2c37-46c6-9abc-d0ce98faccce",
   "metadata": {},
   "outputs": [],
   "source": [
    "y_sol = solve_ivp(het_model, [ 1e-4, TFINAL ],  y0, t_eval=t, method='Radau' ).y"
   ]
  },
  {
   "cell_type": "markdown",
   "id": "6153c287-31bd-4b0d-acde-df77e6170981",
   "metadata": {},
   "source": [
    "### Plot"
   ]
  },
  {
   "cell_type": "code",
   "execution_count": 608,
   "id": "e2d271e8-0f81-4ea2-9be1-1d250f152c33",
   "metadata": {},
   "outputs": [
    {
     "data": {
      "image/png": "[encoded data removed]",
      "text/plain": [
       "<Figure size 360x360 with 1 Axes>"
      ]
     },
     "metadata": {
      "needs_background": "light"
     },
     "output_type": "display_data"
    }
   ],
   "source": [
    "fig, ax = plt.subplots( 1, 1, figsize=(5, 5) )\n",
    "\n",
    "ax.set_ylabel( 'concentration (' + r'$\\mathcal{C}$)')\n",
    "ax.set_xlabel( 'time (' + r'$t$)')\n",
    "for idx in range(NUM_METS):\n",
    "    ax.plot( t[:len(y_sol[idx])], y_sol[idx], lw=5 )\n",
    "ax.legend([ 'Corg', 'NADH', 'O2', 'ATP' ], loc='best')\n",
    "ax.set_yscale('log')\n",
    "ax.set_xscale('log')\n",
    "\n",
    "fig.tight_layout()\n",
    "plt.show()"
   ]
  },
  {
   "cell_type": "markdown",
   "id": "629f7ecb-ee28-4459-8949-b13fa30773ab",
   "metadata": {},
   "source": [
    "### Fluxes"
   ]
  },
  {
   "cell_type": "code",
   "execution_count": 609,
   "id": "2c135a22-b29f-464a-a194-96500e30a46a",
   "metadata": {},
   "outputs": [],
   "source": [
    "def give_nus( y_sol, tpt ):\n",
    "    x = y_sol[:, tpt].copy()\n",
    "    Corg = x[0]\n",
    "    NADH = x[1]\n",
    "    O2 = x[2]\n",
    "    ATP = x[3]\n",
    "\n",
    "    NAD = r1 * NADH\n",
    "    ADP = r2 * ATP\n",
    "\n",
    "    nu_cat = Corg * (NAD ** 2) * phi_cat / gamma_cat\n",
    "    nu_resp = (NADH ** 2) * O2 * phi_resp / gamma_resp\n",
    "    nu_ana = Corg * (NADH ** S6) * (ATP ** S5) * phi_ana / gamma_ana\n",
    "    \n",
    "    return np.array([nu_cat, nu_resp, nu_ana])"
   ]
  },
  {
   "cell_type": "code",
   "execution_count": 610,
   "id": "eccfe56a-225b-433b-8470-00b2c9c83b0b",
   "metadata": {},
   "outputs": [],
   "source": [
    "nus = np.array([give_nus(y_sol, tpt) for tpt in range(len(t))]).T"
   ]
  },
  {
   "cell_type": "code",
   "execution_count": 611,
   "id": "4520d68b-d24d-4ece-949e-b88bde2ad7bf",
   "metadata": {},
   "outputs": [
    {
     "data": {
      "image/png": "[encoded data removed]",
      "text/plain": [
       "<Figure size 360x360 with 1 Axes>"
      ]
     },
     "metadata": {
      "needs_background": "light"
     },
     "output_type": "display_data"
    }
   ],
   "source": [
    "fig, ax = plt.subplots( 1, 1, figsize=(5, 5) )\n",
    "\n",
    "ax.set_ylabel( 'flux (' + r'$\\nu$)')\n",
    "ax.set_xlabel( 'time (' + r'$t$)')\n",
    "for idx in range(3):\n",
    "    ax.plot( t[:len(nus[idx])], nus[idx], lw=5 )\n",
    "ax.legend([ 'cat', 'resp', 'ana' ], loc='best')\n",
    "ax.set_yscale('log')\n",
    "ax.set_xscale('log')\n",
    "\n",
    "fig.tight_layout()\n",
    "plt.show()"
   ]
  },
  {
   "cell_type": "markdown",
   "id": "25e2edee-d18b-4531-871a-9187be78cb73",
   "metadata": {},
   "source": [
    "# Sweeping over $\\phi_{ana}$"
   ]
  },
  {
   "cell_type": "code",
   "execution_count": 612,
   "id": "0cd19f38-1e15-4732-8ee9-b246849e95af",
   "metadata": {},
   "outputs": [],
   "source": [
    "mus = []\n",
    "phianas = []\n",
    "\n",
    "phi_cat = 0.4\n",
    "phi_resp = 0.05\n",
    "\n",
    "for t_phi_ana in np.linspace(0.01, 1-phi_cat-phi_resp):\n",
    "    phi_ana = t_phi_ana.copy()\n",
    "\n",
    "    y0 = np.array([ Corg0, NADH0, O20, ATP0 ])\n",
    "    NUM_METS = len(y0)\n",
    "\n",
    "    # Evaluation time\n",
    "    TFINAL = 1e6\n",
    "    t = np.logspace(-4, 6, 1000 )\n",
    "    S6 = 1.\n",
    "\n",
    "    y_sol = solve_ivp(het_model, [ 1e-4, TFINAL ],  y0, t_eval=t, method='Radau' ).y\n",
    "\n",
    "\n",
    "    nus = np.array([give_nus(y_sol, tpt) for tpt in range(len(t))]).T\n",
    "\n",
    "    mus.append(nus[-1, -1])\n",
    "    phianas.append(t_phi_ana)"
   ]
  },
  {
   "cell_type": "code",
   "execution_count": 613,
   "id": "b867f1ec-f81c-4157-8eb7-c342e48176c0",
   "metadata": {},
   "outputs": [
    {
     "data": {
      "image/png": "[encoded data removed]",
      "text/plain": [
       "<Figure size 360x360 with 1 Axes>"
      ]
     },
     "metadata": {
      "needs_background": "light"
     },
     "output_type": "display_data"
    }
   ],
   "source": [
    "fig, ax = plt.subplots( 1, 1, figsize=(5, 5) )\n",
    "\n",
    "ax.set_ylabel( r'$\\mu$' )\n",
    "ax.set_xlabel( r'$\\phi_{ana}$' )\n",
    "ax.plot( phianas, mus, lw=5 )\n",
    "# ax.set_yscale('log')\n",
    "# ax.set_xscale('log')\n",
    "\n",
    "fig.tight_layout()\n",
    "plt.show()"
   ]
  },
  {
   "cell_type": "markdown",
   "id": "efd9b8c9-eebf-4f03-b657-fc104547a6e5",
   "metadata": {},
   "source": [
    "# Sweeping over $S_6$"
   ]
  },
  {
   "cell_type": "code",
   "execution_count": 614,
   "id": "0b84ea48-5caf-40a5-ad71-b629f24fe445",
   "metadata": {},
   "outputs": [],
   "source": [
    "mus = []\n",
    "zcs = []\n",
    "\n",
    "phi_ana = 1-phi_cat-phi_resp\n",
    "\n",
    "for S6 in np.linspace(1., 8., 100):\n",
    "\n",
    "    y0 = np.array([ Corg0, NADH0, O20, ATP0 ])\n",
    "    NUM_METS = len(y0)\n",
    "\n",
    "    # Evaluation time\n",
    "    TFINAL = 1e6\n",
    "    t = np.logspace(-4, 6, 1000 )\n",
    "\n",
    "    y_sol = solve_ivp(het_model, [ 1e-4, TFINAL ],  y0, t_eval=t, method='Radau' ).y\n",
    "\n",
    "\n",
    "    nus = np.array([give_nus(y_sol, tpt) for tpt in range(len(t))]).T\n",
    "\n",
    "    mus.append(nus[-1, -1])\n",
    "    zcs.append(S6)"
   ]
  },
  {
   "cell_type": "code",
   "execution_count": 615,
   "id": "3b3c5571-af33-49a2-a5c7-1cf4625a4353",
   "metadata": {},
   "outputs": [
    {
     "data": {
      "image/png": "[encoded data removed]",
      "text/plain": [
       "<Figure size 360x360 with 1 Axes>"
      ]
     },
     "metadata": {
      "needs_background": "light"
     },
     "output_type": "display_data"
    }
   ],
   "source": [
    "fig, ax = plt.subplots( 1, 1, figsize=(5, 5) )\n",
    "\n",
    "ax.set_ylabel( r'$\\mu$' )\n",
    "ax.set_xlabel( r'$S_6$' )\n",
    "ax.plot( zcs, mus, lw=5 )\n",
    "# ax.set_yscale('log')\n",
    "# ax.set_xscale('log')\n",
    "\n",
    "fig.tight_layout()\n",
    "plt.show()"
   ]
  },
  {
   "cell_type": "code",
   "execution_count": null,
   "id": "ed879937-e80f-4fb7-9d90-e34c716b6692",
   "metadata": {},
   "outputs": [],
   "source": []
  },
  {
   "cell_type": "code",
   "execution_count": null,
   "id": "4c4dad7b-6ada-4eb3-9db8-ce088a2c4650",
   "metadata": {},
   "outputs": [],
   "source": []
  },
  {
   "cell_type": "code",
   "execution_count": null,
   "id": "193e911c-d17a-471a-81e9-36ef2d1cca20",
   "metadata": {},
   "outputs": [],
   "source": []
  },
  {
   "cell_type": "code",
   "execution_count": null,
   "id": "cfa4f5d8-4dff-4d82-96b5-1d08187aa072",
   "metadata": {},
   "outputs": [],
   "source": []
  }
 ],
 "metadata": {
  "kernelspec": {
   "display_name": "Python 3 (ipykernel)",
   "language": "python",
   "name": "python3"
  },
  "language_info": {
   "codemirror_mode": {
    "name": "ipython",
    "version": 3
   },
   "file_extension": ".py",
   "mimetype": "text/x-python",
   "name": "python",
   "nbconvert_exporter": "python",
   "pygments_lexer": "ipython3",
   "version": "3.8.11"
  }
 },
 "nbformat": 4,
 "nbformat_minor": 5
}
