{
 "cells": [
  {
   "cell_type": "code",
   "execution_count": 152,
   "id": "1daa831e-7669-4552-9360-9aaa0ab4552c",
   "metadata": {},
   "outputs": [],
   "source": [
    "import numpy as np\n",
    "from scipy.integrate import solve_ivp\n",
    "import matplotlib.pyplot as plt\n",
    "import seaborn as sns\n",
    "import pandas as pd\n",
    "from scipy.optimize import minimize\n",
    "plt.style.use('../notebooks/style.mpl')"
   ]
  },
  {
   "cell_type": "code",
   "execution_count": 153,
   "id": "f04c3e28-3fe6-4903-94c3-f386414c1b98",
   "metadata": {},
   "outputs": [],
   "source": [
    "import warnings\n",
    "warnings.filterwarnings('ignore')"
   ]
  },
  {
   "attachments": {},
   "cell_type": "markdown",
   "id": "a8a5ed2d-f6ee-4a25-a312-ad14a424ee7c",
   "metadata": {},
   "source": [
    "# Respiratory heterotrophy model"
   ]
  },
  {
   "cell_type": "code",
   "execution_count": 154,
   "id": "541c9b31-43ec-4542-9dcf-4ae880760d53",
   "metadata": {},
   "outputs": [],
   "source": [
    "eps = 1e-10\n",
    "tau = 1e-1\n",
    "S2 = 2."
   ]
  },
  {
   "cell_type": "code",
   "execution_count": 155,
   "id": "85458584",
   "metadata": {},
   "outputs": [],
   "source": [
    "def growth_rate_obj(phi_values):\n",
    "    phi_cat, phi_resp, phi_ana, phi_h = phi_values\n",
    "\n",
    "    # Objective function for optimization\n",
    "    # Maximizing nu_ana is equivalent to minimizing -nu_ana\n",
    "    obj = -phi_ana * gamma_ana_inv\n",
    "\n",
    "    return obj"
   ]
  },
  {
   "attachments": {},
   "cell_type": "markdown",
   "id": "c9b7154c-8473-47a7-b865-545b4d05f39f",
   "metadata": {},
   "source": [
    "### Parameters"
   ]
  },
  {
   "cell_type": "code",
   "execution_count": 270,
   "id": "ff0aa970-99f0-4dab-a7bf-35ed3a20403a",
   "metadata": {},
   "outputs": [],
   "source": [
    "# gamma inverses are in /hr units.\n",
    "gamma_cat_inv = 0.5\n",
    "gamma_resp_inv = 2.0\n",
    "gamma_ana_inv = 0.5\n",
    "gamma_hom_inv = 0.5\n",
    "\n",
    "phi_cat = 0.3\n",
    "phi_ana = 0.2\n",
    "phi_resp = 0.1\n",
    "phi_h = 0.1\n",
    "phi_o = 1 - (phi_cat + phi_ana + phi_resp + phi_h)\n",
    "\n",
    "# maintenance energy\n",
    "maint = 0.01\n",
    "\n",
    "# Default params: reliance on respiration.\n",
    "S4 = 1.0    # ATP yield of respiration\n",
    "S3 = 0.5    # ATP yield of catabolism\n",
    "S5 = 0.3    # ATP cost of anabolism\n",
    "S6 = 0.1    # reduction coefficient of biomass"
   ]
  },
  {
   "attachments": {},
   "cell_type": "markdown",
   "id": "640499e0-f358-4198-a24b-1cd090baa581",
   "metadata": {},
   "source": [
    "### Initial conditions"
   ]
  },
  {
   "cell_type": "code",
   "execution_count": 271,
   "id": "145f2111-6e05-42b2-9110-0325dec40605",
   "metadata": {},
   "outputs": [],
   "source": [
    "# concentrations in KM units\n",
    "Corg0 = 1e2\n",
    "NADH0 = 1e-1\n",
    "O20 = 1e1\n",
    "ATP0 = 1e-1\n",
    "\n",
    "# KM is in uM\n",
    "KM = 100\n",
    "r1 = 10.\n",
    "r2 = 0.1"
   ]
  },
  {
   "cell_type": "code",
   "execution_count": 272,
   "id": "05ea243f",
   "metadata": {},
   "outputs": [],
   "source": [
    "NADH = NADH0\n",
    "ATP = ATP0"
   ]
  },
  {
   "cell_type": "code",
   "execution_count": 273,
   "id": "46651abd",
   "metadata": {},
   "outputs": [],
   "source": [
    "S6 = 0.5"
   ]
  },
  {
   "cell_type": "code",
   "execution_count": 274,
   "id": "368e51c2",
   "metadata": {},
   "outputs": [
    {
     "name": "stdout",
     "output_type": "stream",
     "text": [
      "Chosen phi_o: 0.2\n",
      "Optimal phi_cat: 0.2475138121570852\n",
      "Optimal phi_resp: 0.022099447514081907\n",
      "Optimal phi_ana: 0.530386740328833\n",
      "Optimal phi_h: 0.0\n"
     ]
    }
   ],
   "source": [
    "# Set the value of phi_o\n",
    "phi_o = 0.2\n",
    "maint = 0.00\n",
    "\n",
    "# Initial guess for the phi variables\n",
    "phi_values0 = [0.1, 0.1, 0.1, 0.1]  # update as necessary\n",
    "\n",
    "# Bounds for the phi variables (assuming they are between 0 and 1)\n",
    "bounds = [(0.00, 1), (0.00, 1), (0.00, 1), (0.00, 1)]  # update as necessary\n",
    "\n",
    "# Constraint function for the sum of phi parameters\n",
    "cons = ({'type': 'eq', 'fun': lambda x:  sum(x) - (1 - phi_o)},\n",
    "        {'type': 'eq', 'fun': lambda x:  S2 * x[0] * gamma_cat_inv * tau - 2 * x[1] * gamma_resp_inv * tau - S6 * x[2] * gamma_ana_inv * tau - x[2] * gamma_ana_inv * tau * NADH},\n",
    "        {'type': 'eq', 'fun': lambda x:  S3 * x[0] * gamma_cat_inv * tau + S4 * x[1] * gamma_resp_inv * tau - S5 * x[2] * gamma_ana_inv * tau - x[3] * gamma_hom_inv * tau - maint - x[2] * gamma_ana_inv * tau * ATP})\n",
    "\n",
    "# Call the optimizer\n",
    "res = minimize(growth_rate_obj, phi_values0, method='SLSQP', bounds=bounds, constraints=cons)\n",
    "\n",
    "# Extract the optimal phi values\n",
    "phi_cat_opt, phi_resp_opt, phi_ana_opt, phi_h_opt = res.x\n",
    "\n",
    "print('Chosen phi_o:', phi_o)\n",
    "print('Optimal phi_cat:', phi_cat_opt)\n",
    "print('Optimal phi_resp:', phi_resp_opt)\n",
    "print('Optimal phi_ana:', phi_ana_opt)\n",
    "print('Optimal phi_h:', phi_h_opt)\n"
   ]
  },
  {
   "cell_type": "markdown",
   "id": "2a45cc07",
   "metadata": {},
   "source": [
    "Checking if all constraints are satisfied"
   ]
  },
  {
   "cell_type": "code",
   "execution_count": 275,
   "id": "34ee1bd0",
   "metadata": {},
   "outputs": [
    {
     "name": "stdout",
     "output_type": "stream",
     "text": [
      "Allocation constraint satisfied: True\n",
      "NADH balanced: True\n",
      "ATP balanced: True\n"
     ]
    }
   ],
   "source": [
    "print('Allocation constraint satisfied:', np.isclose(cons[0]['fun'](res.x), 0, atol=1e-6))\n",
    "print('NADH balanced:', np.isclose(cons[1]['fun'](res.x), 0, atol=1e-6))\n",
    "print('ATP balanced:', np.isclose(cons[2]['fun'](res.x), 0, atol=1e-6))"
   ]
  },
  {
   "cell_type": "code",
   "execution_count": 276,
   "id": "f5dda015",
   "metadata": {},
   "outputs": [
    {
     "data": {
      "text/plain": [
       "0.2651933701644165"
      ]
     },
     "execution_count": 276,
     "metadata": {},
     "output_type": "execute_result"
    }
   ],
   "source": [
    "-res.fun"
   ]
  },
  {
   "attachments": {},
   "cell_type": "markdown",
   "id": "2dadd5e0",
   "metadata": {},
   "source": [
    "# Varying $S_6$"
   ]
  },
  {
   "cell_type": "code",
   "execution_count": 290,
   "id": "cc9d2e72",
   "metadata": {},
   "outputs": [],
   "source": [
    "# Set the value of phi_o and maintenance\n",
    "phi_o = 0.2\n",
    "maint = 0.001\n",
    "\n",
    "# Lists to store results\n",
    "opt_phi_cats = []\n",
    "opt_phi_resps = []\n",
    "opt_phi_anas = []\n",
    "opt_phi_hs = []\n",
    "fun_mins = []\n",
    "S6_values = np.linspace(-3, 3, 100)\n",
    "\n",
    "for S6 in S6_values:\n",
    "    # Fixed concentrations of ATP and NADH.\n",
    "    NADH = 1e-1\n",
    "    ATP = 1e-1\n",
    "    \n",
    "    # Initial guess for the phi variables\n",
    "    phi_values0 = [0.1, 0.1, 0.1, 0.1]\n",
    "\n",
    "    # Bounds for the phi variables\n",
    "    bounds = [(0.00, 1), (0.00, 1), (0.00, 1), (0.00, 1)]\n",
    "\n",
    "    # Constraint function for the sum of phi parameters\n",
    "    cons = ({'type': 'eq', 'fun': lambda x:  sum(x) - (1 - phi_o)},\n",
    "            {'type': 'eq', 'fun': lambda x:  S2 * x[0] * gamma_cat_inv * tau - 2 * x[1] * gamma_resp_inv * tau - S6 * x[2] * gamma_ana_inv * tau - x[2] * gamma_ana_inv * tau * NADH},\n",
    "            {'type': 'eq', 'fun': lambda x:  S3 * x[0] * gamma_cat_inv * tau + S4 * x[1] * gamma_resp_inv * tau - S5 * x[2] * gamma_ana_inv * tau - x[3] * gamma_hom_inv * tau - maint - x[2] * gamma_ana_inv * tau * ATP})\n",
    "\n",
    "    # Call the optimizer\n",
    "    res = minimize(growth_rate_obj, phi_values0, method='SLSQP', bounds=bounds, constraints=cons)\n",
    "\n",
    "    # Extract the optimal phi values\n",
    "    phi_cat_opt, phi_resp_opt, phi_ana_opt, phi_h_opt = res.x\n",
    "    \n",
    "    # Saving the optimal values.\n",
    "    opt_phi_cats.append(phi_cat_opt)\n",
    "    opt_phi_resps.append(phi_resp_opt)\n",
    "    opt_phi_anas.append(phi_ana_opt)\n",
    "    opt_phi_hs.append(phi_h_opt)\n",
    "    fun_mins.append(-res.fun)\n",
    "\n",
    "# Combine results into a DataFrame\n",
    "df = pd.DataFrame({\n",
    "    's6s': S6_values,\n",
    "    'opt_phi_cat': opt_phi_cats,\n",
    "    'opt_phi_resp': opt_phi_resps,\n",
    "    'opt_phi_ana': opt_phi_anas,\n",
    "    'opt_phi_h': opt_phi_hs,\n",
    "    'lambda': fun_mins,\n",
    "})"
   ]
  },
  {
   "cell_type": "code",
   "execution_count": 291,
   "id": "18cac2b5",
   "metadata": {},
   "outputs": [
    {
     "data": {
      "text/html": [
       "<div>\n",
       "<style scoped>\n",
       "    .dataframe tbody tr th:only-of-type {\n",
       "        vertical-align: middle;\n",
       "    }\n",
       "\n",
       "    .dataframe tbody tr th {\n",
       "        vertical-align: top;\n",
       "    }\n",
       "\n",
       "    .dataframe thead th {\n",
       "        text-align: right;\n",
       "    }\n",
       "</style>\n",
       "<table border=\"1\" class=\"dataframe\">\n",
       "  <thead>\n",
       "    <tr style=\"text-align: right;\">\n",
       "      <th></th>\n",
       "      <th>s6s</th>\n",
       "      <th>opt_phi_cat</th>\n",
       "      <th>opt_phi_resp</th>\n",
       "      <th>opt_phi_ana</th>\n",
       "      <th>opt_phi_h</th>\n",
       "      <th>lambda</th>\n",
       "    </tr>\n",
       "  </thead>\n",
       "  <tbody>\n",
       "    <tr>\n",
       "      <th>0</th>\n",
       "      <td>-3.000000</td>\n",
       "      <td>2.775558e-17</td>\n",
       "      <td>1.232124e-01</td>\n",
       "      <td>0.339896</td>\n",
       "      <td>0.336891</td>\n",
       "      <td>0.169948</td>\n",
       "    </tr>\n",
       "    <tr>\n",
       "      <th>1</th>\n",
       "      <td>-2.939394</td>\n",
       "      <td>8.326673e-17</td>\n",
       "      <td>1.225618e-01</td>\n",
       "      <td>0.345318</td>\n",
       "      <td>0.332120</td>\n",
       "      <td>0.172659</td>\n",
       "    </tr>\n",
       "    <tr>\n",
       "      <th>2</th>\n",
       "      <td>-2.878788</td>\n",
       "      <td>1.387779e-16</td>\n",
       "      <td>1.218901e-01</td>\n",
       "      <td>0.350916</td>\n",
       "      <td>0.327194</td>\n",
       "      <td>0.175458</td>\n",
       "    </tr>\n",
       "    <tr>\n",
       "      <th>3</th>\n",
       "      <td>-2.818182</td>\n",
       "      <td>5.551115e-17</td>\n",
       "      <td>1.211962e-01</td>\n",
       "      <td>0.356698</td>\n",
       "      <td>0.322106</td>\n",
       "      <td>0.178349</td>\n",
       "    </tr>\n",
       "    <tr>\n",
       "      <th>4</th>\n",
       "      <td>-2.757576</td>\n",
       "      <td>0.000000e+00</td>\n",
       "      <td>1.204791e-01</td>\n",
       "      <td>0.362674</td>\n",
       "      <td>0.316847</td>\n",
       "      <td>0.181337</td>\n",
       "    </tr>\n",
       "    <tr>\n",
       "      <th>...</th>\n",
       "      <td>...</td>\n",
       "      <td>...</td>\n",
       "      <td>...</td>\n",
       "      <td>...</td>\n",
       "      <td>...</td>\n",
       "      <td>...</td>\n",
       "    </tr>\n",
       "    <tr>\n",
       "      <th>95</th>\n",
       "      <td>2.757576</td>\n",
       "      <td>4.270975e-01</td>\n",
       "      <td>0.000000e+00</td>\n",
       "      <td>0.298923</td>\n",
       "      <td>0.073980</td>\n",
       "      <td>0.149461</td>\n",
       "    </tr>\n",
       "    <tr>\n",
       "      <th>96</th>\n",
       "      <td>2.818182</td>\n",
       "      <td>4.290465e-01</td>\n",
       "      <td>2.775558e-17</td>\n",
       "      <td>0.294051</td>\n",
       "      <td>0.076903</td>\n",
       "      <td>0.147025</td>\n",
       "    </tr>\n",
       "    <tr>\n",
       "      <th>97</th>\n",
       "      <td>2.878788</td>\n",
       "      <td>4.309329e-01</td>\n",
       "      <td>0.000000e+00</td>\n",
       "      <td>0.289334</td>\n",
       "      <td>0.079733</td>\n",
       "      <td>0.144667</td>\n",
       "    </tr>\n",
       "    <tr>\n",
       "      <th>98</th>\n",
       "      <td>2.939394</td>\n",
       "      <td>4.327598e-01</td>\n",
       "      <td>8.326673e-17</td>\n",
       "      <td>0.284767</td>\n",
       "      <td>0.082473</td>\n",
       "      <td>0.142384</td>\n",
       "    </tr>\n",
       "    <tr>\n",
       "      <th>99</th>\n",
       "      <td>3.000000</td>\n",
       "      <td>4.345299e-01</td>\n",
       "      <td>2.775558e-17</td>\n",
       "      <td>0.280342</td>\n",
       "      <td>0.085128</td>\n",
       "      <td>0.140171</td>\n",
       "    </tr>\n",
       "  </tbody>\n",
       "</table>\n",
       "<p>100 rows × 6 columns</p>\n",
       "</div>"
      ],
      "text/plain": [
       "         s6s   opt_phi_cat  opt_phi_resp  opt_phi_ana  opt_phi_h    lambda\n",
       "0  -3.000000  2.775558e-17  1.232124e-01     0.339896   0.336891  0.169948\n",
       "1  -2.939394  8.326673e-17  1.225618e-01     0.345318   0.332120  0.172659\n",
       "2  -2.878788  1.387779e-16  1.218901e-01     0.350916   0.327194  0.175458\n",
       "3  -2.818182  5.551115e-17  1.211962e-01     0.356698   0.322106  0.178349\n",
       "4  -2.757576  0.000000e+00  1.204791e-01     0.362674   0.316847  0.181337\n",
       "..       ...           ...           ...          ...        ...       ...\n",
       "95  2.757576  4.270975e-01  0.000000e+00     0.298923   0.073980  0.149461\n",
       "96  2.818182  4.290465e-01  2.775558e-17     0.294051   0.076903  0.147025\n",
       "97  2.878788  4.309329e-01  0.000000e+00     0.289334   0.079733  0.144667\n",
       "98  2.939394  4.327598e-01  8.326673e-17     0.284767   0.082473  0.142384\n",
       "99  3.000000  4.345299e-01  2.775558e-17     0.280342   0.085128  0.140171\n",
       "\n",
       "[100 rows x 6 columns]"
      ]
     },
     "execution_count": 291,
     "metadata": {},
     "output_type": "execute_result"
    }
   ],
   "source": [
    "df"
   ]
  },
  {
   "cell_type": "code",
   "execution_count": 292,
   "id": "9bca5288",
   "metadata": {},
   "outputs": [
    {
     "data": {
      "image/png": "[encoded data removed]",
      "text/plain": [
       "<Figure size 400x400 with 1 Axes>"
      ]
     },
     "metadata": {},
     "output_type": "display_data"
    }
   ],
   "source": [
    "fig, ax = plt.subplots( 1, 1, figsize=(4, 4) )\n",
    "\n",
    "ax.set_ylabel( 'max growth rate ' + r'$\\lambda_{max}$' + ' (hr' + r'$^{-1})$' )\n",
    "ax.set_xlabel( 'anabolic NADH usage (' + r'$S_6$)')\n",
    "ax.plot( df['s6s'], df['lambda'], lw=5 )\n",
    "\n",
    "fig.tight_layout()\n",
    "plt.show()"
   ]
  },
  {
   "cell_type": "code",
   "execution_count": null,
   "id": "fb81ca55",
   "metadata": {},
   "outputs": [],
   "source": []
  }
 ],
 "metadata": {
  "kernelspec": {
   "display_name": "ces",
   "language": "python",
   "name": "python3"
  },
  "language_info": {
   "codemirror_mode": {
    "name": "ipython",
    "version": 3
   },
   "file_extension": ".py",
   "mimetype": "text/x-python",
   "name": "python",
   "nbconvert_exporter": "python",
   "pygments_lexer": "ipython3",
   "version": "3.7.12"
  }
 },
 "nbformat": 4,
 "nbformat_minor": 5
}
