{
 "cells": [
  {
   "cell_type": "code",
   "execution_count": 3,
   "id": "1daa831e-7669-4552-9360-9aaa0ab4552c",
   "metadata": {},
   "outputs": [],
   "source": [
    "import numpy as np\n",
    "from scipy.integrate import solve_ivp\n",
    "import matplotlib.pyplot as plt\n",
    "import seaborn as sns\n",
    "from tqdm import tqdm\n",
    "import pandas as pd\n",
    "import random\n",
    "import itertools\n",
    "from scipy.optimize import minimize, least_squares\n",
    "from scipy.optimize import NonlinearConstraint\n",
    "from sklearn.manifold import MDS\n",
    "from sklearn.metrics.pairwise import manhattan_distances, euclidean_distances\n",
    "from matplotlib.offsetbox import OffsetImage, AnnotationBbox\n",
    "from scipy.spatial import ConvexHull\n",
    "from scipy.stats import zscore\n",
    "from itertools import permutations, product\n",
    "from scipy.stats import gmean, gstd"
   ]
  },
  {
   "cell_type": "code",
   "execution_count": 4,
   "id": "f04c3e28-3fe6-4903-94c3-f386414c1b98",
   "metadata": {},
   "outputs": [],
   "source": [
    "import warnings\n",
    "warnings.filterwarnings('ignore')"
   ]
  },
  {
   "cell_type": "code",
   "execution_count": 29,
   "id": "79a07b42-6d5d-4b6e-9915-1ea9869bd6de",
   "metadata": {},
   "outputs": [],
   "source": [
    "import matplotlib as mpl\n",
    "\n",
    "mpl.rcParams['axes.linewidth'] = 1\n",
    "mpl.rcParams['axes.labelsize'] = 18\n",
    "mpl.rcParams['xtick.major.size'] = 10\n",
    "mpl.rcParams['xtick.major.width'] = 1\n",
    "mpl.rcParams['xtick.minor.size'] = 5\n",
    "mpl.rcParams['xtick.minor.width'] = 1\n",
    "mpl.rcParams['ytick.major.size'] = 10\n",
    "mpl.rcParams['ytick.major.width'] = 1\n",
    "mpl.rcParams['ytick.minor.size'] = 5\n",
    "mpl.rcParams['ytick.minor.width'] = 1\n",
    "mpl.rcParams['font.family'] = 'Arial'\n",
    "mpl.rcParams['font.size'] = 18\n",
    "mpl.rcParams['mathtext.fontset'] = 'cm'"
   ]
  },
  {
   "cell_type": "code",
   "execution_count": 6,
   "id": "eaf8a768-415d-424b-b2a8-4d7a2048c3f9",
   "metadata": {},
   "outputs": [],
   "source": [
    "import matplotlib.colors as colors\n",
    "# set the colormap and centre the colorbar\n",
    "class MidpointNormalize(colors.Normalize):\n",
    "    \"\"\"\n",
    "    Normalise the colorbar so that diverging bars work there way either side from a prescribed midpoint value)\n",
    "\n",
    "    e.g. im=ax1.imshow(array, norm=MidpointNormalize(midpoint=0.,vmin=-100, vmax=100))\n",
    "    \"\"\"\n",
    "    def __init__(self, vmin=None, vmax=None, midpoint=None, clip=False):\n",
    "        self.midpoint = midpoint\n",
    "        colors.Normalize.__init__(self, vmin, vmax, clip)\n",
    "\n",
    "    def __call__(self, value, clip=None):\n",
    "        # I'm ignoring masked values and all kinds of edge cases to make a\n",
    "        # simple example...\n",
    "        x, y = [self.vmin, self.midpoint, self.vmax], [0, 0.5, 1]\n",
    "        return np.ma.masked_array(np.interp(value, x, y), np.isnan(value))\n",
    "import matplotlib as mpl"
   ]
  },
  {
   "attachments": {},
   "cell_type": "markdown",
   "id": "a8a5ed2d-f6ee-4a25-a312-ad14a424ee7c",
   "metadata": {},
   "source": [
    "# Models"
   ]
  },
  {
   "attachments": {},
   "cell_type": "markdown",
   "id": "66fbc43b-3321-44c1-a5eb-2059cb03fefb",
   "metadata": {},
   "source": [
    "## Heterotrophy"
   ]
  },
  {
   "attachments": {},
   "cell_type": "markdown",
   "id": "85ae2cf0-b698-477a-bd42-1ccf8981903a",
   "metadata": {},
   "source": [
    "Set of metabolites are:\n",
    "<ul>\n",
    "    <li> Corg\n",
    "    <li> NAD\n",
    "    <li> NADH\n",
    "    <li> O2\n",
    "    <li> ATP\n",
    "    <li> ADP\n",
    "    <li> CO2\n",
    "    <li> biomass\n",
    "</ul>"
   ]
  },
  {
   "attachments": {},
   "cell_type": "markdown",
   "id": "022d07dc-83c0-4e35-97a5-906bea0791f3",
   "metadata": {},
   "source": [
    "Set of parameters are:\n",
    "\n",
    "<ul>\n",
    "    <li> $\\nu_{supply}$\n",
    "    <li> $\\gamma$'s\n",
    "    <li> $\\phi$'s\n",
    "    <li> total ATP/ADP and NADH/NAD+ pools\n",
    "</ul>"
   ]
  },
  {
   "cell_type": "code",
   "execution_count": 7,
   "id": "541c9b31-43ec-4542-9dcf-4ae880760d53",
   "metadata": {},
   "outputs": [],
   "source": [
    "eps = 1e-10 # eps is a small number that prevents runaway extinctions\n",
    "tau = 1e-3  # tau promotes numerical stability by nondimensionalizing the equations"
   ]
  },
  {
   "cell_type": "code",
   "execution_count": 8,
   "id": "f97755ac-74b6-4dd2-ba5f-35049b132aaa",
   "metadata": {},
   "outputs": [],
   "source": [
    "def het_model( t, y ):\n",
    "    x = y.copy()\n",
    "    x[x<eps] = 0.0\n",
    "    x[x>1e8] = 1e8\n",
    "    Corg = x[0]\n",
    "    NADH = x[1]\n",
    "    O2 = x[2]\n",
    "    ATP = x[3]\n",
    "    \n",
    "    NAD = r1 * NADH\n",
    "    ADP = r2 * ATP\n",
    "    \n",
    "    nu_cat = Corg * (NAD ** 2) * phi_cat * gamma_cat_inv * tau\n",
    "    nu_resp = (NADH ** 2) * O2 * phi_resp * gamma_resp_inv * tau\n",
    "    nu_ana = Corg * (NADH ** S6) * (ATP ** S5) * phi_ana * gamma_ana_inv * tau\n",
    "    \n",
    "    mu = nu_ana.copy()\n",
    "    \n",
    "    dCorg = - nu_cat - nu_ana + nu_supply - mu * Corg\n",
    "    # dNADH = 2 * nu_cat - 2 * nu_resp - S6 * nu_ana - mu * NADH\n",
    "    dNADH = 0.0\n",
    "    dNAD = - dNADH\n",
    "    dO2 = 0.0\n",
    "    dATP = S3 * nu_cat + S4 * nu_resp - S5 * nu_ana - mu * ATP\n",
    "    dADP = -dATP\n",
    "    \n",
    "    dydt = np.array([dCorg, dNADH, dO2, dATP])\n",
    "    return dydt"
   ]
  },
  {
   "attachments": {},
   "cell_type": "markdown",
   "id": "004c55d8-8f66-4174-b70a-b863b452a7d5",
   "metadata": {},
   "source": [
    "# Simulations"
   ]
  },
  {
   "attachments": {},
   "cell_type": "markdown",
   "id": "c9b7154c-8473-47a7-b865-545b4d05f39f",
   "metadata": {},
   "source": [
    "## Parameters"
   ]
  },
  {
   "attachments": {},
   "cell_type": "markdown",
   "id": "57ab03ee",
   "metadata": {},
   "source": [
    "### Hyperparameters, which we fix over all simulations"
   ]
  },
  {
   "cell_type": "code",
   "execution_count": 9,
   "id": "048a451f",
   "metadata": {},
   "outputs": [],
   "source": [
    "nu_supply = 2.\n",
    "O20 = 1e3\n",
    "Corg0 = 1e3"
   ]
  },
  {
   "attachments": {},
   "cell_type": "markdown",
   "id": "e08bc356",
   "metadata": {},
   "source": [
    "### Mean parameter estimates, obtained from data"
   ]
  },
  {
   "cell_type": "code",
   "execution_count": 10,
   "id": "ff0aa970-99f0-4dab-a7bf-35ed3a20403a",
   "metadata": {},
   "outputs": [],
   "source": [
    "# gammas are in (g s)/(mol) units.\n",
    "mean_gamma_cat_inv = 200\n",
    "mean_gamma_resp_inv = 40\n",
    "mean_gamma_ana_inv = 200\n",
    "\n",
    "mean_S4 = 4.0\n",
    "mean_S3 = 0.3\n",
    "mean_S5 = 1.1\n",
    "\n",
    "# KM is in uM\n",
    "mean_KM = 100\n",
    "mean_r1 = 10.\n",
    "mean_r2 = 0.1"
   ]
  },
  {
   "attachments": {},
   "cell_type": "markdown",
   "id": "0ce4651e",
   "metadata": {},
   "source": [
    "These ones represent initial conditions."
   ]
  },
  {
   "cell_type": "code",
   "execution_count": 11,
   "id": "bb2bce25",
   "metadata": {},
   "outputs": [],
   "source": [
    "# micromolar concentrations\n",
    "NADH0 = 1e3\n",
    "ATP0 = 1e3"
   ]
  },
  {
   "cell_type": "code",
   "execution_count": 12,
   "id": "f661940a",
   "metadata": {},
   "outputs": [],
   "source": [
    "def give_initial_condns(NADH0, ATP0, KM):\n",
    "    # nondimensionalized concentrations\n",
    "    NADH0 /= KM\n",
    "    ATP0 /= KM\n",
    "\n",
    "    return Corg0, NADH0, O20, ATP0"
   ]
  },
  {
   "attachments": {},
   "cell_type": "markdown",
   "id": "5dc7b6c1",
   "metadata": {},
   "source": [
    "### Geometric standard deviations ($k$-fold variation) "
   ]
  },
  {
   "cell_type": "code",
   "execution_count": 13,
   "id": "4547515e",
   "metadata": {},
   "outputs": [],
   "source": [
    "# gammas are in (g s)/(mol) units.\n",
    "del_gamma_cat_inv = 1.\n",
    "del_gamma_resp_inv = 1.\n",
    "del_gamma_ana_inv = 1.\n",
    "\n",
    "del_S4 = 1.\n",
    "del_S3 = 1.\n",
    "del_S5 = 1.\n",
    "\n",
    "# KM is in uM\n",
    "del_KM = 1.\n",
    "del_r1 = 1.\n",
    "del_r2 = 1."
   ]
  },
  {
   "attachments": {},
   "cell_type": "markdown",
   "id": "811f38b5",
   "metadata": {},
   "source": [
    "### Sampling parameters"
   ]
  },
  {
   "attachments": {},
   "cell_type": "markdown",
   "id": "8dc94485",
   "metadata": {},
   "source": [
    "Note that this sampling is not uniform since we sample all parameters in an uncorrelated fashion.\n",
    "Thus, the resulting joint distribution is biased to towards the joint mean of all parameters.\n",
    "It is much more unlikely for all parameters to simultaneously assume values much larger than their mean."
   ]
  },
  {
   "cell_type": "code",
   "execution_count": 14,
   "id": "6a065cfc",
   "metadata": {},
   "outputs": [],
   "source": [
    "def sample_params():\n",
    "    '''\n",
    "    Samples parameters lognormally from a predefined set of ranges defined above.\n",
    "    Outputs those parameters in a specific order.\n",
    "    '''\n",
    "    gamma_cat_inv = np.random.lognormal(np.log(mean_gamma_cat_inv), np.log(del_gamma_cat_inv))\n",
    "    gamma_resp_inv = np.random.lognormal(np.log(mean_gamma_resp_inv), np.log(del_gamma_resp_inv))\n",
    "    gamma_ana_inv = np.random.lognormal(np.log(mean_gamma_ana_inv), np.log(del_gamma_ana_inv))\n",
    "\n",
    "    S4 = np.random.lognormal(np.log(mean_S4), np.log(del_S4))\n",
    "    S3 = np.random.lognormal(np.log(mean_S3), np.log(del_S3))\n",
    "    S5 = np.random.lognormal(np.log(mean_S5), np.log(del_S5))\n",
    "\n",
    "    # KM is in uM\n",
    "    KM = np.random.lognormal(np.log(mean_KM), np.log(del_KM))\n",
    "    r1 = np.random.lognormal(np.log(mean_r1), np.log(del_r1))\n",
    "    r2 = np.random.lognormal(np.log(mean_r2), np.log(del_r2))\n",
    "\n",
    "    return gamma_cat_inv, gamma_resp_inv, gamma_ana_inv, S4, S3, S5, KM, r1, r2"
   ]
  },
  {
   "attachments": {},
   "cell_type": "markdown",
   "id": "249ca4a3",
   "metadata": {},
   "source": [
    "To sample uniformly from the joint distribution, one needs to be smarter. There are methods, but we need to know if this sampling is necessary."
   ]
  },
  {
   "attachments": {},
   "cell_type": "markdown",
   "id": "dbe72c9b-07f7-4c1c-a034-8387a1b1b634",
   "metadata": {},
   "source": [
    "### Dynamics"
   ]
  },
  {
   "cell_type": "code",
   "execution_count": 15,
   "id": "51f3ff2e",
   "metadata": {},
   "outputs": [],
   "source": [
    "gamma_cat_inv, gamma_resp_inv, gamma_ana_inv, S4, S3, S5, KM, r1, r2 = sample_params()"
   ]
  },
  {
   "cell_type": "code",
   "execution_count": 16,
   "id": "b799633b",
   "metadata": {},
   "outputs": [],
   "source": [
    "phi_cat = 0.5\n",
    "phi_ana = 0.4\n",
    "phi_resp = 0.1"
   ]
  },
  {
   "cell_type": "code",
   "execution_count": 17,
   "id": "9ac08ddb-9a53-418a-8d4c-d4fa4405b204",
   "metadata": {},
   "outputs": [],
   "source": [
    "y0 = np.array(give_initial_condns(NADH0, ATP0, KM))\n",
    "NUM_METS = len(y0)\n",
    "S6 = 0.2\n",
    "\n",
    "# Evaluation time\n",
    "TFINAL = 1e2\n",
    "t = np.logspace(-4, 2, 1000 )"
   ]
  },
  {
   "cell_type": "code",
   "execution_count": 18,
   "id": "2b551d19-2c37-46c6-9abc-d0ce98faccce",
   "metadata": {},
   "outputs": [],
   "source": [
    "y_sol = solve_ivp(het_model, [ 1e-4, TFINAL ],  y0, t_eval=t, method='Radau' ).y"
   ]
  },
  {
   "attachments": {},
   "cell_type": "markdown",
   "id": "6153c287-31bd-4b0d-acde-df77e6170981",
   "metadata": {},
   "source": [
    "### Plot"
   ]
  },
  {
   "cell_type": "code",
   "execution_count": 32,
   "id": "e2d271e8-0f81-4ea2-9be1-1d250f152c33",
   "metadata": {},
   "outputs": [
    {
     "data": {
      "image/png": "[encoded data removed]",
      "text/plain": [
       "<Figure size 360x360 with 1 Axes>"
      ]
     },
     "metadata": {
      "needs_background": "light"
     },
     "output_type": "display_data"
    }
   ],
   "source": [
    "fig, ax = plt.subplots( 1, 1, figsize=(5, 5) )\n",
    "\n",
    "ax.set_ylabel( 'concentration (' + r'$\\mathcal{C}$)')\n",
    "ax.set_xlabel( 'time (' + r'$t$)')\n",
    "for idx in range(NUM_METS):\n",
    "    ax.plot( t[:len(y_sol[idx])], y_sol[idx], lw=5 )\n",
    "ax.legend([ 'Corg', 'NADH', 'O2', 'ATP' ], loc='best')\n",
    "ax.set_yscale('log')\n",
    "ax.set_xscale('log')\n",
    "\n",
    "fig.tight_layout()\n",
    "plt.show()"
   ]
  },
  {
   "attachments": {},
   "cell_type": "markdown",
   "id": "629f7ecb-ee28-4459-8949-b13fa30773ab",
   "metadata": {},
   "source": [
    "### Fluxes"
   ]
  },
  {
   "cell_type": "code",
   "execution_count": 33,
   "id": "2c135a22-b29f-464a-a194-96500e30a46a",
   "metadata": {},
   "outputs": [],
   "source": [
    "def give_nus( y_sol, tpt ):\n",
    "    x = y_sol[:, tpt].copy()\n",
    "    Corg = x[0]\n",
    "    NADH = x[1]\n",
    "    O2 = x[2]\n",
    "    ATP = x[3]\n",
    "\n",
    "    NAD = r1 * NADH\n",
    "    ADP = r2 * ATP\n",
    "\n",
    "    nu_cat = Corg * (NAD ** 2) * phi_cat * gamma_cat_inv * tau\n",
    "    nu_resp = (NADH ** 2) * O2 * phi_resp * gamma_resp_inv * tau\n",
    "    nu_ana = Corg * (NADH ** S6) * (ATP ** S5) * phi_ana * gamma_ana_inv * tau\n",
    "    \n",
    "    return np.array([nu_cat, nu_resp, nu_ana])"
   ]
  },
  {
   "cell_type": "code",
   "execution_count": 34,
   "id": "eccfe56a-225b-433b-8470-00b2c9c83b0b",
   "metadata": {},
   "outputs": [],
   "source": [
    "nus = np.array([give_nus(y_sol, tpt) for tpt in range(len(t))]).T"
   ]
  },
  {
   "cell_type": "code",
   "execution_count": 35,
   "id": "4520d68b-d24d-4ece-949e-b88bde2ad7bf",
   "metadata": {},
   "outputs": [
    {
     "data": {
      "image/png": "[encoded data removed]",
      "text/plain": [
       "<Figure size 360x360 with 1 Axes>"
      ]
     },
     "metadata": {
      "needs_background": "light"
     },
     "output_type": "display_data"
    }
   ],
   "source": [
    "fig, ax = plt.subplots( 1, 1, figsize=(5, 5) )\n",
    "\n",
    "ax.set_ylabel( 'flux (' + r'$\\nu$)')\n",
    "ax.set_xlabel( 'time (' + r'$t$)')\n",
    "for idx in range(3):\n",
    "    ax.plot( t[:len(nus[idx])], nus[idx], lw=5 )\n",
    "ax.legend([ 'cat', 'resp', 'ana' ], loc='best')\n",
    "ax.set_yscale('log')\n",
    "ax.set_xscale('log')\n",
    "\n",
    "fig.tight_layout()\n",
    "plt.show()"
   ]
  },
  {
   "attachments": {},
   "cell_type": "markdown",
   "id": "25e2edee-d18b-4531-871a-9187be78cb73",
   "metadata": {},
   "source": [
    "# Sweeping over $\\phi_{ana}$"
   ]
  },
  {
   "cell_type": "code",
   "execution_count": 36,
   "id": "0cd19f38-1e15-4732-8ee9-b246849e95af",
   "metadata": {},
   "outputs": [],
   "source": [
    "mus = []\n",
    "phianas = []\n",
    "\n",
    "phi_cat = 0.5\n",
    "phi_resp = 0.03\n",
    "\n",
    "gamma_cat_inv, gamma_resp_inv, gamma_ana_inv, S4, S3, S5, KM, r1, r2 = sample_params()\n",
    "y0 = np.array(give_initial_condns(NADH0, ATP0, KM))\n",
    "\n",
    "for t_phi_ana in np.linspace(0.01, 1-phi_cat-phi_resp, 100):\n",
    "    phi_ana = t_phi_ana.copy()\n",
    "\n",
    "    NUM_METS = len(y0)\n",
    "\n",
    "    # Evaluation time\n",
    "    TFINAL = 1e2\n",
    "    t = np.logspace(-4, 2, 1000 )\n",
    "    S6 = 0.4\n",
    "\n",
    "    y_sol = solve_ivp(het_model, [ 1e-4, TFINAL ],  y0, t_eval=t, method='Radau' ).y\n",
    "\n",
    "\n",
    "    nus = np.array([give_nus(y_sol, tpt) for tpt in range(len(t))]).T\n",
    "\n",
    "    mus.append(nus[-1, -1])\n",
    "    phianas.append(t_phi_ana)"
   ]
  },
  {
   "cell_type": "code",
   "execution_count": 37,
   "id": "b867f1ec-f81c-4157-8eb7-c342e48176c0",
   "metadata": {},
   "outputs": [
    {
     "data": {
      "image/png": "[encoded data removed]",
      "text/plain": [
       "<Figure size 360x360 with 1 Axes>"
      ]
     },
     "metadata": {
      "needs_background": "light"
     },
     "output_type": "display_data"
    }
   ],
   "source": [
    "fig, ax = plt.subplots( 1, 1, figsize=(5, 5) )\n",
    "\n",
    "ax.set_ylabel( r'$\\mu$' )\n",
    "ax.set_xlabel( r'$\\phi_{ana}$' )\n",
    "ax.plot( phianas, mus, lw=5 )\n",
    "# ax.set_yscale('log')\n",
    "# ax.set_xscale('log')\n",
    "\n",
    "fig.tight_layout()\n",
    "plt.show()"
   ]
  },
  {
   "attachments": {},
   "cell_type": "markdown",
   "id": "efd9b8c9-eebf-4f03-b657-fc104547a6e5",
   "metadata": {},
   "source": [
    "# Sweeping over $S_6$"
   ]
  },
  {
   "cell_type": "code",
   "execution_count": 38,
   "id": "82cac63d",
   "metadata": {},
   "outputs": [],
   "source": [
    "phi_cat = 0.5\n",
    "phi_resp = 0.03\n"
   ]
  },
  {
   "cell_type": "code",
   "execution_count": 39,
   "id": "0b84ea48-5caf-40a5-ad71-b629f24fe445",
   "metadata": {},
   "outputs": [],
   "source": [
    "mus = []\n",
    "zcs = []\n",
    "\n",
    "phi_ana = 1-phi_cat-phi_resp\n",
    "gamma_cat_inv, gamma_resp_inv, gamma_ana_inv, S4, S3, S5, KM, r1, r2 = sample_params()\n",
    "y0 = np.array(give_initial_condns(NADH0, ATP0, KM))\n",
    "\n",
    "for S6 in np.linspace(-0.1, 0.5, 100):\n",
    "    NUM_METS = len(y0)\n",
    "\n",
    "    # Evaluation time\n",
    "    TFINAL = 1e2\n",
    "    t = np.logspace(-4, 2, 1000 )\n",
    "\n",
    "    y_sol = solve_ivp(het_model, [ 1e-4, TFINAL ],  y0, t_eval=t, method='Radau' ).y\n",
    "\n",
    "\n",
    "    nus = np.array([give_nus(y_sol, tpt) for tpt in range(len(t))]).T\n",
    "\n",
    "    mus.append(nus[-1, -1])\n",
    "    zcs.append(S6)"
   ]
  },
  {
   "cell_type": "code",
   "execution_count": 40,
   "id": "3b3c5571-af33-49a2-a5c7-1cf4625a4353",
   "metadata": {},
   "outputs": [
    {
     "data": {
      "image/png": "[encoded data removed]",
      "text/plain": [
       "<Figure size 360x360 with 1 Axes>"
      ]
     },
     "metadata": {
      "needs_background": "light"
     },
     "output_type": "display_data"
    }
   ],
   "source": [
    "fig, ax = plt.subplots( 1, 1, figsize=(5, 5) )\n",
    "\n",
    "ax.set_ylabel( 'growth rate (' + r'$\\mu$' + ')' )\n",
    "ax.set_xlabel( 'anabolic NADH usage (' + r'$S_6$' + ')' )\n",
    "ax.plot( zcs, mus, lw=5 )\n",
    "# ax.set_yscale('losg')\n",
    "# ax.set_xscale('log')\n",
    "\n",
    "fig.tight_layout()\n",
    "plt.show()"
   ]
  },
  {
   "cell_type": "code",
   "execution_count": 41,
   "id": "773db6e8",
   "metadata": {},
   "outputs": [
    {
     "data": {
      "text/plain": [
       "0.2696864107752093"
      ]
     },
     "execution_count": 41,
     "metadata": {},
     "output_type": "execute_result"
    }
   ],
   "source": [
    "mus[-1] - mus[0]"
   ]
  },
  {
   "attachments": {},
   "cell_type": "markdown",
   "id": "9f506cfe",
   "metadata": {},
   "source": [
    "# Bootstrapping and computing $\\Delta \\mu$"
   ]
  },
  {
   "attachments": {},
   "cell_type": "markdown",
   "id": "2dabf184",
   "metadata": {},
   "source": [
    "### Changing only $\\gamma$'s"
   ]
  },
  {
   "cell_type": "code",
   "execution_count": 44,
   "id": "e24d7427",
   "metadata": {},
   "outputs": [],
   "source": [
    "# gammas are in (g s)/(mol) units.\n",
    "del_gamma_cat_inv = 3.\n",
    "del_gamma_resp_inv = 3.\n",
    "del_gamma_ana_inv = 3.\n",
    "\n",
    "del_S4 = 1.\n",
    "del_S3 = 1.\n",
    "del_S5 = 1.\n",
    "\n",
    "# KM is in uM\n",
    "del_KM = 1.\n",
    "del_r1 = 1.\n",
    "del_r2 = 1."
   ]
  },
  {
   "cell_type": "code",
   "execution_count": 45,
   "id": "7241abe1",
   "metadata": {},
   "outputs": [
    {
     "name": "stderr",
     "output_type": "stream",
     "text": [
      "100%|██████████| 500/500 [13:57<00:00,  1.67s/it]\n"
     ]
    }
   ],
   "source": [
    "BOOT = 500\n",
    "delmus = []\n",
    "\n",
    "for _ in tqdm(range(BOOT)):\n",
    "    mus = []\n",
    "    zcs = []\n",
    "\n",
    "    phi_ana = 1-phi_cat-phi_resp\n",
    "    gamma_cat_inv, gamma_resp_inv, gamma_ana_inv, S4, S3, S5, KM, r1, r2 = sample_params()\n",
    "    y0 = np.array(give_initial_condns(NADH0, ATP0, KM))\n",
    "\n",
    "    for S6 in np.linspace(-0.1, 0.5, 100):\n",
    "        NUM_METS = len(y0)\n",
    "\n",
    "        # Evaluation time\n",
    "        TFINAL = 1e2\n",
    "        t = np.logspace(-4, 2, 1000 )\n",
    "\n",
    "        y_sol = solve_ivp(het_model, [ 1e-4, TFINAL ],  y0, t_eval=t, method='Radau' ).y\n",
    "\n",
    "\n",
    "        nus = np.array([give_nus(y_sol, tpt) for tpt in range(len(t))]).T\n",
    "\n",
    "        mus.append(nus[-1, -1])\n",
    "        zcs.append(S6)\n",
    "\n",
    "    delmus.append(mus[-1] - mus[0])"
   ]
  },
  {
   "cell_type": "code",
   "execution_count": 46,
   "id": "c27e7081",
   "metadata": {},
   "outputs": [
    {
     "data": {
      "text/plain": [
       "(array([ 9.,  9., 23., 19., 17., 17., 34., 38., 27., 24., 22., 34., 38.,\n",
       "        26., 14., 20., 20., 25., 31., 53.]),\n",
       " array([0.02071753, 0.04228848, 0.06385942, 0.08543037, 0.10700132,\n",
       "        0.12857226, 0.15014321, 0.17171415, 0.1932851 , 0.21485605,\n",
       "        0.23642699, 0.25799794, 0.27956889, 0.30113983, 0.32271078,\n",
       "        0.34428172, 0.36585267, 0.38742362, 0.40899456, 0.43056551,\n",
       "        0.45213646]),\n",
       " <BarContainer object of 20 artists>)"
      ]
     },
     "execution_count": 46,
     "metadata": {},
     "output_type": "execute_result"
    },
    {
     "data": {
      "image/png": "[encoded data removed]",
      "text/plain": [
       "<Figure size 432x288 with 1 Axes>"
      ]
     },
     "metadata": {
      "needs_background": "light"
     },
     "output_type": "display_data"
    }
   ],
   "source": [
    "plt.hist(delmus, bins=20)"
   ]
  },
  {
   "cell_type": "code",
   "execution_count": 47,
   "id": "f537f954",
   "metadata": {},
   "outputs": [
    {
     "data": {
      "text/plain": [
       "0.2636326276946505"
      ]
     },
     "execution_count": 47,
     "metadata": {},
     "output_type": "execute_result"
    }
   ],
   "source": [
    "np.mean(delmus)"
   ]
  },
  {
   "attachments": {},
   "cell_type": "markdown",
   "id": "c119b343",
   "metadata": {},
   "source": [
    "### Changing only $S_x$'s"
   ]
  },
  {
   "cell_type": "code",
   "execution_count": 48,
   "id": "c52bb228",
   "metadata": {},
   "outputs": [],
   "source": [
    "# gammas are in (g s)/(mol) units.\n",
    "del_gamma_cat_inv = 1.\n",
    "del_gamma_resp_inv = 1.\n",
    "del_gamma_ana_inv = 1.\n",
    "\n",
    "del_S4 = 2.\n",
    "del_S3 = 2.\n",
    "del_S5 = 2.\n",
    "\n",
    "# KM is in uM\n",
    "del_KM = 1.\n",
    "del_r1 = 1.\n",
    "del_r2 = 1."
   ]
  },
  {
   "cell_type": "code",
   "execution_count": 49,
   "id": "2ca3645b",
   "metadata": {},
   "outputs": [
    {
     "name": "stderr",
     "output_type": "stream",
     "text": [
      "  4%|▍         | 22/500 [01:32<45:51,  5.76s/it]"
     ]
    },
    {
     "name": "stdout",
     "output_type": "stream",
     "text": [
      "Timeout occurred while solving the model for S3=0.42859752537106993, S4=10.491089150947337, S5=11.892081448822065\n"
     ]
    },
    {
     "name": "stderr",
     "output_type": "stream",
     "text": [
      "  7%|▋         | 34/500 [02:35<1:02:39,  8.07s/it]"
     ]
    },
    {
     "name": "stdout",
     "output_type": "stream",
     "text": [
      "Timeout occurred while solving the model for S3=0.1822345782998992, S4=4.273817152809312, S5=3.848762933581592\n"
     ]
    },
    {
     "name": "stderr",
     "output_type": "stream",
     "text": [
      " 14%|█▍        | 72/500 [05:26<44:52,  6.29s/it]  "
     ]
    },
    {
     "name": "stdout",
     "output_type": "stream",
     "text": [
      "Timeout occurred while solving the model for S3=0.8026031241393563, S4=21.87298906274307, S5=3.903354213049773\n"
     ]
    },
    {
     "name": "stderr",
     "output_type": "stream",
     "text": [
      " 16%|█▌        | 80/500 [06:02<40:36,  5.80s/it]"
     ]
    },
    {
     "name": "stdout",
     "output_type": "stream",
     "text": [
      "Timeout occurred while solving the model for S3=0.5934206439172466, S4=2.322949775708627, S5=6.367771097507674\n"
     ]
    },
    {
     "name": "stderr",
     "output_type": "stream",
     "text": [
      " 16%|█▋        | 82/500 [06:19<51:18,  7.37s/it]"
     ]
    },
    {
     "name": "stdout",
     "output_type": "stream",
     "text": [
      "Timeout occurred while solving the model for S3=0.6402323299664253, S4=3.5644505575856553, S5=4.437971286139156\n"
     ]
    },
    {
     "name": "stderr",
     "output_type": "stream",
     "text": [
      " 18%|█▊        | 88/500 [06:51<44:14,  6.44s/it]"
     ]
    },
    {
     "name": "stdout",
     "output_type": "stream",
     "text": [
      "Timeout occurred while solving the model for S3=0.18073496316657653, S4=6.4618679420237894, S5=3.98365574069574\n"
     ]
    },
    {
     "name": "stderr",
     "output_type": "stream",
     "text": [
      " 30%|███       | 150/500 [11:31<49:10,  8.43s/it]"
     ]
    },
    {
     "name": "stdout",
     "output_type": "stream",
     "text": [
      "Timeout occurred while solving the model for S3=0.33728915290376754, S4=3.739369677816395, S5=4.233118063677121\n"
     ]
    },
    {
     "name": "stderr",
     "output_type": "stream",
     "text": [
      " 37%|███▋      | 185/500 [14:00<29:41,  5.66s/it]"
     ]
    },
    {
     "name": "stdout",
     "output_type": "stream",
     "text": [
      "Timeout occurred while solving the model for S3=0.08951938230083144, S4=16.30497252682874, S5=5.467698593421277\n"
     ]
    },
    {
     "name": "stderr",
     "output_type": "stream",
     "text": [
      " 38%|███▊      | 189/500 [14:28<38:20,  7.40s/it]"
     ]
    },
    {
     "name": "stdout",
     "output_type": "stream",
     "text": [
      "Timeout occurred while solving the model for S3=0.5438448585196204, S4=0.9107274872783154, S5=5.9442876004230065\n"
     ]
    },
    {
     "name": "stderr",
     "output_type": "stream",
     "text": [
      " 38%|███▊      | 192/500 [14:46<35:39,  6.95s/it]"
     ]
    },
    {
     "name": "stdout",
     "output_type": "stream",
     "text": [
      "Timeout occurred while solving the model for S3=0.18939114285796574, S4=12.778474073890928, S5=4.021469127985435\n"
     ]
    },
    {
     "name": "stderr",
     "output_type": "stream",
     "text": [
      " 52%|█████▏    | 259/500 [19:41<23:01,  5.73s/it]"
     ]
    },
    {
     "name": "stdout",
     "output_type": "stream",
     "text": [
      "Timeout occurred while solving the model for S3=0.44192485000972853, S4=9.112027959573949, S5=5.492386624674868\n"
     ]
    },
    {
     "name": "stderr",
     "output_type": "stream",
     "text": [
      " 54%|█████▍    | 271/500 [20:56<32:43,  8.57s/it]"
     ]
    },
    {
     "name": "stdout",
     "output_type": "stream",
     "text": [
      "Timeout occurred while solving the model for S3=0.504572193011471, S4=6.558231423434654, S5=3.6981583389740265\n"
     ]
    },
    {
     "name": "stderr",
     "output_type": "stream",
     "text": [
      " 57%|█████▋    | 287/500 [22:06<20:46,  5.85s/it]"
     ]
    },
    {
     "name": "stdout",
     "output_type": "stream",
     "text": [
      "Timeout occurred while solving the model for S3=0.26673942379722665, S4=5.581892637792064, S5=4.726113353425961\n"
     ]
    },
    {
     "name": "stderr",
     "output_type": "stream",
     "text": [
      " 67%|██████▋   | 334/500 [25:40<23:53,  8.63s/it]"
     ]
    },
    {
     "name": "stdout",
     "output_type": "stream",
     "text": [
      "Timeout occurred while solving the model for S3=0.7061307039417455, S4=7.962640490104765, S5=3.6543360925806807\n"
     ]
    },
    {
     "name": "stderr",
     "output_type": "stream",
     "text": [
      " 74%|███████▍  | 371/500 [28:22<16:34,  7.71s/it]"
     ]
    },
    {
     "name": "stdout",
     "output_type": "stream",
     "text": [
      "Timeout occurred while solving the model for S3=0.1511466839409143, S4=6.700754589147894, S5=3.6957104673678893\n"
     ]
    },
    {
     "name": "stderr",
     "output_type": "stream",
     "text": [
      " 75%|███████▌  | 377/500 [29:00<14:47,  7.21s/it]"
     ]
    },
    {
     "name": "stdout",
     "output_type": "stream",
     "text": [
      "Timeout occurred while solving the model for S3=0.41431918636547127, S4=2.6417993857235564, S5=4.975182929042255\n"
     ]
    },
    {
     "name": "stderr",
     "output_type": "stream",
     "text": [
      " 92%|█████████▏| 460/500 [35:11<05:10,  7.75s/it]"
     ]
    },
    {
     "name": "stdout",
     "output_type": "stream",
     "text": [
      "Timeout occurred while solving the model for S3=0.8980598951261577, S4=11.048822880449785, S5=3.5015923514928033\n"
     ]
    },
    {
     "name": "stderr",
     "output_type": "stream",
     "text": [
      "100%|██████████| 500/500 [37:52<00:00,  4.55s/it]\n"
     ]
    }
   ],
   "source": [
    "import signal\n",
    "\n",
    "# Function to handle the alarm signal\n",
    "def handler(signum, frame):\n",
    "    raise TimeoutError()\n",
    "\n",
    "# Set the signal handler\n",
    "signal.signal(signal.SIGALRM, handler)\n",
    "\n",
    "BOOT = 500\n",
    "delmus = []\n",
    "\n",
    "for _ in tqdm(range(BOOT)):\n",
    "    mus = []\n",
    "    zcs = []\n",
    "\n",
    "    phi_ana = 1-phi_cat-phi_resp\n",
    "    gamma_cat_inv, gamma_resp_inv, gamma_ana_inv, S4, S3, S5, KM, r1, r2 = sample_params()\n",
    "    y0 = np.array(give_initial_condns(NADH0, ATP0, KM))\n",
    "\n",
    "    erred = 0\n",
    "    for S6 in np.linspace(-0.1, 0.5, 100):\n",
    "        if erred:\n",
    "            break\n",
    "        NUM_METS = len(y0)\n",
    "\n",
    "        # Evaluation time\n",
    "        TFINAL = 1e2\n",
    "        t = np.logspace(-4, 2, 1000 )\n",
    "\n",
    "        try:\n",
    "            # Set an alarm for some number of seconds in the future\n",
    "            signal.alarm(10)  # 10 seconds, adjust this as needed\n",
    "\n",
    "            y_sol = solve_ivp(het_model, [ 1e-4, TFINAL ],  y0, t_eval=t, method='Radau', max_step=1.0 ).y\n",
    "            nus = np.array([give_nus(y_sol, tpt) for tpt in range(len(t))]).T\n",
    "\n",
    "            # If we've gotten this far without an exception, cancel the alarm\n",
    "            signal.alarm(0)\n",
    "\n",
    "            mus.append(nus[-1, -1])\n",
    "            zcs.append(S6)\n",
    "        except TimeoutError:\n",
    "            print(f\"Timeout occurred while solving the model for S3={S3}, S4={S4}, S5={S5}\")\n",
    "            erred=1\n",
    "            continue\n",
    "        except Exception as e:\n",
    "            print(f\"An error occurred while solving the model for S3={S3}, S4={S4}, S5={S5}: {e}\")\n",
    "            continue\n",
    "\n",
    "    if len(mus) > 1:\n",
    "        delmus.append(mus[-1] - mus[0])\n"
   ]
  },
  {
   "cell_type": "code",
   "execution_count": 52,
   "id": "a037dde8",
   "metadata": {},
   "outputs": [
    {
     "data": {
      "image/png": "[encoded data removed]",
      "text/plain": [
       "<Figure size 432x288 with 1 Axes>"
      ]
     },
     "metadata": {
      "needs_background": "light"
     },
     "output_type": "display_data"
    }
   ],
   "source": [
    "plt.hist(delmus, bins=10);"
   ]
  },
  {
   "cell_type": "code",
   "execution_count": 51,
   "id": "086dfde1",
   "metadata": {},
   "outputs": [
    {
     "data": {
      "text/plain": [
       "0.14927128134979423"
      ]
     },
     "execution_count": 51,
     "metadata": {},
     "output_type": "execute_result"
    }
   ],
   "source": [
    "np.mean(delmus)"
   ]
  },
  {
   "attachments": {},
   "cell_type": "markdown",
   "id": "d9238b27",
   "metadata": {},
   "source": [
    "### Bootstrapping all parameters"
   ]
  },
  {
   "cell_type": "code",
   "execution_count": null,
   "id": "aa3dad6f",
   "metadata": {},
   "outputs": [],
   "source": [
    "# gammas are in (g s)/(mol) units.\n",
    "del_gamma_cat_inv = 3.\n",
    "del_gamma_resp_inv = 3.\n",
    "del_gamma_ana_inv = 3.\n",
    "\n",
    "del_S4 = 2.\n",
    "del_S3 = 2.\n",
    "del_S5 = 2.\n",
    "\n",
    "# KM is in uM\n",
    "del_KM = 2.\n",
    "del_r1 = 1.\n",
    "del_r2 = 1."
   ]
  },
  {
   "cell_type": "code",
   "execution_count": null,
   "id": "20142ee8",
   "metadata": {},
   "outputs": [
    {
     "name": "stderr",
     "output_type": "stream",
     "text": [
      "  6%|▌         | 6/100 [00:30<09:37,  6.14s/it]"
     ]
    },
    {
     "name": "stdout",
     "output_type": "stream",
     "text": [
      "Timeout occurred while solving the model for S3=0.2697249507821981, S4=9.477123247941798, S5=4.340737249022491\n"
     ]
    },
    {
     "name": "stderr",
     "output_type": "stream",
     "text": [
      " 24%|██▍       | 24/100 [01:49<07:34,  5.98s/it]"
     ]
    },
    {
     "name": "stdout",
     "output_type": "stream",
     "text": [
      "Timeout occurred while solving the model for S3=0.8553926291222694, S4=3.1672764372681503, S5=4.845866701321666\n"
     ]
    },
    {
     "name": "stderr",
     "output_type": "stream",
     "text": [
      " 84%|████████▍ | 84/100 [06:14<01:39,  6.24s/it]"
     ]
    },
    {
     "name": "stdout",
     "output_type": "stream",
     "text": [
      "Timeout occurred while solving the model for S3=0.5413690364258008, S4=15.099529557771824, S5=3.5106582563001107\n"
     ]
    },
    {
     "name": "stderr",
     "output_type": "stream",
     "text": [
      "100%|██████████| 100/100 [07:19<00:00,  4.40s/it]\n"
     ]
    }
   ],
   "source": [
    "import signal\n",
    "\n",
    "# Function to handle the alarm signal\n",
    "def handler(signum, frame):\n",
    "    raise TimeoutError()\n",
    "\n",
    "# Set the signal handler\n",
    "signal.signal(signal.SIGALRM, handler)\n",
    "\n",
    "BOOT = 500\n",
    "delmus = []\n",
    "\n",
    "for _ in tqdm(range(BOOT)):\n",
    "    mus = []\n",
    "    zcs = []\n",
    "\n",
    "    phi_ana = 1-phi_cat-phi_resp\n",
    "    gamma_cat_inv, gamma_resp_inv, gamma_ana_inv, S4, S3, S5, KM, r1, r2 = sample_params()\n",
    "    y0 = np.array(give_initial_condns(NADH0, ATP0, KM))\n",
    "\n",
    "    erred = 0\n",
    "    for S6 in np.linspace(-0.1, 0.5, 100):\n",
    "        if erred:\n",
    "            break\n",
    "        NUM_METS = len(y0)\n",
    "\n",
    "        # Evaluation time\n",
    "        TFINAL = 1e2\n",
    "        t = np.logspace(-4, 2, 1000 )\n",
    "\n",
    "        try:\n",
    "            # Set an alarm for some number of seconds in the future\n",
    "            signal.alarm(10)  # 10 seconds, adjust this as needed\n",
    "\n",
    "            y_sol = solve_ivp(het_model, [ 1e-4, TFINAL ],  y0, t_eval=t, method='Radau', max_step=1.0 ).y\n",
    "            nus = np.array([give_nus(y_sol, tpt) for tpt in range(len(t))]).T\n",
    "\n",
    "            # If we've gotten this far without an exception, cancel the alarm\n",
    "            signal.alarm(0)\n",
    "\n",
    "            mus.append(nus[-1, -1])\n",
    "            zcs.append(S6)\n",
    "        except TimeoutError:\n",
    "            print(f\"Timeout occurred while solving the model for S3={S3}, S4={S4}, S5={S5}\")\n",
    "            erred=1\n",
    "            continue\n",
    "        except Exception as e:\n",
    "            print(f\"An error occurred while solving the model for S3={S3}, S4={S4}, S5={S5}: {e}\")\n",
    "            continue\n",
    "\n",
    "    if len(mus) > 1:\n",
    "        delmus.append(mus[-1] - mus[0])\n"
   ]
  },
  {
   "cell_type": "code",
   "execution_count": null,
   "id": "b8d86d07",
   "metadata": {},
   "outputs": [
    {
     "data": {
      "image/png": "[encoded data removed]",
      "text/plain": [
       "<Figure size 432x288 with 1 Axes>"
      ]
     },
     "metadata": {
      "needs_background": "light"
     },
     "output_type": "display_data"
    }
   ],
   "source": [
    "plt.hist(delmus, bins=10);"
   ]
  },
  {
   "cell_type": "code",
   "execution_count": null,
   "id": "1bccc129",
   "metadata": {},
   "outputs": [
    {
     "data": {
      "text/plain": [
       "0.17093336102219475"
      ]
     },
     "execution_count": 43,
     "metadata": {},
     "output_type": "execute_result"
    }
   ],
   "source": [
    "np.mean(delmus)"
   ]
  },
  {
   "cell_type": "code",
   "execution_count": null,
   "id": "b374307d",
   "metadata": {},
   "outputs": [],
   "source": []
  }
 ],
 "metadata": {
  "kernelspec": {
   "display_name": "Python 3 (ipykernel)",
   "language": "python",
   "name": "python3"
  },
  "language_info": {
   "codemirror_mode": {
    "name": "ipython",
    "version": 3
   },
   "file_extension": ".py",
   "mimetype": "text/x-python",
   "name": "python",
   "nbconvert_exporter": "python",
   "pygments_lexer": "ipython3",
   "version": "3.8.11"
  }
 },
 "nbformat": 4,
 "nbformat_minor": 5
}
